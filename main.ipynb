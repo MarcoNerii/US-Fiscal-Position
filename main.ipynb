{
 "cells": [
  {
   "cell_type": "markdown",
   "id": "27c3d065",
   "metadata": {},
   "source": [
    "## 0) Imports and functions"
   ]
  },
  {
   "cell_type": "code",
   "execution_count": 167,
   "id": "faebaae6",
   "metadata": {},
   "outputs": [],
   "source": [
    "import pandas as pd\n",
    "import requests\n",
    "import matplotlib.pyplot as plt\n",
    "from typing import Dict, Iterable, Optional, Tuple\n",
    "import plotly.graph_objects as go\n",
    "import numpy as np\n",
    "from datetime import datetime\n",
    "import os\n",
    "\n",
    "BASE_URL = \"https://api.fiscaldata.treasury.gov/services/api/fiscal_service\"\n",
    "\n",
    "def _join_filters(filters: Dict[str, Tuple[str, str]]) -> str:\n",
    "    \n",
    "    if not filters:\n",
    "        return \"\"\n",
    "    parts = []\n",
    "    for field, (op, value) in filters.items():\n",
    "        if isinstance(value, (list, tuple, set)):\n",
    "            v = \"(\" + \",\".join(map(str, value)) + \")\"\n",
    "        else:\n",
    "            v = str(value)\n",
    "        parts.append(f\"{field}:{op}:{v}\")\n",
    "    return \",\".join(parts)\n",
    "\n",
    "def fetch_fiscaldata(\n",
    "    endpoint: str,\n",
    "    fields: Optional[Iterable[str]] = None,\n",
    "    filters: Optional[Dict[str, Tuple[str, str]]] = None,\n",
    "    sort: Optional[Iterable[str]] = None,\n",
    "    page_size: int = 10000,\n",
    "    max_pages: int = 200,\n",
    ") -> pd.DataFrame:\n",
    "    \n",
    "    if not endpoint.startswith(\"/\"):\n",
    "        endpoint = \"/\" + endpoint\n",
    "    params = []\n",
    "    if fields:\n",
    "        params.append(\"fields=\" + \",\".join(fields))\n",
    "    if filters:\n",
    "        params.append(\"filter=\" + _join_filters(filters))\n",
    "    if sort:\n",
    "        params.append(\"sort=\" + \",\".join(sort))\n",
    "    params.append(\"format=json\")\n",
    "\n",
    "    dfs = []\n",
    "    for page in range(1, max_pages + 1):\n",
    "        url = f\"{BASE_URL}{endpoint}?{'&'.join(params)}&page[number]={page}&page[size]={page_size}\"\n",
    "        r = requests.get(url, timeout=60)\n",
    "        r.raise_for_status()\n",
    "        payload = r.json()\n",
    "        data = payload.get(\"data\", [])\n",
    "        if not data:\n",
    "            break\n",
    "        dfs.append(pd.DataFrame(data))\n",
    "        links = payload.get(\"links\", {})\n",
    "        if not links or not links.get(\"next\"):\n",
    "            break\n",
    "    if not dfs:\n",
    "        return pd.DataFrame()\n",
    "    out = pd.concat(dfs, ignore_index=True)\n",
    "    out = out.replace(\"null\", pd.NA)\n",
    "    return out\n",
    "\n",
    "def plot_cumulative_by_year(\n",
    "    df: pd.DataFrame,\n",
    "    date_col: str,\n",
    "    value_col: str,\n",
    "    *,\n",
    "    fy_start_month: int = 10,        # 1 = calendar year, 10 = U.S. fiscal year (Oct–Sep)\n",
    "    years: list[int] | None = None,  # e.g., [2021, 2022, 2023, 2024, 2025]\n",
    "    scale: float = 1.0,              # e.g., 1/1000 to show billions when MTS is in millions\n",
    "    title: str = \"Cumulative by Year\",\n",
    "    ylabel: str = \"USD (same units as input)\"\n",
    "):\n",
    "    \"\"\"\n",
    "    Plot cumulative YTD values with one line per year (calendar or fiscal).\n",
    "    Designed for monthly series like MTS outlays, but works with any frequency:\n",
    "    - We aggregate to month-start ('MS') to standardize and then compute cumulative by year.\n",
    "\n",
    "    Returns: (fig, pivot) where pivot has rows = fiscal month (1..12), cols = years.\n",
    "    \"\"\"\n",
    "    # 1) Clean + monthly aggregate (month start)\n",
    "    g = df[[date_col, value_col]].copy()\n",
    "    g[date_col] = pd.to_datetime(g[date_col])\n",
    "    g[value_col] = pd.to_numeric(g[value_col], errors=\"coerce\")\n",
    "    g = g.dropna().sort_values(date_col).set_index(date_col)\n",
    "\n",
    "    monthly = g[value_col].resample(\"MS\").sum().to_frame(\"value\")\n",
    "    if monthly.empty:\n",
    "        raise ValueError(\"No data after monthly aggregation.\")\n",
    "\n",
    "    # 2) Fiscal (or calendar) year labeling + month-in-year (1..12)\n",
    "    idx = monthly.index\n",
    "    if fy_start_month == 1:\n",
    "        fy = idx.year\n",
    "        m_in_fy = idx.month                   # 1..12\n",
    "    else:\n",
    "        shift = (idx.month >= fy_start_month).astype(int)\n",
    "        fy = idx.year + shift\n",
    "        m_in_fy = ((idx.month - fy_start_month) % 12) + 1  # 1..12 relative to FY start\n",
    "\n",
    "    monthly = monthly.assign(fy=fy, m_in_fy=m_in_fy)\n",
    "\n",
    "    # 3) Optional year filter\n",
    "    if years is not None:\n",
    "        monthly = monthly[monthly[\"fy\"].isin(years)]\n",
    "        if monthly.empty:\n",
    "            raise ValueError(\"No rows left after filtering to requested years.\")\n",
    "\n",
    "    # 4) Cumulative within each year (+ optional scaling)\n",
    "    monthly[\"value\"] = monthly[\"value\"] * scale\n",
    "    monthly[\"cumu\"]  = monthly.groupby(\"fy\")[\"value\"].cumsum()\n",
    "\n",
    "    # 5) Pivot to month x year\n",
    "    pivot = monthly.pivot(index=\"m_in_fy\", columns=\"fy\", values=\"cumu\").sort_index()\n",
    "    # Ensure we show months 1..12 even if early years end mid-year\n",
    "    pivot = pivot.reindex(range(1, 13))\n",
    "\n",
    "    # 6) Plotly chart\n",
    "    fig = go.Figure()\n",
    "    for y in pivot.columns:\n",
    "        fig.add_trace(go.Scatter(\n",
    "            x=pivot.index, y=pivot[y], mode=\"lines+markers\", name=str(y)\n",
    "        ))\n",
    "\n",
    "    xlab = \"Month (1=start of year)\" if fy_start_month == 1 else f\"Fiscal Month (1=Month {fy_start_month})\"\n",
    "    fig.update_layout(\n",
    "        title=title,\n",
    "        xaxis_title=xlab,\n",
    "        yaxis_title=ylabel,\n",
    "        legend_title=\"Year\",\n",
    "        template=\"plotly_white\",\n",
    "        hovermode=\"x unified\"\n",
    "    )\n",
    "    return fig, pivot\n",
    "\n",
    "\n",
    "def fetch_fred_quarterly_nominal_gdp(api_key: str, observation_start: str = \"1980-01-01\") -> pd.DataFrame:\n",
    "    \"\"\"\n",
    "    Fetch FRED series 'GDP' (Nominal GDP, SAAR, billions), quarterly.\n",
    "    Returns DataFrame with columns:\n",
    "      - date (quarter end as Timestamp)\n",
    "      - saar_bil (float): nominal GDP SAAR, billions\n",
    "      - q_level_bil (float): quarterly nominal GDP level, billions (= SAAR / 4)\n",
    "      - t4q_bil (float): trailing-4-quarter nominal GDP level, billions\n",
    "      - t4q_millions (float): trailing-4-quarter nominal GDP level, millions\n",
    "    \"\"\"\n",
    "    url = \"https://api.stlouisfed.org/fred/series/observations\"\n",
    "    params = {\n",
    "        \"series_id\": \"GDP\",\n",
    "        \"api_key\": api_key,\n",
    "        \"file_type\": \"json\",\n",
    "        \"frequency\": \"q\",\n",
    "        \"observation_start\": observation_start,\n",
    "    }\n",
    "    r = requests.get(url, params=params, timeout=60)\n",
    "    r.raise_for_status()\n",
    "    obs = r.json()[\"observations\"]\n",
    "\n",
    "    q = (pd.DataFrame(obs)[[\"date\", \"value\"]]\n",
    "         .assign(saar_bil=lambda d: pd.to_numeric(d[\"value\"], errors=\"coerce\"))\n",
    "         .drop(columns=\"value\")\n",
    "         .dropna())\n",
    "    q[\"date\"] = pd.to_datetime(q[\"date\"])\n",
    "    q = q.sort_values(\"date\").reset_index(drop=True)\n",
    "\n",
    "    # Convert SAAR (annualized rate, billions) to quarterly level (billions)\n",
    "    q[\"q_level_bil\"] = q[\"saar_bil\"] / 4.0\n",
    "\n",
    "    # Trailing-4-quarter level (billions) → then to millions for MTS compatibility\n",
    "    q[\"t4q_bil\"] = q[\"q_level_bil\"].rolling(4, min_periods=4).sum()\n",
    "    q[\"t4q_millions\"] = q[\"t4q_bil\"] * 1000.0\n",
    "\n",
    "    return q[[\"date\", \"saar_bil\", \"q_level_bil\", \"t4q_bil\", \"t4q_millions\"]]\n",
    "\n",
    "def build_fy_gdp_denominators_from_t4q(\n",
    "    t4q_df: pd.DataFrame,\n",
    "    fy_years: list[int] | None = None\n",
    ") -> dict[int, float]:\n",
    "    \"\"\"\n",
    "    From a DataFrame with columns ['date','t4q_millions'] (quarterly points),\n",
    "    return a dict {FY: GDP_in_millions}, where for each fiscal year FY:\n",
    "      denominator = last available T4Q value strictly before FY start (Oct 1 of prior calendar year).\n",
    "    Example: FY2025 uses the last T4Q with date < 2024-10-01.\n",
    "    \"\"\"\n",
    "    g = t4q_df.dropna(subset=[\"t4q_millions\"]).copy().sort_values(\"date\")\n",
    "    if fy_years is None:\n",
    "        # Infer a reasonable range from the data: start at first full T4Q+1, end at last full FY we can cover\n",
    "        first_year = (g[\"date\"].min().year + 1)  # rough lower bound\n",
    "        last_year = g[\"date\"].max().year + 1\n",
    "        fy_years = list(range(first_year, last_year + 1))\n",
    "\n",
    "    result = {}\n",
    "    for fy in fy_years:\n",
    "        fy_start = pd.Timestamp(f\"{fy-1}-10-01\")\n",
    "        # filter to quarters strictly before FY start\n",
    "        g_sub = g[g[\"date\"] < fy_start]\n",
    "        if g_sub.empty:\n",
    "            continue\n",
    "        denom = g_sub.iloc[-1][\"t4q_millions\"]\n",
    "        result[fy] = float(denom)*1_000_000\n",
    "    return result\n",
    "\n",
    "def get_fy_gdp_denominators_from_fred(api_key: str, fy_years: list[int] | None = None) -> dict[int, float]:\n",
    "    \"\"\"\n",
    "    Fetches FRED quarterly nominal GDP, builds T4Q, and returns {FY: GDP_millions} fixed denominators.\n",
    "    \"\"\"\n",
    "    q = fetch_fred_quarterly_nominal_gdp(api_key)\n",
    "    fy_denoms = build_fy_gdp_denominators_from_t4q(q, fy_years=fy_years)\n",
    "    return fy_denoms\n",
    "\n",
    "def plot_cumulative_by_fy_pct_gdp_fixed(\n",
    "    df: pd.DataFrame,\n",
    "    date_col: str,\n",
    "    value_col: str,\n",
    "    *,\n",
    "    fy_denoms_millions: dict[int, float],  # {FY: GDP_millions}, fixed per FY\n",
    "    years: list[int] | None = None,\n",
    "    title: str = \"Cumulative by Fiscal Year (% of GDP, fixed denominator)\",\n",
    "    ylabel: str = \"% of GDP\"\n",
    "):\n",
    "    \"\"\"\n",
    "    Cumulative monthly flows (e.g., Benefit Payments) normalized by a fixed nominal GDP per FY.\n",
    "    \"\"\"\n",
    "    g = df[[date_col, value_col]].copy()\n",
    "    g[date_col] = pd.to_datetime(g[date_col])\n",
    "    g[value_col] = pd.to_numeric(g[value_col], errors=\"coerce\")\n",
    "    g = g.dropna().sort_values(date_col).set_index(date_col)\n",
    "\n",
    "    # Aggregate to monthly totals (MTS is monthly already, but this standardizes)\n",
    "    monthly = g[value_col].resample(\"MS\").sum().to_frame(\"value\")\n",
    "    idx = monthly.index\n",
    "\n",
    "    # Fiscal year label & month within fiscal year\n",
    "    shift = (idx.month >= 10).astype(int)  # FY starts in October\n",
    "    fy_label = idx.year + shift\n",
    "    m_in_fy = ((idx.month - 10) % 12) + 1\n",
    "\n",
    "    monthly[\"fy\"] = fy_label\n",
    "    monthly[\"m\"]  = m_in_fy\n",
    "\n",
    "    if years is not None:\n",
    "        monthly = monthly[monthly[\"fy\"].isin(years)]\n",
    "        if monthly.empty:\n",
    "            raise ValueError(\"No data after filtering to the requested FYs.\")\n",
    "\n",
    "    # Cumulative within FY\n",
    "    monthly[\"cumu\"] = monthly.groupby(\"fy\")[\"value\"].cumsum()\n",
    "\n",
    "    # Normalize by FIXED FY denominators (millions) → % of GDP\n",
    "    monthly[\"pct_gdp\"] = monthly.apply(\n",
    "        lambda r: 100.0 * r[\"cumu\"] / fy_denoms_millions.get(int(r[\"fy\"]), np.nan),\n",
    "        axis=1\n",
    "    )\n",
    "\n",
    "    # Pivot to 1..12 fiscal months × FY columns\n",
    "    pivot = monthly.pivot(index=\"m\", columns=\"fy\", values=\"pct_gdp\").sort_index()\n",
    "    pivot = pivot.reindex(range(1, 13))\n",
    "\n",
    "    # Plot\n",
    "    fig = go.Figure()\n",
    "    for fy in pivot.columns:\n",
    "        fig.add_trace(go.Scatter(x=pivot.index, y=pivot[fy], mode=\"lines+markers\", name=str(fy)))\n",
    "\n",
    "    fig.update_layout(\n",
    "        title=title,\n",
    "        xaxis_title=\"Fiscal Month (1=Oct)\",\n",
    "        yaxis_title=ylabel,\n",
    "        legend_title=\"Fiscal Year\",\n",
    "        template=\"plotly_white\",\n",
    "        hovermode=\"x unified\"\n",
    "    )\n",
    "    return fig, pivot\n",
    "\n",
    "import plotly.graph_objects as go\n",
    "\n",
    "def plot_stacked_plotly(\n",
    "    pivot,\n",
    "    title: str = \"Stacked Time Series\",\n",
    "    y_label: str = \"USD millions\",\n",
    "    scale: float = 1.0,       # e.g. 1/1000 to show billions if your data are in millions\n",
    "    show_rangeslider: bool = True\n",
    "):\n",
    "    \"\"\"\n",
    "    Plot a stacked area chart from a pivoted DataFrame (index=dates, columns=categories).\n",
    "    Equivalent to matplotlib's stackplot, but in Plotly.\n",
    "    \"\"\"\n",
    "    df = pivot.sort_index().copy() * scale\n",
    "\n",
    "    fig = go.Figure()\n",
    "\n",
    "    # first trace drawn is the bottom of the stack\n",
    "    for col in df.columns:\n",
    "        fig.add_trace(go.Scatter(\n",
    "            x=df.index,\n",
    "            y=df[col],\n",
    "            mode=\"lines\",\n",
    "            name=str(col),\n",
    "            stackgroup=\"one\",\n",
    "            hovertemplate=f\"%{{x|%Y-%m}}<br>{col}: %{{y:,.2f}}<extra></extra>\"\n",
    "        ))\n",
    "\n",
    "    fig.update_layout(\n",
    "        title=title,\n",
    "        xaxis_title=\"Date\",\n",
    "        yaxis_title=y_label,\n",
    "        template=\"plotly_white\",\n",
    "        hovermode=\"x unified\",\n",
    "        legend_title=\"Category\"\n",
    "    )\n",
    "\n",
    "    if show_rangeslider:\n",
    "        fig.update_xaxes(rangeslider=dict(visible=True))\n",
    "\n",
    "    return fig\n"
   ]
  },
  {
   "cell_type": "code",
   "execution_count": null,
   "id": "fe873c5d",
   "metadata": {},
   "outputs": [
    {
     "name": "stdout",
     "output_type": "stream",
     "text": [
      "None\n"
     ]
    },
    {
     "ename": "RuntimeError",
     "evalue": "Missing FRED_API_KEY environment variable",
     "output_type": "error",
     "traceback": [
      "\u001b[31m---------------------------------------------------------------------------\u001b[39m",
      "\u001b[31mRuntimeError\u001b[39m                              Traceback (most recent call last)",
      "\u001b[36mCell\u001b[39m\u001b[36m \u001b[39m\u001b[32mIn[170]\u001b[39m\u001b[32m, line 4\u001b[39m\n\u001b[32m      2\u001b[39m \u001b[38;5;28mprint\u001b[39m(FRED_API_KEY)\n\u001b[32m      3\u001b[39m \u001b[38;5;28;01mif\u001b[39;00m FRED_API_KEY \u001b[38;5;129;01mis\u001b[39;00m \u001b[38;5;28;01mNone\u001b[39;00m:\n\u001b[32m----> \u001b[39m\u001b[32m4\u001b[39m     \u001b[38;5;28;01mraise\u001b[39;00m \u001b[38;5;167;01mRuntimeError\u001b[39;00m(\u001b[33m\"\u001b[39m\u001b[33mMissing FRED_API_KEY environment variable\u001b[39m\u001b[33m\"\u001b[39m)\n\u001b[32m      6\u001b[39m fy_denoms = get_fy_gdp_denominators_from_fred(FRED_API_KEY, fy_years=\u001b[38;5;28mrange\u001b[39m(\u001b[32m2015\u001b[39m, \u001b[32m2026\u001b[39m))\n",
      "\u001b[31mRuntimeError\u001b[39m: Missing FRED_API_KEY environment variable"
     ]
    }
   ],
   "source": [
    "\n",
    "FRED_API_KEY = os.getenv(\"FRED_API_KEY\")\n",
    "\n",
    "if FRED_API_KEY is None:\n",
    "    raise RuntimeError(\"Missing FRED_API_KEY environment variable\")\n",
    "\n",
    "fy_denoms = get_fy_gdp_denominators_from_fred(FRED_API_KEY, fy_years=range(2015, 2026))"
   ]
  },
  {
   "cell_type": "code",
   "execution_count": 112,
   "id": "7401ddbf",
   "metadata": {},
   "outputs": [
    {
     "data": {
      "text/plain": [
       "('2015-01-01', '2025-08-17')"
      ]
     },
     "execution_count": 112,
     "metadata": {},
     "output_type": "execute_result"
    }
   ],
   "source": [
    "from datetime import date\n",
    "START = \"2015-01-01\"    # change as needed\n",
    "END = date.today().isoformat()\n",
    "START, END"
   ]
  },
  {
   "cell_type": "code",
   "execution_count": 113,
   "id": "a0c62dcd",
   "metadata": {},
   "outputs": [],
   "source": [
    "def _finish_timeplot(ax, title: str, ylabel: str):\n",
    "    ax.set_title(title)\n",
    "    ax.set_ylabel(ylabel)\n",
    "    ax.set_xlabel(\"Date\")\n",
    "    ax.grid(True, alpha=0.35)\n",
    "    plt.tight_layout()"
   ]
  },
  {
   "cell_type": "markdown",
   "id": "8482b1d0",
   "metadata": {},
   "source": [
    "## A) Debt to the Penny"
   ]
  },
  {
   "cell_type": "code",
   "execution_count": 43,
   "id": "77d97ef2",
   "metadata": {},
   "outputs": [
    {
     "data": {
      "text/html": [
       "<div>\n",
       "<style scoped>\n",
       "    .dataframe tbody tr th:only-of-type {\n",
       "        vertical-align: middle;\n",
       "    }\n",
       "\n",
       "    .dataframe tbody tr th {\n",
       "        vertical-align: top;\n",
       "    }\n",
       "\n",
       "    .dataframe thead th {\n",
       "        text-align: right;\n",
       "    }\n",
       "</style>\n",
       "<table border=\"1\" class=\"dataframe\">\n",
       "  <thead>\n",
       "    <tr style=\"text-align: right;\">\n",
       "      <th></th>\n",
       "      <th>record_date</th>\n",
       "      <th>debt_held_public_amt</th>\n",
       "      <th>intragov_hold_amt</th>\n",
       "      <th>tot_pub_debt_out_amt</th>\n",
       "    </tr>\n",
       "  </thead>\n",
       "  <tbody>\n",
       "    <tr>\n",
       "      <th>2662</th>\n",
       "      <td>2025-08-08</td>\n",
       "      <td>2.964297e+13</td>\n",
       "      <td>7.355518e+12</td>\n",
       "      <td>3.699849e+13</td>\n",
       "    </tr>\n",
       "    <tr>\n",
       "      <th>2663</th>\n",
       "      <td>2025-08-11</td>\n",
       "      <td>2.964353e+13</td>\n",
       "      <td>7.361283e+12</td>\n",
       "      <td>3.700482e+13</td>\n",
       "    </tr>\n",
       "    <tr>\n",
       "      <th>2664</th>\n",
       "      <td>2025-08-12</td>\n",
       "      <td>2.969869e+13</td>\n",
       "      <td>7.371728e+12</td>\n",
       "      <td>3.707042e+13</td>\n",
       "    </tr>\n",
       "    <tr>\n",
       "      <th>2665</th>\n",
       "      <td>2025-08-13</td>\n",
       "      <td>2.969849e+13</td>\n",
       "      <td>7.346845e+12</td>\n",
       "      <td>3.704534e+13</td>\n",
       "    </tr>\n",
       "    <tr>\n",
       "      <th>2666</th>\n",
       "      <td>2025-08-14</td>\n",
       "      <td>2.974115e+13</td>\n",
       "      <td>7.348280e+12</td>\n",
       "      <td>3.708943e+13</td>\n",
       "    </tr>\n",
       "  </tbody>\n",
       "</table>\n",
       "</div>"
      ],
      "text/plain": [
       "     record_date  debt_held_public_amt  intragov_hold_amt  \\\n",
       "2662  2025-08-08          2.964297e+13       7.355518e+12   \n",
       "2663  2025-08-11          2.964353e+13       7.361283e+12   \n",
       "2664  2025-08-12          2.969869e+13       7.371728e+12   \n",
       "2665  2025-08-13          2.969849e+13       7.346845e+12   \n",
       "2666  2025-08-14          2.974115e+13       7.348280e+12   \n",
       "\n",
       "      tot_pub_debt_out_amt  \n",
       "2662          3.699849e+13  \n",
       "2663          3.700482e+13  \n",
       "2664          3.707042e+13  \n",
       "2665          3.704534e+13  \n",
       "2666          3.708943e+13  "
      ]
     },
     "execution_count": 43,
     "metadata": {},
     "output_type": "execute_result"
    }
   ],
   "source": [
    "def get_debt_to_penny(start_date: str, end_date: str):\n",
    "    df = fetch_fiscaldata(\n",
    "        \"v2/accounting/od/debt_to_penny\",\n",
    "        fields=[\"record_date\", \"debt_held_public_amt\", \"intragov_hold_amt\", \"tot_pub_debt_out_amt\"],\n",
    "        filters={\"record_date\": (\"gte\", start_date)},\n",
    "        sort=[\"record_date\"],\n",
    "    )\n",
    "    if df.empty:\n",
    "        return df\n",
    "    df[\"record_date\"] = pd.to_datetime(df[\"record_date\"])\n",
    "    for col in [\"debt_held_public_amt\", \"intragov_hold_amt\", \"tot_pub_debt_out_amt\"]:\n",
    "        df[col] = pd.to_numeric(df[col], errors=\"coerce\")\n",
    "    return df[df[\"record_date\"] <= pd.to_datetime(end_date)]\n",
    "\n",
    "debt = get_debt_to_penny(START, END)\n",
    "debt.tail()"
   ]
  },
  {
   "cell_type": "code",
   "execution_count": 44,
   "id": "651623d9",
   "metadata": {},
   "outputs": [
    {
     "data": {
      "image/png": "[encoded data removed]",
      "text/plain": [
       "<Figure size 640x480 with 1 Axes>"
      ]
     },
     "metadata": {},
     "output_type": "display_data"
    }
   ],
   "source": [
    "fig, ax = plt.subplots()\n",
    "ax.plot(debt[\"record_date\"], debt[\"tot_pub_debt_out_amt\"], label=\"Total Public Debt Outstanding\")\n",
    "ax.plot(debt[\"record_date\"], debt[\"debt_held_public_amt\"], label=\"Debt Held by the Public\")\n",
    "ax.plot(debt[\"record_date\"], debt[\"intragov_hold_amt\"], label=\"Intragovernmental Holdings\")\n",
    "ax.legend()\n",
    "_finish_timeplot(ax, \"U.S. Total Public Debt Outstanding (daily)\", \"USD\")"
   ]
  },
  {
   "cell_type": "markdown",
   "id": "284967af",
   "metadata": {},
   "source": [
    "## B) Monthly deficit/surplus (MTS Table 1)"
   ]
  },
  {
   "cell_type": "code",
   "execution_count": 45,
   "id": "7751cc3b",
   "metadata": {},
   "outputs": [
    {
     "data": {
      "text/html": [
       "<div>\n",
       "<style scoped>\n",
       "    .dataframe tbody tr th:only-of-type {\n",
       "        vertical-align: middle;\n",
       "    }\n",
       "\n",
       "    .dataframe tbody tr th {\n",
       "        vertical-align: top;\n",
       "    }\n",
       "\n",
       "    .dataframe thead th {\n",
       "        text-align: right;\n",
       "    }\n",
       "</style>\n",
       "<table border=\"1\" class=\"dataframe\">\n",
       "  <thead>\n",
       "    <tr style=\"text-align: right;\">\n",
       "      <th></th>\n",
       "      <th>record_date</th>\n",
       "      <th>current_month_gross_rcpt_amt</th>\n",
       "      <th>current_month_gross_outly_amt</th>\n",
       "      <th>current_month_deficit_amt</th>\n",
       "    </tr>\n",
       "  </thead>\n",
       "  <tbody>\n",
       "    <tr>\n",
       "      <th>120</th>\n",
       "      <td>2025-03-31</td>\n",
       "      <td>1.435679e+13</td>\n",
       "      <td>2.063584e+13</td>\n",
       "      <td>6.279043e+12</td>\n",
       "    </tr>\n",
       "    <tr>\n",
       "      <th>121</th>\n",
       "      <td>2025-04-30</td>\n",
       "      <td>1.605716e+13</td>\n",
       "      <td>2.181941e+13</td>\n",
       "      <td>5.762254e+12</td>\n",
       "    </tr>\n",
       "    <tr>\n",
       "      <th>122</th>\n",
       "      <td>2025-05-31</td>\n",
       "      <td>1.679961e+13</td>\n",
       "      <td>2.319387e+13</td>\n",
       "      <td>6.394256e+12</td>\n",
       "    </tr>\n",
       "    <tr>\n",
       "      <th>123</th>\n",
       "      <td>2025-06-30</td>\n",
       "      <td>1.785250e+13</td>\n",
       "      <td>2.419204e+13</td>\n",
       "      <td>6.339532e+12</td>\n",
       "    </tr>\n",
       "    <tr>\n",
       "      <th>124</th>\n",
       "      <td>2025-07-31</td>\n",
       "      <td>1.852949e+13</td>\n",
       "      <td>2.545130e+13</td>\n",
       "      <td>6.921818e+12</td>\n",
       "    </tr>\n",
       "  </tbody>\n",
       "</table>\n",
       "</div>"
      ],
      "text/plain": [
       "    record_date  current_month_gross_rcpt_amt  current_month_gross_outly_amt  \\\n",
       "120  2025-03-31                  1.435679e+13                   2.063584e+13   \n",
       "121  2025-04-30                  1.605716e+13                   2.181941e+13   \n",
       "122  2025-05-31                  1.679961e+13                   2.319387e+13   \n",
       "123  2025-06-30                  1.785250e+13                   2.419204e+13   \n",
       "124  2025-07-31                  1.852949e+13                   2.545130e+13   \n",
       "\n",
       "     current_month_deficit_amt  \n",
       "120               6.279043e+12  \n",
       "121               5.762254e+12  \n",
       "122               6.394256e+12  \n",
       "123               6.339532e+12  \n",
       "124               6.921818e+12  "
      ]
     },
     "execution_count": 45,
     "metadata": {},
     "output_type": "execute_result"
    }
   ],
   "source": [
    "def get_mts_summary(start_date: str, end_date: str):\n",
    "    df = fetch_fiscaldata(\n",
    "        \"v1/accounting/mts/mts_table_1\",\n",
    "        fields=[\n",
    "            \"record_date\",\n",
    "            \"classification_desc\",\n",
    "            \"current_month_gross_rcpt_amt\",\n",
    "            \"current_month_gross_outly_amt\",   \n",
    "        ],\n",
    "        filters={\"record_date\": (\"gte\", start_date)},\n",
    "        sort=[\"record_date\"],\n",
    "    )\n",
    "    if df.empty:\n",
    "        return df\n",
    "    df[\"record_date\"] = pd.to_datetime(df[\"record_date\"])\n",
    "    for col in [\"current_month_gross_rcpt_amt\", \"current_month_gross_outly_amt\"]:\n",
    "        df[col] = pd.to_numeric(df[col], errors=\"coerce\")\n",
    "\n",
    "    monthly = (df\n",
    "        .groupby(\"record_date\", as_index=False)[\n",
    "            [\"current_month_gross_rcpt_amt\", \"current_month_gross_outly_amt\"]\n",
    "        ]\n",
    "        .sum()\n",
    "        .sort_values(\"record_date\")\n",
    "    )\n",
    "    monthly = monthly[monthly[\"record_date\"] <= pd.to_datetime(end_date)]\n",
    "    monthly[\"current_month_deficit_amt\"] = (\n",
    "        monthly[\"current_month_gross_outly_amt\"] - monthly[\"current_month_gross_rcpt_amt\"]\n",
    "    )\n",
    "    return monthly\n",
    "\n",
    "mts = get_mts_summary(START, END)\n",
    "mts.tail()"
   ]
  },
  {
   "cell_type": "code",
   "execution_count": 46,
   "id": "2cc9069c",
   "metadata": {},
   "outputs": [
    {
     "data": {
      "image/png": "[encoded data removed]",
      "text/plain": [
       "<Figure size 640x480 with 1 Axes>"
      ]
     },
     "metadata": {},
     "output_type": "display_data"
    }
   ],
   "source": [
    "fig, ax = plt.subplots()\n",
    "ax.plot(mts[\"record_date\"], mts[\"current_month_deficit_amt\"])\n",
    "_finish_timeplot(ax, \"Monthly Federal Deficit (+) / Surplus (-)\", \"USD millions\")"
   ]
  },
  {
   "cell_type": "markdown",
   "id": "96d83269",
   "metadata": {},
   "source": [
    "## C1) Receipts breakdown by category (MTS Table 4)"
   ]
  },
  {
   "cell_type": "code",
   "execution_count": 114,
   "id": "4117730e",
   "metadata": {},
   "outputs": [
    {
     "data": {
      "text/html": [
       "<div>\n",
       "<style scoped>\n",
       "    .dataframe tbody tr th:only-of-type {\n",
       "        vertical-align: middle;\n",
       "    }\n",
       "\n",
       "    .dataframe tbody tr th {\n",
       "        vertical-align: top;\n",
       "    }\n",
       "\n",
       "    .dataframe thead th {\n",
       "        text-align: right;\n",
       "    }\n",
       "</style>\n",
       "<table border=\"1\" class=\"dataframe\">\n",
       "  <thead>\n",
       "    <tr style=\"text-align: right;\">\n",
       "      <th>category</th>\n",
       "      <th>Withheld</th>\n",
       "      <th>Federal Insurance Contributions Act Taxes</th>\n",
       "      <th>Other</th>\n",
       "      <th>Corporation Income Taxes</th>\n",
       "      <th>All Other</th>\n",
       "      <th>Customs Duties</th>\n",
       "      <th>Self-Employment Contributions Act Taxes</th>\n",
       "      <th>Deposit of Earnings, Federal Reserve System</th>\n",
       "      <th>Deposits by States</th>\n",
       "    </tr>\n",
       "    <tr>\n",
       "      <th>record_date</th>\n",
       "      <th></th>\n",
       "      <th></th>\n",
       "      <th></th>\n",
       "      <th></th>\n",
       "      <th></th>\n",
       "      <th></th>\n",
       "      <th></th>\n",
       "      <th></th>\n",
       "      <th></th>\n",
       "    </tr>\n",
       "  </thead>\n",
       "  <tbody>\n",
       "    <tr>\n",
       "      <th>2025-03-31</th>\n",
       "      <td>2.227041e+11</td>\n",
       "      <td>1.412520e+11</td>\n",
       "      <td>3.244229e+10</td>\n",
       "      <td>2.030422e+10</td>\n",
       "      <td>1.232794e+10</td>\n",
       "      <td>8.748882e+09</td>\n",
       "      <td>2.746000e+09</td>\n",
       "      <td>5.349936e+08</td>\n",
       "      <td>2.718569e+08</td>\n",
       "    </tr>\n",
       "    <tr>\n",
       "      <th>2025-04-30</th>\n",
       "      <td>1.702135e+11</td>\n",
       "      <td>1.353580e+11</td>\n",
       "      <td>4.532109e+11</td>\n",
       "      <td>9.686599e+10</td>\n",
       "      <td>2.512851e+10</td>\n",
       "      <td>1.630303e+10</td>\n",
       "      <td>3.669700e+10</td>\n",
       "      <td>6.033402e+08</td>\n",
       "      <td>6.928450e+09</td>\n",
       "    </tr>\n",
       "    <tr>\n",
       "      <th>2025-05-31</th>\n",
       "      <td>1.158599e+11</td>\n",
       "      <td>1.313760e+11</td>\n",
       "      <td>4.938207e+10</td>\n",
       "      <td>4.602122e+10</td>\n",
       "      <td>1.717730e+10</td>\n",
       "      <td>2.282106e+10</td>\n",
       "      <td>1.765000e+09</td>\n",
       "      <td>4.375019e+08</td>\n",
       "      <td>1.352618e+10</td>\n",
       "    </tr>\n",
       "    <tr>\n",
       "      <th>2025-06-30</th>\n",
       "      <td>1.275034e+11</td>\n",
       "      <td>1.438490e+11</td>\n",
       "      <td>1.216980e+11</td>\n",
       "      <td>7.057080e+10</td>\n",
       "      <td>3.188952e+10</td>\n",
       "      <td>2.715458e+10</td>\n",
       "      <td>1.374900e+10</td>\n",
       "      <td>4.613234e+08</td>\n",
       "      <td>6.390888e+09</td>\n",
       "    </tr>\n",
       "    <tr>\n",
       "      <th>2025-07-31</th>\n",
       "      <td>1.397223e+11</td>\n",
       "      <td>1.239070e+11</td>\n",
       "      <td>1.882372e+10</td>\n",
       "      <td>2.537254e+10</td>\n",
       "      <td>1.579259e+10</td>\n",
       "      <td>2.844033e+10</td>\n",
       "      <td>1.349000e+09</td>\n",
       "      <td>4.736200e+08</td>\n",
       "      <td>3.740524e+09</td>\n",
       "    </tr>\n",
       "  </tbody>\n",
       "</table>\n",
       "</div>"
      ],
      "text/plain": [
       "category         Withheld  Federal Insurance Contributions Act Taxes  \\\n",
       "record_date                                                            \n",
       "2025-03-31   2.227041e+11                               1.412520e+11   \n",
       "2025-04-30   1.702135e+11                               1.353580e+11   \n",
       "2025-05-31   1.158599e+11                               1.313760e+11   \n",
       "2025-06-30   1.275034e+11                               1.438490e+11   \n",
       "2025-07-31   1.397223e+11                               1.239070e+11   \n",
       "\n",
       "category            Other  Corporation Income Taxes     All Other  \\\n",
       "record_date                                                         \n",
       "2025-03-31   3.244229e+10              2.030422e+10  1.232794e+10   \n",
       "2025-04-30   4.532109e+11              9.686599e+10  2.512851e+10   \n",
       "2025-05-31   4.938207e+10              4.602122e+10  1.717730e+10   \n",
       "2025-06-30   1.216980e+11              7.057080e+10  3.188952e+10   \n",
       "2025-07-31   1.882372e+10              2.537254e+10  1.579259e+10   \n",
       "\n",
       "category     Customs Duties  Self-Employment Contributions Act Taxes  \\\n",
       "record_date                                                            \n",
       "2025-03-31     8.748882e+09                             2.746000e+09   \n",
       "2025-04-30     1.630303e+10                             3.669700e+10   \n",
       "2025-05-31     2.282106e+10                             1.765000e+09   \n",
       "2025-06-30     2.715458e+10                             1.374900e+10   \n",
       "2025-07-31     2.844033e+10                             1.349000e+09   \n",
       "\n",
       "category     Deposit of Earnings, Federal Reserve System  Deposits by States  \n",
       "record_date                                                                   \n",
       "2025-03-31                                  5.349936e+08        2.718569e+08  \n",
       "2025-04-30                                  6.033402e+08        6.928450e+09  \n",
       "2025-05-31                                  4.375019e+08        1.352618e+10  \n",
       "2025-06-30                                  4.613234e+08        6.390888e+09  \n",
       "2025-07-31                                  4.736200e+08        3.740524e+09  "
      ]
     },
     "execution_count": 114,
     "metadata": {},
     "output_type": "execute_result"
    }
   ],
   "source": [
    "def get_receipts_breakdown(start_date: str, end_date: str, top_n: int = 6):\n",
    "    # Table 4 = Receipts of the U.S. Government\n",
    "    df = fetch_fiscaldata(\n",
    "        \"v1/accounting/mts/mts_table_4\",\n",
    "        fields=[\"record_date\", \"classification_desc\", \"current_month_gross_rcpt_amt\"],\n",
    "        filters={\"record_date\": (\"gte\", start_date)},\n",
    "        sort=[\"record_date\"],\n",
    "    )\n",
    "    if df.empty:\n",
    "        return df, []\n",
    "\n",
    "    # tidy types + window\n",
    "    df[\"record_date\"] = pd.to_datetime(df[\"record_date\"])\n",
    "    df[\"current_month_gross_rcpt_amt\"] = pd.to_numeric(df[\"current_month_gross_rcpt_amt\"], errors=\"coerce\")\n",
    "    df = df[df[\"record_date\"] <= pd.to_datetime(end_date)]\n",
    "\n",
    "    # drop total rows so they don't swamp categories\n",
    "    mask_total = df[\"classification_desc\"].str.contains(\"^Total\", na=False)\n",
    "    monthly_cat = (\n",
    "        df.loc[~mask_total]\n",
    "          .groupby([\"record_date\", \"classification_desc\"], as_index=False)[\"current_month_gross_rcpt_amt\"]\n",
    "          .sum()\n",
    "          .rename(columns={\"current_month_gross_rcpt_amt\": \"value\"})\n",
    "    )\n",
    "\n",
    "    # keep top N categories overall\n",
    "    totals = monthly_cat.groupby(\"classification_desc\")[\"value\"].sum().sort_values(ascending=False)\n",
    "    keep = totals.head(top_n).index.tolist()\n",
    "\n",
    "    # bucket everything else into \"All Other\"\n",
    "    bucket_label = \"All Other\"\n",
    "    monthly_cat[\"category\"] = monthly_cat[\"classification_desc\"].where(\n",
    "        monthly_cat[\"classification_desc\"].isin(keep), other=bucket_label\n",
    "    )\n",
    "\n",
    "    monthly_cat = (\n",
    "        monthly_cat.groupby([\"record_date\", \"category\"], as_index=False)[\"value\"]\n",
    "                   .sum()\n",
    "                   .sort_values([\"record_date\", \"category\"])\n",
    "    )\n",
    "\n",
    "    pivot = monthly_cat.pivot(index=\"record_date\", columns=\"category\", values=\"value\").fillna(0.0)\n",
    "\n",
    "    # Order columns: largest total at the bottom of the stack\n",
    "    col_totals = pivot.sum(axis=0).sort_values(ascending=False)\n",
    "    pivot = pivot[col_totals.index]\n",
    "\n",
    "    return pivot, list(col_totals.index)\n",
    "\n",
    "receipts_pivot, kept = get_receipts_breakdown(START, END, top_n=8)\n",
    "receipts_pivot.tail()"
   ]
  },
  {
   "cell_type": "code",
   "execution_count": 125,
   "id": "3179451f",
   "metadata": {},
   "outputs": [
    {
     "data": {
      "image/png": "[encoded data removed]",
      "text/plain": [
       "<Figure size 640x480 with 1 Axes>"
      ]
     },
     "metadata": {},
     "output_type": "display_data"
    }
   ],
   "source": [
    "fig, ax = plt.subplots()\n",
    "receipts_pivot = receipts_pivot.sort_index()\n",
    "ax.stackplot(receipts_pivot.index, receipts_pivot.values.T / 1e9, labels=receipts_pivot.columns.tolist())\n",
    "ax.legend(loc=\"upper left\", ncols=2, fontsize=\"small\")\n",
    "_finish_timeplot(ax, \"Monthly Receipts by Category (stacked)\", \"USD billions\")"
   ]
  },
  {
   "cell_type": "code",
   "execution_count": 133,
   "id": "b50e892f",
   "metadata": {},
   "outputs": [
    {
     "data": {
      "application/vnd.plotly.v1+json": {
       "config": {
        "plotlyServerURL": "https://plot.ly"
       },
       "data": [
        {
         "hovertemplate": "%{x|%Y-%m}<br>Withheld: %{y:,.2f}<extra></extra>",
         "mode": "lines",
         "name": "Withheld",
         "stackgroup": "one",
         "type": "scatter",
         "x": [
          "2015-03-31T00:00:00.000000000",
          "2015-04-30T00:00:00.000000000",
          "2015-05-31T00:00:00.000000000",
          "2015-06-30T00:00:00.000000000",
          "2015-07-31T00:00:00.000000000",
          "2015-08-31T00:00:00.000000000",
          "2015-09-30T00:00:00.000000000",
          "2015-10-31T00:00:00.000000000",
          "2015-11-30T00:00:00.000000000",
          "2015-12-31T00:00:00.000000000",
          "2016-01-31T00:00:00.000000000",
          "2016-02-29T00:00:00.000000000",
          "2016-03-31T00:00:00.000000000",
          "2016-04-30T00:00:00.000000000",
          "2016-05-31T00:00:00.000000000",
          "2016-06-30T00:00:00.000000000",
          "2016-07-31T00:00:00.000000000",
          "2016-08-31T00:00:00.000000000",
          "2016-09-30T00:00:00.000000000",
          "2016-10-31T00:00:00.000000000",
          "2016-11-30T00:00:00.000000000",
          "2016-12-31T00:00:00.000000000",
          "2017-01-31T00:00:00.000000000",
          "2017-02-28T00:00:00.000000000",
          "2017-03-31T00:00:00.000000000",
          "2017-04-30T00:00:00.000000000",
          "2017-05-31T00:00:00.000000000",
          "2017-06-30T00:00:00.000000000",
          "2017-07-31T00:00:00.000000000",
          "2017-08-31T00:00:00.000000000",
          "2017-09-30T00:00:00.000000000",
          "2017-10-31T00:00:00.000000000",
          "2017-11-30T00:00:00.000000000",
          "2017-12-31T00:00:00.000000000",
          "2018-01-31T00:00:00.000000000",
          "2018-02-28T00:00:00.000000000",
          "2018-03-31T00:00:00.000000000",
          "2018-04-30T00:00:00.000000000",
          "2018-05-31T00:00:00.000000000",
          "2018-06-30T00:00:00.000000000",
          "2018-07-31T00:00:00.000000000",
          "2018-08-31T00:00:00.000000000",
          "2018-09-30T00:00:00.000000000",
          "2018-10-31T00:00:00.000000000",
          "2018-11-30T00:00:00.000000000",
          "2018-12-31T00:00:00.000000000",
          "2019-01-31T00:00:00.000000000",
          "2019-02-28T00:00:00.000000000",
          "2019-03-31T00:00:00.000000000",
          "2019-04-30T00:00:00.000000000",
          "2019-05-31T00:00:00.000000000",
          "2019-06-30T00:00:00.000000000",
          "2019-07-31T00:00:00.000000000",
          "2019-08-31T00:00:00.000000000",
          "2019-09-30T00:00:00.000000000",
          "2019-10-31T00:00:00.000000000",
          "2019-11-30T00:00:00.000000000",
          "2019-12-31T00:00:00.000000000",
          "2020-01-31T00:00:00.000000000",
          "2020-02-29T00:00:00.000000000",
          "2020-03-31T00:00:00.000000000",
          "2020-04-30T00:00:00.000000000",
          "2020-05-31T00:00:00.000000000",
          "2020-06-30T00:00:00.000000000",
          "2020-07-31T00:00:00.000000000",
          "2020-08-31T00:00:00.000000000",
          "2020-09-30T00:00:00.000000000",
          "2020-10-31T00:00:00.000000000",
          "2020-11-30T00:00:00.000000000",
          "2020-12-31T00:00:00.000000000",
          "2021-01-31T00:00:00.000000000",
          "2021-02-28T00:00:00.000000000",
          "2021-03-31T00:00:00.000000000",
          "2021-04-30T00:00:00.000000000",
          "2021-05-31T00:00:00.000000000",
          "2021-06-30T00:00:00.000000000",
          "2021-07-31T00:00:00.000000000",
          "2021-08-31T00:00:00.000000000",
          "2021-09-30T00:00:00.000000000",
          "2021-10-31T00:00:00.000000000",
          "2021-11-30T00:00:00.000000000",
          "2021-12-31T00:00:00.000000000",
          "2022-01-31T00:00:00.000000000",
          "2022-02-28T00:00:00.000000000",
          "2022-03-31T00:00:00.000000000",
          "2022-04-30T00:00:00.000000000",
          "2022-05-31T00:00:00.000000000",
          "2022-06-30T00:00:00.000000000",
          "2022-07-31T00:00:00.000000000",
          "2022-08-31T00:00:00.000000000",
          "2022-09-30T00:00:00.000000000",
          "2022-10-31T00:00:00.000000000",
          "2022-11-30T00:00:00.000000000",
          "2022-12-31T00:00:00.000000000",
          "2023-01-31T00:00:00.000000000",
          "2023-02-28T00:00:00.000000000",
          "2023-03-31T00:00:00.000000000",
          "2023-04-30T00:00:00.000000000",
          "2023-05-31T00:00:00.000000000",
          "2023-06-30T00:00:00.000000000",
          "2023-07-31T00:00:00.000000000",
          "2023-08-31T00:00:00.000000000",
          "2023-09-30T00:00:00.000000000",
          "2023-10-31T00:00:00.000000000",
          "2023-11-30T00:00:00.000000000",
          "2023-12-31T00:00:00.000000000",
          "2024-01-31T00:00:00.000000000",
          "2024-02-29T00:00:00.000000000",
          "2024-03-31T00:00:00.000000000",
          "2024-04-30T00:00:00.000000000",
          "2024-05-31T00:00:00.000000000",
          "2024-06-30T00:00:00.000000000",
          "2024-07-31T00:00:00.000000000",
          "2024-08-31T00:00:00.000000000",
          "2024-09-30T00:00:00.000000000",
          "2024-10-31T00:00:00.000000000",
          "2024-11-30T00:00:00.000000000",
          "2024-12-31T00:00:00.000000000",
          "2025-01-31T00:00:00.000000000",
          "2025-02-28T00:00:00.000000000",
          "2025-03-31T00:00:00.000000000",
          "2025-04-30T00:00:00.000000000",
          "2025-05-31T00:00:00.000000000",
          "2025-06-30T00:00:00.000000000",
          "2025-07-31T00:00:00.000000000"
         ],
         "y": {
          "bdata": "cX37wH5bPEKksGospVA2Qq5HGEN0IzVCAECRgEGhNULheqYbn0o4QpqZcPSu1TZCj4JXQFrTNEI9yi50osQ1QoUr8ioWMjZCzYyyYVmoPkKFq2o4B6k3QrgezoHbwT1C7NEPPv/6PEK4noDtnrY1Qh9FKkl9DThCAABI7kf+MUIU7nMMW4w2QoWrUXDjlDlCXA9B6tUgNUIUriJ5HJ04QmYmF755UTZCHwV3t/L5PEKk8JhQbE48QhRuhmg9JjtCcV09aUI/QEJcj1AJqNQ1QjMzZE5XQTlCe1TwtpejNUIpnPOwOHs5QrgecNR7cDhCPcqK1UxVNkKk8A6H63k6Qo9CQc1lnDdC9ohEI9eRQULNTBYJjHw+Qh8FxHRExDlCHwW0SdfOPkIfRS+ogCc3QlwPjZYyVTZCmpk4PfQgN0LX4wEKHmY4QhTuaQteojdCFC5GibGWM0Kuxyg31uc5Qo+CYdQR+jVCFG7ti1v1P0Kux5t0v2k5QmYmglYALjtCSOHAR4GcP0L2qD04boI6QgpXFHFJNjlCHwXcaYu5MUKFq2svsBk8Qj1KqsrddzdCUni7G9wzOEL2KAMFDEk5Qo9CGkDogjhCKTy7bvJHQEJcT7oKWL08QmYm4ghyizxCZkZj7v5FQULXIxFzYogyQpoZaVRqzzBCzQyW1JM6MUIUrsVY9bI3Qo/CnSX91zNCe1QwbgmXM0KPwoad1Gw0QimckoMoUjVCw7V5LfnBPUKFKwlNjXU7QnsU6cN6CT9CAKC+ysjxREIUbgKmUeQ8Qs2MV3mtBDhChWthw18pREKuh3VdDkQ6QnH9Ve5Lrz1Cw3XiABvcO0LNzOsXNXM7QuGazG6TT0BC7HGiVks2S0KaeXqnDLtBQoULUPGWjkFCpFCapN4DRkI9SsGlqAg/QgDAq4Iodj5CcT3KhUNWOEI9CrT3iTg8QppZr3qBM0BCXA/8RMGYO0JIgeLcHStAQs2MkF1dnTxCH0VjeaOOR0LhWnYDqK1BQgo3QCg2CEFCpLA/Y395RkIfxayCRc89Qo9CPLZM3D9CHwVoXsD5M0JSePbtgWY/QuF6V/i9Tj5CM3N1YBS/PEJ7tNhPhJxBQgoXx9dBLj5CSKHEaBRmQ0KFywFIrepCQikcunUX20JC9ojwlHurRkKF69NuAulDQgpX/ny5YTxCzUyWAx/oM0LNjPASQsdBQh+F6OPiLD5C7JEMODosQEKuJyhyOfBAQgAgeSSqAUBCw1XAKhYxR0IKd6j6L5tEQoWriHEi+kNCKdxfSRntSULhegLXwdBDQjPzqdrJ+TpCw3U+g8uvPUIAwDziDERAQg==",
          "dtype": "f8"
         }
        },
        {
         "hovertemplate": "%{x|%Y-%m}<br>Federal Insurance Contributions Act Taxes: %{y:,.2f}<extra></extra>",
         "mode": "lines",
         "name": "Federal Insurance Contributions Act Taxes",
         "stackgroup": "one",
         "type": "scatter",
         "x": [
          "2015-03-31T00:00:00.000000000",
          "2015-04-30T00:00:00.000000000",
          "2015-05-31T00:00:00.000000000",
          "2015-06-30T00:00:00.000000000",
          "2015-07-31T00:00:00.000000000",
          "2015-08-31T00:00:00.000000000",
          "2015-09-30T00:00:00.000000000",
          "2015-10-31T00:00:00.000000000",
          "2015-11-30T00:00:00.000000000",
          "2015-12-31T00:00:00.000000000",
          "2016-01-31T00:00:00.000000000",
          "2016-02-29T00:00:00.000000000",
          "2016-03-31T00:00:00.000000000",
          "2016-04-30T00:00:00.000000000",
          "2016-05-31T00:00:00.000000000",
          "2016-06-30T00:00:00.000000000",
          "2016-07-31T00:00:00.000000000",
          "2016-08-31T00:00:00.000000000",
          "2016-09-30T00:00:00.000000000",
          "2016-10-31T00:00:00.000000000",
          "2016-11-30T00:00:00.000000000",
          "2016-12-31T00:00:00.000000000",
          "2017-01-31T00:00:00.000000000",
          "2017-02-28T00:00:00.000000000",
          "2017-03-31T00:00:00.000000000",
          "2017-04-30T00:00:00.000000000",
          "2017-05-31T00:00:00.000000000",
          "2017-06-30T00:00:00.000000000",
          "2017-07-31T00:00:00.000000000",
          "2017-08-31T00:00:00.000000000",
          "2017-09-30T00:00:00.000000000",
          "2017-10-31T00:00:00.000000000",
          "2017-11-30T00:00:00.000000000",
          "2017-12-31T00:00:00.000000000",
          "2018-01-31T00:00:00.000000000",
          "2018-02-28T00:00:00.000000000",
          "2018-03-31T00:00:00.000000000",
          "2018-04-30T00:00:00.000000000",
          "2018-05-31T00:00:00.000000000",
          "2018-06-30T00:00:00.000000000",
          "2018-07-31T00:00:00.000000000",
          "2018-08-31T00:00:00.000000000",
          "2018-09-30T00:00:00.000000000",
          "2018-10-31T00:00:00.000000000",
          "2018-11-30T00:00:00.000000000",
          "2018-12-31T00:00:00.000000000",
          "2019-01-31T00:00:00.000000000",
          "2019-02-28T00:00:00.000000000",
          "2019-03-31T00:00:00.000000000",
          "2019-04-30T00:00:00.000000000",
          "2019-05-31T00:00:00.000000000",
          "2019-06-30T00:00:00.000000000",
          "2019-07-31T00:00:00.000000000",
          "2019-08-31T00:00:00.000000000",
          "2019-09-30T00:00:00.000000000",
          "2019-10-31T00:00:00.000000000",
          "2019-11-30T00:00:00.000000000",
          "2019-12-31T00:00:00.000000000",
          "2020-01-31T00:00:00.000000000",
          "2020-02-29T00:00:00.000000000",
          "2020-03-31T00:00:00.000000000",
          "2020-04-30T00:00:00.000000000",
          "2020-05-31T00:00:00.000000000",
          "2020-06-30T00:00:00.000000000",
          "2020-07-31T00:00:00.000000000",
          "2020-08-31T00:00:00.000000000",
          "2020-09-30T00:00:00.000000000",
          "2020-10-31T00:00:00.000000000",
          "2020-11-30T00:00:00.000000000",
          "2020-12-31T00:00:00.000000000",
          "2021-01-31T00:00:00.000000000",
          "2021-02-28T00:00:00.000000000",
          "2021-03-31T00:00:00.000000000",
          "2021-04-30T00:00:00.000000000",
          "2021-05-31T00:00:00.000000000",
          "2021-06-30T00:00:00.000000000",
          "2021-07-31T00:00:00.000000000",
          "2021-08-31T00:00:00.000000000",
          "2021-09-30T00:00:00.000000000",
          "2021-10-31T00:00:00.000000000",
          "2021-11-30T00:00:00.000000000",
          "2021-12-31T00:00:00.000000000",
          "2022-01-31T00:00:00.000000000",
          "2022-02-28T00:00:00.000000000",
          "2022-03-31T00:00:00.000000000",
          "2022-04-30T00:00:00.000000000",
          "2022-05-31T00:00:00.000000000",
          "2022-06-30T00:00:00.000000000",
          "2022-07-31T00:00:00.000000000",
          "2022-08-31T00:00:00.000000000",
          "2022-09-30T00:00:00.000000000",
          "2022-10-31T00:00:00.000000000",
          "2022-11-30T00:00:00.000000000",
          "2022-12-31T00:00:00.000000000",
          "2023-01-31T00:00:00.000000000",
          "2023-02-28T00:00:00.000000000",
          "2023-03-31T00:00:00.000000000",
          "2023-04-30T00:00:00.000000000",
          "2023-05-31T00:00:00.000000000",
          "2023-06-30T00:00:00.000000000",
          "2023-07-31T00:00:00.000000000",
          "2023-08-31T00:00:00.000000000",
          "2023-09-30T00:00:00.000000000",
          "2023-10-31T00:00:00.000000000",
          "2023-11-30T00:00:00.000000000",
          "2023-12-31T00:00:00.000000000",
          "2024-01-31T00:00:00.000000000",
          "2024-02-29T00:00:00.000000000",
          "2024-03-31T00:00:00.000000000",
          "2024-04-30T00:00:00.000000000",
          "2024-05-31T00:00:00.000000000",
          "2024-06-30T00:00:00.000000000",
          "2024-07-31T00:00:00.000000000",
          "2024-08-31T00:00:00.000000000",
          "2024-09-30T00:00:00.000000000",
          "2024-10-31T00:00:00.000000000",
          "2024-11-30T00:00:00.000000000",
          "2024-12-31T00:00:00.000000000",
          "2025-01-31T00:00:00.000000000",
          "2025-02-28T00:00:00.000000000",
          "2025-03-31T00:00:00.000000000",
          "2025-04-30T00:00:00.000000000",
          "2025-05-31T00:00:00.000000000",
          "2025-06-30T00:00:00.000000000",
          "2025-07-31T00:00:00.000000000"
         ],
         "y": {
          "bdata": "AADA7bY8M0IAAEAIDJ4yQgAAwN7L9jFCAAAAvnqfM0IAAAA4GwoxQgAAwOq7pTFCAADAoVmgMkIAAICMTB0xQgAAgLVgkzJCAACASkjPM0IAAIBX8380QgAAQEEkETJCAACAIgHVM0IAAIBpSYwzQgAAABPY4zJCAABArMylNEIAAABivVAyQgAAgNwZvTJCAACgA9XNM0IAAADWJI8xQgAAADy26zJCAADAHDEQNEIAAMDQNMA1QgAAQDEX1zNCAAAAkiiUNUIAAEB0QgM1QgAAAEdOODRCAABAws8NNkIAAAD6VzszQgAAgMDmZTNCAABAaqpuNEIAAEBCzZgyQgAAQATvEjRCAADAZd1QNUIAAAAewVU2QgAAwDkWLDRCAADAg2v0NUIAAAA2mHY1QgAAwMC7qTRCAACATNmJNkIAAMBstsczQgAAwMnmLzRCAABgPGFHNUIAAACx2CszQgAAgJuRxTRCAACAjAkfNkIAAEDIfVM3QgAAwFWILjVCAAAA8kEZN0IAAAC/fYk2QgAAAFFYtDVCAABANpGuN0IAAID9kH00QgAAALgv+TRCAADAgiQtNkIAAIDCJvszQgAAQBAnqjVCAABArb0VN0IAAICyhZ04QgAAwMk3VTZCAAAA/EJYOEIAAEAzzIU3QgAAAJJVxTZCAABAg5DoOEIAAIDu/5k1QgAAAFkQITZCAACAVKNwN0IAAIDpFZM1QgAAQLCLezdCAADAGaQTOUIAAEDtIxk4QgAAwOCJ4jVCAAAAL+rdN0IAAMAiSzI4QgAAQOb5fDdCAABAaiK6OUIAAIACw2w2QgAAwK0E/jZCAACA4tpJOUIAAIBinUY2QgAAwLZuLzhCAAAA3W7MOUIAAMCzHiA7QgAAwPuRCDhCAAAAUGwuOkIAAEAxAQo6QgAAwLRtRTlCAACAHUCsO0IAAMB9OwU4QgAAQBFgAjpCAAAAu+eRO0IAAAD0ius3QgAAACbu2zlCAADAhNF9O0IAAICvhrM9QgAAgJjRhjtCAADABLD+PUIAAEAgivM8QgAAAHog7ztCAACA2RaAPkIAAMAoFC86QgAAgJcfwjpCAACAl6I4PEIAAACAPmQ5QgAAAJ4CdjtCAAAAblQ0PUIAAMD+dtI/QgAAQFTK2TxCAACAdptxP0IAAAAhuJk+QgAAQMQUjT1CAACAqzIjQEIAAADKtyA8QgAAgE7x1zxCAACAFQaWPkIAAEAuck87QgAAQKJOpz1CAAAAHiCiP0IAAECmsoNAQgAAAOL6HT5CAACAPKNxQEIAAIAr94M/QgAAAKyelj5CAAAgxgi/QEIAAMDGbtk8Qg==",
          "dtype": "f8"
         }
        },
        {
         "hovertemplate": "%{x|%Y-%m}<br>Other: %{y:,.2f}<extra></extra>",
         "mode": "lines",
         "name": "Other",
         "stackgroup": "one",
         "type": "scatter",
         "x": [
          "2015-03-31T00:00:00.000000000",
          "2015-04-30T00:00:00.000000000",
          "2015-05-31T00:00:00.000000000",
          "2015-06-30T00:00:00.000000000",
          "2015-07-31T00:00:00.000000000",
          "2015-08-31T00:00:00.000000000",
          "2015-09-30T00:00:00.000000000",
          "2015-10-31T00:00:00.000000000",
          "2015-11-30T00:00:00.000000000",
          "2015-12-31T00:00:00.000000000",
          "2016-01-31T00:00:00.000000000",
          "2016-02-29T00:00:00.000000000",
          "2016-03-31T00:00:00.000000000",
          "2016-04-30T00:00:00.000000000",
          "2016-05-31T00:00:00.000000000",
          "2016-06-30T00:00:00.000000000",
          "2016-07-31T00:00:00.000000000",
          "2016-08-31T00:00:00.000000000",
          "2016-09-30T00:00:00.000000000",
          "2016-10-31T00:00:00.000000000",
          "2016-11-30T00:00:00.000000000",
          "2016-12-31T00:00:00.000000000",
          "2017-01-31T00:00:00.000000000",
          "2017-02-28T00:00:00.000000000",
          "2017-03-31T00:00:00.000000000",
          "2017-04-30T00:00:00.000000000",
          "2017-05-31T00:00:00.000000000",
          "2017-06-30T00:00:00.000000000",
          "2017-07-31T00:00:00.000000000",
          "2017-08-31T00:00:00.000000000",
          "2017-09-30T00:00:00.000000000",
          "2017-10-31T00:00:00.000000000",
          "2017-11-30T00:00:00.000000000",
          "2017-12-31T00:00:00.000000000",
          "2018-01-31T00:00:00.000000000",
          "2018-02-28T00:00:00.000000000",
          "2018-03-31T00:00:00.000000000",
          "2018-04-30T00:00:00.000000000",
          "2018-05-31T00:00:00.000000000",
          "2018-06-30T00:00:00.000000000",
          "2018-07-31T00:00:00.000000000",
          "2018-08-31T00:00:00.000000000",
          "2018-09-30T00:00:00.000000000",
          "2018-10-31T00:00:00.000000000",
          "2018-11-30T00:00:00.000000000",
          "2018-12-31T00:00:00.000000000",
          "2019-01-31T00:00:00.000000000",
          "2019-02-28T00:00:00.000000000",
          "2019-03-31T00:00:00.000000000",
          "2019-04-30T00:00:00.000000000",
          "2019-05-31T00:00:00.000000000",
          "2019-06-30T00:00:00.000000000",
          "2019-07-31T00:00:00.000000000",
          "2019-08-31T00:00:00.000000000",
          "2019-09-30T00:00:00.000000000",
          "2019-10-31T00:00:00.000000000",
          "2019-11-30T00:00:00.000000000",
          "2019-12-31T00:00:00.000000000",
          "2020-01-31T00:00:00.000000000",
          "2020-02-29T00:00:00.000000000",
          "2020-03-31T00:00:00.000000000",
          "2020-04-30T00:00:00.000000000",
          "2020-05-31T00:00:00.000000000",
          "2020-06-30T00:00:00.000000000",
          "2020-07-31T00:00:00.000000000",
          "2020-08-31T00:00:00.000000000",
          "2020-09-30T00:00:00.000000000",
          "2020-10-31T00:00:00.000000000",
          "2020-11-30T00:00:00.000000000",
          "2020-12-31T00:00:00.000000000",
          "2021-01-31T00:00:00.000000000",
          "2021-02-28T00:00:00.000000000",
          "2021-03-31T00:00:00.000000000",
          "2021-04-30T00:00:00.000000000",
          "2021-05-31T00:00:00.000000000",
          "2021-06-30T00:00:00.000000000",
          "2021-07-31T00:00:00.000000000",
          "2021-08-31T00:00:00.000000000",
          "2021-09-30T00:00:00.000000000",
          "2021-10-31T00:00:00.000000000",
          "2021-11-30T00:00:00.000000000",
          "2021-12-31T00:00:00.000000000",
          "2022-01-31T00:00:00.000000000",
          "2022-02-28T00:00:00.000000000",
          "2022-03-31T00:00:00.000000000",
          "2022-04-30T00:00:00.000000000",
          "2022-05-31T00:00:00.000000000",
          "2022-06-30T00:00:00.000000000",
          "2022-07-31T00:00:00.000000000",
          "2022-08-31T00:00:00.000000000",
          "2022-09-30T00:00:00.000000000",
          "2022-10-31T00:00:00.000000000",
          "2022-11-30T00:00:00.000000000",
          "2022-12-31T00:00:00.000000000",
          "2023-01-31T00:00:00.000000000",
          "2023-02-28T00:00:00.000000000",
          "2023-03-31T00:00:00.000000000",
          "2023-04-30T00:00:00.000000000",
          "2023-05-31T00:00:00.000000000",
          "2023-06-30T00:00:00.000000000",
          "2023-07-31T00:00:00.000000000",
          "2023-08-31T00:00:00.000000000",
          "2023-09-30T00:00:00.000000000",
          "2023-10-31T00:00:00.000000000",
          "2023-11-30T00:00:00.000000000",
          "2023-12-31T00:00:00.000000000",
          "2024-01-31T00:00:00.000000000",
          "2024-02-29T00:00:00.000000000",
          "2024-03-31T00:00:00.000000000",
          "2024-04-30T00:00:00.000000000",
          "2024-05-31T00:00:00.000000000",
          "2024-06-30T00:00:00.000000000",
          "2024-07-31T00:00:00.000000000",
          "2024-08-31T00:00:00.000000000",
          "2024-09-30T00:00:00.000000000",
          "2024-10-31T00:00:00.000000000",
          "2024-11-30T00:00:00.000000000",
          "2024-12-31T00:00:00.000000000",
          "2025-01-31T00:00:00.000000000",
          "2025-02-28T00:00:00.000000000",
          "2025-03-31T00:00:00.000000000",
          "2025-04-30T00:00:00.000000000",
          "2025-05-31T00:00:00.000000000",
          "2025-06-30T00:00:00.000000000",
          "2025-07-31T00:00:00.000000000"
         ],
         "y": {
          "bdata": "w/VU3OHxDULhGuNWZeNMQpqZLx5u9wBCMzMoazPXLkIfhQcvRbwAQgrXV3gLfPtBH4V8eGqaMUJSuJVyKSMWQoXr9dwnvvtBzcw4TtQfEkIKl7nuJ7MyQq5HMfL01PxBrkc9KNgVDUL26Euhve1KQoXrSeyo3wZCexRzHWzCLUIUrldVMNL9Qc3MVnP0QwBCCle9oswBMUJcj/U4IIYWQtejXMrST/tB7FEPjDVzEEKkMAsG0AcyQlyP/pykyvpBAADqpdA+DkJmZrHIzoVJQmZmfk1bzwtCXA+Pjvh5LkIUrncSNs3+QR+Fa9kgzf9BFO65hhcBMULsUWZf9I8VQsP16Bzv9f1Bj8LxVZQIDkIfheKTPnkzQuF6XHl3wQNC9igo6Ru5D0L2+E6NcitQQvYosCRUWRFCw/WKBAB7MEIUrpVT1jYCQpqZO/LBZgFCrsfDb1AAM0JSuG0f5gMbQkjhAuLjF/5BXI8+9YhpDkKaWdk1d9k0QuxRGBdng/1BAACwRvNyD0JIIQ+CcoBQQmZmEEykwgNCe1SOUcAoMEKkcB8ewUIFQkjhtm22fQBC1+N7saNFM0LNzAspsmkaQgrXZVSLAQBCKVypuWqADUK43iEvySo2QuxRBoQiyARC9ihcQ7N6DELD9SjpHWbDQeF6MqXH8gVCrkc1O3jvGUJSqMKMrftQQs3MbgM2JAdC7NExD7BRM0LhelvY+WseQgrXTb+CEgNC7FHYysoDFUKa2eRyU3c6QnE9CrQPgQVCuB6pDo+NFEKuh3OQdUI7Qri+bVRpNUxCwzUihWgaO0JI4Xalw3UMQuF6qkXn5AhC16NsBR3mOELheghS0tcgQsP1gMsaDAdCzcyth0xdF0IpXLrcOuE/QgrXF820zBFCPQpgwOCxHUJxLX/ZufZdQincwsYbxjlCrkfZVOkpOUIzM8M7lpMMQkjhhjgzBQ1CChd/QzolPEJI4c3dajQnQrgeea8blgpCH4Xon3EEGUJczybWE7I9Qq5HdFEqeBBCzcySS80rHEIpHBQaTP1SQkjhCylzKiFCCld8XccXNEJxPWeFkRUSQh+FgQueeQtCCtchZHKBOEIK13wJnNAzQsP1Rw3XkBNC4XpMDm2wD0KuxxliDnE8Qtejahx34w5C4XoB+maDGUIpLGzN929WQmZm2mRJYR9ChWvVNkZcOUIpXP1zVh0BQgrXcS1pvAlC1+Puti6kO0IUrqWLIOUkQmZmtipqLgtC16P8QaNvEkJIoRJfz3Y+QjMzdpvO2xNCpHCLddg2HkIA4G6RXmFaQsN1QBrN/iZCe9R9j8NVPEIK10GR7IcRQg==",
          "dtype": "f8"
         }
        },
        {
         "hovertemplate": "%{x|%Y-%m}<br>Corporation Income Taxes: %{y:,.2f}<extra></extra>",
         "mode": "lines",
         "name": "Corporation Income Taxes",
         "stackgroup": "one",
         "type": "scatter",
         "x": [
          "2015-03-31T00:00:00.000000000",
          "2015-04-30T00:00:00.000000000",
          "2015-05-31T00:00:00.000000000",
          "2015-06-30T00:00:00.000000000",
          "2015-07-31T00:00:00.000000000",
          "2015-08-31T00:00:00.000000000",
          "2015-09-30T00:00:00.000000000",
          "2015-10-31T00:00:00.000000000",
          "2015-11-30T00:00:00.000000000",
          "2015-12-31T00:00:00.000000000",
          "2016-01-31T00:00:00.000000000",
          "2016-02-29T00:00:00.000000000",
          "2016-03-31T00:00:00.000000000",
          "2016-04-30T00:00:00.000000000",
          "2016-05-31T00:00:00.000000000",
          "2016-06-30T00:00:00.000000000",
          "2016-07-31T00:00:00.000000000",
          "2016-08-31T00:00:00.000000000",
          "2016-09-30T00:00:00.000000000",
          "2016-10-31T00:00:00.000000000",
          "2016-11-30T00:00:00.000000000",
          "2016-12-31T00:00:00.000000000",
          "2017-01-31T00:00:00.000000000",
          "2017-02-28T00:00:00.000000000",
          "2017-03-31T00:00:00.000000000",
          "2017-04-30T00:00:00.000000000",
          "2017-05-31T00:00:00.000000000",
          "2017-06-30T00:00:00.000000000",
          "2017-07-31T00:00:00.000000000",
          "2017-08-31T00:00:00.000000000",
          "2017-09-30T00:00:00.000000000",
          "2017-10-31T00:00:00.000000000",
          "2017-11-30T00:00:00.000000000",
          "2017-12-31T00:00:00.000000000",
          "2018-01-31T00:00:00.000000000",
          "2018-02-28T00:00:00.000000000",
          "2018-03-31T00:00:00.000000000",
          "2018-04-30T00:00:00.000000000",
          "2018-05-31T00:00:00.000000000",
          "2018-06-30T00:00:00.000000000",
          "2018-07-31T00:00:00.000000000",
          "2018-08-31T00:00:00.000000000",
          "2018-09-30T00:00:00.000000000",
          "2018-10-31T00:00:00.000000000",
          "2018-11-30T00:00:00.000000000",
          "2018-12-31T00:00:00.000000000",
          "2019-01-31T00:00:00.000000000",
          "2019-02-28T00:00:00.000000000",
          "2019-03-31T00:00:00.000000000",
          "2019-04-30T00:00:00.000000000",
          "2019-05-31T00:00:00.000000000",
          "2019-06-30T00:00:00.000000000",
          "2019-07-31T00:00:00.000000000",
          "2019-08-31T00:00:00.000000000",
          "2019-09-30T00:00:00.000000000",
          "2019-10-31T00:00:00.000000000",
          "2019-11-30T00:00:00.000000000",
          "2019-12-31T00:00:00.000000000",
          "2020-01-31T00:00:00.000000000",
          "2020-02-29T00:00:00.000000000",
          "2020-03-31T00:00:00.000000000",
          "2020-04-30T00:00:00.000000000",
          "2020-05-31T00:00:00.000000000",
          "2020-06-30T00:00:00.000000000",
          "2020-07-31T00:00:00.000000000",
          "2020-08-31T00:00:00.000000000",
          "2020-09-30T00:00:00.000000000",
          "2020-10-31T00:00:00.000000000",
          "2020-11-30T00:00:00.000000000",
          "2020-12-31T00:00:00.000000000",
          "2021-01-31T00:00:00.000000000",
          "2021-02-28T00:00:00.000000000",
          "2021-03-31T00:00:00.000000000",
          "2021-04-30T00:00:00.000000000",
          "2021-05-31T00:00:00.000000000",
          "2021-06-30T00:00:00.000000000",
          "2021-07-31T00:00:00.000000000",
          "2021-08-31T00:00:00.000000000",
          "2021-09-30T00:00:00.000000000",
          "2021-10-31T00:00:00.000000000",
          "2021-11-30T00:00:00.000000000",
          "2021-12-31T00:00:00.000000000",
          "2022-01-31T00:00:00.000000000",
          "2022-02-28T00:00:00.000000000",
          "2022-03-31T00:00:00.000000000",
          "2022-04-30T00:00:00.000000000",
          "2022-05-31T00:00:00.000000000",
          "2022-06-30T00:00:00.000000000",
          "2022-07-31T00:00:00.000000000",
          "2022-08-31T00:00:00.000000000",
          "2022-09-30T00:00:00.000000000",
          "2022-10-31T00:00:00.000000000",
          "2022-11-30T00:00:00.000000000",
          "2022-12-31T00:00:00.000000000",
          "2023-01-31T00:00:00.000000000",
          "2023-02-28T00:00:00.000000000",
          "2023-03-31T00:00:00.000000000",
          "2023-04-30T00:00:00.000000000",
          "2023-05-31T00:00:00.000000000",
          "2023-06-30T00:00:00.000000000",
          "2023-07-31T00:00:00.000000000",
          "2023-08-31T00:00:00.000000000",
          "2023-09-30T00:00:00.000000000",
          "2023-10-31T00:00:00.000000000",
          "2023-11-30T00:00:00.000000000",
          "2023-12-31T00:00:00.000000000",
          "2024-01-31T00:00:00.000000000",
          "2024-02-29T00:00:00.000000000",
          "2024-03-31T00:00:00.000000000",
          "2024-04-30T00:00:00.000000000",
          "2024-05-31T00:00:00.000000000",
          "2024-06-30T00:00:00.000000000",
          "2024-07-31T00:00:00.000000000",
          "2024-08-31T00:00:00.000000000",
          "2024-09-30T00:00:00.000000000",
          "2024-10-31T00:00:00.000000000",
          "2024-11-30T00:00:00.000000000",
          "2024-12-31T00:00:00.000000000",
          "2025-01-31T00:00:00.000000000",
          "2025-02-28T00:00:00.000000000",
          "2025-03-31T00:00:00.000000000",
          "2025-04-30T00:00:00.000000000",
          "2025-05-31T00:00:00.000000000",
          "2025-06-30T00:00:00.000000000",
          "2025-07-31T00:00:00.000000000"
         ],
         "y": {
          "bdata": "FC6BIG18IkJxvXqMn0IlQnsU3jGYvQFCexSdloenMUKuR00MDWkGQnE9bmk76vFBmtnznYlXMkIpXGkyr+oCQsP1+BnMmPhBj0IbHniQMkIUrvUgvdYBQlyPahWlYPNB7FGmUlMcIkJmZraz9c0iQj0KwyUJ0vxB16Nh9hG9LULhehb4Ez8BQs3MuNTrxfFBexR5mtJAMELXo9gzArUCQjMzm3JnIuxBUvh75ViJMUJxPU72UzIGQj0KD9J13PBBj8LKN1rwEUK4HrXNjPwrQj0KdyHSMwZCSGHOcHNpLEIzM1nO9T0FQuF6nI85oOlBCtcPVXLaLkLD9fq8qogDQjMzfydmQfNBmplEr5GYLUKF66/CuYgNQgrXp5hnJPBBmplBw4oHBULsUVNYC4YmQgrXG1OvGflBSGEjIMAaI0LNzEgJAgf8QUjheq0Mte1BFK7b2EjgJEJ7FMazXrEAQoXryWOjxu1BAIAlKXwpKEJxPUYn0Sf/QcP1WFgiHuxBj8KDTZBXCUIKV1rm98onQlyPBpgrb/dBKdx2qqA0KUJxPdLgf7wBQq5HWfGgoudBAAASNc0oLUIAAEa86h4EQgAAfIi8C/ZBpHBg1ThuLEI9Cv1CO6QFQgAAuPW3QvBB7FEsqSWpBkK4HnnWcD34QcP14BuQ5eFBFK4xMPLhA0IKl7TNyL0xQnE9om64N/5BmhlZaPYoKUIUrtlmsccLQj0Ka9CaLPNBzcyoS3iPL0JmZr6kzCkQQj0Km385jPhB16OhcGHKEUIpHDS4XrUxQtej7cVfrBBCChdh/xxLMkLXo4ejFB8TQuF6FGyAMfZBj0LpD6XTNEJ7FObVEkwTQuF6NCb3cPJBPUrlSM5VNEJSuISGVZUMQnsUtoDNSvxBMzPt6s+PDELskQ8VGiE2Qtej2uF3uAZC7BFUkNoUNEJxPTjS/TUNQrgeifFIuvdBroeJNnR2OUI9Cqzj/68RQs3MaAAan/1BpLDTGk7uNEIAAFpPzUUTQrgeVdR9CvpBSOFqnv0HC0LskdwhDr4zQlyPOC5CNhBCChfmPU1fMUKPwgt0BfoRQsP1xBl6CflBrsclNt87NkJ7FIu/F+gnQh+FqfV+LAZCj8I+V/ZnNkKPwtqZPPkVQo/Cbz+UHAFCCtfhr7yyEEJxfUn5iw82QjMzzo8jux1CrgdE+0SwM0I9Cl72vkUWQj0KlZQXBgJCcX1vTdedOUJ7FEhVE4EQQo/C1XBlMwdCj8IY7sf+NELNzNzEMMwXQpqZr+6PdwZC7FF8LOfoEkKPwiS6qY02QsN1Z0gobiVCCpdF91huMEKkcPI4SaEXQg==",
          "dtype": "f8"
         }
        },
        {
         "hovertemplate": "%{x|%Y-%m}<br>All Other: %{y:,.2f}<extra></extra>",
         "mode": "lines",
         "name": "All Other",
         "stackgroup": "one",
         "type": "scatter",
         "x": [
          "2015-03-31T00:00:00.000000000",
          "2015-04-30T00:00:00.000000000",
          "2015-05-31T00:00:00.000000000",
          "2015-06-30T00:00:00.000000000",
          "2015-07-31T00:00:00.000000000",
          "2015-08-31T00:00:00.000000000",
          "2015-09-30T00:00:00.000000000",
          "2015-10-31T00:00:00.000000000",
          "2015-11-30T00:00:00.000000000",
          "2015-12-31T00:00:00.000000000",
          "2016-01-31T00:00:00.000000000",
          "2016-02-29T00:00:00.000000000",
          "2016-03-31T00:00:00.000000000",
          "2016-04-30T00:00:00.000000000",
          "2016-05-31T00:00:00.000000000",
          "2016-06-30T00:00:00.000000000",
          "2016-07-31T00:00:00.000000000",
          "2016-08-31T00:00:00.000000000",
          "2016-09-30T00:00:00.000000000",
          "2016-10-31T00:00:00.000000000",
          "2016-11-30T00:00:00.000000000",
          "2016-12-31T00:00:00.000000000",
          "2017-01-31T00:00:00.000000000",
          "2017-02-28T00:00:00.000000000",
          "2017-03-31T00:00:00.000000000",
          "2017-04-30T00:00:00.000000000",
          "2017-05-31T00:00:00.000000000",
          "2017-06-30T00:00:00.000000000",
          "2017-07-31T00:00:00.000000000",
          "2017-08-31T00:00:00.000000000",
          "2017-09-30T00:00:00.000000000",
          "2017-10-31T00:00:00.000000000",
          "2017-11-30T00:00:00.000000000",
          "2017-12-31T00:00:00.000000000",
          "2018-01-31T00:00:00.000000000",
          "2018-02-28T00:00:00.000000000",
          "2018-03-31T00:00:00.000000000",
          "2018-04-30T00:00:00.000000000",
          "2018-05-31T00:00:00.000000000",
          "2018-06-30T00:00:00.000000000",
          "2018-07-31T00:00:00.000000000",
          "2018-08-31T00:00:00.000000000",
          "2018-09-30T00:00:00.000000000",
          "2018-10-31T00:00:00.000000000",
          "2018-11-30T00:00:00.000000000",
          "2018-12-31T00:00:00.000000000",
          "2019-01-31T00:00:00.000000000",
          "2019-02-28T00:00:00.000000000",
          "2019-03-31T00:00:00.000000000",
          "2019-04-30T00:00:00.000000000",
          "2019-05-31T00:00:00.000000000",
          "2019-06-30T00:00:00.000000000",
          "2019-07-31T00:00:00.000000000",
          "2019-08-31T00:00:00.000000000",
          "2019-09-30T00:00:00.000000000",
          "2019-10-31T00:00:00.000000000",
          "2019-11-30T00:00:00.000000000",
          "2019-12-31T00:00:00.000000000",
          "2020-01-31T00:00:00.000000000",
          "2020-02-29T00:00:00.000000000",
          "2020-03-31T00:00:00.000000000",
          "2020-04-30T00:00:00.000000000",
          "2020-05-31T00:00:00.000000000",
          "2020-06-30T00:00:00.000000000",
          "2020-07-31T00:00:00.000000000",
          "2020-08-31T00:00:00.000000000",
          "2020-09-30T00:00:00.000000000",
          "2020-10-31T00:00:00.000000000",
          "2020-11-30T00:00:00.000000000",
          "2020-12-31T00:00:00.000000000",
          "2021-01-31T00:00:00.000000000",
          "2021-02-28T00:00:00.000000000",
          "2021-03-31T00:00:00.000000000",
          "2021-04-30T00:00:00.000000000",
          "2021-05-31T00:00:00.000000000",
          "2021-06-30T00:00:00.000000000",
          "2021-07-31T00:00:00.000000000",
          "2021-08-31T00:00:00.000000000",
          "2021-09-30T00:00:00.000000000",
          "2021-10-31T00:00:00.000000000",
          "2021-11-30T00:00:00.000000000",
          "2021-12-31T00:00:00.000000000",
          "2022-01-31T00:00:00.000000000",
          "2022-02-28T00:00:00.000000000",
          "2022-03-31T00:00:00.000000000",
          "2022-04-30T00:00:00.000000000",
          "2022-05-31T00:00:00.000000000",
          "2022-06-30T00:00:00.000000000",
          "2022-07-31T00:00:00.000000000",
          "2022-08-31T00:00:00.000000000",
          "2022-09-30T00:00:00.000000000",
          "2022-10-31T00:00:00.000000000",
          "2022-11-30T00:00:00.000000000",
          "2022-12-31T00:00:00.000000000",
          "2023-01-31T00:00:00.000000000",
          "2023-02-28T00:00:00.000000000",
          "2023-03-31T00:00:00.000000000",
          "2023-04-30T00:00:00.000000000",
          "2023-05-31T00:00:00.000000000",
          "2023-06-30T00:00:00.000000000",
          "2023-07-31T00:00:00.000000000",
          "2023-08-31T00:00:00.000000000",
          "2023-09-30T00:00:00.000000000",
          "2023-10-31T00:00:00.000000000",
          "2023-11-30T00:00:00.000000000",
          "2023-12-31T00:00:00.000000000",
          "2024-01-31T00:00:00.000000000",
          "2024-02-29T00:00:00.000000000",
          "2024-03-31T00:00:00.000000000",
          "2024-04-30T00:00:00.000000000",
          "2024-05-31T00:00:00.000000000",
          "2024-06-30T00:00:00.000000000",
          "2024-07-31T00:00:00.000000000",
          "2024-08-31T00:00:00.000000000",
          "2024-09-30T00:00:00.000000000",
          "2024-10-31T00:00:00.000000000",
          "2024-11-30T00:00:00.000000000",
          "2024-12-31T00:00:00.000000000",
          "2025-01-31T00:00:00.000000000",
          "2025-02-28T00:00:00.000000000",
          "2025-03-31T00:00:00.000000000",
          "2025-04-30T00:00:00.000000000",
          "2025-05-31T00:00:00.000000000",
          "2025-06-30T00:00:00.000000000",
          "2025-07-31T00:00:00.000000000"
         ],
         "y": {
          "bdata": "exRMjpwIFkJ7FLoH55oPQjMzzeq2tw1C9ihE6xUSB0KkcFIUQUkQQs3MeGj3BglCXI+OKKZ3GkLXo6jboMoEQgrX+ZUF0QlCuR71LmO+9UFSuLy7nWgMQnA9uhQwlQ5CXI+4PAk1EUIAAKjFyKIKQnsUBrOA9wxCKVyCS6e1FkK4HptFOy8HQlyPHJ6q+gtCPQqH4iePG0IUrqOhUh8EQnE9aqF70wdCcD1YRs/HBEJ7FEwepMIVQlyPqnGHXwZCrkeJHqIxB0JSuAYky14RQuF6tKDpPw1CpHAhKX3VD0KkcK0jHsIJQjMzIqmtPxBCZ2ZwZyTbD0KPwoe5EysIQrgeNedMBgZCCdfjjaccs0H2KBZHGGYQQnE9iC5M2gZCmpmD1hK5BkJI4Wrxu3YTQqRwM/adMQRCfOtRVk7zsEGkcI8YdPkJQq5HxXf6SQtCmZnLFeO6HUIfhSe2E8UVQgrXBUxu2wVCSOHGTR3aAEJnZiSXjJQFQlyPHv8/twJCj8KFB8XhBkKF619UNWMRQgrXxyfYZAVCmZlm36ccEkIUrquZJKAJQgrX165cAxFCFK7ms5x9EEL2KJQWrG8FQoXriU3DDgZCPgoharuXCEKPwi0TwwkKQlK4KqBkeAVCmZm9SBwgBEIfhYkEAAMQQilci20ID/dBpHDFC8WuB0IK1zvH66UKQgAAHT83VRBCrkcOfl0VH0IzMx9ydp0FQs3MzAzwFgVC16PUXbXJDkKF6y+KRaQEQo/Cc+nvWANC7FGC43WvBkIpXHbK4/oRQsP1zgOvLAlCPAp3r6kEHMLNzJqfh+oHQlyPe9d0eBFCKVz5oLk2EEKuR011f3gFQnE9HLzW1gdCR+GSKt/LD0I+CnGI73UIQj4KcfHG7QJC9iiM13naCkIVruG9INoNQlK4ixCrVhBCCtc+XvkSGUIK1+8QETgJQj4K9KrtuRRCrkdjJsfOEUIAAKabLEALQs3MeuaVTApCPQqr2MseGELXozLDE5MLQhWuS4frEhNCMzNZjqbpCkLhegDj4ZkKQj0KlayUQRBCMzPqkXdnJkL2KMyq1XALQkjh8AU56hRCuB4UOx3FEkIVri83yp4OQpDC/RyobwhCPQpLW3NUF0KF6+eqfbsMQq5HMUu58wdC9ijcUu8RCEIAANQKUzsTQhWuH901Lw9CmhnTOGsQI0JwPeAjTZkNQvYo3cvKbRdCheufbtpRE0JI4cJ0olcRQnE9TFNeFRBCAADE2XNNBkJSuOeRDIUQQlK40nVieAVCHoV/F2v2BkK4HuazGmcXQnsUvFjG/g9C4XpB4g2zHUKuRw/NfWoNQg==",
          "dtype": "f8"
         }
        },
        {
         "hovertemplate": "%{x|%Y-%m}<br>Customs Duties: %{y:,.2f}<extra></extra>",
         "mode": "lines",
         "name": "Customs Duties",
         "stackgroup": "one",
         "type": "scatter",
         "x": [
          "2015-03-31T00:00:00.000000000",
          "2015-04-30T00:00:00.000000000",
          "2015-05-31T00:00:00.000000000",
          "2015-06-30T00:00:00.000000000",
          "2015-07-31T00:00:00.000000000",
          "2015-08-31T00:00:00.000000000",
          "2015-09-30T00:00:00.000000000",
          "2015-10-31T00:00:00.000000000",
          "2015-11-30T00:00:00.000000000",
          "2015-12-31T00:00:00.000000000",
          "2016-01-31T00:00:00.000000000",
          "2016-02-29T00:00:00.000000000",
          "2016-03-31T00:00:00.000000000",
          "2016-04-30T00:00:00.000000000",
          "2016-05-31T00:00:00.000000000",
          "2016-06-30T00:00:00.000000000",
          "2016-07-31T00:00:00.000000000",
          "2016-08-31T00:00:00.000000000",
          "2016-09-30T00:00:00.000000000",
          "2016-10-31T00:00:00.000000000",
          "2016-11-30T00:00:00.000000000",
          "2016-12-31T00:00:00.000000000",
          "2017-01-31T00:00:00.000000000",
          "2017-02-28T00:00:00.000000000",
          "2017-03-31T00:00:00.000000000",
          "2017-04-30T00:00:00.000000000",
          "2017-05-31T00:00:00.000000000",
          "2017-06-30T00:00:00.000000000",
          "2017-07-31T00:00:00.000000000",
          "2017-08-31T00:00:00.000000000",
          "2017-09-30T00:00:00.000000000",
          "2017-10-31T00:00:00.000000000",
          "2017-11-30T00:00:00.000000000",
          "2017-12-31T00:00:00.000000000",
          "2018-01-31T00:00:00.000000000",
          "2018-02-28T00:00:00.000000000",
          "2018-03-31T00:00:00.000000000",
          "2018-04-30T00:00:00.000000000",
          "2018-05-31T00:00:00.000000000",
          "2018-06-30T00:00:00.000000000",
          "2018-07-31T00:00:00.000000000",
          "2018-08-31T00:00:00.000000000",
          "2018-09-30T00:00:00.000000000",
          "2018-10-31T00:00:00.000000000",
          "2018-11-30T00:00:00.000000000",
          "2018-12-31T00:00:00.000000000",
          "2019-01-31T00:00:00.000000000",
          "2019-02-28T00:00:00.000000000",
          "2019-03-31T00:00:00.000000000",
          "2019-04-30T00:00:00.000000000",
          "2019-05-31T00:00:00.000000000",
          "2019-06-30T00:00:00.000000000",
          "2019-07-31T00:00:00.000000000",
          "2019-08-31T00:00:00.000000000",
          "2019-09-30T00:00:00.000000000",
          "2019-10-31T00:00:00.000000000",
          "2019-11-30T00:00:00.000000000",
          "2019-12-31T00:00:00.000000000",
          "2020-01-31T00:00:00.000000000",
          "2020-02-29T00:00:00.000000000",
          "2020-03-31T00:00:00.000000000",
          "2020-04-30T00:00:00.000000000",
          "2020-05-31T00:00:00.000000000",
          "2020-06-30T00:00:00.000000000",
          "2020-07-31T00:00:00.000000000",
          "2020-08-31T00:00:00.000000000",
          "2020-09-30T00:00:00.000000000",
          "2020-10-31T00:00:00.000000000",
          "2020-11-30T00:00:00.000000000",
          "2020-12-31T00:00:00.000000000",
          "2021-01-31T00:00:00.000000000",
          "2021-02-28T00:00:00.000000000",
          "2021-03-31T00:00:00.000000000",
          "2021-04-30T00:00:00.000000000",
          "2021-05-31T00:00:00.000000000",
          "2021-06-30T00:00:00.000000000",
          "2021-07-31T00:00:00.000000000",
          "2021-08-31T00:00:00.000000000",
          "2021-09-30T00:00:00.000000000",
          "2021-10-31T00:00:00.000000000",
          "2021-11-30T00:00:00.000000000",
          "2021-12-31T00:00:00.000000000",
          "2022-01-31T00:00:00.000000000",
          "2022-02-28T00:00:00.000000000",
          "2022-03-31T00:00:00.000000000",
          "2022-04-30T00:00:00.000000000",
          "2022-05-31T00:00:00.000000000",
          "2022-06-30T00:00:00.000000000",
          "2022-07-31T00:00:00.000000000",
          "2022-08-31T00:00:00.000000000",
          "2022-09-30T00:00:00.000000000",
          "2022-10-31T00:00:00.000000000",
          "2022-11-30T00:00:00.000000000",
          "2022-12-31T00:00:00.000000000",
          "2023-01-31T00:00:00.000000000",
          "2023-02-28T00:00:00.000000000",
          "2023-03-31T00:00:00.000000000",
          "2023-04-30T00:00:00.000000000",
          "2023-05-31T00:00:00.000000000",
          "2023-06-30T00:00:00.000000000",
          "2023-07-31T00:00:00.000000000",
          "2023-08-31T00:00:00.000000000",
          "2023-09-30T00:00:00.000000000",
          "2023-10-31T00:00:00.000000000",
          "2023-11-30T00:00:00.000000000",
          "2023-12-31T00:00:00.000000000",
          "2024-01-31T00:00:00.000000000",
          "2024-02-29T00:00:00.000000000",
          "2024-03-31T00:00:00.000000000",
          "2024-04-30T00:00:00.000000000",
          "2024-05-31T00:00:00.000000000",
          "2024-06-30T00:00:00.000000000",
          "2024-07-31T00:00:00.000000000",
          "2024-08-31T00:00:00.000000000",
          "2024-09-30T00:00:00.000000000",
          "2024-10-31T00:00:00.000000000",
          "2024-11-30T00:00:00.000000000",
          "2024-12-31T00:00:00.000000000",
          "2025-01-31T00:00:00.000000000",
          "2025-02-28T00:00:00.000000000",
          "2025-03-31T00:00:00.000000000",
          "2025-04-30T00:00:00.000000000",
          "2025-05-31T00:00:00.000000000",
          "2025-06-30T00:00:00.000000000",
          "2025-07-31T00:00:00.000000000"
         ],
         "y": {
          "bdata": "H4XzrS8H5UEfhRtM+2vqQcP1IEAsxeNB16NgFDEb50GambmI4b/rQTMza70YTeZBcT3aI2Se6UEAAPAB7H3qQRSud9MHfuZB4XpcrLaB5kFI4boHar7nQY/CHbmnOuRB7FFYg2h35kEzM0tV40zmQSlcr460V+NBCtdDKC5p5UE9Ck9CCcbnQUjheh08SuZBj8K1UVGo6EGkcF3I0MTnQXsUxr114uZB16N4P9QN5kHD9VDyPVvnQexRIK1EseNBUri+/6+/5EFSuP6CMhnnQTMzk3uPfeNB16O48eI+5kFxPVrC9ajoQa5HIWflUOdBrkdxKlnX6EEAACDU9xLpQSlcV4M5K+hBZmYO4Hfr50EfhUszRsLoQc3MVJTc8uRBFK4XcVda6EHNzCSc5r3pQR+Fo9I9g+dBAABIQwHx6kHNzNxZrK3vQRSuwwpZPPFBSOEylfnC8UEK15M2aLT1QUjhXhYVEPhBrkfFx3fV9kEK12thHdH4QXsUxhshL/RBZmaWi/gM9EG4Hu148YX0QQrXC9Tt/vJBFK5XhFSw9UEK178ECib5Qa5HeSqI7fpBUrgGDLS5+kEzM+fhQjT+QexRKAbkiPtBMzNPQuTU+UH2KJjw1BT7QR+FnxMd8PhBcT0OUEMg9EHXo+AC6o3xQQAAfIdznfBB4Xr09bHH80HXozypKPj1QZqZEXltVfhBw/V4COLL+UFcj44k7oX5QRSujzkzRvlBFK53SiEB+UH2KMDkL/r3QVK4ZqVjUvlBuB6turmz+UEpXOuQu8z8QdejSHql/flBXI9uoMOj/EFmZo67hIb9QZqZlXSIDf1BPQrvkN0a/0GkcPVIbDj/QT0KE7oXa/9BZmZWnrkUAEI9CkUnYogAQhSuB2a7xf9BPQpVhz4YAELsUQwEkNMBQlK4vvHNrv9B16PECO69AEJ7FDQg1NAAQnE9mq4CAwFCuB7HVvN1AUIfhXXOsy8AQilcP+485vxBZmbaln09+0FxPd4yl078QR+Fm2OmT/lB9ijkwp7f+EEK14sep+/4QT0K+36YCPlBexQmLqmJ+kH2KNCDsGf7QexRwFLkXflBhetVPTl5+kF7FOYWozr7Qc3MHL+g9fhBcT1iE0fS90EAANSwxQf6QR+Fn9XpJvlBUriyfQG/+EG4HoG5OWn6QXsUGrB38/ZB9ihQ5Qky+UGPwmmmRmr8QYXrKRKCXvxBCtf3wE7L/EEK11Na1pv9QXsUwngLePtBuB4tMDeF+0EK14/WNVv9QcP19Enel/xBzcyMxspLAEJcjy5e410OQsP1n8L2QBVCUrgs0ydKGUKuRxe+s3waQg==",
          "dtype": "f8"
         }
        },
        {
         "hovertemplate": "%{x|%Y-%m}<br>Self-Employment Contributions Act Taxes: %{y:,.2f}<extra></extra>",
         "mode": "lines",
         "name": "Self-Employment Contributions Act Taxes",
         "stackgroup": "one",
         "type": "scatter",
         "x": [
          "2015-03-31T00:00:00.000000000",
          "2015-04-30T00:00:00.000000000",
          "2015-05-31T00:00:00.000000000",
          "2015-06-30T00:00:00.000000000",
          "2015-07-31T00:00:00.000000000",
          "2015-08-31T00:00:00.000000000",
          "2015-09-30T00:00:00.000000000",
          "2015-10-31T00:00:00.000000000",
          "2015-11-30T00:00:00.000000000",
          "2015-12-31T00:00:00.000000000",
          "2016-01-31T00:00:00.000000000",
          "2016-02-29T00:00:00.000000000",
          "2016-03-31T00:00:00.000000000",
          "2016-04-30T00:00:00.000000000",
          "2016-05-31T00:00:00.000000000",
          "2016-06-30T00:00:00.000000000",
          "2016-07-31T00:00:00.000000000",
          "2016-08-31T00:00:00.000000000",
          "2016-09-30T00:00:00.000000000",
          "2016-10-31T00:00:00.000000000",
          "2016-11-30T00:00:00.000000000",
          "2016-12-31T00:00:00.000000000",
          "2017-01-31T00:00:00.000000000",
          "2017-02-28T00:00:00.000000000",
          "2017-03-31T00:00:00.000000000",
          "2017-04-30T00:00:00.000000000",
          "2017-05-31T00:00:00.000000000",
          "2017-06-30T00:00:00.000000000",
          "2017-07-31T00:00:00.000000000",
          "2017-08-31T00:00:00.000000000",
          "2017-09-30T00:00:00.000000000",
          "2017-10-31T00:00:00.000000000",
          "2017-11-30T00:00:00.000000000",
          "2017-12-31T00:00:00.000000000",
          "2018-01-31T00:00:00.000000000",
          "2018-02-28T00:00:00.000000000",
          "2018-03-31T00:00:00.000000000",
          "2018-04-30T00:00:00.000000000",
          "2018-05-31T00:00:00.000000000",
          "2018-06-30T00:00:00.000000000",
          "2018-07-31T00:00:00.000000000",
          "2018-08-31T00:00:00.000000000",
          "2018-09-30T00:00:00.000000000",
          "2018-10-31T00:00:00.000000000",
          "2018-11-30T00:00:00.000000000",
          "2018-12-31T00:00:00.000000000",
          "2019-01-31T00:00:00.000000000",
          "2019-02-28T00:00:00.000000000",
          "2019-03-31T00:00:00.000000000",
          "2019-04-30T00:00:00.000000000",
          "2019-05-31T00:00:00.000000000",
          "2019-06-30T00:00:00.000000000",
          "2019-07-31T00:00:00.000000000",
          "2019-08-31T00:00:00.000000000",
          "2019-09-30T00:00:00.000000000",
          "2019-10-31T00:00:00.000000000",
          "2019-11-30T00:00:00.000000000",
          "2019-12-31T00:00:00.000000000",
          "2020-01-31T00:00:00.000000000",
          "2020-02-29T00:00:00.000000000",
          "2020-03-31T00:00:00.000000000",
          "2020-04-30T00:00:00.000000000",
          "2020-05-31T00:00:00.000000000",
          "2020-06-30T00:00:00.000000000",
          "2020-07-31T00:00:00.000000000",
          "2020-08-31T00:00:00.000000000",
          "2020-09-30T00:00:00.000000000",
          "2020-10-31T00:00:00.000000000",
          "2020-11-30T00:00:00.000000000",
          "2020-12-31T00:00:00.000000000",
          "2021-01-31T00:00:00.000000000",
          "2021-02-28T00:00:00.000000000",
          "2021-03-31T00:00:00.000000000",
          "2021-04-30T00:00:00.000000000",
          "2021-05-31T00:00:00.000000000",
          "2021-06-30T00:00:00.000000000",
          "2021-07-31T00:00:00.000000000",
          "2021-08-31T00:00:00.000000000",
          "2021-09-30T00:00:00.000000000",
          "2021-10-31T00:00:00.000000000",
          "2021-11-30T00:00:00.000000000",
          "2021-12-31T00:00:00.000000000",
          "2022-01-31T00:00:00.000000000",
          "2022-02-28T00:00:00.000000000",
          "2022-03-31T00:00:00.000000000",
          "2022-04-30T00:00:00.000000000",
          "2022-05-31T00:00:00.000000000",
          "2022-06-30T00:00:00.000000000",
          "2022-07-31T00:00:00.000000000",
          "2022-08-31T00:00:00.000000000",
          "2022-09-30T00:00:00.000000000",
          "2022-10-31T00:00:00.000000000",
          "2022-11-30T00:00:00.000000000",
          "2022-12-31T00:00:00.000000000",
          "2023-01-31T00:00:00.000000000",
          "2023-02-28T00:00:00.000000000",
          "2023-03-31T00:00:00.000000000",
          "2023-04-30T00:00:00.000000000",
          "2023-05-31T00:00:00.000000000",
          "2023-06-30T00:00:00.000000000",
          "2023-07-31T00:00:00.000000000",
          "2023-08-31T00:00:00.000000000",
          "2023-09-30T00:00:00.000000000",
          "2023-10-31T00:00:00.000000000",
          "2023-11-30T00:00:00.000000000",
          "2023-12-31T00:00:00.000000000",
          "2024-01-31T00:00:00.000000000",
          "2024-02-29T00:00:00.000000000",
          "2024-03-31T00:00:00.000000000",
          "2024-04-30T00:00:00.000000000",
          "2024-05-31T00:00:00.000000000",
          "2024-06-30T00:00:00.000000000",
          "2024-07-31T00:00:00.000000000",
          "2024-08-31T00:00:00.000000000",
          "2024-09-30T00:00:00.000000000",
          "2024-10-31T00:00:00.000000000",
          "2024-11-30T00:00:00.000000000",
          "2024-12-31T00:00:00.000000000",
          "2025-01-31T00:00:00.000000000",
          "2025-02-28T00:00:00.000000000",
          "2025-03-31T00:00:00.000000000",
          "2025-04-30T00:00:00.000000000",
          "2025-05-31T00:00:00.000000000",
          "2025-06-30T00:00:00.000000000",
          "2025-07-31T00:00:00.000000000"
         ],
         "y": {
          "bdata": "AAAAsLsh3UEAAACgu3cYQgAAAFBVytJBAAAAzofZAUIAAABAeqvMQQAAAMAhJ9BBAAAAlhjuAkIAAABA6tq4QQAAAIAjrahBAAAAwEHIx0EAAABqou4DQgAAAKC2jcFBAAAAwHuJ0kEAAADcfVwXQgAAAEDl8NFBAAAA6IwVAUIAAABAX/TLQQAAAKDS289BAAAAzqvNAkIAAAAAqMu4QQAAAIAjrahBAAAAAHuax0EAAADC1tUDQgAAAMCExsJBAAAAYGzY3kEAAABvSfcYQgAAABAlNdNBAAAAWPJ/AkIAAAAAU1PNQQAAADBaYNBBAAAAZBidA0IAAABADs+5QQAAAIBHoalBAAAAwGW8yEEAAADUUNYDQgAAAAC+mMJBAAAAQJVi3UEAAAADZLcYQgAAADC9/9JBAAAA2pI/AkIAAABgLS3NQQAAAIDxkdBBAAAAOqzEA0IAAADAku25QQAAAADMv6lBAAAAYIviyEEAAABclp4EQgAAAADZT8NBAAAA4NU/3kEAAAC3TLAZQgAAAFB5vtNBAAAARor5AkIAAABgWl7OQQAAAKCtUNFBAAAAKE17BEIAAABAMsO6QQAAAADndqpBAAAAIG3HyUEAAADcLDcFQgAAAIBv6MNBAAAAkGs/30EAAAAZeZkaQgAAAHA1fdRBAAAABEcABEIAAACgwGHPQQAAAIAew9FBAAAApKKUBUIAAADA7E+8QQAAAAAmIqxBAAAAgIZMy0EAAACC3K4FQgAAAEA/U8RBAAAAMKPf30EAAAAzqwYbQgAAACCwxdRBAAAAfBzvA0IAAADAaqbPQQAAABD4A9JBAAAANrxqBkIAAAAAU1O9QQAAAIDONK1BAAAAwOxPzEEAAADWBYUHQgAAAOCjJMZBAAAAAKPh4UEAAAAdOG8dQgAAAFDlmtZBAAAABrTGBUIAAADQmj3RQQAAAEAt2dNBAAAAlsyyB0IAAAAAicG+QQAAAACAhK5BAAAAgOnrzUEAAAA06LEIQgAAAIDJSsZBAAAAQF/020EAAAD/xIIdQgAAAHCGotZBAAAAOMaRBUIAAADwevDSQQAAAEBshNVBexQA1DoJCkIAAADg3eXAQQAAAEC4v7BBAAAAIA570EEAAAACOYYLQgAAACBtx8lBAAAAuB1/5EEAAIDQ4SUhQgAAABAzXNpBAAAA6NCqCUIAAACwXNXTQQAAAPABhNZBAAAA7GJPC0IAAABgfbvBQQAAAMBXlbFBAAAA8DtF0UEAAADAyFsLQgAAAIBHoclBAAAAUJR15EEAAICQnxYhQgAAANDwTNpBAAAAugicCUIAAADQBhrUQQ==",
          "dtype": "f8"
         }
        },
        {
         "hovertemplate": "%{x|%Y-%m}<br>Deposit of Earnings, Federal Reserve System: %{y:,.2f}<extra></extra>",
         "mode": "lines",
         "name": "Deposit of Earnings, Federal Reserve System",
         "stackgroup": "one",
         "type": "scatter",
         "x": [
          "2015-03-31T00:00:00.000000000",
          "2015-04-30T00:00:00.000000000",
          "2015-05-31T00:00:00.000000000",
          "2015-06-30T00:00:00.000000000",
          "2015-07-31T00:00:00.000000000",
          "2015-08-31T00:00:00.000000000",
          "2015-09-30T00:00:00.000000000",
          "2015-10-31T00:00:00.000000000",
          "2015-11-30T00:00:00.000000000",
          "2015-12-31T00:00:00.000000000",
          "2016-01-31T00:00:00.000000000",
          "2016-02-29T00:00:00.000000000",
          "2016-03-31T00:00:00.000000000",
          "2016-04-30T00:00:00.000000000",
          "2016-05-31T00:00:00.000000000",
          "2016-06-30T00:00:00.000000000",
          "2016-07-31T00:00:00.000000000",
          "2016-08-31T00:00:00.000000000",
          "2016-09-30T00:00:00.000000000",
          "2016-10-31T00:00:00.000000000",
          "2016-11-30T00:00:00.000000000",
          "2016-12-31T00:00:00.000000000",
          "2017-01-31T00:00:00.000000000",
          "2017-02-28T00:00:00.000000000",
          "2017-03-31T00:00:00.000000000",
          "2017-04-30T00:00:00.000000000",
          "2017-05-31T00:00:00.000000000",
          "2017-06-30T00:00:00.000000000",
          "2017-07-31T00:00:00.000000000",
          "2017-08-31T00:00:00.000000000",
          "2017-09-30T00:00:00.000000000",
          "2017-10-31T00:00:00.000000000",
          "2017-11-30T00:00:00.000000000",
          "2017-12-31T00:00:00.000000000",
          "2018-01-31T00:00:00.000000000",
          "2018-02-28T00:00:00.000000000",
          "2018-03-31T00:00:00.000000000",
          "2018-04-30T00:00:00.000000000",
          "2018-05-31T00:00:00.000000000",
          "2018-06-30T00:00:00.000000000",
          "2018-07-31T00:00:00.000000000",
          "2018-08-31T00:00:00.000000000",
          "2018-09-30T00:00:00.000000000",
          "2018-10-31T00:00:00.000000000",
          "2018-11-30T00:00:00.000000000",
          "2018-12-31T00:00:00.000000000",
          "2019-01-31T00:00:00.000000000",
          "2019-02-28T00:00:00.000000000",
          "2019-03-31T00:00:00.000000000",
          "2019-04-30T00:00:00.000000000",
          "2019-05-31T00:00:00.000000000",
          "2019-06-30T00:00:00.000000000",
          "2019-07-31T00:00:00.000000000",
          "2019-08-31T00:00:00.000000000",
          "2019-09-30T00:00:00.000000000",
          "2019-10-31T00:00:00.000000000",
          "2019-11-30T00:00:00.000000000",
          "2019-12-31T00:00:00.000000000",
          "2020-01-31T00:00:00.000000000",
          "2020-02-29T00:00:00.000000000",
          "2020-03-31T00:00:00.000000000",
          "2020-04-30T00:00:00.000000000",
          "2020-05-31T00:00:00.000000000",
          "2020-06-30T00:00:00.000000000",
          "2020-07-31T00:00:00.000000000",
          "2020-08-31T00:00:00.000000000",
          "2020-09-30T00:00:00.000000000",
          "2020-10-31T00:00:00.000000000",
          "2020-11-30T00:00:00.000000000",
          "2020-12-31T00:00:00.000000000",
          "2021-01-31T00:00:00.000000000",
          "2021-02-28T00:00:00.000000000",
          "2021-03-31T00:00:00.000000000",
          "2021-04-30T00:00:00.000000000",
          "2021-05-31T00:00:00.000000000",
          "2021-06-30T00:00:00.000000000",
          "2021-07-31T00:00:00.000000000",
          "2021-08-31T00:00:00.000000000",
          "2021-09-30T00:00:00.000000000",
          "2021-10-31T00:00:00.000000000",
          "2021-11-30T00:00:00.000000000",
          "2021-12-31T00:00:00.000000000",
          "2022-01-31T00:00:00.000000000",
          "2022-02-28T00:00:00.000000000",
          "2022-03-31T00:00:00.000000000",
          "2022-04-30T00:00:00.000000000",
          "2022-05-31T00:00:00.000000000",
          "2022-06-30T00:00:00.000000000",
          "2022-07-31T00:00:00.000000000",
          "2022-08-31T00:00:00.000000000",
          "2022-09-30T00:00:00.000000000",
          "2022-10-31T00:00:00.000000000",
          "2022-11-30T00:00:00.000000000",
          "2022-12-31T00:00:00.000000000",
          "2023-01-31T00:00:00.000000000",
          "2023-02-28T00:00:00.000000000",
          "2023-03-31T00:00:00.000000000",
          "2023-04-30T00:00:00.000000000",
          "2023-05-31T00:00:00.000000000",
          "2023-06-30T00:00:00.000000000",
          "2023-07-31T00:00:00.000000000",
          "2023-08-31T00:00:00.000000000",
          "2023-09-30T00:00:00.000000000",
          "2023-10-31T00:00:00.000000000",
          "2023-11-30T00:00:00.000000000",
          "2023-12-31T00:00:00.000000000",
          "2024-01-31T00:00:00.000000000",
          "2024-02-29T00:00:00.000000000",
          "2024-03-31T00:00:00.000000000",
          "2024-04-30T00:00:00.000000000",
          "2024-05-31T00:00:00.000000000",
          "2024-06-30T00:00:00.000000000",
          "2024-07-31T00:00:00.000000000",
          "2024-08-31T00:00:00.000000000",
          "2024-09-30T00:00:00.000000000",
          "2024-10-31T00:00:00.000000000",
          "2024-11-30T00:00:00.000000000",
          "2024-12-31T00:00:00.000000000",
          "2025-01-31T00:00:00.000000000",
          "2025-02-28T00:00:00.000000000",
          "2025-03-31T00:00:00.000000000",
          "2025-04-30T00:00:00.000000000",
          "2025-05-31T00:00:00.000000000",
          "2025-06-30T00:00:00.000000000",
          "2025-07-31T00:00:00.000000000"
         ],
         "y": {
          "bdata": "4Xpg1G/e+EEUrteSExUBQkjhwmwvef5BKVxzglPh/UH2KIpx9mcBQhSuj5xXhv9BXI/ymRNPAkIzM1eZK+b7QcP1BF5y1/hBj8LsD7RCG0JI4cowqRX8QeF6XIHXu/pBpHBdZgvNAUIK1/ug5wL8QR+Fr2cKcPxBAABoQe8EAkK4HskTbeT5QfYoHPlDSAJCXI+qga/D90EpXGe3dmP3QaRwLRarD/tBzcx43SoC9kH2KFCWsx76QeF6/FyaBPRBH4WP7fciAkJSuAZLQYX4QeF6TM28Gv9B7FGkEB/i9kG4Hhk9Wyv4QexRQMh+HfpBH4WvQv4n80Fcjx4BK5fzQZqZDa6J+PxBSOFKhbfo8kGkcPV3Aef6QUjhxktshPxBAABohXW29kGuRynXHLHzQcP15HZ6+PRBcT3OUrPE9EEUrmdF6HHxQXsUvuKv9/VBw/Ws7y4e8UFxPeZj0OrwQVK4xn6yr/BB16PUoQpk8EHNzKC41hTyQZqZacd8jeVBUriuZlpW70G4Hr2kZFPuQWZmnkt11PVBzcy0UUSp8UHsUZRU2mHzQa5H6Qz9/OpBw/WAWhg97UFmZk4iHHzzQRSur1Kd1/BBw/Vwdo2Q80HD9TCadp71QVK4Bu1XzO5BH4UXGTGb9kGF642w86ICQnE9qmWBQ/xBexRiKIlh+EF7FMK3/Mr+QQrX1833SABCKVwlWHsdAkKkcGFH/6z7QT0KKyWVvvtBzcx0hQV2/kHNzKBG9Q3zQVK4BsSfDvJB9ii0Nli6/kH2KCjHN/z6QfYorpFJIwFC7FHy+CyoBEI9Cr1fNrMBQo/Ca3RNYwNCAACeUy8hBUKkcIkJWYX5QfYoLAn7mP1BUrj2LNYyBkJxPeTDDukCQgAAdn4r6QNCH4U3ZfByCELNzMaisiwDQvYoiGQ86wVCPQobIc5BA0KuR92avg/2QcP1yE+LofhBuB6lgfuMz0EUrkfIB4maQa5H4TaaZKZBmpmZn+5iokEzMzObcf1rQXE9CvkT8IJBpHA9zlLbcUEfhesx98h7QfYoXI+iu+FAAAAAAAAAAACF61GE5dl3QQAAAAAAAAAAAAAAAAAAAAAAAABciNefQY/C9WBPo7BBrkfh+cAan0FmZmbmhPOcQQAAAAAAAAAA9ijcpnPkoUEpXI9P3Za0Qa5HASVd/8FB4XqU4FPIt0EAAMCAhBy5QaRwPe0VZrFBmpkZOPterkFmZqYN8ZexQR+FKxPkyrJBheuRs8rjs0GamVlUw1GzQSlcT7x5QclBmpmZ6lrjv0E9ChfTHvvBQaRw/ea/E7pB9iicqTx/u0HsUfgj3jq8QQ==",
          "dtype": "f8"
         }
        },
        {
         "hovertemplate": "%{x|%Y-%m}<br>Deposits by States: %{y:,.2f}<extra></extra>",
         "mode": "lines",
         "name": "Deposits by States",
         "stackgroup": "one",
         "type": "scatter",
         "x": [
          "2015-03-31T00:00:00.000000000",
          "2015-04-30T00:00:00.000000000",
          "2015-05-31T00:00:00.000000000",
          "2015-06-30T00:00:00.000000000",
          "2015-07-31T00:00:00.000000000",
          "2015-08-31T00:00:00.000000000",
          "2015-09-30T00:00:00.000000000",
          "2015-10-31T00:00:00.000000000",
          "2015-11-30T00:00:00.000000000",
          "2015-12-31T00:00:00.000000000",
          "2016-01-31T00:00:00.000000000",
          "2016-02-29T00:00:00.000000000",
          "2016-03-31T00:00:00.000000000",
          "2016-04-30T00:00:00.000000000",
          "2016-05-31T00:00:00.000000000",
          "2016-06-30T00:00:00.000000000",
          "2016-07-31T00:00:00.000000000",
          "2016-08-31T00:00:00.000000000",
          "2016-09-30T00:00:00.000000000",
          "2016-10-31T00:00:00.000000000",
          "2016-11-30T00:00:00.000000000",
          "2016-12-31T00:00:00.000000000",
          "2017-01-31T00:00:00.000000000",
          "2017-02-28T00:00:00.000000000",
          "2017-03-31T00:00:00.000000000",
          "2017-04-30T00:00:00.000000000",
          "2017-05-31T00:00:00.000000000",
          "2017-06-30T00:00:00.000000000",
          "2017-07-31T00:00:00.000000000",
          "2017-08-31T00:00:00.000000000",
          "2017-09-30T00:00:00.000000000",
          "2017-10-31T00:00:00.000000000",
          "2017-11-30T00:00:00.000000000",
          "2017-12-31T00:00:00.000000000",
          "2018-01-31T00:00:00.000000000",
          "2018-02-28T00:00:00.000000000",
          "2018-03-31T00:00:00.000000000",
          "2018-04-30T00:00:00.000000000",
          "2018-05-31T00:00:00.000000000",
          "2018-06-30T00:00:00.000000000",
          "2018-07-31T00:00:00.000000000",
          "2018-08-31T00:00:00.000000000",
          "2018-09-30T00:00:00.000000000",
          "2018-10-31T00:00:00.000000000",
          "2018-11-30T00:00:00.000000000",
          "2018-12-31T00:00:00.000000000",
          "2019-01-31T00:00:00.000000000",
          "2019-02-28T00:00:00.000000000",
          "2019-03-31T00:00:00.000000000",
          "2019-04-30T00:00:00.000000000",
          "2019-05-31T00:00:00.000000000",
          "2019-06-30T00:00:00.000000000",
          "2019-07-31T00:00:00.000000000",
          "2019-08-31T00:00:00.000000000",
          "2019-09-30T00:00:00.000000000",
          "2019-10-31T00:00:00.000000000",
          "2019-11-30T00:00:00.000000000",
          "2019-12-31T00:00:00.000000000",
          "2020-01-31T00:00:00.000000000",
          "2020-02-29T00:00:00.000000000",
          "2020-03-31T00:00:00.000000000",
          "2020-04-30T00:00:00.000000000",
          "2020-05-31T00:00:00.000000000",
          "2020-06-30T00:00:00.000000000",
          "2020-07-31T00:00:00.000000000",
          "2020-08-31T00:00:00.000000000",
          "2020-09-30T00:00:00.000000000",
          "2020-10-31T00:00:00.000000000",
          "2020-11-30T00:00:00.000000000",
          "2020-12-31T00:00:00.000000000",
          "2021-01-31T00:00:00.000000000",
          "2021-02-28T00:00:00.000000000",
          "2021-03-31T00:00:00.000000000",
          "2021-04-30T00:00:00.000000000",
          "2021-05-31T00:00:00.000000000",
          "2021-06-30T00:00:00.000000000",
          "2021-07-31T00:00:00.000000000",
          "2021-08-31T00:00:00.000000000",
          "2021-09-30T00:00:00.000000000",
          "2021-10-31T00:00:00.000000000",
          "2021-11-30T00:00:00.000000000",
          "2021-12-31T00:00:00.000000000",
          "2022-01-31T00:00:00.000000000",
          "2022-02-28T00:00:00.000000000",
          "2022-03-31T00:00:00.000000000",
          "2022-04-30T00:00:00.000000000",
          "2022-05-31T00:00:00.000000000",
          "2022-06-30T00:00:00.000000000",
          "2022-07-31T00:00:00.000000000",
          "2022-08-31T00:00:00.000000000",
          "2022-09-30T00:00:00.000000000",
          "2022-10-31T00:00:00.000000000",
          "2022-11-30T00:00:00.000000000",
          "2022-12-31T00:00:00.000000000",
          "2023-01-31T00:00:00.000000000",
          "2023-02-28T00:00:00.000000000",
          "2023-03-31T00:00:00.000000000",
          "2023-04-30T00:00:00.000000000",
          "2023-05-31T00:00:00.000000000",
          "2023-06-30T00:00:00.000000000",
          "2023-07-31T00:00:00.000000000",
          "2023-08-31T00:00:00.000000000",
          "2023-09-30T00:00:00.000000000",
          "2023-10-31T00:00:00.000000000",
          "2023-11-30T00:00:00.000000000",
          "2023-12-31T00:00:00.000000000",
          "2024-01-31T00:00:00.000000000",
          "2024-02-29T00:00:00.000000000",
          "2024-03-31T00:00:00.000000000",
          "2024-04-30T00:00:00.000000000",
          "2024-05-31T00:00:00.000000000",
          "2024-06-30T00:00:00.000000000",
          "2024-07-31T00:00:00.000000000",
          "2024-08-31T00:00:00.000000000",
          "2024-09-30T00:00:00.000000000",
          "2024-10-31T00:00:00.000000000",
          "2024-11-30T00:00:00.000000000",
          "2024-12-31T00:00:00.000000000",
          "2025-01-31T00:00:00.000000000",
          "2025-02-28T00:00:00.000000000",
          "2025-03-31T00:00:00.000000000",
          "2025-04-30T00:00:00.000000000",
          "2025-05-31T00:00:00.000000000",
          "2025-06-30T00:00:00.000000000",
          "2025-07-31T00:00:00.000000000"
         ],
         "y": {
          "bdata": "9igcHCfSt0EAAPDIxHn3Qc3M7iRhGwxC4XoUdoUGtkGuR6nNw5zjQc3MHO11HvRBzczMgZoypEEzM6OqbgzcQTMzW2CzdfBBH4WrqSG8sUHNzHzVs3HTQTMzU2KHlOxB4XqUU15XuUG4HhUA7o7wQaRw4+GMswxCFK4HJrI6skHheoQb46rWQa5HCUC6+/ZBmpkZ1p8PvEE9Cqfyc7neQWZmHsLYCelBPQpXhiQks0EfhQvWWVbbQUjhmlpcnONBCtejWSFVtUHheuxHNkDvQQrXn4zuvAtC7FG4NbTTsUEpXI/mMNTmQa5HsaelG+9BH4WrM2VftUGkcPXyYJ7gQTMzA/pwQOZBAAAAY2CQrUFI4cr68AbcQUjhGleXQuNBuB4F8aQls0G4HvFiut32QTMzDVdiHgdCmplZPdvLsEGPwpVFsXDnQQAA6CxnF+xBmpkZZR1pqkH2KCxHd+bgQexRAP0ZdeNBrkdhio2prUGkcA0m/VncQaRwvf7jLOFBXI/CCBFZsUEAABjnF/H3QexRpFMQZgVCj8J1Q/RqrEFcj4LLzunmQQAAwC/isupBrkdhndD5pUFxPapF6jvfQY/C1RHOHuNBSOF6oGhUq0FI4RrD+rTbQfYo5C+qGuBBMzMzDnpUsEEUrhcft9j0QQAAztIanwVCPQp3X1cQ2kHNzMSa4abnQQAA8AIhCOpB16Pgglaf3kEUrsfeYW3ZQbgevajak+lBrkdJ9NwZ60EAALCsGIjZQYXrWdcEpuVBzcy86XdX0EEK1xP/ecD4QTMzR7bkDAdCMzPD9PzQ00H2KGzwVXzwQSlcTwjWSfRBZmaKPnT/9EHsUThha0TgQa5H6+YDgQRCMzOzR5VP1kFxPZLDytzkQeF61EI1U+ZBheuRmqyQ70EUrqfWHHzvQaRwpSW8ORBCPQoHVrPt10GPwt1MNyrkQY/CqUp7rf5BMzNzbnZ6tkEzM+vowovlQbgebQRyMeZBhetRHhEVvEEK1zMQicjtQWZmnqg/feJBKVxPzy3FvkF7FCJBNTfzQZqZaSFnyQpCmpmZTCejy0E9Cq8buFDoQYXrOQ+Qp+1BuB4FkjZUq0EAAOC5dz3kQZqZ8VCPW+RBPQpXQR5zs0EfhbuObzDgQR+F222P/OFBexQuOZhSskF7FNIh33X8QcP1uBQe0AhCzcwM4K8Jv0EK1wvoMT7rQVyPMmepOOxBCtcjTR0/yUEK10M/05jiQWZmDvFuY+NBw/UoMo9Ls0H2KKw/Eq/gQXsUZkez0OBBSOE64TQ0sEFxPZoxfM/5QeF6YMvIMQlCKVzDZtPO90EK14uPe97rQQ==",
          "dtype": "f8"
         }
        }
       ],
       "layout": {
        "hovermode": "x unified",
        "legend": {
         "title": {
          "text": "Category"
         }
        },
        "template": {
         "data": {
          "bar": [
           {
            "error_x": {
             "color": "#2a3f5f"
            },
            "error_y": {
             "color": "#2a3f5f"
            },
            "marker": {
             "line": {
              "color": "white",
              "width": 0.5
             },
             "pattern": {
              "fillmode": "overlay",
              "size": 10,
              "solidity": 0.2
             }
            },
            "type": "bar"
           }
          ],
          "barpolar": [
           {
            "marker": {
             "line": {
              "color": "white",
              "width": 0.5
             },
             "pattern": {
              "fillmode": "overlay",
              "size": 10,
              "solidity": 0.2
             }
            },
            "type": "barpolar"
           }
          ],
          "carpet": [
           {
            "aaxis": {
             "endlinecolor": "#2a3f5f",
             "gridcolor": "#C8D4E3",
             "linecolor": "#C8D4E3",
             "minorgridcolor": "#C8D4E3",
             "startlinecolor": "#2a3f5f"
            },
            "baxis": {
             "endlinecolor": "#2a3f5f",
             "gridcolor": "#C8D4E3",
             "linecolor": "#C8D4E3",
             "minorgridcolor": "#C8D4E3",
             "startlinecolor": "#2a3f5f"
            },
            "type": "carpet"
           }
          ],
          "choropleth": [
           {
            "colorbar": {
             "outlinewidth": 0,
             "ticks": ""
            },
            "type": "choropleth"
           }
          ],
          "contour": [
           {
            "colorbar": {
             "outlinewidth": 0,
             "ticks": ""
            },
            "colorscale": [
             [
              0,
              "#0d0887"
             ],
             [
              0.1111111111111111,
              "#46039f"
             ],
             [
              0.2222222222222222,
              "#7201a8"
             ],
             [
              0.3333333333333333,
              "#9c179e"
             ],
             [
              0.4444444444444444,
              "#bd3786"
             ],
             [
              0.5555555555555556,
              "#d8576b"
             ],
             [
              0.6666666666666666,
              "#ed7953"
             ],
             [
              0.7777777777777778,
              "#fb9f3a"
             ],
             [
              0.8888888888888888,
              "#fdca26"
             ],
             [
              1,
              "#f0f921"
             ]
            ],
            "type": "contour"
           }
          ],
          "contourcarpet": [
           {
            "colorbar": {
             "outlinewidth": 0,
             "ticks": ""
            },
            "type": "contourcarpet"
           }
          ],
          "heatmap": [
           {
            "colorbar": {
             "outlinewidth": 0,
             "ticks": ""
            },
            "colorscale": [
             [
              0,
              "#0d0887"
             ],
             [
              0.1111111111111111,
              "#46039f"
             ],
             [
              0.2222222222222222,
              "#7201a8"
             ],
             [
              0.3333333333333333,
              "#9c179e"
             ],
             [
              0.4444444444444444,
              "#bd3786"
             ],
             [
              0.5555555555555556,
              "#d8576b"
             ],
             [
              0.6666666666666666,
              "#ed7953"
             ],
             [
              0.7777777777777778,
              "#fb9f3a"
             ],
             [
              0.8888888888888888,
              "#fdca26"
             ],
             [
              1,
              "#f0f921"
             ]
            ],
            "type": "heatmap"
           }
          ],
          "histogram": [
           {
            "marker": {
             "pattern": {
              "fillmode": "overlay",
              "size": 10,
              "solidity": 0.2
             }
            },
            "type": "histogram"
           }
          ],
          "histogram2d": [
           {
            "colorbar": {
             "outlinewidth": 0,
             "ticks": ""
            },
            "colorscale": [
             [
              0,
              "#0d0887"
             ],
             [
              0.1111111111111111,
              "#46039f"
             ],
             [
              0.2222222222222222,
              "#7201a8"
             ],
             [
              0.3333333333333333,
              "#9c179e"
             ],
             [
              0.4444444444444444,
              "#bd3786"
             ],
             [
              0.5555555555555556,
              "#d8576b"
             ],
             [
              0.6666666666666666,
              "#ed7953"
             ],
             [
              0.7777777777777778,
              "#fb9f3a"
             ],
             [
              0.8888888888888888,
              "#fdca26"
             ],
             [
              1,
              "#f0f921"
             ]
            ],
            "type": "histogram2d"
           }
          ],
          "histogram2dcontour": [
           {
            "colorbar": {
             "outlinewidth": 0,
             "ticks": ""
            },
            "colorscale": [
             [
              0,
              "#0d0887"
             ],
             [
              0.1111111111111111,
              "#46039f"
             ],
             [
              0.2222222222222222,
              "#7201a8"
             ],
             [
              0.3333333333333333,
              "#9c179e"
             ],
             [
              0.4444444444444444,
              "#bd3786"
             ],
             [
              0.5555555555555556,
              "#d8576b"
             ],
             [
              0.6666666666666666,
              "#ed7953"
             ],
             [
              0.7777777777777778,
              "#fb9f3a"
             ],
             [
              0.8888888888888888,
              "#fdca26"
             ],
             [
              1,
              "#f0f921"
             ]
            ],
            "type": "histogram2dcontour"
           }
          ],
          "mesh3d": [
           {
            "colorbar": {
             "outlinewidth": 0,
             "ticks": ""
            },
            "type": "mesh3d"
           }
          ],
          "parcoords": [
           {
            "line": {
             "colorbar": {
              "outlinewidth": 0,
              "ticks": ""
             }
            },
            "type": "parcoords"
           }
          ],
          "pie": [
           {
            "automargin": true,
            "type": "pie"
           }
          ],
          "scatter": [
           {
            "fillpattern": {
             "fillmode": "overlay",
             "size": 10,
             "solidity": 0.2
            },
            "type": "scatter"
           }
          ],
          "scatter3d": [
           {
            "line": {
             "colorbar": {
              "outlinewidth": 0,
              "ticks": ""
             }
            },
            "marker": {
             "colorbar": {
              "outlinewidth": 0,
              "ticks": ""
             }
            },
            "type": "scatter3d"
           }
          ],
          "scattercarpet": [
           {
            "marker": {
             "colorbar": {
              "outlinewidth": 0,
              "ticks": ""
             }
            },
            "type": "scattercarpet"
           }
          ],
          "scattergeo": [
           {
            "marker": {
             "colorbar": {
              "outlinewidth": 0,
              "ticks": ""
             }
            },
            "type": "scattergeo"
           }
          ],
          "scattergl": [
           {
            "marker": {
             "colorbar": {
              "outlinewidth": 0,
              "ticks": ""
             }
            },
            "type": "scattergl"
           }
          ],
          "scattermap": [
           {
            "marker": {
             "colorbar": {
              "outlinewidth": 0,
              "ticks": ""
             }
            },
            "type": "scattermap"
           }
          ],
          "scattermapbox": [
           {
            "marker": {
             "colorbar": {
              "outlinewidth": 0,
              "ticks": ""
             }
            },
            "type": "scattermapbox"
           }
          ],
          "scatterpolar": [
           {
            "marker": {
             "colorbar": {
              "outlinewidth": 0,
              "ticks": ""
             }
            },
            "type": "scatterpolar"
           }
          ],
          "scatterpolargl": [
           {
            "marker": {
             "colorbar": {
              "outlinewidth": 0,
              "ticks": ""
             }
            },
            "type": "scatterpolargl"
           }
          ],
          "scatterternary": [
           {
            "marker": {
             "colorbar": {
              "outlinewidth": 0,
              "ticks": ""
             }
            },
            "type": "scatterternary"
           }
          ],
          "surface": [
           {
            "colorbar": {
             "outlinewidth": 0,
             "ticks": ""
            },
            "colorscale": [
             [
              0,
              "#0d0887"
             ],
             [
              0.1111111111111111,
              "#46039f"
             ],
             [
              0.2222222222222222,
              "#7201a8"
             ],
             [
              0.3333333333333333,
              "#9c179e"
             ],
             [
              0.4444444444444444,
              "#bd3786"
             ],
             [
              0.5555555555555556,
              "#d8576b"
             ],
             [
              0.6666666666666666,
              "#ed7953"
             ],
             [
              0.7777777777777778,
              "#fb9f3a"
             ],
             [
              0.8888888888888888,
              "#fdca26"
             ],
             [
              1,
              "#f0f921"
             ]
            ],
            "type": "surface"
           }
          ],
          "table": [
           {
            "cells": {
             "fill": {
              "color": "#EBF0F8"
             },
             "line": {
              "color": "white"
             }
            },
            "header": {
             "fill": {
              "color": "#C8D4E3"
             },
             "line": {
              "color": "white"
             }
            },
            "type": "table"
           }
          ]
         },
         "layout": {
          "annotationdefaults": {
           "arrowcolor": "#2a3f5f",
           "arrowhead": 0,
           "arrowwidth": 1
          },
          "autotypenumbers": "strict",
          "coloraxis": {
           "colorbar": {
            "outlinewidth": 0,
            "ticks": ""
           }
          },
          "colorscale": {
           "diverging": [
            [
             0,
             "#8e0152"
            ],
            [
             0.1,
             "#c51b7d"
            ],
            [
             0.2,
             "#de77ae"
            ],
            [
             0.3,
             "#f1b6da"
            ],
            [
             0.4,
             "#fde0ef"
            ],
            [
             0.5,
             "#f7f7f7"
            ],
            [
             0.6,
             "#e6f5d0"
            ],
            [
             0.7,
             "#b8e186"
            ],
            [
             0.8,
             "#7fbc41"
            ],
            [
             0.9,
             "#4d9221"
            ],
            [
             1,
             "#276419"
            ]
           ],
           "sequential": [
            [
             0,
             "#0d0887"
            ],
            [
             0.1111111111111111,
             "#46039f"
            ],
            [
             0.2222222222222222,
             "#7201a8"
            ],
            [
             0.3333333333333333,
             "#9c179e"
            ],
            [
             0.4444444444444444,
             "#bd3786"
            ],
            [
             0.5555555555555556,
             "#d8576b"
            ],
            [
             0.6666666666666666,
             "#ed7953"
            ],
            [
             0.7777777777777778,
             "#fb9f3a"
            ],
            [
             0.8888888888888888,
             "#fdca26"
            ],
            [
             1,
             "#f0f921"
            ]
           ],
           "sequentialminus": [
            [
             0,
             "#0d0887"
            ],
            [
             0.1111111111111111,
             "#46039f"
            ],
            [
             0.2222222222222222,
             "#7201a8"
            ],
            [
             0.3333333333333333,
             "#9c179e"
            ],
            [
             0.4444444444444444,
             "#bd3786"
            ],
            [
             0.5555555555555556,
             "#d8576b"
            ],
            [
             0.6666666666666666,
             "#ed7953"
            ],
            [
             0.7777777777777778,
             "#fb9f3a"
            ],
            [
             0.8888888888888888,
             "#fdca26"
            ],
            [
             1,
             "#f0f921"
            ]
           ]
          },
          "colorway": [
           "#636efa",
           "#EF553B",
           "#00cc96",
           "#ab63fa",
           "#FFA15A",
           "#19d3f3",
           "#FF6692",
           "#B6E880",
           "#FF97FF",
           "#FECB52"
          ],
          "font": {
           "color": "#2a3f5f"
          },
          "geo": {
           "bgcolor": "white",
           "lakecolor": "white",
           "landcolor": "white",
           "showlakes": true,
           "showland": true,
           "subunitcolor": "#C8D4E3"
          },
          "hoverlabel": {
           "align": "left"
          },
          "hovermode": "closest",
          "mapbox": {
           "style": "light"
          },
          "paper_bgcolor": "white",
          "plot_bgcolor": "white",
          "polar": {
           "angularaxis": {
            "gridcolor": "#EBF0F8",
            "linecolor": "#EBF0F8",
            "ticks": ""
           },
           "bgcolor": "white",
           "radialaxis": {
            "gridcolor": "#EBF0F8",
            "linecolor": "#EBF0F8",
            "ticks": ""
           }
          },
          "scene": {
           "xaxis": {
            "backgroundcolor": "white",
            "gridcolor": "#DFE8F3",
            "gridwidth": 2,
            "linecolor": "#EBF0F8",
            "showbackground": true,
            "ticks": "",
            "zerolinecolor": "#EBF0F8"
           },
           "yaxis": {
            "backgroundcolor": "white",
            "gridcolor": "#DFE8F3",
            "gridwidth": 2,
            "linecolor": "#EBF0F8",
            "showbackground": true,
            "ticks": "",
            "zerolinecolor": "#EBF0F8"
           },
           "zaxis": {
            "backgroundcolor": "white",
            "gridcolor": "#DFE8F3",
            "gridwidth": 2,
            "linecolor": "#EBF0F8",
            "showbackground": true,
            "ticks": "",
            "zerolinecolor": "#EBF0F8"
           }
          },
          "shapedefaults": {
           "line": {
            "color": "#2a3f5f"
           }
          },
          "ternary": {
           "aaxis": {
            "gridcolor": "#DFE8F3",
            "linecolor": "#A2B1C6",
            "ticks": ""
           },
           "baxis": {
            "gridcolor": "#DFE8F3",
            "linecolor": "#A2B1C6",
            "ticks": ""
           },
           "bgcolor": "white",
           "caxis": {
            "gridcolor": "#DFE8F3",
            "linecolor": "#A2B1C6",
            "ticks": ""
           }
          },
          "title": {
           "x": 0.05
          },
          "xaxis": {
           "automargin": true,
           "gridcolor": "#EBF0F8",
           "linecolor": "#EBF0F8",
           "ticks": "",
           "title": {
            "standoff": 15
           },
           "zerolinecolor": "#EBF0F8",
           "zerolinewidth": 2
          },
          "yaxis": {
           "automargin": true,
           "gridcolor": "#EBF0F8",
           "linecolor": "#EBF0F8",
           "ticks": "",
           "title": {
            "standoff": 15
           },
           "zerolinecolor": "#EBF0F8",
           "zerolinewidth": 2
          }
         }
        },
        "title": {
         "text": "Monthly Receipts by Category (stacked)"
        },
        "xaxis": {
         "rangeslider": {
          "visible": true
         },
         "title": {
          "text": "Date"
         }
        },
        "yaxis": {
         "title": {
          "text": "USD"
         }
        }
       }
      }
     },
     "metadata": {},
     "output_type": "display_data"
    }
   ],
   "source": [
    "fig = plot_stacked_plotly(\n",
    "    receipts_pivot,\n",
    "    title=\"Monthly Receipts by Category (stacked)\",\n",
    "    y_label=\"USD\",\n",
    "    scale=1   # convert millions → billions\n",
    ")\n",
    "fig.show()"
   ]
  },
  {
   "cell_type": "code",
   "execution_count": 134,
   "id": "844efa89",
   "metadata": {},
   "outputs": [
    {
     "data": {
      "application/vnd.plotly.v1+json": {
       "config": {
        "plotlyServerURL": "https://plot.ly"
       },
       "data": [
        {
         "mode": "lines+markers",
         "name": "2015",
         "type": "scatter",
         "x": {
          "bdata": "AQIDBAUGBwgJCgsM",
          "dtype": "i1"
         },
         "y": {
          "bdata": "AAAAAAAA+H8AAAAAAAD4fwAAAAAAAPh/AAAAAAAA+H8AAAAAAAD4fx+F860vB+VBH4UHfZW590EAAIzOFc4AQvYopBPilAZCXI/SddqEDUIVrpZSEIwRQsP1EdfcvxRC",
          "dtype": "f8"
         }
        },
        {
         "mode": "lines+markers",
         "name": "2016",
         "type": "scatter",
         "x": {
          "bdata": "AQIDBAUGBwgJCgsM",
          "dtype": "i1"
         },
         "y": {
          "bdata": "AADwAex96kEK17Pq+X34QT0KcaBq3wFCj8JfIgXPB0IzM6cQr90MQtejvpjEPRFCPQpoA2EHFELC9T2VV3IWQqRwRlp9HxlC61GQgj4YHEIUrj8GhuEeQjMzOxhI+yBC",
          "dtype": "f8"
         }
        },
        {
         "mode": "lines+markers",
         "name": "2017",
         "type": "scatter",
         "x": {
          "bdata": "AQIDBAUGBwgJCgsM",
          "dtype": "i1"
         },
         "y": {
          "bdata": "pHBdyNDE50GQwhFDo1P3QT4KZ7FGLQFCrkf7LRYEB0IpXENZZ/ALQh+FmawpkBBCKVz5/E9zE0KQwmvsAeMVQgrXokreqhhCuB7uAv2/G0KuR9KvGaoeQlI4kGqC4iBC",
          "dtype": "f8"
         }
        },
        {
         "mode": "lines+markers",
         "name": "2018",
         "type": "scatter",
         "x": {
          "bdata": "AQIDBAUGBwgJCgsM",
          "dtype": "i1"
         },
         "y": {
          "bdata": "AAAg1PcS6UEUrrurGJ/4QaRw4U1qSgJC7FG02vt6CEIfhcn/srcNQlK4B24k5xFC7FGMQeEeFUKPwuD7SA8YQo/CSSRpbRtCKVyFrx5jH0LXIxt5GtkhQgCAwat5ESRC",
          "dtype": "f8"
         }
        },
        {
         "mode": "lines+markers",
         "name": "2019",
         "type": "scatter",
         "x": {
          "bdata": "AQIDBAUGBwgJCgsM",
          "dtype": "i1"
         },
         "y": {
          "bdata": "CteTNmi09UEpXHmmPuIGQgAALkV9JhFCwvWIncRaF0LhenrkjGYcQj0KsIPltCBCFK7NsqNFI0L2KE9tgaUlQrge2v2LWyhCmRlyPk2AK0KPQsFD/t0uQs0MoWKaGjFC",
          "dtype": "f8"
         }
        },
        {
         "mode": "lines+markers",
         "name": "2020",
         "type": "scatter",
         "x": {
          "bdata": "AQIDBAUGBwgJCgsM",
          "dtype": "i1"
         },
         "y": {
          "bdata": "MzPn4UI0/kGQwgd0k94MQhSul8qC5BRCUri9BripG0LNzNKl3/IgQnuU1A/odiNC9qgwUKWoJUL2KCDBU7wnQlK43v9JNSpCzUwGFU/0LEIAgCjE/P4vQlzPm4I8nDFC",
          "dtype": "f8"
         }
        },
        {
         "mode": "lines+markers",
         "name": "2021",
         "type": "scatter",
         "x": {
          "bdata": "AQIDBAUGBwgJCgsM",
          "dtype": "i1"
         },
         "y": {
          "bdata": "XI+OJO6F+UG4Hg+vEGYJQuF6JapQ8xJCHoVVo9zxGEIzM6+MdUYfQnA9rf2x2SJC9qjKb0lzJkJwvRMf/rIpQlyPIZN2Ry1CFK5JlSN8MEKuB5Mc/EwyQlL4ofWpPjRC",
          "dtype": "f8"
         }
        },
        {
         "mode": "lines+markers",
         "name": "2022",
         "type": "scatter",
         "x": {
          "bdata": "AQIDBAUGBwgJCgsM",
          "dtype": "i1"
         },
         "y": {
          "bdata": "pHD1SGw4/0FwPYQBwlEPQutR7c89sxdCCteP4273H0JH4YjebvQjQtYjXoB++idCUjhhgWJvLEKuh8wfnjIwQikc5eBbSjJCuJ7rZHZkNEJm5r661oQ2Qj3KlyWVszhC",
          "dtype": "f8"
         }
        },
        {
         "mode": "lines+markers",
         "name": "2023",
         "type": "scatter",
         "x": {
          "bdata": "AQIDBAUGBwgJCgsM",
          "dtype": "i1"
         },
         "y": {
          "bdata": "H4V1zrMvAEI0M5VF0qIOQjMzgYjIIBZCkMI4VW40HULs0Q/3K8QhQgpXbM8f4CRC7NE9sxT+J0IzMx3DJx8rQsP14ehccC5Ccf2tfKnuMEKPAtrBh4QyQkhhr1UbLDRC",
          "dtype": "f8"
         }
        },
        {
         "mode": "lines+markers",
         "name": "2024",
         "type": "scatter",
         "x": {
          "bdata": "AQIDBAUGBwgJCgsM",
          "dtype": "i1"
         },
         "y": {
          "bdata": "exTmFqM6+0GkcAHrIRgKQq5HWbqiABNCrkeOJpSCGUL2KPabTswfQoVrsX0H/iJCXI/htC5LJkLs0eSqnSkpQgrXjufeTyxCXA9cvCfdL0JmplD/e7QxQtcjYOswgTNC",
          "dtype": "f8"
         }
        },
        {
         "mode": "lines+markers",
         "name": "2025",
         "type": "scatter",
         "x": {
          "bdata": "AQIDBAUGBwgJCgsM",
          "dtype": "i1"
         },
         "y": {
          "bdata": "CtdTWtab/UHC9Yrp8IkMQo/C0EBGJhVCUrh0thN9HELh+nikhdEhQhQuHFZ45CVC7NGnLfF7LUJm5ntHNg40QnsURzzAYDpCM3PmlfZ/QEIAAAAAAAD4fwAAAAAAAPh/",
          "dtype": "f8"
         }
        }
       ],
       "layout": {
        "hovermode": "x unified",
        "legend": {
         "title": {
          "text": "Year"
         }
        },
        "template": {
         "data": {
          "bar": [
           {
            "error_x": {
             "color": "#2a3f5f"
            },
            "error_y": {
             "color": "#2a3f5f"
            },
            "marker": {
             "line": {
              "color": "white",
              "width": 0.5
             },
             "pattern": {
              "fillmode": "overlay",
              "size": 10,
              "solidity": 0.2
             }
            },
            "type": "bar"
           }
          ],
          "barpolar": [
           {
            "marker": {
             "line": {
              "color": "white",
              "width": 0.5
             },
             "pattern": {
              "fillmode": "overlay",
              "size": 10,
              "solidity": 0.2
             }
            },
            "type": "barpolar"
           }
          ],
          "carpet": [
           {
            "aaxis": {
             "endlinecolor": "#2a3f5f",
             "gridcolor": "#C8D4E3",
             "linecolor": "#C8D4E3",
             "minorgridcolor": "#C8D4E3",
             "startlinecolor": "#2a3f5f"
            },
            "baxis": {
             "endlinecolor": "#2a3f5f",
             "gridcolor": "#C8D4E3",
             "linecolor": "#C8D4E3",
             "minorgridcolor": "#C8D4E3",
             "startlinecolor": "#2a3f5f"
            },
            "type": "carpet"
           }
          ],
          "choropleth": [
           {
            "colorbar": {
             "outlinewidth": 0,
             "ticks": ""
            },
            "type": "choropleth"
           }
          ],
          "contour": [
           {
            "colorbar": {
             "outlinewidth": 0,
             "ticks": ""
            },
            "colorscale": [
             [
              0,
              "#0d0887"
             ],
             [
              0.1111111111111111,
              "#46039f"
             ],
             [
              0.2222222222222222,
              "#7201a8"
             ],
             [
              0.3333333333333333,
              "#9c179e"
             ],
             [
              0.4444444444444444,
              "#bd3786"
             ],
             [
              0.5555555555555556,
              "#d8576b"
             ],
             [
              0.6666666666666666,
              "#ed7953"
             ],
             [
              0.7777777777777778,
              "#fb9f3a"
             ],
             [
              0.8888888888888888,
              "#fdca26"
             ],
             [
              1,
              "#f0f921"
             ]
            ],
            "type": "contour"
           }
          ],
          "contourcarpet": [
           {
            "colorbar": {
             "outlinewidth": 0,
             "ticks": ""
            },
            "type": "contourcarpet"
           }
          ],
          "heatmap": [
           {
            "colorbar": {
             "outlinewidth": 0,
             "ticks": ""
            },
            "colorscale": [
             [
              0,
              "#0d0887"
             ],
             [
              0.1111111111111111,
              "#46039f"
             ],
             [
              0.2222222222222222,
              "#7201a8"
             ],
             [
              0.3333333333333333,
              "#9c179e"
             ],
             [
              0.4444444444444444,
              "#bd3786"
             ],
             [
              0.5555555555555556,
              "#d8576b"
             ],
             [
              0.6666666666666666,
              "#ed7953"
             ],
             [
              0.7777777777777778,
              "#fb9f3a"
             ],
             [
              0.8888888888888888,
              "#fdca26"
             ],
             [
              1,
              "#f0f921"
             ]
            ],
            "type": "heatmap"
           }
          ],
          "histogram": [
           {
            "marker": {
             "pattern": {
              "fillmode": "overlay",
              "size": 10,
              "solidity": 0.2
             }
            },
            "type": "histogram"
           }
          ],
          "histogram2d": [
           {
            "colorbar": {
             "outlinewidth": 0,
             "ticks": ""
            },
            "colorscale": [
             [
              0,
              "#0d0887"
             ],
             [
              0.1111111111111111,
              "#46039f"
             ],
             [
              0.2222222222222222,
              "#7201a8"
             ],
             [
              0.3333333333333333,
              "#9c179e"
             ],
             [
              0.4444444444444444,
              "#bd3786"
             ],
             [
              0.5555555555555556,
              "#d8576b"
             ],
             [
              0.6666666666666666,
              "#ed7953"
             ],
             [
              0.7777777777777778,
              "#fb9f3a"
             ],
             [
              0.8888888888888888,
              "#fdca26"
             ],
             [
              1,
              "#f0f921"
             ]
            ],
            "type": "histogram2d"
           }
          ],
          "histogram2dcontour": [
           {
            "colorbar": {
             "outlinewidth": 0,
             "ticks": ""
            },
            "colorscale": [
             [
              0,
              "#0d0887"
             ],
             [
              0.1111111111111111,
              "#46039f"
             ],
             [
              0.2222222222222222,
              "#7201a8"
             ],
             [
              0.3333333333333333,
              "#9c179e"
             ],
             [
              0.4444444444444444,
              "#bd3786"
             ],
             [
              0.5555555555555556,
              "#d8576b"
             ],
             [
              0.6666666666666666,
              "#ed7953"
             ],
             [
              0.7777777777777778,
              "#fb9f3a"
             ],
             [
              0.8888888888888888,
              "#fdca26"
             ],
             [
              1,
              "#f0f921"
             ]
            ],
            "type": "histogram2dcontour"
           }
          ],
          "mesh3d": [
           {
            "colorbar": {
             "outlinewidth": 0,
             "ticks": ""
            },
            "type": "mesh3d"
           }
          ],
          "parcoords": [
           {
            "line": {
             "colorbar": {
              "outlinewidth": 0,
              "ticks": ""
             }
            },
            "type": "parcoords"
           }
          ],
          "pie": [
           {
            "automargin": true,
            "type": "pie"
           }
          ],
          "scatter": [
           {
            "fillpattern": {
             "fillmode": "overlay",
             "size": 10,
             "solidity": 0.2
            },
            "type": "scatter"
           }
          ],
          "scatter3d": [
           {
            "line": {
             "colorbar": {
              "outlinewidth": 0,
              "ticks": ""
             }
            },
            "marker": {
             "colorbar": {
              "outlinewidth": 0,
              "ticks": ""
             }
            },
            "type": "scatter3d"
           }
          ],
          "scattercarpet": [
           {
            "marker": {
             "colorbar": {
              "outlinewidth": 0,
              "ticks": ""
             }
            },
            "type": "scattercarpet"
           }
          ],
          "scattergeo": [
           {
            "marker": {
             "colorbar": {
              "outlinewidth": 0,
              "ticks": ""
             }
            },
            "type": "scattergeo"
           }
          ],
          "scattergl": [
           {
            "marker": {
             "colorbar": {
              "outlinewidth": 0,
              "ticks": ""
             }
            },
            "type": "scattergl"
           }
          ],
          "scattermap": [
           {
            "marker": {
             "colorbar": {
              "outlinewidth": 0,
              "ticks": ""
             }
            },
            "type": "scattermap"
           }
          ],
          "scattermapbox": [
           {
            "marker": {
             "colorbar": {
              "outlinewidth": 0,
              "ticks": ""
             }
            },
            "type": "scattermapbox"
           }
          ],
          "scatterpolar": [
           {
            "marker": {
             "colorbar": {
              "outlinewidth": 0,
              "ticks": ""
             }
            },
            "type": "scatterpolar"
           }
          ],
          "scatterpolargl": [
           {
            "marker": {
             "colorbar": {
              "outlinewidth": 0,
              "ticks": ""
             }
            },
            "type": "scatterpolargl"
           }
          ],
          "scatterternary": [
           {
            "marker": {
             "colorbar": {
              "outlinewidth": 0,
              "ticks": ""
             }
            },
            "type": "scatterternary"
           }
          ],
          "surface": [
           {
            "colorbar": {
             "outlinewidth": 0,
             "ticks": ""
            },
            "colorscale": [
             [
              0,
              "#0d0887"
             ],
             [
              0.1111111111111111,
              "#46039f"
             ],
             [
              0.2222222222222222,
              "#7201a8"
             ],
             [
              0.3333333333333333,
              "#9c179e"
             ],
             [
              0.4444444444444444,
              "#bd3786"
             ],
             [
              0.5555555555555556,
              "#d8576b"
             ],
             [
              0.6666666666666666,
              "#ed7953"
             ],
             [
              0.7777777777777778,
              "#fb9f3a"
             ],
             [
              0.8888888888888888,
              "#fdca26"
             ],
             [
              1,
              "#f0f921"
             ]
            ],
            "type": "surface"
           }
          ],
          "table": [
           {
            "cells": {
             "fill": {
              "color": "#EBF0F8"
             },
             "line": {
              "color": "white"
             }
            },
            "header": {
             "fill": {
              "color": "#C8D4E3"
             },
             "line": {
              "color": "white"
             }
            },
            "type": "table"
           }
          ]
         },
         "layout": {
          "annotationdefaults": {
           "arrowcolor": "#2a3f5f",
           "arrowhead": 0,
           "arrowwidth": 1
          },
          "autotypenumbers": "strict",
          "coloraxis": {
           "colorbar": {
            "outlinewidth": 0,
            "ticks": ""
           }
          },
          "colorscale": {
           "diverging": [
            [
             0,
             "#8e0152"
            ],
            [
             0.1,
             "#c51b7d"
            ],
            [
             0.2,
             "#de77ae"
            ],
            [
             0.3,
             "#f1b6da"
            ],
            [
             0.4,
             "#fde0ef"
            ],
            [
             0.5,
             "#f7f7f7"
            ],
            [
             0.6,
             "#e6f5d0"
            ],
            [
             0.7,
             "#b8e186"
            ],
            [
             0.8,
             "#7fbc41"
            ],
            [
             0.9,
             "#4d9221"
            ],
            [
             1,
             "#276419"
            ]
           ],
           "sequential": [
            [
             0,
             "#0d0887"
            ],
            [
             0.1111111111111111,
             "#46039f"
            ],
            [
             0.2222222222222222,
             "#7201a8"
            ],
            [
             0.3333333333333333,
             "#9c179e"
            ],
            [
             0.4444444444444444,
             "#bd3786"
            ],
            [
             0.5555555555555556,
             "#d8576b"
            ],
            [
             0.6666666666666666,
             "#ed7953"
            ],
            [
             0.7777777777777778,
             "#fb9f3a"
            ],
            [
             0.8888888888888888,
             "#fdca26"
            ],
            [
             1,
             "#f0f921"
            ]
           ],
           "sequentialminus": [
            [
             0,
             "#0d0887"
            ],
            [
             0.1111111111111111,
             "#46039f"
            ],
            [
             0.2222222222222222,
             "#7201a8"
            ],
            [
             0.3333333333333333,
             "#9c179e"
            ],
            [
             0.4444444444444444,
             "#bd3786"
            ],
            [
             0.5555555555555556,
             "#d8576b"
            ],
            [
             0.6666666666666666,
             "#ed7953"
            ],
            [
             0.7777777777777778,
             "#fb9f3a"
            ],
            [
             0.8888888888888888,
             "#fdca26"
            ],
            [
             1,
             "#f0f921"
            ]
           ]
          },
          "colorway": [
           "#636efa",
           "#EF553B",
           "#00cc96",
           "#ab63fa",
           "#FFA15A",
           "#19d3f3",
           "#FF6692",
           "#B6E880",
           "#FF97FF",
           "#FECB52"
          ],
          "font": {
           "color": "#2a3f5f"
          },
          "geo": {
           "bgcolor": "white",
           "lakecolor": "white",
           "landcolor": "white",
           "showlakes": true,
           "showland": true,
           "subunitcolor": "#C8D4E3"
          },
          "hoverlabel": {
           "align": "left"
          },
          "hovermode": "closest",
          "mapbox": {
           "style": "light"
          },
          "paper_bgcolor": "white",
          "plot_bgcolor": "white",
          "polar": {
           "angularaxis": {
            "gridcolor": "#EBF0F8",
            "linecolor": "#EBF0F8",
            "ticks": ""
           },
           "bgcolor": "white",
           "radialaxis": {
            "gridcolor": "#EBF0F8",
            "linecolor": "#EBF0F8",
            "ticks": ""
           }
          },
          "scene": {
           "xaxis": {
            "backgroundcolor": "white",
            "gridcolor": "#DFE8F3",
            "gridwidth": 2,
            "linecolor": "#EBF0F8",
            "showbackground": true,
            "ticks": "",
            "zerolinecolor": "#EBF0F8"
           },
           "yaxis": {
            "backgroundcolor": "white",
            "gridcolor": "#DFE8F3",
            "gridwidth": 2,
            "linecolor": "#EBF0F8",
            "showbackground": true,
            "ticks": "",
            "zerolinecolor": "#EBF0F8"
           },
           "zaxis": {
            "backgroundcolor": "white",
            "gridcolor": "#DFE8F3",
            "gridwidth": 2,
            "linecolor": "#EBF0F8",
            "showbackground": true,
            "ticks": "",
            "zerolinecolor": "#EBF0F8"
           }
          },
          "shapedefaults": {
           "line": {
            "color": "#2a3f5f"
           }
          },
          "ternary": {
           "aaxis": {
            "gridcolor": "#DFE8F3",
            "linecolor": "#A2B1C6",
            "ticks": ""
           },
           "baxis": {
            "gridcolor": "#DFE8F3",
            "linecolor": "#A2B1C6",
            "ticks": ""
           },
           "bgcolor": "white",
           "caxis": {
            "gridcolor": "#DFE8F3",
            "linecolor": "#A2B1C6",
            "ticks": ""
           }
          },
          "title": {
           "x": 0.05
          },
          "xaxis": {
           "automargin": true,
           "gridcolor": "#EBF0F8",
           "linecolor": "#EBF0F8",
           "ticks": "",
           "title": {
            "standoff": 15
           },
           "zerolinecolor": "#EBF0F8",
           "zerolinewidth": 2
          },
          "yaxis": {
           "automargin": true,
           "gridcolor": "#EBF0F8",
           "linecolor": "#EBF0F8",
           "ticks": "",
           "title": {
            "standoff": 15
           },
           "zerolinecolor": "#EBF0F8",
           "zerolinewidth": 2
          }
         }
        },
        "title": {
         "text": "Custom Duties — Cumulative by Fiscal Year"
        },
        "xaxis": {
         "title": {
          "text": "Fiscal Month (1=Month 10)"
         }
        },
        "yaxis": {
         "title": {
          "text": "USD"
         }
        }
       }
      }
     },
     "metadata": {},
     "output_type": "display_data"
    }
   ],
   "source": [
    "# Build a tidy frame for one category\n",
    "focus = receipts_pivot[\"Customs Duties\"].reset_index()\n",
    "focus.columns = [\"record_date\", \"value\"]  # rename for convenience\n",
    "\n",
    "# Plot as *fiscal-year* cumulative (MTS default is fiscal framing)\n",
    "fig, pivot = plot_cumulative_by_year(\n",
    "    focus,\n",
    "    date_col=\"record_date\",\n",
    "    value_col=\"value\",\n",
    "    fy_start_month=10,          # fiscal years (Oct–Sep)\n",
    "    years=None,                 # or [2021, 2022, 2023, 2024, 2025]\n",
    "    scale=1,               # MTS is in millions → show billions\n",
    "    title=\"Custom Duties — Cumulative by Fiscal Year\",\n",
    "    ylabel=\"USD\"\n",
    ")\n",
    "fig.show()"
   ]
  },
  {
   "cell_type": "code",
   "execution_count": 120,
   "id": "2be852ed",
   "metadata": {},
   "outputs": [
    {
     "data": {
      "application/vnd.plotly.v1+json": {
       "config": {
        "plotlyServerURL": "https://plot.ly"
       },
       "data": [
        {
         "mode": "lines+markers",
         "name": "2015",
         "type": "scatter",
         "x": {
          "bdata": "AQIDBAUGBwgJCgsM",
          "dtype": "i1"
         },
         "y": {
          "bdata": "AAAAAAAA+H8AAAAAAAD4fwAAAAAAAPh/AAAAAAAA+H8AAAAAAAD4f3OhjF40lZA/eMWIvqe1oj/WVtN0SYGqP7f2HYDUzrE/E83MO15Htz+HzBE/7Ky7P7NiGF71XMA/",
          "dtype": "f8"
         }
        },
        {
         "mode": "lines+markers",
         "name": "2016",
         "type": "scatter",
         "x": {
          "bdata": "AQIDBAUGBwgJCgsM",
          "dtype": "i1"
         },
         "y": {
          "bdata": "caPPJ4ILlD+DY02vJYiiP8GWAP7uC6s/TF8ReMQDsj+zBa9ZXte1Pw7EW/dPF7o/O8MIhzZPvj+qVNUl8fvAP+I+rgVbAsM/cRigDvpBxT9LV8wYrV3HP6vWUAGzssk/",
          "dtype": "f8"
         }
        },
        {
         "mode": "lines+markers",
         "name": "2017",
         "type": "scatter",
         "x": {
          "bdata": "AQIDBAUGBwgJCgsM",
          "dtype": "i1"
         },
         "y": {
          "bdata": "qRAjYTaGkT8Yb7PIxDKhPyisWwQMVKk/vbFyBB74sD/N6KngUpm0Px4cgbdfbLg/3qv5WEuuvD9fdgsq/CLAP42RwGHTL8I/P0IMyKB1xD9hzzOyuJvGP7tid4jM5cg/",
          "dtype": "f8"
         }
        },
        {
         "mode": "lines+markers",
         "name": "2018",
         "type": "scatter",
         "x": {
          "bdata": "AQIDBAUGBwgJCgsM",
          "dtype": "i1"
         },
         "y": {
          "bdata": "gp3RQVXJkT+3+TiFI3ehPxFLrHz/8qk/4Vawp4VdsT/+y7MGkRS1P8ljsoUoZrk/fZxm+c32vT+BuEIYIBHBP4XWiuWtdMM/wrBsh8JDxj9jS7a7PVLJP4j6EtiYeMw/",
          "dtype": "f8"
         }
        },
        {
         "mode": "lines+markers",
         "name": "2019",
         "type": "scatter",
         "x": {
          "bdata": "AQIDBAUGBwgJCgsM",
          "dtype": "i1"
         },
         "y": {
          "bdata": "iZDfdp8xnT+EbvPAm8euP2+Vm/JoEbc/np89wbdpvz/lDTS5nBnDPzp77FafeMY/6p/QyPjryT+NU81mlB3NP7pfuG2MYdA/P17lw8N+0j+qBh2kRcLUP6Z0pyBsAdc/",
          "dtype": "f8"
         }
        },
        {
         "mode": "lines+markers",
         "name": "2020",
         "type": "scatter",
         "x": {
          "bdata": "AQIDBAUGBwgJCgsM",
          "dtype": "i1"
         },
         "y": {
          "bdata": "uybCy4OAoz/3ntfT5aOyPz0DlxjI+ro/PE5jGXrcwT/Keqdq/eLFPz/MF9uoIsk/QNv+SA/4yz+S0gkMpabOP3LYuUsC7NA/bVJAHe6x0j8mCta4s6jUP2pB1CeyvdY/",
          "dtype": "f8"
         }
        },
        {
         "mode": "lines+markers",
         "name": "2021",
         "type": "scatter",
         "x": {
          "bdata": "AQIDBAUGBwgJCgsM",
          "dtype": "i1"
         },
         "y": {
          "bdata": "eQe1yQp0oD9SleImgF+wP2yk/qe3brg//og/VJcUwD9r8qSYSynEPzoFrquvTcg/0IYF4uDxzD9Lwo9bF5HQPxIOAdji39I/cNns7/NA1T9ZTm1HRZjXP0iUgHTrGdo/",
          "dtype": "f8"
         }
        },
        {
         "mode": "lines+markers",
         "name": "2022",
         "type": "scatter",
         "x": {
          "bdata": "AQIDBAUGBwgJCgsM",
          "dtype": "i1"
         },
         "y": {
          "bdata": "3C0tFBunoj+FW9H/PbayPxK/DeHLUbw/bfvivzkZwz/kcPnCG9jHPwOp59Pvpsw/0GzsIhn90D+hPCDN01rTP9vB4yn92tU/0bwOKfld2D/ZjMn2c+jaPxVr77wZhN0/",
          "dtype": "f8"
         }
        },
        {
         "mode": "lines+markers",
         "name": "2023",
         "type": "scatter",
         "x": {
          "bdata": "AQIDBAUGBwgJCgsM",
          "dtype": "i1"
         },
         "y": {
          "bdata": "xDV9CqNvoT9VqN2dLoCwP3SsuwQp1rc/x0KzU691vz+jA0jTVSPDP8OIdT2+fMY/OxzKT0/YyT83dp0uPDfNP0xRE0MBZdA/57sSLVc90j/2EsS4i/LTP29xLJfTutU/",
          "dtype": "f8"
         }
        },
        {
         "mode": "lines+markers",
         "name": "2024",
         "type": "scatter",
         "x": {
          "bdata": "AQIDBAUGBwgJCgsM",
          "dtype": "i1"
         },
         "y": {
          "bdata": "WwAgb99imz/N+6z9sD6qP7ggmBW3HLM/XQJCO0aouT/jT+9YS/u/P+l3+v4XGsM/Q8YIEyBsxj9Cq0hKzE7JP2nMJem0ecw/PmNerx4G0D+rBayKpc7RP9x6Oj0DntM/",
          "dtype": "f8"
         }
        },
        {
         "mode": "lines+markers",
         "name": "2025",
         "type": "scatter",
         "x": {
          "bdata": "AQIDBAUGBwgJCgsM",
          "dtype": "i1"
         },
         "y": {
          "bdata": "onlRBGk7nD+IQ9q1PzarPyTMZzGJKrQ/ZBoVofspuz+Xe5O6bv3AP0Y3EWrj38Q/DzAjfP8czD/XyF6/fh/TP1rUeIzHJtk/+7NjIyN33z8AAAAAAAD4fwAAAAAAAPh/",
          "dtype": "f8"
         }
        }
       ],
       "layout": {
        "hovermode": "x unified",
        "legend": {
         "title": {
          "text": "Fiscal Year"
         }
        },
        "template": {
         "data": {
          "bar": [
           {
            "error_x": {
             "color": "#2a3f5f"
            },
            "error_y": {
             "color": "#2a3f5f"
            },
            "marker": {
             "line": {
              "color": "white",
              "width": 0.5
             },
             "pattern": {
              "fillmode": "overlay",
              "size": 10,
              "solidity": 0.2
             }
            },
            "type": "bar"
           }
          ],
          "barpolar": [
           {
            "marker": {
             "line": {
              "color": "white",
              "width": 0.5
             },
             "pattern": {
              "fillmode": "overlay",
              "size": 10,
              "solidity": 0.2
             }
            },
            "type": "barpolar"
           }
          ],
          "carpet": [
           {
            "aaxis": {
             "endlinecolor": "#2a3f5f",
             "gridcolor": "#C8D4E3",
             "linecolor": "#C8D4E3",
             "minorgridcolor": "#C8D4E3",
             "startlinecolor": "#2a3f5f"
            },
            "baxis": {
             "endlinecolor": "#2a3f5f",
             "gridcolor": "#C8D4E3",
             "linecolor": "#C8D4E3",
             "minorgridcolor": "#C8D4E3",
             "startlinecolor": "#2a3f5f"
            },
            "type": "carpet"
           }
          ],
          "choropleth": [
           {
            "colorbar": {
             "outlinewidth": 0,
             "ticks": ""
            },
            "type": "choropleth"
           }
          ],
          "contour": [
           {
            "colorbar": {
             "outlinewidth": 0,
             "ticks": ""
            },
            "colorscale": [
             [
              0,
              "#0d0887"
             ],
             [
              0.1111111111111111,
              "#46039f"
             ],
             [
              0.2222222222222222,
              "#7201a8"
             ],
             [
              0.3333333333333333,
              "#9c179e"
             ],
             [
              0.4444444444444444,
              "#bd3786"
             ],
             [
              0.5555555555555556,
              "#d8576b"
             ],
             [
              0.6666666666666666,
              "#ed7953"
             ],
             [
              0.7777777777777778,
              "#fb9f3a"
             ],
             [
              0.8888888888888888,
              "#fdca26"
             ],
             [
              1,
              "#f0f921"
             ]
            ],
            "type": "contour"
           }
          ],
          "contourcarpet": [
           {
            "colorbar": {
             "outlinewidth": 0,
             "ticks": ""
            },
            "type": "contourcarpet"
           }
          ],
          "heatmap": [
           {
            "colorbar": {
             "outlinewidth": 0,
             "ticks": ""
            },
            "colorscale": [
             [
              0,
              "#0d0887"
             ],
             [
              0.1111111111111111,
              "#46039f"
             ],
             [
              0.2222222222222222,
              "#7201a8"
             ],
             [
              0.3333333333333333,
              "#9c179e"
             ],
             [
              0.4444444444444444,
              "#bd3786"
             ],
             [
              0.5555555555555556,
              "#d8576b"
             ],
             [
              0.6666666666666666,
              "#ed7953"
             ],
             [
              0.7777777777777778,
              "#fb9f3a"
             ],
             [
              0.8888888888888888,
              "#fdca26"
             ],
             [
              1,
              "#f0f921"
             ]
            ],
            "type": "heatmap"
           }
          ],
          "histogram": [
           {
            "marker": {
             "pattern": {
              "fillmode": "overlay",
              "size": 10,
              "solidity": 0.2
             }
            },
            "type": "histogram"
           }
          ],
          "histogram2d": [
           {
            "colorbar": {
             "outlinewidth": 0,
             "ticks": ""
            },
            "colorscale": [
             [
              0,
              "#0d0887"
             ],
             [
              0.1111111111111111,
              "#46039f"
             ],
             [
              0.2222222222222222,
              "#7201a8"
             ],
             [
              0.3333333333333333,
              "#9c179e"
             ],
             [
              0.4444444444444444,
              "#bd3786"
             ],
             [
              0.5555555555555556,
              "#d8576b"
             ],
             [
              0.6666666666666666,
              "#ed7953"
             ],
             [
              0.7777777777777778,
              "#fb9f3a"
             ],
             [
              0.8888888888888888,
              "#fdca26"
             ],
             [
              1,
              "#f0f921"
             ]
            ],
            "type": "histogram2d"
           }
          ],
          "histogram2dcontour": [
           {
            "colorbar": {
             "outlinewidth": 0,
             "ticks": ""
            },
            "colorscale": [
             [
              0,
              "#0d0887"
             ],
             [
              0.1111111111111111,
              "#46039f"
             ],
             [
              0.2222222222222222,
              "#7201a8"
             ],
             [
              0.3333333333333333,
              "#9c179e"
             ],
             [
              0.4444444444444444,
              "#bd3786"
             ],
             [
              0.5555555555555556,
              "#d8576b"
             ],
             [
              0.6666666666666666,
              "#ed7953"
             ],
             [
              0.7777777777777778,
              "#fb9f3a"
             ],
             [
              0.8888888888888888,
              "#fdca26"
             ],
             [
              1,
              "#f0f921"
             ]
            ],
            "type": "histogram2dcontour"
           }
          ],
          "mesh3d": [
           {
            "colorbar": {
             "outlinewidth": 0,
             "ticks": ""
            },
            "type": "mesh3d"
           }
          ],
          "parcoords": [
           {
            "line": {
             "colorbar": {
              "outlinewidth": 0,
              "ticks": ""
             }
            },
            "type": "parcoords"
           }
          ],
          "pie": [
           {
            "automargin": true,
            "type": "pie"
           }
          ],
          "scatter": [
           {
            "fillpattern": {
             "fillmode": "overlay",
             "size": 10,
             "solidity": 0.2
            },
            "type": "scatter"
           }
          ],
          "scatter3d": [
           {
            "line": {
             "colorbar": {
              "outlinewidth": 0,
              "ticks": ""
             }
            },
            "marker": {
             "colorbar": {
              "outlinewidth": 0,
              "ticks": ""
             }
            },
            "type": "scatter3d"
           }
          ],
          "scattercarpet": [
           {
            "marker": {
             "colorbar": {
              "outlinewidth": 0,
              "ticks": ""
             }
            },
            "type": "scattercarpet"
           }
          ],
          "scattergeo": [
           {
            "marker": {
             "colorbar": {
              "outlinewidth": 0,
              "ticks": ""
             }
            },
            "type": "scattergeo"
           }
          ],
          "scattergl": [
           {
            "marker": {
             "colorbar": {
              "outlinewidth": 0,
              "ticks": ""
             }
            },
            "type": "scattergl"
           }
          ],
          "scattermap": [
           {
            "marker": {
             "colorbar": {
              "outlinewidth": 0,
              "ticks": ""
             }
            },
            "type": "scattermap"
           }
          ],
          "scattermapbox": [
           {
            "marker": {
             "colorbar": {
              "outlinewidth": 0,
              "ticks": ""
             }
            },
            "type": "scattermapbox"
           }
          ],
          "scatterpolar": [
           {
            "marker": {
             "colorbar": {
              "outlinewidth": 0,
              "ticks": ""
             }
            },
            "type": "scatterpolar"
           }
          ],
          "scatterpolargl": [
           {
            "marker": {
             "colorbar": {
              "outlinewidth": 0,
              "ticks": ""
             }
            },
            "type": "scatterpolargl"
           }
          ],
          "scatterternary": [
           {
            "marker": {
             "colorbar": {
              "outlinewidth": 0,
              "ticks": ""
             }
            },
            "type": "scatterternary"
           }
          ],
          "surface": [
           {
            "colorbar": {
             "outlinewidth": 0,
             "ticks": ""
            },
            "colorscale": [
             [
              0,
              "#0d0887"
             ],
             [
              0.1111111111111111,
              "#46039f"
             ],
             [
              0.2222222222222222,
              "#7201a8"
             ],
             [
              0.3333333333333333,
              "#9c179e"
             ],
             [
              0.4444444444444444,
              "#bd3786"
             ],
             [
              0.5555555555555556,
              "#d8576b"
             ],
             [
              0.6666666666666666,
              "#ed7953"
             ],
             [
              0.7777777777777778,
              "#fb9f3a"
             ],
             [
              0.8888888888888888,
              "#fdca26"
             ],
             [
              1,
              "#f0f921"
             ]
            ],
            "type": "surface"
           }
          ],
          "table": [
           {
            "cells": {
             "fill": {
              "color": "#EBF0F8"
             },
             "line": {
              "color": "white"
             }
            },
            "header": {
             "fill": {
              "color": "#C8D4E3"
             },
             "line": {
              "color": "white"
             }
            },
            "type": "table"
           }
          ]
         },
         "layout": {
          "annotationdefaults": {
           "arrowcolor": "#2a3f5f",
           "arrowhead": 0,
           "arrowwidth": 1
          },
          "autotypenumbers": "strict",
          "coloraxis": {
           "colorbar": {
            "outlinewidth": 0,
            "ticks": ""
           }
          },
          "colorscale": {
           "diverging": [
            [
             0,
             "#8e0152"
            ],
            [
             0.1,
             "#c51b7d"
            ],
            [
             0.2,
             "#de77ae"
            ],
            [
             0.3,
             "#f1b6da"
            ],
            [
             0.4,
             "#fde0ef"
            ],
            [
             0.5,
             "#f7f7f7"
            ],
            [
             0.6,
             "#e6f5d0"
            ],
            [
             0.7,
             "#b8e186"
            ],
            [
             0.8,
             "#7fbc41"
            ],
            [
             0.9,
             "#4d9221"
            ],
            [
             1,
             "#276419"
            ]
           ],
           "sequential": [
            [
             0,
             "#0d0887"
            ],
            [
             0.1111111111111111,
             "#46039f"
            ],
            [
             0.2222222222222222,
             "#7201a8"
            ],
            [
             0.3333333333333333,
             "#9c179e"
            ],
            [
             0.4444444444444444,
             "#bd3786"
            ],
            [
             0.5555555555555556,
             "#d8576b"
            ],
            [
             0.6666666666666666,
             "#ed7953"
            ],
            [
             0.7777777777777778,
             "#fb9f3a"
            ],
            [
             0.8888888888888888,
             "#fdca26"
            ],
            [
             1,
             "#f0f921"
            ]
           ],
           "sequentialminus": [
            [
             0,
             "#0d0887"
            ],
            [
             0.1111111111111111,
             "#46039f"
            ],
            [
             0.2222222222222222,
             "#7201a8"
            ],
            [
             0.3333333333333333,
             "#9c179e"
            ],
            [
             0.4444444444444444,
             "#bd3786"
            ],
            [
             0.5555555555555556,
             "#d8576b"
            ],
            [
             0.6666666666666666,
             "#ed7953"
            ],
            [
             0.7777777777777778,
             "#fb9f3a"
            ],
            [
             0.8888888888888888,
             "#fdca26"
            ],
            [
             1,
             "#f0f921"
            ]
           ]
          },
          "colorway": [
           "#636efa",
           "#EF553B",
           "#00cc96",
           "#ab63fa",
           "#FFA15A",
           "#19d3f3",
           "#FF6692",
           "#B6E880",
           "#FF97FF",
           "#FECB52"
          ],
          "font": {
           "color": "#2a3f5f"
          },
          "geo": {
           "bgcolor": "white",
           "lakecolor": "white",
           "landcolor": "white",
           "showlakes": true,
           "showland": true,
           "subunitcolor": "#C8D4E3"
          },
          "hoverlabel": {
           "align": "left"
          },
          "hovermode": "closest",
          "mapbox": {
           "style": "light"
          },
          "paper_bgcolor": "white",
          "plot_bgcolor": "white",
          "polar": {
           "angularaxis": {
            "gridcolor": "#EBF0F8",
            "linecolor": "#EBF0F8",
            "ticks": ""
           },
           "bgcolor": "white",
           "radialaxis": {
            "gridcolor": "#EBF0F8",
            "linecolor": "#EBF0F8",
            "ticks": ""
           }
          },
          "scene": {
           "xaxis": {
            "backgroundcolor": "white",
            "gridcolor": "#DFE8F3",
            "gridwidth": 2,
            "linecolor": "#EBF0F8",
            "showbackground": true,
            "ticks": "",
            "zerolinecolor": "#EBF0F8"
           },
           "yaxis": {
            "backgroundcolor": "white",
            "gridcolor": "#DFE8F3",
            "gridwidth": 2,
            "linecolor": "#EBF0F8",
            "showbackground": true,
            "ticks": "",
            "zerolinecolor": "#EBF0F8"
           },
           "zaxis": {
            "backgroundcolor": "white",
            "gridcolor": "#DFE8F3",
            "gridwidth": 2,
            "linecolor": "#EBF0F8",
            "showbackground": true,
            "ticks": "",
            "zerolinecolor": "#EBF0F8"
           }
          },
          "shapedefaults": {
           "line": {
            "color": "#2a3f5f"
           }
          },
          "ternary": {
           "aaxis": {
            "gridcolor": "#DFE8F3",
            "linecolor": "#A2B1C6",
            "ticks": ""
           },
           "baxis": {
            "gridcolor": "#DFE8F3",
            "linecolor": "#A2B1C6",
            "ticks": ""
           },
           "bgcolor": "white",
           "caxis": {
            "gridcolor": "#DFE8F3",
            "linecolor": "#A2B1C6",
            "ticks": ""
           }
          },
          "title": {
           "x": 0.05
          },
          "xaxis": {
           "automargin": true,
           "gridcolor": "#EBF0F8",
           "linecolor": "#EBF0F8",
           "ticks": "",
           "title": {
            "standoff": 15
           },
           "zerolinecolor": "#EBF0F8",
           "zerolinewidth": 2
          },
          "yaxis": {
           "automargin": true,
           "gridcolor": "#EBF0F8",
           "linecolor": "#EBF0F8",
           "ticks": "",
           "title": {
            "standoff": 15
           },
           "zerolinecolor": "#EBF0F8",
           "zerolinewidth": 2
          }
         }
        },
        "title": {
         "text": "Customs Duties — Cumulative % of GDP (Fixed FY Denominator)"
        },
        "xaxis": {
         "title": {
          "text": "Fiscal Month (1=Oct)"
         }
        },
        "yaxis": {
         "title": {
          "text": "% of GDP"
         }
        }
       }
      }
     },
     "metadata": {},
     "output_type": "display_data"
    }
   ],
   "source": [
    "# 2) Prepare Customs Duties series (millions)\n",
    "# If you already have `outlays_pivot` from get_outlays_breakdown(...):\n",
    "focus = receipts_pivot[\"Customs Duties\"].reset_index()\n",
    "focus.columns = [\"record_date\", \"value\"]\n",
    "\n",
    "# 3) Plot cumulative FY as % of GDP (fixed denominators)\n",
    "fig, pivot = plot_cumulative_by_fy_pct_gdp_fixed(\n",
    "    focus,\n",
    "    date_col=\"record_date\",\n",
    "    value_col=\"value\",\n",
    "    fy_denoms_millions=fy_denoms,\n",
    "    years=None,\n",
    "    title=\"Customs Duties — Cumulative % of GDP (Fixed FY Denominator)\"\n",
    ")\n",
    "fig.show()"
   ]
  },
  {
   "cell_type": "code",
   "execution_count": 135,
   "id": "6bc84cea",
   "metadata": {},
   "outputs": [
    {
     "data": {
      "image/png": "[encoded data removed]",
      "text/plain": [
       "<Figure size 640x480 with 1 Axes>"
      ]
     },
     "metadata": {},
     "output_type": "display_data"
    }
   ],
   "source": [
    "fig, ax = plt.subplots()\n",
    "ax.plot(receipts_pivot[\"Customs Duties\"]/ 1e9)\n",
    "_finish_timeplot(ax, \"Monthly Receipts - Custom Duties\", \"USD billions\")"
   ]
  },
  {
   "cell_type": "markdown",
   "id": "1a6d4436",
   "metadata": {},
   "source": [
    "## C2) Payments breakdown by category"
   ]
  },
  {
   "cell_type": "code",
   "execution_count": 90,
   "id": "9a591bce",
   "metadata": {},
   "outputs": [
    {
     "data": {
      "text/html": [
       "<div>\n",
       "<style scoped>\n",
       "    .dataframe tbody tr th:only-of-type {\n",
       "        vertical-align: middle;\n",
       "    }\n",
       "\n",
       "    .dataframe tbody tr th {\n",
       "        vertical-align: top;\n",
       "    }\n",
       "\n",
       "    .dataframe thead th {\n",
       "        text-align: right;\n",
       "    }\n",
       "</style>\n",
       "<table border=\"1\" class=\"dataframe\">\n",
       "  <thead>\n",
       "    <tr style=\"text-align: right;\">\n",
       "      <th>category</th>\n",
       "      <th>Benefit Payments</th>\n",
       "      <th>All Other</th>\n",
       "      <th>Grants to States for Medicaid</th>\n",
       "      <th>Public Issues (Accrual Basis)</th>\n",
       "      <th>Payments to Health Care Trust Funds</th>\n",
       "      <th>Other</th>\n",
       "      <th>Department of the Air Force</th>\n",
       "      <th>Department of the Navy</th>\n",
       "      <th>Special Issues (Cash Basis)</th>\n",
       "    </tr>\n",
       "    <tr>\n",
       "      <th>record_date</th>\n",
       "      <th></th>\n",
       "      <th></th>\n",
       "      <th></th>\n",
       "      <th></th>\n",
       "      <th></th>\n",
       "      <th></th>\n",
       "      <th></th>\n",
       "      <th></th>\n",
       "      <th></th>\n",
       "    </tr>\n",
       "  </thead>\n",
       "  <tbody>\n",
       "    <tr>\n",
       "      <th>2025-03-31</th>\n",
       "      <td>1.874118e+11</td>\n",
       "      <td>1.313731e+11</td>\n",
       "      <td>5.664911e+10</td>\n",
       "      <td>9.060649e+10</td>\n",
       "      <td>4.484197e+10</td>\n",
       "      <td>1.688663e+10</td>\n",
       "      <td>1.773346e+10</td>\n",
       "      <td>1.856345e+10</td>\n",
       "      <td>1.380694e+10</td>\n",
       "    </tr>\n",
       "    <tr>\n",
       "      <th>2025-04-30</th>\n",
       "      <td>2.292211e+11</td>\n",
       "      <td>1.323951e+11</td>\n",
       "      <td>5.811634e+10</td>\n",
       "      <td>8.461923e+10</td>\n",
       "      <td>6.476862e+10</td>\n",
       "      <td>2.129115e+10</td>\n",
       "      <td>1.945062e+10</td>\n",
       "      <td>1.882855e+10</td>\n",
       "      <td>1.703113e+10</td>\n",
       "    </tr>\n",
       "    <tr>\n",
       "      <th>2025-05-31</th>\n",
       "      <td>2.969973e+11</td>\n",
       "      <td>1.786601e+11</td>\n",
       "      <td>5.822922e+10</td>\n",
       "      <td>8.298627e+10</td>\n",
       "      <td>4.433152e+10</td>\n",
       "      <td>1.736500e+10</td>\n",
       "      <td>2.079531e+10</td>\n",
       "      <td>2.229824e+10</td>\n",
       "      <td>9.244133e+09</td>\n",
       "    </tr>\n",
       "    <tr>\n",
       "      <th>2025-06-30</th>\n",
       "      <td>1.743890e+11</td>\n",
       "      <td>5.909809e+10</td>\n",
       "      <td>5.508093e+10</td>\n",
       "      <td>8.173014e+10</td>\n",
       "      <td>5.896844e+10</td>\n",
       "      <td>1.873919e+10</td>\n",
       "      <td>1.995547e+10</td>\n",
       "      <td>1.913073e+10</td>\n",
       "      <td>6.289454e+10</td>\n",
       "    </tr>\n",
       "    <tr>\n",
       "      <th>2025-07-31</th>\n",
       "      <td>2.485137e+11</td>\n",
       "      <td>1.796283e+11</td>\n",
       "      <td>6.211509e+10</td>\n",
       "      <td>8.317926e+10</td>\n",
       "      <td>4.901704e+10</td>\n",
       "      <td>2.151077e+10</td>\n",
       "      <td>2.044761e+10</td>\n",
       "      <td>2.111487e+10</td>\n",
       "      <td>8.733653e+09</td>\n",
       "    </tr>\n",
       "  </tbody>\n",
       "</table>\n",
       "</div>"
      ],
      "text/plain": [
       "category     Benefit Payments     All Other  Grants to States for Medicaid  \\\n",
       "record_date                                                                  \n",
       "2025-03-31       1.874118e+11  1.313731e+11                   5.664911e+10   \n",
       "2025-04-30       2.292211e+11  1.323951e+11                   5.811634e+10   \n",
       "2025-05-31       2.969973e+11  1.786601e+11                   5.822922e+10   \n",
       "2025-06-30       1.743890e+11  5.909809e+10                   5.508093e+10   \n",
       "2025-07-31       2.485137e+11  1.796283e+11                   6.211509e+10   \n",
       "\n",
       "category     Public Issues (Accrual Basis)  \\\n",
       "record_date                                  \n",
       "2025-03-31                    9.060649e+10   \n",
       "2025-04-30                    8.461923e+10   \n",
       "2025-05-31                    8.298627e+10   \n",
       "2025-06-30                    8.173014e+10   \n",
       "2025-07-31                    8.317926e+10   \n",
       "\n",
       "category     Payments to Health Care Trust Funds         Other  \\\n",
       "record_date                                                      \n",
       "2025-03-31                          4.484197e+10  1.688663e+10   \n",
       "2025-04-30                          6.476862e+10  2.129115e+10   \n",
       "2025-05-31                          4.433152e+10  1.736500e+10   \n",
       "2025-06-30                          5.896844e+10  1.873919e+10   \n",
       "2025-07-31                          4.901704e+10  2.151077e+10   \n",
       "\n",
       "category     Department of the Air Force  Department of the Navy  \\\n",
       "record_date                                                        \n",
       "2025-03-31                  1.773346e+10            1.856345e+10   \n",
       "2025-04-30                  1.945062e+10            1.882855e+10   \n",
       "2025-05-31                  2.079531e+10            2.229824e+10   \n",
       "2025-06-30                  1.995547e+10            1.913073e+10   \n",
       "2025-07-31                  2.044761e+10            2.111487e+10   \n",
       "\n",
       "category     Special Issues (Cash Basis)  \n",
       "record_date                               \n",
       "2025-03-31                  1.380694e+10  \n",
       "2025-04-30                  1.703113e+10  \n",
       "2025-05-31                  9.244133e+09  \n",
       "2025-06-30                  6.289454e+10  \n",
       "2025-07-31                  8.733653e+09  "
      ]
     },
     "execution_count": 90,
     "metadata": {},
     "output_type": "execute_result"
    }
   ],
   "source": [
    "def get_outlays_breakdown(start_date: str, end_date: str, top_n: int = 6):\n",
    "    df = fetch_fiscaldata(\n",
    "        \"v1/accounting/mts/mts_table_5\",\n",
    "        fields=[\"record_date\", \"classification_desc\", \"current_month_gross_outly_amt\"],\n",
    "        filters={\"record_date\": (\"gte\", start_date)},\n",
    "        sort=[\"record_date\"],\n",
    "    )\n",
    "    if df.empty:\n",
    "        return df, []\n",
    "\n",
    "    # types + window\n",
    "    df[\"record_date\"] = pd.to_datetime(df[\"record_date\"])\n",
    "    df[\"current_month_gross_outly_amt\"] = pd.to_numeric(df[\"current_month_gross_outly_amt\"], errors=\"coerce\")\n",
    "    df = df[df[\"record_date\"] <= pd.to_datetime(end_date)]\n",
    "\n",
    "    # drop totals\n",
    "    df = df[~df[\"classification_desc\"].str.contains(r\"^Total\", na=False)].copy()\n",
    "\n",
    "    # monthly by classification\n",
    "    monthly_cat = (df.groupby([\"record_date\", \"classification_desc\"], as_index=False)[\"current_month_gross_outly_amt\"]\n",
    "                     .sum()\n",
    "                     .rename(columns={\"current_month_gross_outly_amt\": \"value\"}))\n",
    "\n",
    "    # pick top-N categories by total over the window\n",
    "    totals = monthly_cat.groupby(\"classification_desc\")[\"value\"].sum().sort_values(ascending=False)\n",
    "    keep = totals.head(top_n).index.tolist()\n",
    "\n",
    "    # bucket remainder\n",
    "    bucket_label = \"All Other\"\n",
    "    monthly_cat[\"category\"] = monthly_cat[\"classification_desc\"].where(\n",
    "        monthly_cat[\"classification_desc\"].isin(keep), other=bucket_label\n",
    "    )\n",
    "\n",
    "    # re-aggregate with bucket, pivot\n",
    "    monthly_cat = (monthly_cat.groupby([\"record_date\", \"category\"], as_index=False)[\"value\"]\n",
    "                             .sum()\n",
    "                             .sort_values([\"record_date\", \"category\"]))\n",
    "    pivot = monthly_cat.pivot(index=\"record_date\", columns=\"category\", values=\"value\").fillna(0.0)\n",
    "\n",
    "    # order columns by total size (largest first => drawn at bottom in stackplot)\n",
    "    col_totals = pivot.sum(axis=0).sort_values(ascending=False)\n",
    "    pivot = pivot[col_totals.index]\n",
    "\n",
    "    return pivot, list(col_totals.index)\n",
    "\n",
    "outlays_pivot, outlays_kept = get_outlays_breakdown(START, END, top_n=8)\n",
    "outlays_pivot.tail()"
   ]
  },
  {
   "cell_type": "code",
   "execution_count": 136,
   "id": "e86ca4c2",
   "metadata": {},
   "outputs": [
    {
     "data": {
      "image/png": "[encoded data removed]",
      "text/plain": [
       "<Figure size 640x480 with 1 Axes>"
      ]
     },
     "metadata": {},
     "output_type": "display_data"
    }
   ],
   "source": [
    "fig, ax = plt.subplots()\n",
    "outlays_pivot = outlays_pivot.sort_index()\n",
    "ax.stackplot(outlays_pivot.index, outlays_pivot.values.T / 1e9, labels=outlays_pivot.columns.tolist())\n",
    "ax.legend(loc=\"upper left\", ncols=2, fontsize=\"small\")\n",
    "_finish_timeplot(ax, \"Monthly Outlays by Category (stacked)\", \"USD billions\")"
   ]
  },
  {
   "cell_type": "code",
   "execution_count": 141,
   "id": "152945bd",
   "metadata": {},
   "outputs": [
    {
     "data": {
      "application/vnd.plotly.v1+json": {
       "config": {
        "plotlyServerURL": "https://plot.ly"
       },
       "data": [
        {
         "hovertemplate": "%{x|%Y-%m}<br>Benefit Payments: %{y:,.2f}<extra></extra>",
         "mode": "lines",
         "name": "Benefit Payments",
         "stackgroup": "one",
         "type": "scatter",
         "x": [
          "2015-03-31T00:00:00.000000000",
          "2015-04-30T00:00:00.000000000",
          "2015-05-31T00:00:00.000000000",
          "2015-06-30T00:00:00.000000000",
          "2015-07-31T00:00:00.000000000",
          "2015-08-31T00:00:00.000000000",
          "2015-09-30T00:00:00.000000000",
          "2015-10-31T00:00:00.000000000",
          "2015-11-30T00:00:00.000000000",
          "2015-12-31T00:00:00.000000000",
          "2016-01-31T00:00:00.000000000",
          "2016-02-29T00:00:00.000000000",
          "2016-03-31T00:00:00.000000000",
          "2016-04-30T00:00:00.000000000",
          "2016-05-31T00:00:00.000000000",
          "2016-06-30T00:00:00.000000000",
          "2016-07-31T00:00:00.000000000",
          "2016-08-31T00:00:00.000000000",
          "2016-09-30T00:00:00.000000000",
          "2016-10-31T00:00:00.000000000",
          "2016-11-30T00:00:00.000000000",
          "2016-12-31T00:00:00.000000000",
          "2017-01-31T00:00:00.000000000",
          "2017-02-28T00:00:00.000000000",
          "2017-03-31T00:00:00.000000000",
          "2017-04-30T00:00:00.000000000",
          "2017-05-31T00:00:00.000000000",
          "2017-06-30T00:00:00.000000000",
          "2017-07-31T00:00:00.000000000",
          "2017-08-31T00:00:00.000000000",
          "2017-09-30T00:00:00.000000000",
          "2017-10-31T00:00:00.000000000",
          "2017-11-30T00:00:00.000000000",
          "2017-12-31T00:00:00.000000000",
          "2018-01-31T00:00:00.000000000",
          "2018-02-28T00:00:00.000000000",
          "2018-03-31T00:00:00.000000000",
          "2018-04-30T00:00:00.000000000",
          "2018-05-31T00:00:00.000000000",
          "2018-06-30T00:00:00.000000000",
          "2018-07-31T00:00:00.000000000",
          "2018-08-31T00:00:00.000000000",
          "2018-09-30T00:00:00.000000000",
          "2018-10-31T00:00:00.000000000",
          "2018-11-30T00:00:00.000000000",
          "2018-12-31T00:00:00.000000000",
          "2019-01-31T00:00:00.000000000",
          "2019-02-28T00:00:00.000000000",
          "2019-03-31T00:00:00.000000000",
          "2019-04-30T00:00:00.000000000",
          "2019-05-31T00:00:00.000000000",
          "2019-06-30T00:00:00.000000000",
          "2019-07-31T00:00:00.000000000",
          "2019-08-31T00:00:00.000000000",
          "2019-09-30T00:00:00.000000000",
          "2019-10-31T00:00:00.000000000",
          "2019-11-30T00:00:00.000000000",
          "2019-12-31T00:00:00.000000000",
          "2020-01-31T00:00:00.000000000",
          "2020-02-29T00:00:00.000000000",
          "2020-03-31T00:00:00.000000000",
          "2020-04-30T00:00:00.000000000",
          "2020-05-31T00:00:00.000000000",
          "2020-06-30T00:00:00.000000000",
          "2020-07-31T00:00:00.000000000",
          "2020-08-31T00:00:00.000000000",
          "2020-09-30T00:00:00.000000000",
          "2020-10-31T00:00:00.000000000",
          "2020-11-30T00:00:00.000000000",
          "2020-12-31T00:00:00.000000000",
          "2021-01-31T00:00:00.000000000",
          "2021-02-28T00:00:00.000000000",
          "2021-03-31T00:00:00.000000000",
          "2021-04-30T00:00:00.000000000",
          "2021-05-31T00:00:00.000000000",
          "2021-06-30T00:00:00.000000000",
          "2021-07-31T00:00:00.000000000",
          "2021-08-31T00:00:00.000000000",
          "2021-09-30T00:00:00.000000000",
          "2021-10-31T00:00:00.000000000",
          "2021-11-30T00:00:00.000000000",
          "2021-12-31T00:00:00.000000000",
          "2022-01-31T00:00:00.000000000",
          "2022-02-28T00:00:00.000000000",
          "2022-03-31T00:00:00.000000000",
          "2022-04-30T00:00:00.000000000",
          "2022-05-31T00:00:00.000000000",
          "2022-06-30T00:00:00.000000000",
          "2022-07-31T00:00:00.000000000",
          "2022-08-31T00:00:00.000000000",
          "2022-09-30T00:00:00.000000000",
          "2022-10-31T00:00:00.000000000",
          "2022-11-30T00:00:00.000000000",
          "2022-12-31T00:00:00.000000000",
          "2023-01-31T00:00:00.000000000",
          "2023-02-28T00:00:00.000000000",
          "2023-03-31T00:00:00.000000000",
          "2023-04-30T00:00:00.000000000",
          "2023-05-31T00:00:00.000000000",
          "2023-06-30T00:00:00.000000000",
          "2023-07-31T00:00:00.000000000",
          "2023-08-31T00:00:00.000000000",
          "2023-09-30T00:00:00.000000000",
          "2023-10-31T00:00:00.000000000",
          "2023-11-30T00:00:00.000000000",
          "2023-12-31T00:00:00.000000000",
          "2024-01-31T00:00:00.000000000",
          "2024-02-29T00:00:00.000000000",
          "2024-03-31T00:00:00.000000000",
          "2024-04-30T00:00:00.000000000",
          "2024-05-31T00:00:00.000000000",
          "2024-06-30T00:00:00.000000000",
          "2024-07-31T00:00:00.000000000",
          "2024-08-31T00:00:00.000000000",
          "2024-09-30T00:00:00.000000000",
          "2024-10-31T00:00:00.000000000",
          "2024-11-30T00:00:00.000000000",
          "2024-12-31T00:00:00.000000000",
          "2025-01-31T00:00:00.000000000",
          "2025-02-28T00:00:00.000000000",
          "2025-03-31T00:00:00.000000000",
          "2025-04-30T00:00:00.000000000",
          "2025-05-31T00:00:00.000000000",
          "2025-06-30T00:00:00.000000000",
          "2025-07-31T00:00:00.000000000"
         ],
         "y": {
          "bdata": "hau8p3/AOEKFa2JpwNg9QsN109H0iz1CUjiN/VoTPUK4PkU2ySpCQjMzihIapDhCChdqepZtPkJSGLK+oWpCQgrX3f8dcjhCKXyAsnAOQkK43kA6BB43QuzRda0ixD1C1yPbA1tdP0IKN0tle5hBQrieTso2dTlCUrjkkDf8PkIz82JFWU4/QlzP3chOLUBCH0WHZOk0QkIfBbW+AE45QnHdrzrzjUBCKdzvuZCBPkJIIb/41jQ/QuF65XlJ8T5C7PEs9wftQkIU7kULh5k5Qo+igFeLHUBChYvmcsPiQkJSeC8lN8s5QlwPwN8etUBCuB51QjucQ0L2aNiUtnU6QoXLiC58qUBCSGHzhgusP0LDFfn6X0tAQkihQePpOkBCFE79U1a1Q0KFK3lIRRE7QjNTr18x6EBCzUyER0Q0RELNTCe3zU47QtcDFs43m0dCFG6bg6/dNUJcz1X+ewNBQlxv52BQx0NCSGEhU7mFO0JxPZW2kE5BQgo3wnveR0FCXM/0ug20QUIA4G+uiM5BQuE6M2AIz0ZCpPDcjrqDPEKuhwlatelBQj2q05/wVUVCexScwnJlPUIUbge0Gw1CQtcjQ2dSLUVCmtnm2qVbPULNDD8Frv9FQnvUs/Ne5kFCSKFkYqdXPkL2qOxmcatNQrgelJqqy0FCridbZ+VdQ0JIISkuZFZHQlJ4RZkHQj1CpLB/ftVvREIKt8eWFk1HQnF927i7YD1CM7PgbXPPRUJmhj+eMQ1AQnH97ivtEkNChUsgcWZPQ0Jcb+0rlShHQtejUSEDbz1CuN5j6DjfREI9ylNuBfFHQtfj4MYh0z1C4Rp3BrIwRUKuR6Mz+8pCQpq5vjAZe0NCcd2mkJLCRELssXthGe5EQuwx9ctICERCZsbTw5C1RUJxXWQJF8tIQqTwvzD8eD5CzQzg3Wt8R0KFqwxen2hFQuzRISlVpERCPap9Rq3bS0KPwvDkysQ/QuE6pi2Z+kVChUtZXPKcRUKkEPX7lBdHQrjeCTB3skZCuB667u2VTEIKlyw9AGNBQs2M5LpNU0dC7NFP12U9T0LXoz52BHtBQh/FQ81sgUdCcd3SeyjvTELsEZm4zORBQpp5QgHDVkhCSKFXw8TvRkJSuOIMUFxJQhROVmq8PEhCpPBYOjThR0LDdaDe431IQnFN7LZwRVBCKTzoHQS8QkKPgj4wbbRKQnEd4eISEE9CZuYUXhwnQ0LNLAqDwSNJQuzR4HyVKE9C7DGbunFxQ0Ka2df8XTlQQlzvX/Emb0lCrieDgE7RRUIpfLEyUq9KQq63buuaSVFCUlgoLjJNRELhOpFiSe5MQg==",
          "dtype": "f8"
         }
        },
        {
         "hovertemplate": "%{x|%Y-%m}<br>All Other: %{y:,.2f}<extra></extra>",
         "mode": "lines",
         "name": "All Other",
         "stackgroup": "one",
         "type": "scatter",
         "x": [
          "2015-03-31T00:00:00.000000000",
          "2015-04-30T00:00:00.000000000",
          "2015-05-31T00:00:00.000000000",
          "2015-06-30T00:00:00.000000000",
          "2015-07-31T00:00:00.000000000",
          "2015-08-31T00:00:00.000000000",
          "2015-09-30T00:00:00.000000000",
          "2015-10-31T00:00:00.000000000",
          "2015-11-30T00:00:00.000000000",
          "2015-12-31T00:00:00.000000000",
          "2016-01-31T00:00:00.000000000",
          "2016-02-29T00:00:00.000000000",
          "2016-03-31T00:00:00.000000000",
          "2016-04-30T00:00:00.000000000",
          "2016-05-31T00:00:00.000000000",
          "2016-06-30T00:00:00.000000000",
          "2016-07-31T00:00:00.000000000",
          "2016-08-31T00:00:00.000000000",
          "2016-09-30T00:00:00.000000000",
          "2016-10-31T00:00:00.000000000",
          "2016-11-30T00:00:00.000000000",
          "2016-12-31T00:00:00.000000000",
          "2017-01-31T00:00:00.000000000",
          "2017-02-28T00:00:00.000000000",
          "2017-03-31T00:00:00.000000000",
          "2017-04-30T00:00:00.000000000",
          "2017-05-31T00:00:00.000000000",
          "2017-06-30T00:00:00.000000000",
          "2017-07-31T00:00:00.000000000",
          "2017-08-31T00:00:00.000000000",
          "2017-09-30T00:00:00.000000000",
          "2017-10-31T00:00:00.000000000",
          "2017-11-30T00:00:00.000000000",
          "2017-12-31T00:00:00.000000000",
          "2018-01-31T00:00:00.000000000",
          "2018-02-28T00:00:00.000000000",
          "2018-03-31T00:00:00.000000000",
          "2018-04-30T00:00:00.000000000",
          "2018-05-31T00:00:00.000000000",
          "2018-06-30T00:00:00.000000000",
          "2018-07-31T00:00:00.000000000",
          "2018-08-31T00:00:00.000000000",
          "2018-09-30T00:00:00.000000000",
          "2018-10-31T00:00:00.000000000",
          "2018-11-30T00:00:00.000000000",
          "2018-12-31T00:00:00.000000000",
          "2019-01-31T00:00:00.000000000",
          "2019-02-28T00:00:00.000000000",
          "2019-03-31T00:00:00.000000000",
          "2019-04-30T00:00:00.000000000",
          "2019-05-31T00:00:00.000000000",
          "2019-06-30T00:00:00.000000000",
          "2019-07-31T00:00:00.000000000",
          "2019-08-31T00:00:00.000000000",
          "2019-09-30T00:00:00.000000000",
          "2019-10-31T00:00:00.000000000",
          "2019-11-30T00:00:00.000000000",
          "2019-12-31T00:00:00.000000000",
          "2020-01-31T00:00:00.000000000",
          "2020-02-29T00:00:00.000000000",
          "2020-03-31T00:00:00.000000000",
          "2020-04-30T00:00:00.000000000",
          "2020-05-31T00:00:00.000000000",
          "2020-06-30T00:00:00.000000000",
          "2020-07-31T00:00:00.000000000",
          "2020-08-31T00:00:00.000000000",
          "2020-09-30T00:00:00.000000000",
          "2020-10-31T00:00:00.000000000",
          "2020-11-30T00:00:00.000000000",
          "2020-12-31T00:00:00.000000000",
          "2021-01-31T00:00:00.000000000",
          "2021-02-28T00:00:00.000000000",
          "2021-03-31T00:00:00.000000000",
          "2021-04-30T00:00:00.000000000",
          "2021-05-31T00:00:00.000000000",
          "2021-06-30T00:00:00.000000000",
          "2021-07-31T00:00:00.000000000",
          "2021-08-31T00:00:00.000000000",
          "2021-09-30T00:00:00.000000000",
          "2021-10-31T00:00:00.000000000",
          "2021-11-30T00:00:00.000000000",
          "2021-12-31T00:00:00.000000000",
          "2022-01-31T00:00:00.000000000",
          "2022-02-28T00:00:00.000000000",
          "2022-03-31T00:00:00.000000000",
          "2022-04-30T00:00:00.000000000",
          "2022-05-31T00:00:00.000000000",
          "2022-06-30T00:00:00.000000000",
          "2022-07-31T00:00:00.000000000",
          "2022-08-31T00:00:00.000000000",
          "2022-09-30T00:00:00.000000000",
          "2022-10-31T00:00:00.000000000",
          "2022-11-30T00:00:00.000000000",
          "2022-12-31T00:00:00.000000000",
          "2023-01-31T00:00:00.000000000",
          "2023-02-28T00:00:00.000000000",
          "2023-03-31T00:00:00.000000000",
          "2023-04-30T00:00:00.000000000",
          "2023-05-31T00:00:00.000000000",
          "2023-06-30T00:00:00.000000000",
          "2023-07-31T00:00:00.000000000",
          "2023-08-31T00:00:00.000000000",
          "2023-09-30T00:00:00.000000000",
          "2023-10-31T00:00:00.000000000",
          "2023-11-30T00:00:00.000000000",
          "2023-12-31T00:00:00.000000000",
          "2024-01-31T00:00:00.000000000",
          "2024-02-29T00:00:00.000000000",
          "2024-03-31T00:00:00.000000000",
          "2024-04-30T00:00:00.000000000",
          "2024-05-31T00:00:00.000000000",
          "2024-06-30T00:00:00.000000000",
          "2024-07-31T00:00:00.000000000",
          "2024-08-31T00:00:00.000000000",
          "2024-09-30T00:00:00.000000000",
          "2024-10-31T00:00:00.000000000",
          "2024-11-30T00:00:00.000000000",
          "2024-12-31T00:00:00.000000000",
          "2025-01-31T00:00:00.000000000",
          "2025-02-28T00:00:00.000000000",
          "2025-03-31T00:00:00.000000000",
          "2025-04-30T00:00:00.000000000",
          "2025-05-31T00:00:00.000000000",
          "2025-06-30T00:00:00.000000000",
          "2025-07-31T00:00:00.000000000"
         ],
         "y": {
          "bdata": "SKG24G14PEL26K1a3q43QnC9VXkQBjRCSOHadxqbI0LX41C8HLQ8Qq4H7h7MiDVC1yO4go5jPUJ71GEZau06QnE9R8egjTZCexRVgBKEMEIULoxWU9A0QhSux34Sc0NCcb0j6TMvOkLNzPCrtzs1QjMzJ6p1FjVCrsegV/DeJUJIIX7zmzE3QuF6RohLdDpCH0Vy76G8QEKjMEnjfVk0QuG6Yg8+sDZCH8V8M00hMUKaWVKXVb41QmamTaKXFEJCmhmNhJ9kQUL2aD3h2GkwQsN1ncuymjlCmhn5hHEaQEKPAtj7tJEzQsP1Z9/A9TlCH8WM4mf4QEIzMwmcPTU4QuuRCEeerjpChWsn+OVzMkJS+OrJPTc4QuH6ARpmx0FCAAApBvLHQUIAAMMEteMxQuF6i9+NWj1Cheu9OTYTMkJSuPOsImc0QkghFCXJwjxCZqYa1uymOEIAQOLAcNA8Qq4nQBL3EUFCNDMwpLS3LEJIYXxMT/w3Qq5H5F+OFUNCChfOit/AP0L2KMvFy6s3QgqX8bW33ztCjsIlvPH3LkJcT0xutsY6QmYmD4uGMkBCuZ5a/8kQO0LDNdkrpnk+Qil8mx44s0FCR+GgDqdkMEKamZT1TOU9QvYoiAIHikNCSKE/P5T0O0IKN/LjC3dVQrjeGTt5rE5ChTPnlrAoZ0LsQfYpX9RQQguXdekMLERC10NXAAKgT0LXg++9e69HQqRwXJG4qD9CmtmC1UElQEIAgGMcLcBFQri+PZ6Rr01Ce9QsN2pLUUIAQARlI2VOQilsofxv1lFCpDBr3iv+TULCNYdgT0pIQmYGdmlllUZCuB5AGCJAUUIpfJc+/m5EQgCgwNl0UkRCFO4Cxad5P0IfBZ8oFJMqQs0s+5QHZkZCFY53gXMZRUI9qp7EbSZEQpq5fLTx+kBCXG9MRS2CRkJm5vCdOXs/QkiBaLDcXUJCFFby/jjhYUIAQBeVDlo9Qgp3sQoedkNCFa7p2eqiP0JcD+qtxjBEQs0MyBg1XUZCSCHF8mn4TEKkcNyGzMQ/Qh8FQ02atUJC4XpVq365QELh+oKRTWdFQmbmmQ+AqEFCmbntzJTNTkKaOSYm33NAQgDgjZpbSkdCcR1CE4MIQEIpnBElnRU/QjPT7D8n1UVCKbwG+A2GQ0JmZv8CE8s/Qmbm860mc0VChSs685dQP0K5PrN+HZpCQoUrBLXbs0lCR4Ek8QWCQUIfhUkeoqdFQjMzZ6Hqd0dCFe6LsEMPO0LXQxQyXrpEQkjBQj8uiUdC9mj+gXKWPkLheu5tXNM+QlIYjwx8zERCbz3hngqFK0LXQ5NWV+lEQg==",
          "dtype": "f8"
         }
        },
        {
         "hovertemplate": "%{x|%Y-%m}<br>Grants to States for Medicaid: %{y:,.2f}<extra></extra>",
         "mode": "lines",
         "name": "Grants to States for Medicaid",
         "stackgroup": "one",
         "type": "scatter",
         "x": [
          "2015-03-31T00:00:00.000000000",
          "2015-04-30T00:00:00.000000000",
          "2015-05-31T00:00:00.000000000",
          "2015-06-30T00:00:00.000000000",
          "2015-07-31T00:00:00.000000000",
          "2015-08-31T00:00:00.000000000",
          "2015-09-30T00:00:00.000000000",
          "2015-10-31T00:00:00.000000000",
          "2015-11-30T00:00:00.000000000",
          "2015-12-31T00:00:00.000000000",
          "2016-01-31T00:00:00.000000000",
          "2016-02-29T00:00:00.000000000",
          "2016-03-31T00:00:00.000000000",
          "2016-04-30T00:00:00.000000000",
          "2016-05-31T00:00:00.000000000",
          "2016-06-30T00:00:00.000000000",
          "2016-07-31T00:00:00.000000000",
          "2016-08-31T00:00:00.000000000",
          "2016-09-30T00:00:00.000000000",
          "2016-10-31T00:00:00.000000000",
          "2016-11-30T00:00:00.000000000",
          "2016-12-31T00:00:00.000000000",
          "2017-01-31T00:00:00.000000000",
          "2017-02-28T00:00:00.000000000",
          "2017-03-31T00:00:00.000000000",
          "2017-04-30T00:00:00.000000000",
          "2017-05-31T00:00:00.000000000",
          "2017-06-30T00:00:00.000000000",
          "2017-07-31T00:00:00.000000000",
          "2017-08-31T00:00:00.000000000",
          "2017-09-30T00:00:00.000000000",
          "2017-10-31T00:00:00.000000000",
          "2017-11-30T00:00:00.000000000",
          "2017-12-31T00:00:00.000000000",
          "2018-01-31T00:00:00.000000000",
          "2018-02-28T00:00:00.000000000",
          "2018-03-31T00:00:00.000000000",
          "2018-04-30T00:00:00.000000000",
          "2018-05-31T00:00:00.000000000",
          "2018-06-30T00:00:00.000000000",
          "2018-07-31T00:00:00.000000000",
          "2018-08-31T00:00:00.000000000",
          "2018-09-30T00:00:00.000000000",
          "2018-10-31T00:00:00.000000000",
          "2018-11-30T00:00:00.000000000",
          "2018-12-31T00:00:00.000000000",
          "2019-01-31T00:00:00.000000000",
          "2019-02-28T00:00:00.000000000",
          "2019-03-31T00:00:00.000000000",
          "2019-04-30T00:00:00.000000000",
          "2019-05-31T00:00:00.000000000",
          "2019-06-30T00:00:00.000000000",
          "2019-07-31T00:00:00.000000000",
          "2019-08-31T00:00:00.000000000",
          "2019-09-30T00:00:00.000000000",
          "2019-10-31T00:00:00.000000000",
          "2019-11-30T00:00:00.000000000",
          "2019-12-31T00:00:00.000000000",
          "2020-01-31T00:00:00.000000000",
          "2020-02-29T00:00:00.000000000",
          "2020-03-31T00:00:00.000000000",
          "2020-04-30T00:00:00.000000000",
          "2020-05-31T00:00:00.000000000",
          "2020-06-30T00:00:00.000000000",
          "2020-07-31T00:00:00.000000000",
          "2020-08-31T00:00:00.000000000",
          "2020-09-30T00:00:00.000000000",
          "2020-10-31T00:00:00.000000000",
          "2020-11-30T00:00:00.000000000",
          "2020-12-31T00:00:00.000000000",
          "2021-01-31T00:00:00.000000000",
          "2021-02-28T00:00:00.000000000",
          "2021-03-31T00:00:00.000000000",
          "2021-04-30T00:00:00.000000000",
          "2021-05-31T00:00:00.000000000",
          "2021-06-30T00:00:00.000000000",
          "2021-07-31T00:00:00.000000000",
          "2021-08-31T00:00:00.000000000",
          "2021-09-30T00:00:00.000000000",
          "2021-10-31T00:00:00.000000000",
          "2021-11-30T00:00:00.000000000",
          "2021-12-31T00:00:00.000000000",
          "2022-01-31T00:00:00.000000000",
          "2022-02-28T00:00:00.000000000",
          "2022-03-31T00:00:00.000000000",
          "2022-04-30T00:00:00.000000000",
          "2022-05-31T00:00:00.000000000",
          "2022-06-30T00:00:00.000000000",
          "2022-07-31T00:00:00.000000000",
          "2022-08-31T00:00:00.000000000",
          "2022-09-30T00:00:00.000000000",
          "2022-10-31T00:00:00.000000000",
          "2022-11-30T00:00:00.000000000",
          "2022-12-31T00:00:00.000000000",
          "2023-01-31T00:00:00.000000000",
          "2023-02-28T00:00:00.000000000",
          "2023-03-31T00:00:00.000000000",
          "2023-04-30T00:00:00.000000000",
          "2023-05-31T00:00:00.000000000",
          "2023-06-30T00:00:00.000000000",
          "2023-07-31T00:00:00.000000000",
          "2023-08-31T00:00:00.000000000",
          "2023-09-30T00:00:00.000000000",
          "2023-10-31T00:00:00.000000000",
          "2023-11-30T00:00:00.000000000",
          "2023-12-31T00:00:00.000000000",
          "2024-01-31T00:00:00.000000000",
          "2024-02-29T00:00:00.000000000",
          "2024-03-31T00:00:00.000000000",
          "2024-04-30T00:00:00.000000000",
          "2024-05-31T00:00:00.000000000",
          "2024-06-30T00:00:00.000000000",
          "2024-07-31T00:00:00.000000000",
          "2024-08-31T00:00:00.000000000",
          "2024-09-30T00:00:00.000000000",
          "2024-10-31T00:00:00.000000000",
          "2024-11-30T00:00:00.000000000",
          "2024-12-31T00:00:00.000000000",
          "2025-01-31T00:00:00.000000000",
          "2025-02-28T00:00:00.000000000",
          "2025-03-31T00:00:00.000000000",
          "2025-04-30T00:00:00.000000000",
          "2025-05-31T00:00:00.000000000",
          "2025-06-30T00:00:00.000000000",
          "2025-07-31T00:00:00.000000000"
         ],
         "y": {
          "bdata": "j8JTCSiTHUJxPd0raxobQq5HonsmhRpChetKcVyZHELXIyt3ZmsgQh+Fsk9hrxpC4XqDp4TKF0K4Hj3+myAeQuF6Ak6c3hhCexT3K08dHkJI4di7QIIaQnsUWcq0ARtCexTj6SdQHkIAAJQH38QcQlyPcZLx3xtC9igFHpCaG0Jm5n7QFAUgQo/C0ZDzGR1CAAB9DcGoHEK4HgzgPRscQnE9ZXzVXxxC16PAwJinIEIAAHURjHMbQilcHWZ73BxCuB551mOhH0JSuFYzseEaQsP1/yxhthtCCtc7Mge7GkJmZq3fK2EdQo/Ca651Fh9C7FFWk5hsHUIzM1quKI4dQqRwC4yZfh1CFK6kTxkyHUKamSeWlvwbQpqZNavDLhxCrse7222JIUKuR9eZyAoeQjMzE35ZnB9CPQqXZZh2G0JSuGuEm+0dQlwPd1TfoCBC7FF4zDikHkIK1+B/aLMdQjMzfSdOfxxCmpkk1akkH0LNzDklDaAeQvaoxXBnAiBCZmas5IQvIEK4nmzTbpIgQq5HiFuTSyBChet4TfgcH0IK1+OeAN8gQoVrTFraOSBC7NEhdMXzIEKPQrS3vDEgQnE9/bSk9R5Cmpm9MZurHkIpXB8Kqy8gQilcHym4ViFCexRBcEskIEIfhe8JthglQsP1pRnhjyJCMzMdEOSmI0LDdZ6MTiYkQs3MOqYOKCJCPYpXd9wyI0JxPSidJWIjQvYosBVHgCFCXA+JNuSeJEJSOL3kODgjQgCAg+iFgyJCzUxGDSMoJUIfhRffAlAlQo/CA6UWTyRCcT0H4z5AJEKk8PdskTwmQoVruJ3y0iRCpPCA++gWJUKuR54VXjIkQuH66vG0nyRCj8KKdoQZJ0L2qF/ho2QlQnG9gYQvJyZCj8LmaV+IKkIfhf3fg6wlQj0KGCCKPyhChevTZU/hJ0Kk8FudFPknQjMzm/+b7idC4fq9DQvxJ0Ip3D4NSNMlQjOzcllhCiZCAICJvnr6KEIzs8HYZE4mQtejEGpyFidC4Xp78x4CLkIp3Ljf5NgmQqTw5RHsIStCH4U65dFJKUKuRycvzuolQsP1f10XhyZChesfhR3IJkLNTPCLcVQlQmbmDr+zJCdChevD/+qJKEJcD4KlGHklQvao0VR6AClCClex4QdIKkIpXDRc78EnQjOz4lJqlChCClfmQKcIKEJcj6y7p74lQlwP5O7xEylCCld8OISXKkJm5rVf474oQgAAQbTZ0idCw3W5J8qrKUIpXKLR6NknQjMzdsINhShCzUzTghlhKkJI4ZANAhArQincgMR2HStC9qiLtCimKUJmZpY+suwsQg==",
          "dtype": "f8"
         }
        },
        {
         "hovertemplate": "%{x|%Y-%m}<br>Public Issues (Accrual Basis): %{y:,.2f}<extra></extra>",
         "mode": "lines",
         "name": "Public Issues (Accrual Basis)",
         "stackgroup": "one",
         "type": "scatter",
         "x": [
          "2015-03-31T00:00:00.000000000",
          "2015-04-30T00:00:00.000000000",
          "2015-05-31T00:00:00.000000000",
          "2015-06-30T00:00:00.000000000",
          "2015-07-31T00:00:00.000000000",
          "2015-08-31T00:00:00.000000000",
          "2015-09-30T00:00:00.000000000",
          "2015-10-31T00:00:00.000000000",
          "2015-11-30T00:00:00.000000000",
          "2015-12-31T00:00:00.000000000",
          "2016-01-31T00:00:00.000000000",
          "2016-02-29T00:00:00.000000000",
          "2016-03-31T00:00:00.000000000",
          "2016-04-30T00:00:00.000000000",
          "2016-05-31T00:00:00.000000000",
          "2016-06-30T00:00:00.000000000",
          "2016-07-31T00:00:00.000000000",
          "2016-08-31T00:00:00.000000000",
          "2016-09-30T00:00:00.000000000",
          "2016-10-31T00:00:00.000000000",
          "2016-11-30T00:00:00.000000000",
          "2016-12-31T00:00:00.000000000",
          "2017-01-31T00:00:00.000000000",
          "2017-02-28T00:00:00.000000000",
          "2017-03-31T00:00:00.000000000",
          "2017-04-30T00:00:00.000000000",
          "2017-05-31T00:00:00.000000000",
          "2017-06-30T00:00:00.000000000",
          "2017-07-31T00:00:00.000000000",
          "2017-08-31T00:00:00.000000000",
          "2017-09-30T00:00:00.000000000",
          "2017-10-31T00:00:00.000000000",
          "2017-11-30T00:00:00.000000000",
          "2017-12-31T00:00:00.000000000",
          "2018-01-31T00:00:00.000000000",
          "2018-02-28T00:00:00.000000000",
          "2018-03-31T00:00:00.000000000",
          "2018-04-30T00:00:00.000000000",
          "2018-05-31T00:00:00.000000000",
          "2018-06-30T00:00:00.000000000",
          "2018-07-31T00:00:00.000000000",
          "2018-08-31T00:00:00.000000000",
          "2018-09-30T00:00:00.000000000",
          "2018-10-31T00:00:00.000000000",
          "2018-11-30T00:00:00.000000000",
          "2018-12-31T00:00:00.000000000",
          "2019-01-31T00:00:00.000000000",
          "2019-02-28T00:00:00.000000000",
          "2019-03-31T00:00:00.000000000",
          "2019-04-30T00:00:00.000000000",
          "2019-05-31T00:00:00.000000000",
          "2019-06-30T00:00:00.000000000",
          "2019-07-31T00:00:00.000000000",
          "2019-08-31T00:00:00.000000000",
          "2019-09-30T00:00:00.000000000",
          "2019-10-31T00:00:00.000000000",
          "2019-11-30T00:00:00.000000000",
          "2019-12-31T00:00:00.000000000",
          "2020-01-31T00:00:00.000000000",
          "2020-02-29T00:00:00.000000000",
          "2020-03-31T00:00:00.000000000",
          "2020-04-30T00:00:00.000000000",
          "2020-05-31T00:00:00.000000000",
          "2020-06-30T00:00:00.000000000",
          "2020-07-31T00:00:00.000000000",
          "2020-08-31T00:00:00.000000000",
          "2020-09-30T00:00:00.000000000",
          "2020-10-31T00:00:00.000000000",
          "2020-11-30T00:00:00.000000000",
          "2020-12-31T00:00:00.000000000",
          "2021-01-31T00:00:00.000000000",
          "2021-02-28T00:00:00.000000000",
          "2021-03-31T00:00:00.000000000",
          "2021-04-30T00:00:00.000000000",
          "2021-05-31T00:00:00.000000000",
          "2021-06-30T00:00:00.000000000",
          "2021-07-31T00:00:00.000000000",
          "2021-08-31T00:00:00.000000000",
          "2021-09-30T00:00:00.000000000",
          "2021-10-31T00:00:00.000000000",
          "2021-11-30T00:00:00.000000000",
          "2021-12-31T00:00:00.000000000",
          "2022-01-31T00:00:00.000000000",
          "2022-02-28T00:00:00.000000000",
          "2022-03-31T00:00:00.000000000",
          "2022-04-30T00:00:00.000000000",
          "2022-05-31T00:00:00.000000000",
          "2022-06-30T00:00:00.000000000",
          "2022-07-31T00:00:00.000000000",
          "2022-08-31T00:00:00.000000000",
          "2022-09-30T00:00:00.000000000",
          "2022-10-31T00:00:00.000000000",
          "2022-11-30T00:00:00.000000000",
          "2022-12-31T00:00:00.000000000",
          "2023-01-31T00:00:00.000000000",
          "2023-02-28T00:00:00.000000000",
          "2023-03-31T00:00:00.000000000",
          "2023-04-30T00:00:00.000000000",
          "2023-05-31T00:00:00.000000000",
          "2023-06-30T00:00:00.000000000",
          "2023-07-31T00:00:00.000000000",
          "2023-08-31T00:00:00.000000000",
          "2023-09-30T00:00:00.000000000",
          "2023-10-31T00:00:00.000000000",
          "2023-11-30T00:00:00.000000000",
          "2023-12-31T00:00:00.000000000",
          "2024-01-31T00:00:00.000000000",
          "2024-02-29T00:00:00.000000000",
          "2024-03-31T00:00:00.000000000",
          "2024-04-30T00:00:00.000000000",
          "2024-05-31T00:00:00.000000000",
          "2024-06-30T00:00:00.000000000",
          "2024-07-31T00:00:00.000000000",
          "2024-08-31T00:00:00.000000000",
          "2024-09-30T00:00:00.000000000",
          "2024-10-31T00:00:00.000000000",
          "2024-11-30T00:00:00.000000000",
          "2024-12-31T00:00:00.000000000",
          "2025-01-31T00:00:00.000000000",
          "2025-02-28T00:00:00.000000000",
          "2025-03-31T00:00:00.000000000",
          "2025-04-30T00:00:00.000000000",
          "2025-05-31T00:00:00.000000000",
          "2025-06-30T00:00:00.000000000",
          "2025-07-31T00:00:00.000000000"
         ],
         "y": {
          "bdata": "16NOq81vDkLD9afYq4oWQgrXLpLi9hhCH4UFStHYFEKkcIHzc3cYQilcia+bKRdCmpmCr/YUE0LNzHUcn0MSQj0KEGMSdxFC9ijbt1WEE0KkcF5r9hoSQgAAjNYHsA9CMzPuUDf9FUKkcODl++AUQjMzfTlF9hhCuB77rLULGUKPwufRTAwZQnsU/N31HhhCUrg6mEoZEkIAAFPeHmEVQtejqKJSiRZC7FGGbVU3FkKPwjIwLEETQo/CXyiwYxNCzcxHsbjaG0LD9TOw2q4YQmZmCJ14shZCZmZ5u76AGEKkcGtVEyMXQkjhX0biKhdCcT1zHYOzFELD9dSLR+MZQoXrng0bWhxCrkdwdZqZFkJSuCCtSYcXQlK4yeGN8xRC16NxNoIlH0IK14K3UPodQrgeWZqrRxxCuB4NRDHZHUK4Hu/54GMfQvYoZmaRvxxCCtd0/35QGkLheiHlAzUcQlyPXX9hshxCpHDtVfUQH0J7FOIAIQkZQtejAgMLkxZCe5TpqbIfIEIpXJrnQk4hQj0Kw5ZMuSJChWtj5P4NIkJmZmN3tHwgQlyPz3GAFh5C4XpHkxT0HkLD9UYWtbgdQuF6T2R6ph1CXI/83gJLIEKuR1BrNdUcQjMzQvOfTRpCpPDEy4QEIUJSuJlXb9weQlK4xk8dOxhC9igRRZDZEELD9YUEauQZQo9CRWyWRCBCCtdoIq1SH0LXo1IFDoYdQoXrLwQuARpCuB55Rr0/GUIfhYZzFqoXQj0KRlAXPxdCrkdbKfwpHkJ7FPIXkkIfQuzR375WEyFCHwUVqamSIUJcj5VYmPAhQjMzOvJFyCJCAAAmoNZ2HkKuR7O44ykbQuxRiQ6JPxtC7NFG8n9kIkLNzFloVhYgQhSunnowWhtCXI/Nr01RI0KuRyUTAiQkQvao7/aieyhCuB5immXYIkK4HqNZX3QoQrgewuQk7StCrkf4EnFLIULNTKE8UWQiQq5HcvM5MCVCzczr3vadKELs0T20h0IlQs1MG4f+XyJCFC52uSCFLkKux+waKoQsQkhhAPy+sCtCcb31TIJuLUIzsxbKFXktQpqZe1dx3C5Cw3Xp9ITiLUL2KLufavAwQq6HFaCKGTBCmhk3HlY9L0IAgNsGOR0uQgrXGZHPiy1C9qimxcsRM0IAwCFZLhozQtejMq3f3DNCpLA1/8h5MkJIoXqEtxUyQs3MnQHo2zFCKdy8ZcesMUKPgh5HGRUyQh9FXxjKBDJCXE81pNF3MkLXY8pKp6ExQtdj6qqCfzBCpHDmSpEYNUJmJpP4srMzQprZ4gReUjNCcb2i9X4HM0Kk8KHa3l0zQg==",
          "dtype": "f8"
         }
        },
        {
         "hovertemplate": "%{x|%Y-%m}<br>Payments to Health Care Trust Funds: %{y:,.2f}<extra></extra>",
         "mode": "lines",
         "name": "Payments to Health Care Trust Funds",
         "stackgroup": "one",
         "type": "scatter",
         "x": [
          "2015-03-31T00:00:00.000000000",
          "2015-04-30T00:00:00.000000000",
          "2015-05-31T00:00:00.000000000",
          "2015-06-30T00:00:00.000000000",
          "2015-07-31T00:00:00.000000000",
          "2015-08-31T00:00:00.000000000",
          "2015-09-30T00:00:00.000000000",
          "2015-10-31T00:00:00.000000000",
          "2015-11-30T00:00:00.000000000",
          "2015-12-31T00:00:00.000000000",
          "2016-01-31T00:00:00.000000000",
          "2016-02-29T00:00:00.000000000",
          "2016-03-31T00:00:00.000000000",
          "2016-04-30T00:00:00.000000000",
          "2016-05-31T00:00:00.000000000",
          "2016-06-30T00:00:00.000000000",
          "2016-07-31T00:00:00.000000000",
          "2016-08-31T00:00:00.000000000",
          "2016-09-30T00:00:00.000000000",
          "2016-10-31T00:00:00.000000000",
          "2016-11-30T00:00:00.000000000",
          "2016-12-31T00:00:00.000000000",
          "2017-01-31T00:00:00.000000000",
          "2017-02-28T00:00:00.000000000",
          "2017-03-31T00:00:00.000000000",
          "2017-04-30T00:00:00.000000000",
          "2017-05-31T00:00:00.000000000",
          "2017-06-30T00:00:00.000000000",
          "2017-07-31T00:00:00.000000000",
          "2017-08-31T00:00:00.000000000",
          "2017-09-30T00:00:00.000000000",
          "2017-10-31T00:00:00.000000000",
          "2017-11-30T00:00:00.000000000",
          "2017-12-31T00:00:00.000000000",
          "2018-01-31T00:00:00.000000000",
          "2018-02-28T00:00:00.000000000",
          "2018-03-31T00:00:00.000000000",
          "2018-04-30T00:00:00.000000000",
          "2018-05-31T00:00:00.000000000",
          "2018-06-30T00:00:00.000000000",
          "2018-07-31T00:00:00.000000000",
          "2018-08-31T00:00:00.000000000",
          "2018-09-30T00:00:00.000000000",
          "2018-10-31T00:00:00.000000000",
          "2018-11-30T00:00:00.000000000",
          "2018-12-31T00:00:00.000000000",
          "2019-01-31T00:00:00.000000000",
          "2019-02-28T00:00:00.000000000",
          "2019-03-31T00:00:00.000000000",
          "2019-04-30T00:00:00.000000000",
          "2019-05-31T00:00:00.000000000",
          "2019-06-30T00:00:00.000000000",
          "2019-07-31T00:00:00.000000000",
          "2019-08-31T00:00:00.000000000",
          "2019-09-30T00:00:00.000000000",
          "2019-10-31T00:00:00.000000000",
          "2019-11-30T00:00:00.000000000",
          "2019-12-31T00:00:00.000000000",
          "2020-01-31T00:00:00.000000000",
          "2020-02-29T00:00:00.000000000",
          "2020-03-31T00:00:00.000000000",
          "2020-04-30T00:00:00.000000000",
          "2020-05-31T00:00:00.000000000",
          "2020-06-30T00:00:00.000000000",
          "2020-07-31T00:00:00.000000000",
          "2020-08-31T00:00:00.000000000",
          "2020-09-30T00:00:00.000000000",
          "2020-10-31T00:00:00.000000000",
          "2020-11-30T00:00:00.000000000",
          "2020-12-31T00:00:00.000000000",
          "2021-01-31T00:00:00.000000000",
          "2021-02-28T00:00:00.000000000",
          "2021-03-31T00:00:00.000000000",
          "2021-04-30T00:00:00.000000000",
          "2021-05-31T00:00:00.000000000",
          "2021-06-30T00:00:00.000000000",
          "2021-07-31T00:00:00.000000000",
          "2021-08-31T00:00:00.000000000",
          "2021-09-30T00:00:00.000000000",
          "2021-10-31T00:00:00.000000000",
          "2021-11-30T00:00:00.000000000",
          "2021-12-31T00:00:00.000000000",
          "2022-01-31T00:00:00.000000000",
          "2022-02-28T00:00:00.000000000",
          "2022-03-31T00:00:00.000000000",
          "2022-04-30T00:00:00.000000000",
          "2022-05-31T00:00:00.000000000",
          "2022-06-30T00:00:00.000000000",
          "2022-07-31T00:00:00.000000000",
          "2022-08-31T00:00:00.000000000",
          "2022-09-30T00:00:00.000000000",
          "2022-10-31T00:00:00.000000000",
          "2022-11-30T00:00:00.000000000",
          "2022-12-31T00:00:00.000000000",
          "2023-01-31T00:00:00.000000000",
          "2023-02-28T00:00:00.000000000",
          "2023-03-31T00:00:00.000000000",
          "2023-04-30T00:00:00.000000000",
          "2023-05-31T00:00:00.000000000",
          "2023-06-30T00:00:00.000000000",
          "2023-07-31T00:00:00.000000000",
          "2023-08-31T00:00:00.000000000",
          "2023-09-30T00:00:00.000000000",
          "2023-10-31T00:00:00.000000000",
          "2023-11-30T00:00:00.000000000",
          "2023-12-31T00:00:00.000000000",
          "2024-01-31T00:00:00.000000000",
          "2024-02-29T00:00:00.000000000",
          "2024-03-31T00:00:00.000000000",
          "2024-04-30T00:00:00.000000000",
          "2024-05-31T00:00:00.000000000",
          "2024-06-30T00:00:00.000000000",
          "2024-07-31T00:00:00.000000000",
          "2024-08-31T00:00:00.000000000",
          "2024-09-30T00:00:00.000000000",
          "2024-10-31T00:00:00.000000000",
          "2024-11-30T00:00:00.000000000",
          "2024-12-31T00:00:00.000000000",
          "2025-01-31T00:00:00.000000000",
          "2025-02-28T00:00:00.000000000",
          "2025-03-31T00:00:00.000000000",
          "2025-04-30T00:00:00.000000000",
          "2025-05-31T00:00:00.000000000",
          "2025-06-30T00:00:00.000000000",
          "2025-07-31T00:00:00.000000000"
         ],
         "y": {
          "bdata": "mpmcpYoMEELD9UHhKGkeQnsUlFjZVhRCj8L/24rbFkLD9eb7j4MZQo/C8cBLaQ9C16NtrBFDG0LXo9fujZUeQqRwj+0REA9C16NcVmUqGELsUdn7+acZQuF6jPgV5xRCe5TbhNM0IkJSOBxLdjsgQrgeQdVBRBVC7FFcRtnNGUJSuMHhHPQVQilctJqvlxVCUrhK3qWAGEL2KLQzxuUdQmbmCX+HfyBCrke0dwsNFkJxPRVonzMbQq5H8ExZSBVChevdi52cFkLNzG4eraogQkjhV3/xdxZCSOE9e9DbGEIK1xMxUOIXQhSu+TAooRZCXI98LW3SGkIzM5OC2esZQnE98VkhFRZCH4XtKOTSFUJ7FGAdCUkeQrgeJNNn3BhCAAAW3q5AGEKaGWyDAR0iQnE9AoWy3RhCFK44THZyHEJxPesa290ZQjMz5PwVbSBCKVwpTVnfFkJcj4lgP1YZQo/CDukaBRhCPQqhXzmzGEIK10yeocIfQh+FfD8WohpCmpkiA0B7GEJSOMtC07giQpqZ3Dnx3RtCheupkRZwHEIAAENobV0aQkjh1znvrhtCSOE+2zaBHUIUrqZGcvAbQgAAhS2TghpCH4X26CTfGUKk8OrYGxQhQmZmrG079htCH4Wo44+xGkI9CjCiSdEfQnsU+JL+XhxCrkdrHpGzHEJIYRevpcYlQrgexIzLqB1CmpmIsaiaHkJcDw0q8uQhQlK41kkLSxtCM7P3jmkzIUL2KPLki8AbQrgeA5tKhilCrkcPxF0+H0IpXDb3os4gQtejCSkE6CJCKdzxsaduIELNTOu4Eh4hQqRwBpj7Sx5CMzMKRi2QIEIUrgxIslYeQmZmGTtHvhtCpPAfkbNlI0KaGUE8uJckQgrXCpZ2OCBCKdyzaUtaIUJmZr1Af6coQincv8PRpiFCXA+Tk65gI0J7lLkce4AhQsN1CZaDqiFCKdz1V2HzIkIULqWoNe8hQlK4hCzngB9C9qhfg67TI0IUrjmj/9IkQnsUdjQ4DyBCUjj/u9sQIULhenm1+XkoQnE9oNyj4SFCUjgUK0KkI0KPwvNiRYghQgrXtt6sdCFCSGGxgSspI0I9ikMRzW4hQpqZNy6fRyBCUriUhHTgIUJSOH0fcXQnQriejTeXqCFCXI8seIx2IkIULvtof0MsQinc8WXJniNCuB7GjrvcJULD9S4Y3mgjQsP12QTuOCRCmhkWtPhbJUJ7FF46KZEjQhQueVqNoCRC7NFYvZAiJUJI4ZwPrjkqQs1MhuY+4yRCPQoRd5ThJEIK146HBSkuQj2KzLG6pCRCMzOSG5Z1K0IfhZ1XSdMmQg==",
          "dtype": "f8"
         }
        },
        {
         "hovertemplate": "%{x|%Y-%m}<br>Other: %{y:,.2f}<extra></extra>",
         "mode": "lines",
         "name": "Other",
         "stackgroup": "one",
         "type": "scatter",
         "x": [
          "2015-03-31T00:00:00.000000000",
          "2015-04-30T00:00:00.000000000",
          "2015-05-31T00:00:00.000000000",
          "2015-06-30T00:00:00.000000000",
          "2015-07-31T00:00:00.000000000",
          "2015-08-31T00:00:00.000000000",
          "2015-09-30T00:00:00.000000000",
          "2015-10-31T00:00:00.000000000",
          "2015-11-30T00:00:00.000000000",
          "2015-12-31T00:00:00.000000000",
          "2016-01-31T00:00:00.000000000",
          "2016-02-29T00:00:00.000000000",
          "2016-03-31T00:00:00.000000000",
          "2016-04-30T00:00:00.000000000",
          "2016-05-31T00:00:00.000000000",
          "2016-06-30T00:00:00.000000000",
          "2016-07-31T00:00:00.000000000",
          "2016-08-31T00:00:00.000000000",
          "2016-09-30T00:00:00.000000000",
          "2016-10-31T00:00:00.000000000",
          "2016-11-30T00:00:00.000000000",
          "2016-12-31T00:00:00.000000000",
          "2017-01-31T00:00:00.000000000",
          "2017-02-28T00:00:00.000000000",
          "2017-03-31T00:00:00.000000000",
          "2017-04-30T00:00:00.000000000",
          "2017-05-31T00:00:00.000000000",
          "2017-06-30T00:00:00.000000000",
          "2017-07-31T00:00:00.000000000",
          "2017-08-31T00:00:00.000000000",
          "2017-09-30T00:00:00.000000000",
          "2017-10-31T00:00:00.000000000",
          "2017-11-30T00:00:00.000000000",
          "2017-12-31T00:00:00.000000000",
          "2018-01-31T00:00:00.000000000",
          "2018-02-28T00:00:00.000000000",
          "2018-03-31T00:00:00.000000000",
          "2018-04-30T00:00:00.000000000",
          "2018-05-31T00:00:00.000000000",
          "2018-06-30T00:00:00.000000000",
          "2018-07-31T00:00:00.000000000",
          "2018-08-31T00:00:00.000000000",
          "2018-09-30T00:00:00.000000000",
          "2018-10-31T00:00:00.000000000",
          "2018-11-30T00:00:00.000000000",
          "2018-12-31T00:00:00.000000000",
          "2019-01-31T00:00:00.000000000",
          "2019-02-28T00:00:00.000000000",
          "2019-03-31T00:00:00.000000000",
          "2019-04-30T00:00:00.000000000",
          "2019-05-31T00:00:00.000000000",
          "2019-06-30T00:00:00.000000000",
          "2019-07-31T00:00:00.000000000",
          "2019-08-31T00:00:00.000000000",
          "2019-09-30T00:00:00.000000000",
          "2019-10-31T00:00:00.000000000",
          "2019-11-30T00:00:00.000000000",
          "2019-12-31T00:00:00.000000000",
          "2020-01-31T00:00:00.000000000",
          "2020-02-29T00:00:00.000000000",
          "2020-03-31T00:00:00.000000000",
          "2020-04-30T00:00:00.000000000",
          "2020-05-31T00:00:00.000000000",
          "2020-06-30T00:00:00.000000000",
          "2020-07-31T00:00:00.000000000",
          "2020-08-31T00:00:00.000000000",
          "2020-09-30T00:00:00.000000000",
          "2020-10-31T00:00:00.000000000",
          "2020-11-30T00:00:00.000000000",
          "2020-12-31T00:00:00.000000000",
          "2021-01-31T00:00:00.000000000",
          "2021-02-28T00:00:00.000000000",
          "2021-03-31T00:00:00.000000000",
          "2021-04-30T00:00:00.000000000",
          "2021-05-31T00:00:00.000000000",
          "2021-06-30T00:00:00.000000000",
          "2021-07-31T00:00:00.000000000",
          "2021-08-31T00:00:00.000000000",
          "2021-09-30T00:00:00.000000000",
          "2021-10-31T00:00:00.000000000",
          "2021-11-30T00:00:00.000000000",
          "2021-12-31T00:00:00.000000000",
          "2022-01-31T00:00:00.000000000",
          "2022-02-28T00:00:00.000000000",
          "2022-03-31T00:00:00.000000000",
          "2022-04-30T00:00:00.000000000",
          "2022-05-31T00:00:00.000000000",
          "2022-06-30T00:00:00.000000000",
          "2022-07-31T00:00:00.000000000",
          "2022-08-31T00:00:00.000000000",
          "2022-09-30T00:00:00.000000000",
          "2022-10-31T00:00:00.000000000",
          "2022-11-30T00:00:00.000000000",
          "2022-12-31T00:00:00.000000000",
          "2023-01-31T00:00:00.000000000",
          "2023-02-28T00:00:00.000000000",
          "2023-03-31T00:00:00.000000000",
          "2023-04-30T00:00:00.000000000",
          "2023-05-31T00:00:00.000000000",
          "2023-06-30T00:00:00.000000000",
          "2023-07-31T00:00:00.000000000",
          "2023-08-31T00:00:00.000000000",
          "2023-09-30T00:00:00.000000000",
          "2023-10-31T00:00:00.000000000",
          "2023-11-30T00:00:00.000000000",
          "2023-12-31T00:00:00.000000000",
          "2024-01-31T00:00:00.000000000",
          "2024-02-29T00:00:00.000000000",
          "2024-03-31T00:00:00.000000000",
          "2024-04-30T00:00:00.000000000",
          "2024-05-31T00:00:00.000000000",
          "2024-06-30T00:00:00.000000000",
          "2024-07-31T00:00:00.000000000",
          "2024-08-31T00:00:00.000000000",
          "2024-09-30T00:00:00.000000000",
          "2024-10-31T00:00:00.000000000",
          "2024-11-30T00:00:00.000000000",
          "2024-12-31T00:00:00.000000000",
          "2025-01-31T00:00:00.000000000",
          "2025-02-28T00:00:00.000000000",
          "2025-03-31T00:00:00.000000000",
          "2025-04-30T00:00:00.000000000",
          "2025-05-31T00:00:00.000000000",
          "2025-06-30T00:00:00.000000000",
          "2025-07-31T00:00:00.000000000"
         ],
         "y": {
          "bdata": "XI/6LK7y6UG4HjW7bG7iQXE9ytUNDuNBPQpXSYGi7EEzM1O7MJboQUjhLDSYIwNCZmZ+R14W8kGF69HtelDfQcP1lAOfBfdBMzOD/iPu8kHsUWCcE6bkQcP1CGmmzt9BMzNHqBKT/EG4HpVKoQrjQR+F24vqq+JBzcxQZ0hQ8UFcj6reMInlQfYobBYyGPlBXI9Wx+n99EEpXDcVMl/nQexRTCMiBPJBrkfZ5BM37EFSuP7inajvQYXrkWT5JetBexSOa7rL6UGuR0k3vcDiQSlcXz1dv+pBAADAjdOH7UEfhWPW/aLkQexRlERcr/hB4XpQlgnM90EfhRsIh3zyQVyPwuQNn+dB9iicckix8UFmZoYIMiHnQUjhwi/teelB9ijsCs2g7kEAAIANzZveQVyPcqRVKuVBFK7feFfR8kEzM7uoB13wQZqZQQpKHu9BH4W7Q6Rs6EEK13PEcRfzQT0KF+yQLO9Bw/X4kwrx+UFmZubAHKviQXE9Aj2jc+9BZmamGFqf6UFmZh5CBA7uQQAAJDS1J/RBhest1hsE+EGuR4npYqPvQQAAQF9L0vVBcT2qlXzv9kGkcDFZ+5oAQgrXs+6+FvVB4Xpcj78K+kHD9cBy/+LvQXsUok0Ex/hBuB5xb4lH9UHh2vrJ9MtLQuH6Mk8hbS5CPQpN4BnuFUI9Cn1p6jMTQvYoehH0eg9C9iggwN8iCUJSuE67H5ATQnE9cCy+OwpC9igMrJMuBUJc71kYVVFBQpqZYSA0TxFCPWqKR4ZoVEKkcCsqNIAyQo9CTYXhjSNCpHADK6NyHkKkcCzeEHEVQpqZ/GFfPBVC4Xq6em0iFkJSuNfwpbYTQj0KtNOzlRRCPQrrEYwqFEJmZqcpcQsSQtejnRS1yxNC7FHHkIf0F0JxPa483g0YQjMzgIKNxRRCuB6Dvz+AF0KuRw9y6CYQQpqZANMTwxJCFK6mx77QGUIpXJns4IUUQj0KX1DeLwZCPQqqy25wF0IUruGWIEsHQnE95vZx6w1C16OdPDm6E0IfhVX39D4KQq5HhrLw8xdCmplKmFH1GUJI4fpgHHIKQrgeWd7tcAdChesjs++XDUIzM+8nlNENQgrXJ0Z0tg5CUrioKdE1CkJxPSBeJ7oFQsP18h+kjQVC9iieKpVxCkL2KADfPmkJQlyPXWhT6RFCj8KjkHAkEUIzM5X0STUMQgAAbrBXngxCpHBImIrrE0LhekJah5wJQtejYpK8AA5C4XpKnJL7EkJxPd4Jn+MLQsP1oA+tSQNCj8IhVyx0D0IpXK96NNQTQuxRLj0jLBBC7FE6KcVzEUJxPdUakQgUQg==",
          "dtype": "f8"
         }
        },
        {
         "hovertemplate": "%{x|%Y-%m}<br>Department of the Air Force: %{y:,.2f}<extra></extra>",
         "mode": "lines",
         "name": "Department of the Air Force",
         "stackgroup": "one",
         "type": "scatter",
         "x": [
          "2015-03-31T00:00:00.000000000",
          "2015-04-30T00:00:00.000000000",
          "2015-05-31T00:00:00.000000000",
          "2015-06-30T00:00:00.000000000",
          "2015-07-31T00:00:00.000000000",
          "2015-08-31T00:00:00.000000000",
          "2015-09-30T00:00:00.000000000",
          "2015-10-31T00:00:00.000000000",
          "2015-11-30T00:00:00.000000000",
          "2015-12-31T00:00:00.000000000",
          "2016-01-31T00:00:00.000000000",
          "2016-02-29T00:00:00.000000000",
          "2016-03-31T00:00:00.000000000",
          "2016-04-30T00:00:00.000000000",
          "2016-05-31T00:00:00.000000000",
          "2016-06-30T00:00:00.000000000",
          "2016-07-31T00:00:00.000000000",
          "2016-08-31T00:00:00.000000000",
          "2016-09-30T00:00:00.000000000",
          "2016-10-31T00:00:00.000000000",
          "2016-11-30T00:00:00.000000000",
          "2016-12-31T00:00:00.000000000",
          "2017-01-31T00:00:00.000000000",
          "2017-02-28T00:00:00.000000000",
          "2017-03-31T00:00:00.000000000",
          "2017-04-30T00:00:00.000000000",
          "2017-05-31T00:00:00.000000000",
          "2017-06-30T00:00:00.000000000",
          "2017-07-31T00:00:00.000000000",
          "2017-08-31T00:00:00.000000000",
          "2017-09-30T00:00:00.000000000",
          "2017-10-31T00:00:00.000000000",
          "2017-11-30T00:00:00.000000000",
          "2017-12-31T00:00:00.000000000",
          "2018-01-31T00:00:00.000000000",
          "2018-02-28T00:00:00.000000000",
          "2018-03-31T00:00:00.000000000",
          "2018-04-30T00:00:00.000000000",
          "2018-05-31T00:00:00.000000000",
          "2018-06-30T00:00:00.000000000",
          "2018-07-31T00:00:00.000000000",
          "2018-08-31T00:00:00.000000000",
          "2018-09-30T00:00:00.000000000",
          "2018-10-31T00:00:00.000000000",
          "2018-11-30T00:00:00.000000000",
          "2018-12-31T00:00:00.000000000",
          "2019-01-31T00:00:00.000000000",
          "2019-02-28T00:00:00.000000000",
          "2019-03-31T00:00:00.000000000",
          "2019-04-30T00:00:00.000000000",
          "2019-05-31T00:00:00.000000000",
          "2019-06-30T00:00:00.000000000",
          "2019-07-31T00:00:00.000000000",
          "2019-08-31T00:00:00.000000000",
          "2019-09-30T00:00:00.000000000",
          "2019-10-31T00:00:00.000000000",
          "2019-11-30T00:00:00.000000000",
          "2019-12-31T00:00:00.000000000",
          "2020-01-31T00:00:00.000000000",
          "2020-02-29T00:00:00.000000000",
          "2020-03-31T00:00:00.000000000",
          "2020-04-30T00:00:00.000000000",
          "2020-05-31T00:00:00.000000000",
          "2020-06-30T00:00:00.000000000",
          "2020-07-31T00:00:00.000000000",
          "2020-08-31T00:00:00.000000000",
          "2020-09-30T00:00:00.000000000",
          "2020-10-31T00:00:00.000000000",
          "2020-11-30T00:00:00.000000000",
          "2020-12-31T00:00:00.000000000",
          "2021-01-31T00:00:00.000000000",
          "2021-02-28T00:00:00.000000000",
          "2021-03-31T00:00:00.000000000",
          "2021-04-30T00:00:00.000000000",
          "2021-05-31T00:00:00.000000000",
          "2021-06-30T00:00:00.000000000",
          "2021-07-31T00:00:00.000000000",
          "2021-08-31T00:00:00.000000000",
          "2021-09-30T00:00:00.000000000",
          "2021-10-31T00:00:00.000000000",
          "2021-11-30T00:00:00.000000000",
          "2021-12-31T00:00:00.000000000",
          "2022-01-31T00:00:00.000000000",
          "2022-02-28T00:00:00.000000000",
          "2022-03-31T00:00:00.000000000",
          "2022-04-30T00:00:00.000000000",
          "2022-05-31T00:00:00.000000000",
          "2022-06-30T00:00:00.000000000",
          "2022-07-31T00:00:00.000000000",
          "2022-08-31T00:00:00.000000000",
          "2022-09-30T00:00:00.000000000",
          "2022-10-31T00:00:00.000000000",
          "2022-11-30T00:00:00.000000000",
          "2022-12-31T00:00:00.000000000",
          "2023-01-31T00:00:00.000000000",
          "2023-02-28T00:00:00.000000000",
          "2023-03-31T00:00:00.000000000",
          "2023-04-30T00:00:00.000000000",
          "2023-05-31T00:00:00.000000000",
          "2023-06-30T00:00:00.000000000",
          "2023-07-31T00:00:00.000000000",
          "2023-08-31T00:00:00.000000000",
          "2023-09-30T00:00:00.000000000",
          "2023-10-31T00:00:00.000000000",
          "2023-11-30T00:00:00.000000000",
          "2023-12-31T00:00:00.000000000",
          "2024-01-31T00:00:00.000000000",
          "2024-02-29T00:00:00.000000000",
          "2024-03-31T00:00:00.000000000",
          "2024-04-30T00:00:00.000000000",
          "2024-05-31T00:00:00.000000000",
          "2024-06-30T00:00:00.000000000",
          "2024-07-31T00:00:00.000000000",
          "2024-08-31T00:00:00.000000000",
          "2024-09-30T00:00:00.000000000",
          "2024-10-31T00:00:00.000000000",
          "2024-11-30T00:00:00.000000000",
          "2024-12-31T00:00:00.000000000",
          "2025-01-31T00:00:00.000000000",
          "2025-02-28T00:00:00.000000000",
          "2025-03-31T00:00:00.000000000",
          "2025-04-30T00:00:00.000000000",
          "2025-05-31T00:00:00.000000000",
          "2025-06-30T00:00:00.000000000",
          "2025-07-31T00:00:00.000000000"
         ],
         "y": {
          "bdata": "exSSTByZDELXo6LTw9MEQjMzL08ApQdCpHC9qrzxB0JSuCT/dmgGQkjhBLPPIwJC16NcXqgYCkLNzMyoTlsGQvYoosyCJAhCPQqDv2pyDEJcjy6LBMMFQkjhrsVsbAJCMzN3LL3JCkIfhclTTj8HQgAApOha6QJCzcxwEoNWBkIfhTVt6ZYEQvYoQJ7AFwdCj8JH61exDUL2KGrqoqoDQlK4ShkucQlCSOGuZ7NqDEJxPRxMjHEEQoXra1QuJQhCAACEeMVJDEJcjy4TpWMDQjMz6V/EQghCXI885D/lCUJSuDiss9AHQgAAwH7ajgdCUrg6zXmHDEJSuK6X3msMQtejTDPakAVCXI8mhGfgDkKkcANKuIoCQs3MxhWIuApC7FHOt1UeC0LXo3ycgOkEQhSu/Vk6qwlCSOHoGk4kD0JmZnbGpCwHQmZm4HMuWQ5Cj8Lljwk/C0I9Cv97LDcLQs3MvAhIJw9CMzPlT9thCkJSuK7lLBALQsP1nHtauw5Cw/XYSNclDUJxPWbRy4AMQj0KOvz9gRFCSOEcYaZFCUK4Ho29iVQMQsP1rk9TBQ9CcT2Alh5qCkJcj5zOdFgNQuF6H6dlTRFCw/XRz1m9EEIK13XoleYIQuF6sLHDuA1CexTU2/JXEkIUrrtQyV8LQlK4UubYoRBC9ijSeMe9DUKkcBUXKLoQQsP1tgGbswdCH4Xd/GcFEEJcjz+SoyoRQuxROqBkkwhCexT6B7tPEEIAAP4M7F8PQuxR1AtafwpCAABUd8QNE0Jcj2bzNC8TQoXr+59prgtCXI/uaK/tD0IpXImw8PkPQjMzeWVcLQtCw/VgexLgEEIfhcEQrn8NQhSuqxrUexJCZmYdKXI4EkKuR6OFTa4FQh+FJw5PyxBCcT3y69lxDUIK12FofWoLQjMzTsZBXxBCj8JJ5vwhD0KuR+nq8i0PQh+Fz+zOURFCAABH6Qk5FULhelBl+oEMQqRwk8sc1xRCj8KbnftyEkLsURxMtRoHQnE9oNZChA5CUrjNztRTFUIpXL28CCENQuF6/1XUNxFCXI95iyudFULD9dISW34NQs3MFrBzfBFCFK7o4cyfF0KuR8sM4GcNQgrXsf0y4BNCzczsVsnCFUIAAFLTB4EQQnE9JE8O7RBCUrgP2JcCE0KuR+A6m3QQQjMzbpdO3xRCUrj00LwyEkJcj1yVdjgSQq5HkZ5J7hRCCtdbn+/MFkJxPUwKWQYUQuxRsrgYehRCj8K9KdEjFkKF68QeXMoSQmZm1YXzFhFCUrjazfyDEEKF63vZYx0SQo/COt78XRNCmpkkP8GVEkKamRI3FwsTQg==",
          "dtype": "f8"
         }
        },
        {
         "hovertemplate": "%{x|%Y-%m}<br>Department of the Navy: %{y:,.2f}<extra></extra>",
         "mode": "lines",
         "name": "Department of the Navy",
         "stackgroup": "one",
         "type": "scatter",
         "x": [
          "2015-03-31T00:00:00.000000000",
          "2015-04-30T00:00:00.000000000",
          "2015-05-31T00:00:00.000000000",
          "2015-06-30T00:00:00.000000000",
          "2015-07-31T00:00:00.000000000",
          "2015-08-31T00:00:00.000000000",
          "2015-09-30T00:00:00.000000000",
          "2015-10-31T00:00:00.000000000",
          "2015-11-30T00:00:00.000000000",
          "2015-12-31T00:00:00.000000000",
          "2016-01-31T00:00:00.000000000",
          "2016-02-29T00:00:00.000000000",
          "2016-03-31T00:00:00.000000000",
          "2016-04-30T00:00:00.000000000",
          "2016-05-31T00:00:00.000000000",
          "2016-06-30T00:00:00.000000000",
          "2016-07-31T00:00:00.000000000",
          "2016-08-31T00:00:00.000000000",
          "2016-09-30T00:00:00.000000000",
          "2016-10-31T00:00:00.000000000",
          "2016-11-30T00:00:00.000000000",
          "2016-12-31T00:00:00.000000000",
          "2017-01-31T00:00:00.000000000",
          "2017-02-28T00:00:00.000000000",
          "2017-03-31T00:00:00.000000000",
          "2017-04-30T00:00:00.000000000",
          "2017-05-31T00:00:00.000000000",
          "2017-06-30T00:00:00.000000000",
          "2017-07-31T00:00:00.000000000",
          "2017-08-31T00:00:00.000000000",
          "2017-09-30T00:00:00.000000000",
          "2017-10-31T00:00:00.000000000",
          "2017-11-30T00:00:00.000000000",
          "2017-12-31T00:00:00.000000000",
          "2018-01-31T00:00:00.000000000",
          "2018-02-28T00:00:00.000000000",
          "2018-03-31T00:00:00.000000000",
          "2018-04-30T00:00:00.000000000",
          "2018-05-31T00:00:00.000000000",
          "2018-06-30T00:00:00.000000000",
          "2018-07-31T00:00:00.000000000",
          "2018-08-31T00:00:00.000000000",
          "2018-09-30T00:00:00.000000000",
          "2018-10-31T00:00:00.000000000",
          "2018-11-30T00:00:00.000000000",
          "2018-12-31T00:00:00.000000000",
          "2019-01-31T00:00:00.000000000",
          "2019-02-28T00:00:00.000000000",
          "2019-03-31T00:00:00.000000000",
          "2019-04-30T00:00:00.000000000",
          "2019-05-31T00:00:00.000000000",
          "2019-06-30T00:00:00.000000000",
          "2019-07-31T00:00:00.000000000",
          "2019-08-31T00:00:00.000000000",
          "2019-09-30T00:00:00.000000000",
          "2019-10-31T00:00:00.000000000",
          "2019-11-30T00:00:00.000000000",
          "2019-12-31T00:00:00.000000000",
          "2020-01-31T00:00:00.000000000",
          "2020-02-29T00:00:00.000000000",
          "2020-03-31T00:00:00.000000000",
          "2020-04-30T00:00:00.000000000",
          "2020-05-31T00:00:00.000000000",
          "2020-06-30T00:00:00.000000000",
          "2020-07-31T00:00:00.000000000",
          "2020-08-31T00:00:00.000000000",
          "2020-09-30T00:00:00.000000000",
          "2020-10-31T00:00:00.000000000",
          "2020-11-30T00:00:00.000000000",
          "2020-12-31T00:00:00.000000000",
          "2021-01-31T00:00:00.000000000",
          "2021-02-28T00:00:00.000000000",
          "2021-03-31T00:00:00.000000000",
          "2021-04-30T00:00:00.000000000",
          "2021-05-31T00:00:00.000000000",
          "2021-06-30T00:00:00.000000000",
          "2021-07-31T00:00:00.000000000",
          "2021-08-31T00:00:00.000000000",
          "2021-09-30T00:00:00.000000000",
          "2021-10-31T00:00:00.000000000",
          "2021-11-30T00:00:00.000000000",
          "2021-12-31T00:00:00.000000000",
          "2022-01-31T00:00:00.000000000",
          "2022-02-28T00:00:00.000000000",
          "2022-03-31T00:00:00.000000000",
          "2022-04-30T00:00:00.000000000",
          "2022-05-31T00:00:00.000000000",
          "2022-06-30T00:00:00.000000000",
          "2022-07-31T00:00:00.000000000",
          "2022-08-31T00:00:00.000000000",
          "2022-09-30T00:00:00.000000000",
          "2022-10-31T00:00:00.000000000",
          "2022-11-30T00:00:00.000000000",
          "2022-12-31T00:00:00.000000000",
          "2023-01-31T00:00:00.000000000",
          "2023-02-28T00:00:00.000000000",
          "2023-03-31T00:00:00.000000000",
          "2023-04-30T00:00:00.000000000",
          "2023-05-31T00:00:00.000000000",
          "2023-06-30T00:00:00.000000000",
          "2023-07-31T00:00:00.000000000",
          "2023-08-31T00:00:00.000000000",
          "2023-09-30T00:00:00.000000000",
          "2023-10-31T00:00:00.000000000",
          "2023-11-30T00:00:00.000000000",
          "2023-12-31T00:00:00.000000000",
          "2024-01-31T00:00:00.000000000",
          "2024-02-29T00:00:00.000000000",
          "2024-03-31T00:00:00.000000000",
          "2024-04-30T00:00:00.000000000",
          "2024-05-31T00:00:00.000000000",
          "2024-06-30T00:00:00.000000000",
          "2024-07-31T00:00:00.000000000",
          "2024-08-31T00:00:00.000000000",
          "2024-09-30T00:00:00.000000000",
          "2024-10-31T00:00:00.000000000",
          "2024-11-30T00:00:00.000000000",
          "2024-12-31T00:00:00.000000000",
          "2025-01-31T00:00:00.000000000",
          "2025-02-28T00:00:00.000000000",
          "2025-03-31T00:00:00.000000000",
          "2025-04-30T00:00:00.000000000",
          "2025-05-31T00:00:00.000000000",
          "2025-06-30T00:00:00.000000000",
          "2025-07-31T00:00:00.000000000"
         ],
         "y": {
          "bdata": "7FEGEp52BkIfhZGXXMsHQgAAlohFvwdCUriqEbPkCUK4HlurxOULQmZmtC2uwwRCuB63aTGBC0LsUergKrYMQs3MiJCdHQVCH4VrZJzqDELD9eICcHMDQo/C50VvBgpCUrjkDTZcCkJcj0al9oAKQmZmyEISoQRCcT2KsiSrCULXo0AZEXUIQjMzyeJbKgpCZmZmFlfkC0JmZjqahv4HQoXrUZVskQdCAAAa5ZXYDUIUrmtURm8CQo/CkUImygVCZmbIo+gxDUIUrq0B648EQnE9pBNYPApCexQ45sPSDkKuR8GTg3UFQgrXJXbGrghCH4XnE4UhDUJxPd6rfjEKQtej/iuv2wdCUrjewW01DkLhetS4wPEDQrgej5rjpgdCCtc3D2BODkIAACwUOcQGQs3MSBr0pApC7FFvIChzEEIUrmuBVjoGQtejiP2XKg5CH4VrhYzZBkJmZhCZy8IOQo/CK03RSQ1CCtfFZB4MDUJSuG6eRy4GQmZm5qZrZQlC4XqWFMOvDULhevC0ftQLQq5HQxYrjg9Cmpn9DuKhCUI9CouWTk8LQmZmcC1XqQ9CXI/QXpHgCkJSuB4Us+oPQmZmpKgOkw9CpHApzXx5DkKF6wWYL00KQs3M1uzaPAtCw/WIJ+BlDUKPwlME18gNQgAA+o6a9w5CmpnTPzdeDkKamaUc5TQQQsP1Sqwb3glCSOHQoyKnEELhej3gX/ESQo/CtfXDrgpCj8Ig3tUOEkKF6xf/wpoHQilcV8UxTQxCj8IjqCgREkIzM26wNNURQpqZp5MTuwpC7FHuTDNFD0K4HqaoKXwQQrgeg3aW6wtCuB4Br5/7EEIUrqncxCMRQgAAlEvEgQ5CrkfxwXDtEkKkcBuWZO0HQnE95vdE1wxChesuHE64EUJI4QWb43YQQrgeB7gfQwxC4XpqtEM9EEKamckYaz0OQgAA7jY6sg9CKVyyhWS9FEI9CpkhY9YPQnE9Am3t1A9C7FEemYcOFEJSuDJqwe0JQh+FaKtYHhBCuB5UYe5dFUIfhccAt2cMQsP1dYrRGRFC9ijpM0npE0K4Ht2062ENQilcnB1+oxFCXI+X+dObFUIzM8rUqEkSQjMzRjldoRBC9ijoN+riFUKuR70r6esLQgrXuGXSThBCXI9JRsauEkLNzHkvfeAQQqRwqA9LUxRCcT0K/hbpEEKamR1BO3ERQilcTL/j6hRCFK64hWLxEkK4Hkyxrq8TQsP1Q1jccxNCKVwBQgOmFUL2KPGLvdQQQpqZx8vt0RBCCtf7T99JEUK4HqBUE4kRQs3MUmxQxBRCmplGSB/REUJmZqGmLaoTQg==",
          "dtype": "f8"
         }
        },
        {
         "hovertemplate": "%{x|%Y-%m}<br>Special Issues (Cash Basis): %{y:,.2f}<extra></extra>",
         "mode": "lines",
         "name": "Special Issues (Cash Basis)",
         "stackgroup": "one",
         "type": "scatter",
         "x": [
          "2015-03-31T00:00:00.000000000",
          "2015-04-30T00:00:00.000000000",
          "2015-05-31T00:00:00.000000000",
          "2015-06-30T00:00:00.000000000",
          "2015-07-31T00:00:00.000000000",
          "2015-08-31T00:00:00.000000000",
          "2015-09-30T00:00:00.000000000",
          "2015-10-31T00:00:00.000000000",
          "2015-11-30T00:00:00.000000000",
          "2015-12-31T00:00:00.000000000",
          "2016-01-31T00:00:00.000000000",
          "2016-02-29T00:00:00.000000000",
          "2016-03-31T00:00:00.000000000",
          "2016-04-30T00:00:00.000000000",
          "2016-05-31T00:00:00.000000000",
          "2016-06-30T00:00:00.000000000",
          "2016-07-31T00:00:00.000000000",
          "2016-08-31T00:00:00.000000000",
          "2016-09-30T00:00:00.000000000",
          "2016-10-31T00:00:00.000000000",
          "2016-11-30T00:00:00.000000000",
          "2016-12-31T00:00:00.000000000",
          "2017-01-31T00:00:00.000000000",
          "2017-02-28T00:00:00.000000000",
          "2017-03-31T00:00:00.000000000",
          "2017-04-30T00:00:00.000000000",
          "2017-05-31T00:00:00.000000000",
          "2017-06-30T00:00:00.000000000",
          "2017-07-31T00:00:00.000000000",
          "2017-08-31T00:00:00.000000000",
          "2017-09-30T00:00:00.000000000",
          "2017-10-31T00:00:00.000000000",
          "2017-11-30T00:00:00.000000000",
          "2017-12-31T00:00:00.000000000",
          "2018-01-31T00:00:00.000000000",
          "2018-02-28T00:00:00.000000000",
          "2018-03-31T00:00:00.000000000",
          "2018-04-30T00:00:00.000000000",
          "2018-05-31T00:00:00.000000000",
          "2018-06-30T00:00:00.000000000",
          "2018-07-31T00:00:00.000000000",
          "2018-08-31T00:00:00.000000000",
          "2018-09-30T00:00:00.000000000",
          "2018-10-31T00:00:00.000000000",
          "2018-11-30T00:00:00.000000000",
          "2018-12-31T00:00:00.000000000",
          "2019-01-31T00:00:00.000000000",
          "2019-02-28T00:00:00.000000000",
          "2019-03-31T00:00:00.000000000",
          "2019-04-30T00:00:00.000000000",
          "2019-05-31T00:00:00.000000000",
          "2019-06-30T00:00:00.000000000",
          "2019-07-31T00:00:00.000000000",
          "2019-08-31T00:00:00.000000000",
          "2019-09-30T00:00:00.000000000",
          "2019-10-31T00:00:00.000000000",
          "2019-11-30T00:00:00.000000000",
          "2019-12-31T00:00:00.000000000",
          "2020-01-31T00:00:00.000000000",
          "2020-02-29T00:00:00.000000000",
          "2020-03-31T00:00:00.000000000",
          "2020-04-30T00:00:00.000000000",
          "2020-05-31T00:00:00.000000000",
          "2020-06-30T00:00:00.000000000",
          "2020-07-31T00:00:00.000000000",
          "2020-08-31T00:00:00.000000000",
          "2020-09-30T00:00:00.000000000",
          "2020-10-31T00:00:00.000000000",
          "2020-11-30T00:00:00.000000000",
          "2020-12-31T00:00:00.000000000",
          "2021-01-31T00:00:00.000000000",
          "2021-02-28T00:00:00.000000000",
          "2021-03-31T00:00:00.000000000",
          "2021-04-30T00:00:00.000000000",
          "2021-05-31T00:00:00.000000000",
          "2021-06-30T00:00:00.000000000",
          "2021-07-31T00:00:00.000000000",
          "2021-08-31T00:00:00.000000000",
          "2021-09-30T00:00:00.000000000",
          "2021-10-31T00:00:00.000000000",
          "2021-11-30T00:00:00.000000000",
          "2021-12-31T00:00:00.000000000",
          "2022-01-31T00:00:00.000000000",
          "2022-02-28T00:00:00.000000000",
          "2022-03-31T00:00:00.000000000",
          "2022-04-30T00:00:00.000000000",
          "2022-05-31T00:00:00.000000000",
          "2022-06-30T00:00:00.000000000",
          "2022-07-31T00:00:00.000000000",
          "2022-08-31T00:00:00.000000000",
          "2022-09-30T00:00:00.000000000",
          "2022-10-31T00:00:00.000000000",
          "2022-11-30T00:00:00.000000000",
          "2022-12-31T00:00:00.000000000",
          "2023-01-31T00:00:00.000000000",
          "2023-02-28T00:00:00.000000000",
          "2023-03-31T00:00:00.000000000",
          "2023-04-30T00:00:00.000000000",
          "2023-05-31T00:00:00.000000000",
          "2023-06-30T00:00:00.000000000",
          "2023-07-31T00:00:00.000000000",
          "2023-08-31T00:00:00.000000000",
          "2023-09-30T00:00:00.000000000",
          "2023-10-31T00:00:00.000000000",
          "2023-11-30T00:00:00.000000000",
          "2023-12-31T00:00:00.000000000",
          "2024-01-31T00:00:00.000000000",
          "2024-02-29T00:00:00.000000000",
          "2024-03-31T00:00:00.000000000",
          "2024-04-30T00:00:00.000000000",
          "2024-05-31T00:00:00.000000000",
          "2024-06-30T00:00:00.000000000",
          "2024-07-31T00:00:00.000000000",
          "2024-08-31T00:00:00.000000000",
          "2024-09-30T00:00:00.000000000",
          "2024-10-31T00:00:00.000000000",
          "2024-11-30T00:00:00.000000000",
          "2024-12-31T00:00:00.000000000",
          "2025-01-31T00:00:00.000000000",
          "2025-02-28T00:00:00.000000000",
          "2025-03-31T00:00:00.000000000",
          "2025-04-30T00:00:00.000000000",
          "2025-05-31T00:00:00.000000000",
          "2025-06-30T00:00:00.000000000",
          "2025-07-31T00:00:00.000000000"
         ],
         "y": {
          "bdata": "PQqvT6VE4sGuR4WrJDv8QXsUctvJ7vVBe9S9ReFxMELD9SiXms/2QZqZSW6R0PVB7FH4isbPtEFI4QrriQXlwWZmbg5Op+NBSOHhvpwjLkKkcI0XM97bQT0KN2Xxa9pBzczMdCi11kH2KHCB5pP1QY/CGQd7aPZBFO4yD/MCMEIUrsuSDbn0QXsUmmAJBPlBrkfh5apPs8EfheuDOdSUQaRwzYjImPBBPQpkt7qaLUL2KAwdENrjQUjhRu2AOfJBMzOvuLkq8kFSuNIx8IT9Qa5H2UcMpulB9ihPIr3bLUJmZhb+IobsQVK4QiPoS/RBMzMz0jK2l0H2KByY3DjpwexRoLfyNPxBcb3ktja8K0LXo4jhkALjQc3MBOqlUPRBexR+i2ba8kEUrnOJUSoCQtejIISPf/NBXA+FuwqXLUJcj3J284j5QXE9mv535ftBexTOx06mxUG4HoXAgkXUQcP1KNox+/BBhWu0l/e6LULhenTuoa/LQWZm9rg3rvBBrkcpwOIQ8EH2KNBX6XwBQpqZ/TqWYvxBCtczkqnQLUIK18+qOmPyQQrXIxDypftBFK4nxUxo5EHhepTUusLXwQAA8P1zXOxBpPDLKX6VK0KkcBUQ+e/lQa5HyWQmxPhBPQrPNsY/7UEUrn+Sv079QVK4nqj57LxBSOFu+6h0J0KuRxE97hXqQc3MTEiyyAZCUriuDPgY80EK1/UjSqcFws3M0Okn9vFBrkcYlit0KEIzM0PbnKnbQZqZ/eN/RvtBuB6Vt1Os70HNzF7E0UwGQhSu2ZGf2ABCM7MkhJmpLELsUWoEnU0BQoXrBd6iMBBC7FHMm5uE8kH2KIBD+gwDwsP1WPdDOvlB7NHRfEU6K0L2KErb7h4AQmZmiFXCXQZCmpnFE7sGBULXo9i0w0oPQnE961TzyxJCZuZmtt+4KkIzMwFyltENQoXrMXQIOhpCKVxn8n5N5UGkcHGr6hf+QbgeMZL5uQFCKdzIKphmKUJcj0pK4DP0QRSuv3IDvvZB4XpUi8hrBkIzM8HUAI0LQlyPyoOz+AJC7NE5eUScK0K4HsPoQKICQoXr0yPTiw1CAAAoLUgr+0FSuELP8B8OQlyPioECEgRCuJ4sSdA/KEKamdU7ydzwQQAADDqRrQdCcT3SLi4m+UGamf+D1P4SQj0KzJtlhBBChesQWhtaLEIpXAHk8EEEQnE9rla1CQ1CPQqv1LbL/0EfheO52iXwQeF6JINTJAFCexSk9k4lLEKkcCkpdSf+QQAAegD99gtC7FG8xqm3CULsUWQlE7kPQq5H9TzyNwFCheuqKZ1JLUJI4YC/h0QAQg==",
          "dtype": "f8"
         }
        }
       ],
       "layout": {
        "hovermode": "x unified",
        "legend": {
         "title": {
          "text": "Category"
         }
        },
        "template": {
         "data": {
          "bar": [
           {
            "error_x": {
             "color": "#2a3f5f"
            },
            "error_y": {
             "color": "#2a3f5f"
            },
            "marker": {
             "line": {
              "color": "white",
              "width": 0.5
             },
             "pattern": {
              "fillmode": "overlay",
              "size": 10,
              "solidity": 0.2
             }
            },
            "type": "bar"
           }
          ],
          "barpolar": [
           {
            "marker": {
             "line": {
              "color": "white",
              "width": 0.5
             },
             "pattern": {
              "fillmode": "overlay",
              "size": 10,
              "solidity": 0.2
             }
            },
            "type": "barpolar"
           }
          ],
          "carpet": [
           {
            "aaxis": {
             "endlinecolor": "#2a3f5f",
             "gridcolor": "#C8D4E3",
             "linecolor": "#C8D4E3",
             "minorgridcolor": "#C8D4E3",
             "startlinecolor": "#2a3f5f"
            },
            "baxis": {
             "endlinecolor": "#2a3f5f",
             "gridcolor": "#C8D4E3",
             "linecolor": "#C8D4E3",
             "minorgridcolor": "#C8D4E3",
             "startlinecolor": "#2a3f5f"
            },
            "type": "carpet"
           }
          ],
          "choropleth": [
           {
            "colorbar": {
             "outlinewidth": 0,
             "ticks": ""
            },
            "type": "choropleth"
           }
          ],
          "contour": [
           {
            "colorbar": {
             "outlinewidth": 0,
             "ticks": ""
            },
            "colorscale": [
             [
              0,
              "#0d0887"
             ],
             [
              0.1111111111111111,
              "#46039f"
             ],
             [
              0.2222222222222222,
              "#7201a8"
             ],
             [
              0.3333333333333333,
              "#9c179e"
             ],
             [
              0.4444444444444444,
              "#bd3786"
             ],
             [
              0.5555555555555556,
              "#d8576b"
             ],
             [
              0.6666666666666666,
              "#ed7953"
             ],
             [
              0.7777777777777778,
              "#fb9f3a"
             ],
             [
              0.8888888888888888,
              "#fdca26"
             ],
             [
              1,
              "#f0f921"
             ]
            ],
            "type": "contour"
           }
          ],
          "contourcarpet": [
           {
            "colorbar": {
             "outlinewidth": 0,
             "ticks": ""
            },
            "type": "contourcarpet"
           }
          ],
          "heatmap": [
           {
            "colorbar": {
             "outlinewidth": 0,
             "ticks": ""
            },
            "colorscale": [
             [
              0,
              "#0d0887"
             ],
             [
              0.1111111111111111,
              "#46039f"
             ],
             [
              0.2222222222222222,
              "#7201a8"
             ],
             [
              0.3333333333333333,
              "#9c179e"
             ],
             [
              0.4444444444444444,
              "#bd3786"
             ],
             [
              0.5555555555555556,
              "#d8576b"
             ],
             [
              0.6666666666666666,
              "#ed7953"
             ],
             [
              0.7777777777777778,
              "#fb9f3a"
             ],
             [
              0.8888888888888888,
              "#fdca26"
             ],
             [
              1,
              "#f0f921"
             ]
            ],
            "type": "heatmap"
           }
          ],
          "histogram": [
           {
            "marker": {
             "pattern": {
              "fillmode": "overlay",
              "size": 10,
              "solidity": 0.2
             }
            },
            "type": "histogram"
           }
          ],
          "histogram2d": [
           {
            "colorbar": {
             "outlinewidth": 0,
             "ticks": ""
            },
            "colorscale": [
             [
              0,
              "#0d0887"
             ],
             [
              0.1111111111111111,
              "#46039f"
             ],
             [
              0.2222222222222222,
              "#7201a8"
             ],
             [
              0.3333333333333333,
              "#9c179e"
             ],
             [
              0.4444444444444444,
              "#bd3786"
             ],
             [
              0.5555555555555556,
              "#d8576b"
             ],
             [
              0.6666666666666666,
              "#ed7953"
             ],
             [
              0.7777777777777778,
              "#fb9f3a"
             ],
             [
              0.8888888888888888,
              "#fdca26"
             ],
             [
              1,
              "#f0f921"
             ]
            ],
            "type": "histogram2d"
           }
          ],
          "histogram2dcontour": [
           {
            "colorbar": {
             "outlinewidth": 0,
             "ticks": ""
            },
            "colorscale": [
             [
              0,
              "#0d0887"
             ],
             [
              0.1111111111111111,
              "#46039f"
             ],
             [
              0.2222222222222222,
              "#7201a8"
             ],
             [
              0.3333333333333333,
              "#9c179e"
             ],
             [
              0.4444444444444444,
              "#bd3786"
             ],
             [
              0.5555555555555556,
              "#d8576b"
             ],
             [
              0.6666666666666666,
              "#ed7953"
             ],
             [
              0.7777777777777778,
              "#fb9f3a"
             ],
             [
              0.8888888888888888,
              "#fdca26"
             ],
             [
              1,
              "#f0f921"
             ]
            ],
            "type": "histogram2dcontour"
           }
          ],
          "mesh3d": [
           {
            "colorbar": {
             "outlinewidth": 0,
             "ticks": ""
            },
            "type": "mesh3d"
           }
          ],
          "parcoords": [
           {
            "line": {
             "colorbar": {
              "outlinewidth": 0,
              "ticks": ""
             }
            },
            "type": "parcoords"
           }
          ],
          "pie": [
           {
            "automargin": true,
            "type": "pie"
           }
          ],
          "scatter": [
           {
            "fillpattern": {
             "fillmode": "overlay",
             "size": 10,
             "solidity": 0.2
            },
            "type": "scatter"
           }
          ],
          "scatter3d": [
           {
            "line": {
             "colorbar": {
              "outlinewidth": 0,
              "ticks": ""
             }
            },
            "marker": {
             "colorbar": {
              "outlinewidth": 0,
              "ticks": ""
             }
            },
            "type": "scatter3d"
           }
          ],
          "scattercarpet": [
           {
            "marker": {
             "colorbar": {
              "outlinewidth": 0,
              "ticks": ""
             }
            },
            "type": "scattercarpet"
           }
          ],
          "scattergeo": [
           {
            "marker": {
             "colorbar": {
              "outlinewidth": 0,
              "ticks": ""
             }
            },
            "type": "scattergeo"
           }
          ],
          "scattergl": [
           {
            "marker": {
             "colorbar": {
              "outlinewidth": 0,
              "ticks": ""
             }
            },
            "type": "scattergl"
           }
          ],
          "scattermap": [
           {
            "marker": {
             "colorbar": {
              "outlinewidth": 0,
              "ticks": ""
             }
            },
            "type": "scattermap"
           }
          ],
          "scattermapbox": [
           {
            "marker": {
             "colorbar": {
              "outlinewidth": 0,
              "ticks": ""
             }
            },
            "type": "scattermapbox"
           }
          ],
          "scatterpolar": [
           {
            "marker": {
             "colorbar": {
              "outlinewidth": 0,
              "ticks": ""
             }
            },
            "type": "scatterpolar"
           }
          ],
          "scatterpolargl": [
           {
            "marker": {
             "colorbar": {
              "outlinewidth": 0,
              "ticks": ""
             }
            },
            "type": "scatterpolargl"
           }
          ],
          "scatterternary": [
           {
            "marker": {
             "colorbar": {
              "outlinewidth": 0,
              "ticks": ""
             }
            },
            "type": "scatterternary"
           }
          ],
          "surface": [
           {
            "colorbar": {
             "outlinewidth": 0,
             "ticks": ""
            },
            "colorscale": [
             [
              0,
              "#0d0887"
             ],
             [
              0.1111111111111111,
              "#46039f"
             ],
             [
              0.2222222222222222,
              "#7201a8"
             ],
             [
              0.3333333333333333,
              "#9c179e"
             ],
             [
              0.4444444444444444,
              "#bd3786"
             ],
             [
              0.5555555555555556,
              "#d8576b"
             ],
             [
              0.6666666666666666,
              "#ed7953"
             ],
             [
              0.7777777777777778,
              "#fb9f3a"
             ],
             [
              0.8888888888888888,
              "#fdca26"
             ],
             [
              1,
              "#f0f921"
             ]
            ],
            "type": "surface"
           }
          ],
          "table": [
           {
            "cells": {
             "fill": {
              "color": "#EBF0F8"
             },
             "line": {
              "color": "white"
             }
            },
            "header": {
             "fill": {
              "color": "#C8D4E3"
             },
             "line": {
              "color": "white"
             }
            },
            "type": "table"
           }
          ]
         },
         "layout": {
          "annotationdefaults": {
           "arrowcolor": "#2a3f5f",
           "arrowhead": 0,
           "arrowwidth": 1
          },
          "autotypenumbers": "strict",
          "coloraxis": {
           "colorbar": {
            "outlinewidth": 0,
            "ticks": ""
           }
          },
          "colorscale": {
           "diverging": [
            [
             0,
             "#8e0152"
            ],
            [
             0.1,
             "#c51b7d"
            ],
            [
             0.2,
             "#de77ae"
            ],
            [
             0.3,
             "#f1b6da"
            ],
            [
             0.4,
             "#fde0ef"
            ],
            [
             0.5,
             "#f7f7f7"
            ],
            [
             0.6,
             "#e6f5d0"
            ],
            [
             0.7,
             "#b8e186"
            ],
            [
             0.8,
             "#7fbc41"
            ],
            [
             0.9,
             "#4d9221"
            ],
            [
             1,
             "#276419"
            ]
           ],
           "sequential": [
            [
             0,
             "#0d0887"
            ],
            [
             0.1111111111111111,
             "#46039f"
            ],
            [
             0.2222222222222222,
             "#7201a8"
            ],
            [
             0.3333333333333333,
             "#9c179e"
            ],
            [
             0.4444444444444444,
             "#bd3786"
            ],
            [
             0.5555555555555556,
             "#d8576b"
            ],
            [
             0.6666666666666666,
             "#ed7953"
            ],
            [
             0.7777777777777778,
             "#fb9f3a"
            ],
            [
             0.8888888888888888,
             "#fdca26"
            ],
            [
             1,
             "#f0f921"
            ]
           ],
           "sequentialminus": [
            [
             0,
             "#0d0887"
            ],
            [
             0.1111111111111111,
             "#46039f"
            ],
            [
             0.2222222222222222,
             "#7201a8"
            ],
            [
             0.3333333333333333,
             "#9c179e"
            ],
            [
             0.4444444444444444,
             "#bd3786"
            ],
            [
             0.5555555555555556,
             "#d8576b"
            ],
            [
             0.6666666666666666,
             "#ed7953"
            ],
            [
             0.7777777777777778,
             "#fb9f3a"
            ],
            [
             0.8888888888888888,
             "#fdca26"
            ],
            [
             1,
             "#f0f921"
            ]
           ]
          },
          "colorway": [
           "#636efa",
           "#EF553B",
           "#00cc96",
           "#ab63fa",
           "#FFA15A",
           "#19d3f3",
           "#FF6692",
           "#B6E880",
           "#FF97FF",
           "#FECB52"
          ],
          "font": {
           "color": "#2a3f5f"
          },
          "geo": {
           "bgcolor": "white",
           "lakecolor": "white",
           "landcolor": "white",
           "showlakes": true,
           "showland": true,
           "subunitcolor": "#C8D4E3"
          },
          "hoverlabel": {
           "align": "left"
          },
          "hovermode": "closest",
          "mapbox": {
           "style": "light"
          },
          "paper_bgcolor": "white",
          "plot_bgcolor": "white",
          "polar": {
           "angularaxis": {
            "gridcolor": "#EBF0F8",
            "linecolor": "#EBF0F8",
            "ticks": ""
           },
           "bgcolor": "white",
           "radialaxis": {
            "gridcolor": "#EBF0F8",
            "linecolor": "#EBF0F8",
            "ticks": ""
           }
          },
          "scene": {
           "xaxis": {
            "backgroundcolor": "white",
            "gridcolor": "#DFE8F3",
            "gridwidth": 2,
            "linecolor": "#EBF0F8",
            "showbackground": true,
            "ticks": "",
            "zerolinecolor": "#EBF0F8"
           },
           "yaxis": {
            "backgroundcolor": "white",
            "gridcolor": "#DFE8F3",
            "gridwidth": 2,
            "linecolor": "#EBF0F8",
            "showbackground": true,
            "ticks": "",
            "zerolinecolor": "#EBF0F8"
           },
           "zaxis": {
            "backgroundcolor": "white",
            "gridcolor": "#DFE8F3",
            "gridwidth": 2,
            "linecolor": "#EBF0F8",
            "showbackground": true,
            "ticks": "",
            "zerolinecolor": "#EBF0F8"
           }
          },
          "shapedefaults": {
           "line": {
            "color": "#2a3f5f"
           }
          },
          "ternary": {
           "aaxis": {
            "gridcolor": "#DFE8F3",
            "linecolor": "#A2B1C6",
            "ticks": ""
           },
           "baxis": {
            "gridcolor": "#DFE8F3",
            "linecolor": "#A2B1C6",
            "ticks": ""
           },
           "bgcolor": "white",
           "caxis": {
            "gridcolor": "#DFE8F3",
            "linecolor": "#A2B1C6",
            "ticks": ""
           }
          },
          "title": {
           "x": 0.05
          },
          "xaxis": {
           "automargin": true,
           "gridcolor": "#EBF0F8",
           "linecolor": "#EBF0F8",
           "ticks": "",
           "title": {
            "standoff": 15
           },
           "zerolinecolor": "#EBF0F8",
           "zerolinewidth": 2
          },
          "yaxis": {
           "automargin": true,
           "gridcolor": "#EBF0F8",
           "linecolor": "#EBF0F8",
           "ticks": "",
           "title": {
            "standoff": 15
           },
           "zerolinecolor": "#EBF0F8",
           "zerolinewidth": 2
          }
         }
        },
        "title": {
         "text": "Monthly Payments by Category (stacked)"
        },
        "xaxis": {
         "rangeslider": {
          "visible": true
         },
         "title": {
          "text": "Date"
         }
        },
        "yaxis": {
         "title": {
          "text": "USD"
         }
        }
       }
      }
     },
     "metadata": {},
     "output_type": "display_data"
    }
   ],
   "source": [
    "fig = plot_stacked_plotly(\n",
    "    outlays_pivot,\n",
    "    title=\"Monthly Payments by Category (stacked)\",\n",
    "    y_label=\"USD\",\n",
    "    scale=1   # 1/1000 convert millions → billions\n",
    ")\n",
    "fig.show()"
   ]
  },
  {
   "cell_type": "code",
   "execution_count": 137,
   "id": "1c02530b",
   "metadata": {},
   "outputs": [
    {
     "data": {
      "application/vnd.plotly.v1+json": {
       "config": {
        "plotlyServerURL": "https://plot.ly"
       },
       "data": [
        {
         "mode": "lines+markers",
         "name": "2015",
         "type": "scatter",
         "x": {
          "bdata": "AQIDBAUGBwgJCgsM",
          "dtype": "i1"
         },
         "y": {
          "bdata": "AAAAAAAA+H8AAAAAAAD4fwAAAAAAAPh/AAAAAAAA+H8AAAAAAAD4f4WrvKd/wDhChYuPCKBMS0Izo7w4TQlVQkjxH/gjTlxCUkihScSxYkK4jvKLR8ZlQprRP1v6k2lC",
          "dtype": "f8"
         }
        },
        {
         "mode": "lines+markers",
         "name": "2016",
         "type": "scatter",
         "x": {
          "bdata": "AQIDBAUGBwgJCgsM",
          "dtype": "i1"
         },
         "y": {
          "bdata": "UhiyvqFqQkLXA6G+sKNOQgDAkLgQWVhCrvcgx5EgXkIUNj85zchiQo+aupl4tGZCUmgNc5caa0IpPFdMPkluQprpOZ9iFHFCzRiQM0gJc0K40qsM8g51Qly7PDmPVXdC",
          "dtype": "f8"
         }
        },
        {
         "mode": "lines+markers",
         "name": "2017",
         "type": "scatter",
         "x": {
          "bdata": "AQIDBAUGBwgJCgsM",
          "dtype": "i1"
         },
         "y": {
          "bdata": "HwW1vgBOOUIAYAqa8zRNQgsngfvdOlZCXe+wuRMIXkIKJxUMM+JiQoZj4Al1nWdCSCFJ66XQakLsSSnBCNhuQmZ28c5cyHFC7G1EQRBlc0LXbzwdtHt1Qq4Ti4U773dC",
          "dtype": "f8"
         }
        },
        {
         "mode": "lines+markers",
         "name": "2018",
         "type": "scatter",
         "x": {
          "bdata": "AQIDBAUGBwgJCgsM",
          "dtype": "i1"
         },
         "y": {
          "bdata": "9mjYlLZ1OkIAAPV4V+RNQlJYN54u3VZCNOOzm94CX0LsWarGKZBjQnGtqVt/fWhC4dK4BKjfa0LXU1Iu2gxwQnHdQrdik3JCPVK1kk9IdEK4EniMtjt3QprJsYSRmXhC",
          "dtype": "f8"
         }
        },
        {
         "mode": "lines+markers",
         "name": "2019",
         "type": "scatter",
         "x": {
          "bdata": "AQIDBAUGBwgJCgsM",
          "dtype": "i1"
         },
         "y": {
          "bdata": "XM9V/nsDQUJcn54vZmVSQq73ZoTURllCM8vYbw73YEL2WMkOBkllQs2Mhn0JtmlCzYQiqaspbkLCqZfgtu5xQs14hYnytnNCwqnGNCn0dUIKH8FI5554QlLg6nQ+dXpC",
          "dtype": "f8"
         }
        },
        {
         "mode": "lines+markers",
         "name": "2020",
         "type": "scatter",
         "x": {
          "bdata": "AQIDBAUGBwgJCgsM",
          "dtype": "i1"
         },
         "y": {
          "bdata": "FG4HtBsNQkL2SKUNN51TQlz/XoQg9FpC4UJ/w/v5YkIAOGyAk3NnQinMuGyIPmtCM/s5Y7JUcUIKf4y2J45zQgDkd2Pk+XVCKQg96bDkeEKuX9Fi0bh6QsNVoRLMRn1C",
          "dtype": "f8"
         }
        },
        {
         "mode": "lines+markers",
         "name": "2021",
         "type": "scatter",
         "x": {
          "bdata": "AQIDBAUGBwgJCgsM",
          "dtype": "i1"
         },
         "y": {
          "bdata": "CrfHlhZNR0Lhupo5uv5SQnsUi/Bz5l1C12vVX4b2YkIzK9GqQbtnQhQ+GUcbj2xC9kwKSaAscUIzZx97kANzQgrjK5h3n3VCUlz2RZideEKPamRiynp6QuxNM6PgIH1C",
          "dtype": "f8"
         }
        },
        {
         "mode": "lines+markers",
         "name": "2022",
         "type": "scatter",
         "x": {
          "bdata": "AQIDBAUGBwgJCgsM",
          "dtype": "i1"
         },
         "y": {
          "bdata": "rkejM/vKQkKkADEyCiNTQlxvhHpThF1CKSShFbD9Y0KkcJ5Iwv9oQj5ik3kmbW5CzTz2HfZPckLXOwLhhTd0QnE9vlwTJ3dC4tJ/SCfUeUIfDaTtsWh8QmfCc5Yn5H9C",
          "dtype": "f8"
         }
        },
        {
         "mode": "lines+markers",
         "name": "2023",
         "type": "scatter",
         "x": {
          "bdata": "AQIDBAUGBwgJCgsM",
          "dtype": "i1"
         },
         "y": {
          "bdata": "j8Lw5MrEP0IUTg9Qf+5SQtfzO374vF1CFD4bfmGkZELCtR1K/1BqQrge5mI9u3BCmrGLap3nckIzQ+ghB9J1QnE90tyzuXlC7BGaaxTpe0KPikIFQtl+Qh9zXoqTO4FC",
          "dtype": "f8"
         }
        },
        {
         "mode": "lines+markers",
         "name": "2024",
         "type": "scatter",
         "x": {
          "bdata": "AQIDBAUGBwgJCgsM",
          "dtype": "i1"
         },
         "y": {
          "bdata": "7BGZuMzkQULDxe3cxx1VQjTLTB/VSmBCSHmFIumhZkLNDBs9GLFsQnuk2KWyVHFCM7OsIW9kdEKQxmdPy3V4QhXOJNNLzXpCZp4sedkjfkIKYcTq7QKBQnGvpbBfNYJC",
          "dtype": "f8"
         }
        },
        {
         "mode": "lines+markers",
         "name": "2025",
         "type": "scatter",
         "x": {
          "bdata": "AQIDBAUGBwgJCgsM",
          "dtype": "i1"
         },
         "y": {
          "bdata": "zSwKg8EjSUJcf/V/KyZcQimMoS5y72JC9ngNLSEMa0JmurJ09bNwQlwfw0QfbnNC4U4ZiwnEdkLN/PRFcBZ7QtcHuosWoH1CmhcG3O+egEIAAAAAAAD4fwAAAAAAAPh/",
          "dtype": "f8"
         }
        }
       ],
       "layout": {
        "hovermode": "x unified",
        "legend": {
         "title": {
          "text": "Year"
         }
        },
        "template": {
         "data": {
          "bar": [
           {
            "error_x": {
             "color": "#2a3f5f"
            },
            "error_y": {
             "color": "#2a3f5f"
            },
            "marker": {
             "line": {
              "color": "white",
              "width": 0.5
             },
             "pattern": {
              "fillmode": "overlay",
              "size": 10,
              "solidity": 0.2
             }
            },
            "type": "bar"
           }
          ],
          "barpolar": [
           {
            "marker": {
             "line": {
              "color": "white",
              "width": 0.5
             },
             "pattern": {
              "fillmode": "overlay",
              "size": 10,
              "solidity": 0.2
             }
            },
            "type": "barpolar"
           }
          ],
          "carpet": [
           {
            "aaxis": {
             "endlinecolor": "#2a3f5f",
             "gridcolor": "#C8D4E3",
             "linecolor": "#C8D4E3",
             "minorgridcolor": "#C8D4E3",
             "startlinecolor": "#2a3f5f"
            },
            "baxis": {
             "endlinecolor": "#2a3f5f",
             "gridcolor": "#C8D4E3",
             "linecolor": "#C8D4E3",
             "minorgridcolor": "#C8D4E3",
             "startlinecolor": "#2a3f5f"
            },
            "type": "carpet"
           }
          ],
          "choropleth": [
           {
            "colorbar": {
             "outlinewidth": 0,
             "ticks": ""
            },
            "type": "choropleth"
           }
          ],
          "contour": [
           {
            "colorbar": {
             "outlinewidth": 0,
             "ticks": ""
            },
            "colorscale": [
             [
              0,
              "#0d0887"
             ],
             [
              0.1111111111111111,
              "#46039f"
             ],
             [
              0.2222222222222222,
              "#7201a8"
             ],
             [
              0.3333333333333333,
              "#9c179e"
             ],
             [
              0.4444444444444444,
              "#bd3786"
             ],
             [
              0.5555555555555556,
              "#d8576b"
             ],
             [
              0.6666666666666666,
              "#ed7953"
             ],
             [
              0.7777777777777778,
              "#fb9f3a"
             ],
             [
              0.8888888888888888,
              "#fdca26"
             ],
             [
              1,
              "#f0f921"
             ]
            ],
            "type": "contour"
           }
          ],
          "contourcarpet": [
           {
            "colorbar": {
             "outlinewidth": 0,
             "ticks": ""
            },
            "type": "contourcarpet"
           }
          ],
          "heatmap": [
           {
            "colorbar": {
             "outlinewidth": 0,
             "ticks": ""
            },
            "colorscale": [
             [
              0,
              "#0d0887"
             ],
             [
              0.1111111111111111,
              "#46039f"
             ],
             [
              0.2222222222222222,
              "#7201a8"
             ],
             [
              0.3333333333333333,
              "#9c179e"
             ],
             [
              0.4444444444444444,
              "#bd3786"
             ],
             [
              0.5555555555555556,
              "#d8576b"
             ],
             [
              0.6666666666666666,
              "#ed7953"
             ],
             [
              0.7777777777777778,
              "#fb9f3a"
             ],
             [
              0.8888888888888888,
              "#fdca26"
             ],
             [
              1,
              "#f0f921"
             ]
            ],
            "type": "heatmap"
           }
          ],
          "histogram": [
           {
            "marker": {
             "pattern": {
              "fillmode": "overlay",
              "size": 10,
              "solidity": 0.2
             }
            },
            "type": "histogram"
           }
          ],
          "histogram2d": [
           {
            "colorbar": {
             "outlinewidth": 0,
             "ticks": ""
            },
            "colorscale": [
             [
              0,
              "#0d0887"
             ],
             [
              0.1111111111111111,
              "#46039f"
             ],
             [
              0.2222222222222222,
              "#7201a8"
             ],
             [
              0.3333333333333333,
              "#9c179e"
             ],
             [
              0.4444444444444444,
              "#bd3786"
             ],
             [
              0.5555555555555556,
              "#d8576b"
             ],
             [
              0.6666666666666666,
              "#ed7953"
             ],
             [
              0.7777777777777778,
              "#fb9f3a"
             ],
             [
              0.8888888888888888,
              "#fdca26"
             ],
             [
              1,
              "#f0f921"
             ]
            ],
            "type": "histogram2d"
           }
          ],
          "histogram2dcontour": [
           {
            "colorbar": {
             "outlinewidth": 0,
             "ticks": ""
            },
            "colorscale": [
             [
              0,
              "#0d0887"
             ],
             [
              0.1111111111111111,
              "#46039f"
             ],
             [
              0.2222222222222222,
              "#7201a8"
             ],
             [
              0.3333333333333333,
              "#9c179e"
             ],
             [
              0.4444444444444444,
              "#bd3786"
             ],
             [
              0.5555555555555556,
              "#d8576b"
             ],
             [
              0.6666666666666666,
              "#ed7953"
             ],
             [
              0.7777777777777778,
              "#fb9f3a"
             ],
             [
              0.8888888888888888,
              "#fdca26"
             ],
             [
              1,
              "#f0f921"
             ]
            ],
            "type": "histogram2dcontour"
           }
          ],
          "mesh3d": [
           {
            "colorbar": {
             "outlinewidth": 0,
             "ticks": ""
            },
            "type": "mesh3d"
           }
          ],
          "parcoords": [
           {
            "line": {
             "colorbar": {
              "outlinewidth": 0,
              "ticks": ""
             }
            },
            "type": "parcoords"
           }
          ],
          "pie": [
           {
            "automargin": true,
            "type": "pie"
           }
          ],
          "scatter": [
           {
            "fillpattern": {
             "fillmode": "overlay",
             "size": 10,
             "solidity": 0.2
            },
            "type": "scatter"
           }
          ],
          "scatter3d": [
           {
            "line": {
             "colorbar": {
              "outlinewidth": 0,
              "ticks": ""
             }
            },
            "marker": {
             "colorbar": {
              "outlinewidth": 0,
              "ticks": ""
             }
            },
            "type": "scatter3d"
           }
          ],
          "scattercarpet": [
           {
            "marker": {
             "colorbar": {
              "outlinewidth": 0,
              "ticks": ""
             }
            },
            "type": "scattercarpet"
           }
          ],
          "scattergeo": [
           {
            "marker": {
             "colorbar": {
              "outlinewidth": 0,
              "ticks": ""
             }
            },
            "type": "scattergeo"
           }
          ],
          "scattergl": [
           {
            "marker": {
             "colorbar": {
              "outlinewidth": 0,
              "ticks": ""
             }
            },
            "type": "scattergl"
           }
          ],
          "scattermap": [
           {
            "marker": {
             "colorbar": {
              "outlinewidth": 0,
              "ticks": ""
             }
            },
            "type": "scattermap"
           }
          ],
          "scattermapbox": [
           {
            "marker": {
             "colorbar": {
              "outlinewidth": 0,
              "ticks": ""
             }
            },
            "type": "scattermapbox"
           }
          ],
          "scatterpolar": [
           {
            "marker": {
             "colorbar": {
              "outlinewidth": 0,
              "ticks": ""
             }
            },
            "type": "scatterpolar"
           }
          ],
          "scatterpolargl": [
           {
            "marker": {
             "colorbar": {
              "outlinewidth": 0,
              "ticks": ""
             }
            },
            "type": "scatterpolargl"
           }
          ],
          "scatterternary": [
           {
            "marker": {
             "colorbar": {
              "outlinewidth": 0,
              "ticks": ""
             }
            },
            "type": "scatterternary"
           }
          ],
          "surface": [
           {
            "colorbar": {
             "outlinewidth": 0,
             "ticks": ""
            },
            "colorscale": [
             [
              0,
              "#0d0887"
             ],
             [
              0.1111111111111111,
              "#46039f"
             ],
             [
              0.2222222222222222,
              "#7201a8"
             ],
             [
              0.3333333333333333,
              "#9c179e"
             ],
             [
              0.4444444444444444,
              "#bd3786"
             ],
             [
              0.5555555555555556,
              "#d8576b"
             ],
             [
              0.6666666666666666,
              "#ed7953"
             ],
             [
              0.7777777777777778,
              "#fb9f3a"
             ],
             [
              0.8888888888888888,
              "#fdca26"
             ],
             [
              1,
              "#f0f921"
             ]
            ],
            "type": "surface"
           }
          ],
          "table": [
           {
            "cells": {
             "fill": {
              "color": "#EBF0F8"
             },
             "line": {
              "color": "white"
             }
            },
            "header": {
             "fill": {
              "color": "#C8D4E3"
             },
             "line": {
              "color": "white"
             }
            },
            "type": "table"
           }
          ]
         },
         "layout": {
          "annotationdefaults": {
           "arrowcolor": "#2a3f5f",
           "arrowhead": 0,
           "arrowwidth": 1
          },
          "autotypenumbers": "strict",
          "coloraxis": {
           "colorbar": {
            "outlinewidth": 0,
            "ticks": ""
           }
          },
          "colorscale": {
           "diverging": [
            [
             0,
             "#8e0152"
            ],
            [
             0.1,
             "#c51b7d"
            ],
            [
             0.2,
             "#de77ae"
            ],
            [
             0.3,
             "#f1b6da"
            ],
            [
             0.4,
             "#fde0ef"
            ],
            [
             0.5,
             "#f7f7f7"
            ],
            [
             0.6,
             "#e6f5d0"
            ],
            [
             0.7,
             "#b8e186"
            ],
            [
             0.8,
             "#7fbc41"
            ],
            [
             0.9,
             "#4d9221"
            ],
            [
             1,
             "#276419"
            ]
           ],
           "sequential": [
            [
             0,
             "#0d0887"
            ],
            [
             0.1111111111111111,
             "#46039f"
            ],
            [
             0.2222222222222222,
             "#7201a8"
            ],
            [
             0.3333333333333333,
             "#9c179e"
            ],
            [
             0.4444444444444444,
             "#bd3786"
            ],
            [
             0.5555555555555556,
             "#d8576b"
            ],
            [
             0.6666666666666666,
             "#ed7953"
            ],
            [
             0.7777777777777778,
             "#fb9f3a"
            ],
            [
             0.8888888888888888,
             "#fdca26"
            ],
            [
             1,
             "#f0f921"
            ]
           ],
           "sequentialminus": [
            [
             0,
             "#0d0887"
            ],
            [
             0.1111111111111111,
             "#46039f"
            ],
            [
             0.2222222222222222,
             "#7201a8"
            ],
            [
             0.3333333333333333,
             "#9c179e"
            ],
            [
             0.4444444444444444,
             "#bd3786"
            ],
            [
             0.5555555555555556,
             "#d8576b"
            ],
            [
             0.6666666666666666,
             "#ed7953"
            ],
            [
             0.7777777777777778,
             "#fb9f3a"
            ],
            [
             0.8888888888888888,
             "#fdca26"
            ],
            [
             1,
             "#f0f921"
            ]
           ]
          },
          "colorway": [
           "#636efa",
           "#EF553B",
           "#00cc96",
           "#ab63fa",
           "#FFA15A",
           "#19d3f3",
           "#FF6692",
           "#B6E880",
           "#FF97FF",
           "#FECB52"
          ],
          "font": {
           "color": "#2a3f5f"
          },
          "geo": {
           "bgcolor": "white",
           "lakecolor": "white",
           "landcolor": "white",
           "showlakes": true,
           "showland": true,
           "subunitcolor": "#C8D4E3"
          },
          "hoverlabel": {
           "align": "left"
          },
          "hovermode": "closest",
          "mapbox": {
           "style": "light"
          },
          "paper_bgcolor": "white",
          "plot_bgcolor": "white",
          "polar": {
           "angularaxis": {
            "gridcolor": "#EBF0F8",
            "linecolor": "#EBF0F8",
            "ticks": ""
           },
           "bgcolor": "white",
           "radialaxis": {
            "gridcolor": "#EBF0F8",
            "linecolor": "#EBF0F8",
            "ticks": ""
           }
          },
          "scene": {
           "xaxis": {
            "backgroundcolor": "white",
            "gridcolor": "#DFE8F3",
            "gridwidth": 2,
            "linecolor": "#EBF0F8",
            "showbackground": true,
            "ticks": "",
            "zerolinecolor": "#EBF0F8"
           },
           "yaxis": {
            "backgroundcolor": "white",
            "gridcolor": "#DFE8F3",
            "gridwidth": 2,
            "linecolor": "#EBF0F8",
            "showbackground": true,
            "ticks": "",
            "zerolinecolor": "#EBF0F8"
           },
           "zaxis": {
            "backgroundcolor": "white",
            "gridcolor": "#DFE8F3",
            "gridwidth": 2,
            "linecolor": "#EBF0F8",
            "showbackground": true,
            "ticks": "",
            "zerolinecolor": "#EBF0F8"
           }
          },
          "shapedefaults": {
           "line": {
            "color": "#2a3f5f"
           }
          },
          "ternary": {
           "aaxis": {
            "gridcolor": "#DFE8F3",
            "linecolor": "#A2B1C6",
            "ticks": ""
           },
           "baxis": {
            "gridcolor": "#DFE8F3",
            "linecolor": "#A2B1C6",
            "ticks": ""
           },
           "bgcolor": "white",
           "caxis": {
            "gridcolor": "#DFE8F3",
            "linecolor": "#A2B1C6",
            "ticks": ""
           }
          },
          "title": {
           "x": 0.05
          },
          "xaxis": {
           "automargin": true,
           "gridcolor": "#EBF0F8",
           "linecolor": "#EBF0F8",
           "ticks": "",
           "title": {
            "standoff": 15
           },
           "zerolinecolor": "#EBF0F8",
           "zerolinewidth": 2
          },
          "yaxis": {
           "automargin": true,
           "gridcolor": "#EBF0F8",
           "linecolor": "#EBF0F8",
           "ticks": "",
           "title": {
            "standoff": 15
           },
           "zerolinecolor": "#EBF0F8",
           "zerolinewidth": 2
          }
         }
        },
        "title": {
         "text": "Benefit Payments — Cumulative by Fiscal Year"
        },
        "xaxis": {
         "title": {
          "text": "Fiscal Month (1=Month 10)"
         }
        },
        "yaxis": {
         "title": {
          "text": "USD"
         }
        }
       }
      }
     },
     "metadata": {},
     "output_type": "display_data"
    }
   ],
   "source": [
    "# Build a tidy frame for one category\n",
    "benefit = outlays_pivot[\"Benefit Payments\"].reset_index()\n",
    "benefit.columns = [\"record_date\", \"value\"]  # rename for convenience\n",
    "\n",
    "# Plot as *fiscal-year* cumulative (MTS default is fiscal framing)\n",
    "fig, pivot = plot_cumulative_by_year(\n",
    "    benefit,\n",
    "    date_col=\"record_date\",\n",
    "    value_col=\"value\",\n",
    "    fy_start_month=10,          # fiscal years (Oct–Sep)\n",
    "    years=None,                 # or [2021, 2022, 2023, 2024, 2025]\n",
    "    scale=1,               # MTS is in millions → show billions\n",
    "    title=\"Benefit Payments — Cumulative by Fiscal Year\",\n",
    "    ylabel=\"USD\"\n",
    ")\n",
    "fig.show()"
   ]
  },
  {
   "cell_type": "code",
   "execution_count": 126,
   "id": "814dd845",
   "metadata": {},
   "outputs": [
    {
     "data": {
      "application/vnd.plotly.v1+json": {
       "config": {
        "plotlyServerURL": "https://plot.ly"
       },
       "data": [
        {
         "mode": "lines+markers",
         "name": "2015",
         "type": "scatter",
         "x": {
          "bdata": "AQIDBAUGBwgJCgsM",
          "dtype": "i1"
         },
         "y": {
          "bdata": "AAAAAAAA+H8AAAAAAAD4fwAAAAAAAPh/AAAAAAAA+H8AAAAAAAD4f6ZdqK/9hOM/e1yHw0KH9T9jfI5u35YAQOPgEaxWUgZAuR9IXyd8DUBfjzDL5isRQAqby7TDKxRA",
          "dtype": "f8"
         }
        },
        {
         "mode": "lines+markers",
         "name": "2016",
         "type": "scatter",
         "x": {
          "bdata": "AQIDBAUGBwgJCgsM",
          "dtype": "i1"
         },
         "y": {
          "bdata": "Fk87U5ve6z++0ujy4y73P7JzFf83bAJAeBBtqq3LBkC8tIbwHG0MQFpuNGj6LRFA9EPqQQ2CFEC42Lg/dOoWQM6v8DSw2BlABLwYyrDOHEAXBxrSEN4fQGo/bWndpyFA",
          "dtype": "f8"
         }
        },
        {
         "mode": "lines+markers",
         "name": "2017",
         "type": "scatter",
         "x": {
          "bdata": "AQIDBAUGBwgJCgsM",
          "dtype": "i1"
         },
         "y": {
          "bdata": "3EEzABqo4j8MB/Q6m4j1P0SWpBvDYwBASPLO00MkBkAOzYwCUdgLQPPpSLwxaRFAwF2d1SrFE0BVh7lrlr0WQBNKxCm7OBpAc9foi0iZHECcuzlmpK0fQLXDT098pSFA",
          "dtype": "f8"
         }
        },
        {
         "mode": "lines+markers",
         "name": "2018",
         "type": "scatter",
         "x": {
          "bdata": "AQIDBAUGBwgJCgsM",
          "dtype": "i1"
         },
         "y": {
          "bdata": "ODByPfnE4j8mw6XhOzT1PzsQS0n9NwBAy22x8Xv/BUB3PsX0I8ELQOWD0yBOXxFAQLaGV7jFE0AZTJMDR8UWQPH4u5uFWhpAw2YIlWTGHEABsoamC3sgQBm1cKw3cyFA",
          "dtype": "f8"
         }
        },
        {
         "mode": "lines+markers",
         "name": "2019",
         "type": "scatter",
         "x": {
          "bdata": "AQIDBAUGBwgJCgsM",
          "dtype": "i1"
         },
         "y": {
          "bdata": "8K5cnlPi5j9NeFS7W774PzWarS/I/wBAvElcR5zRBkBByBnxL6EMQCc0lDmSShFA9QmiOgBJFEDrvfvIuB4YQEBv1FBghBpAi7A081+HHUDqbmrw2I4gQBzNmYcpyyFA",
          "dtype": "f8"
         }
        },
        {
         "mode": "lines+markers",
         "name": "2020",
         "type": "scatter",
         "x": {
          "bdata": "AQIDBAUGBwgJCgsM",
          "dtype": "i1"
         },
         "y": {
          "bdata": "nwLD3XNP5z/Xl9UUIVT5P1AQxFo6ZwFAX2J6NFeBCEBi6UCuskgOQNexkxRFlxFA3MhXRlBhFkCCvS6ArkAZQHtL7xn6YBxAbVnONq0SIEC2wggD70AhQHuMs8ow5yJA",
          "dtype": "f8"
         }
        },
        {
         "mode": "lines+markers",
         "name": "2021",
         "type": "scatter",
         "x": {
          "bdata": "AQIDBAUGBwgJCgsM",
          "dtype": "i1"
         },
         "y": {
          "bdata": "VDmtn68K7j8xvbtfbn34PxwePqFgRgNA2jqOEttyCEAxe4JeuZgOQMFQzMwKaRJARPhjpH4kFkBAIwvWqoMYQHPnD2/I4BtAvVMvx4m8H0BYraWl4xEhQJD4vR0DxyJA",
          "dtype": "f8"
         }
        },
        {
         "mode": "lines+markers",
         "name": "2022",
         "type": "scatter",
         "x": {
          "bdata": "AQIDBAUGBwgJCgsM",
          "dtype": "i1"
         },
         "y": {
          "bdata": "8WCQSq505j+qjnYZ5932PwEcotKOogFA2hWZwSrjB0C9JEnOH98NQAtSY+CoLRJA39dt8q7hFUAS4i9SRigYQEf5eqVPqhtAnVAfjOrcHkAAQ0LzGfkgQDXkOCK1DSNA",
          "dtype": "f8"
         }
        },
        {
         "mode": "lines+markers",
         "name": "2023",
         "type": "scatter",
         "x": {
          "bdata": "AQIDBAUGBwgJCgsM",
          "dtype": "i1"
         },
         "y": {
          "bdata": "iLTsq1wc4T/m3nfKsWT0P1wxUSViBABA7AwKDWM8BkC3l/jYKFkMQD2Hcq3yBRJAb8jP20ddFEDgQ6n1UoEXQDfSYfkuthtAP8dhBcAQHkBwxrZ6gJ0gQJCkuH4xkCJA",
          "dtype": "f8"
         }
        },
        {
         "mode": "lines+markers",
         "name": "2024",
         "type": "scatter",
         "x": {
          "bdata": "AQIDBAUGBwgJCgsM",
          "dtype": "i1"
         },
         "y": {
          "bdata": "23/sqD3/4T/kLkvb+zz1PyXgJEPoYgBAxsOsqFrDBkCslBLpfdsMQNKRlqZObhFAfWYtPpGCFEDokus28JkYQA8HWJnm9BpA5MYrAGNQHkCJ5LUXERwhQMBg9LBHUCJA",
          "dtype": "f8"
         }
        },
        {
         "mode": "lines+markers",
         "name": "2025",
         "type": "scatter",
         "x": {
          "bdata": "AQIDBAUGBwgJCgsM",
          "dtype": "i1"
         },
         "y": {
          "bdata": "LauV9IX45z+9dcHaHdf6P4K0fvgPDgJA12YhmjDKCUB0to8XS9oPQOUrfUHZhhJAYlBGiw+1FUBC8F7+BNQZQC3SKp12PxxA44dpVjSyH0AAAAAAAAD4fwAAAAAAAPh/",
          "dtype": "f8"
         }
        }
       ],
       "layout": {
        "hovermode": "x unified",
        "legend": {
         "title": {
          "text": "Fiscal Year"
         }
        },
        "template": {
         "data": {
          "bar": [
           {
            "error_x": {
             "color": "#2a3f5f"
            },
            "error_y": {
             "color": "#2a3f5f"
            },
            "marker": {
             "line": {
              "color": "white",
              "width": 0.5
             },
             "pattern": {
              "fillmode": "overlay",
              "size": 10,
              "solidity": 0.2
             }
            },
            "type": "bar"
           }
          ],
          "barpolar": [
           {
            "marker": {
             "line": {
              "color": "white",
              "width": 0.5
             },
             "pattern": {
              "fillmode": "overlay",
              "size": 10,
              "solidity": 0.2
             }
            },
            "type": "barpolar"
           }
          ],
          "carpet": [
           {
            "aaxis": {
             "endlinecolor": "#2a3f5f",
             "gridcolor": "#C8D4E3",
             "linecolor": "#C8D4E3",
             "minorgridcolor": "#C8D4E3",
             "startlinecolor": "#2a3f5f"
            },
            "baxis": {
             "endlinecolor": "#2a3f5f",
             "gridcolor": "#C8D4E3",
             "linecolor": "#C8D4E3",
             "minorgridcolor": "#C8D4E3",
             "startlinecolor": "#2a3f5f"
            },
            "type": "carpet"
           }
          ],
          "choropleth": [
           {
            "colorbar": {
             "outlinewidth": 0,
             "ticks": ""
            },
            "type": "choropleth"
           }
          ],
          "contour": [
           {
            "colorbar": {
             "outlinewidth": 0,
             "ticks": ""
            },
            "colorscale": [
             [
              0,
              "#0d0887"
             ],
             [
              0.1111111111111111,
              "#46039f"
             ],
             [
              0.2222222222222222,
              "#7201a8"
             ],
             [
              0.3333333333333333,
              "#9c179e"
             ],
             [
              0.4444444444444444,
              "#bd3786"
             ],
             [
              0.5555555555555556,
              "#d8576b"
             ],
             [
              0.6666666666666666,
              "#ed7953"
             ],
             [
              0.7777777777777778,
              "#fb9f3a"
             ],
             [
              0.8888888888888888,
              "#fdca26"
             ],
             [
              1,
              "#f0f921"
             ]
            ],
            "type": "contour"
           }
          ],
          "contourcarpet": [
           {
            "colorbar": {
             "outlinewidth": 0,
             "ticks": ""
            },
            "type": "contourcarpet"
           }
          ],
          "heatmap": [
           {
            "colorbar": {
             "outlinewidth": 0,
             "ticks": ""
            },
            "colorscale": [
             [
              0,
              "#0d0887"
             ],
             [
              0.1111111111111111,
              "#46039f"
             ],
             [
              0.2222222222222222,
              "#7201a8"
             ],
             [
              0.3333333333333333,
              "#9c179e"
             ],
             [
              0.4444444444444444,
              "#bd3786"
             ],
             [
              0.5555555555555556,
              "#d8576b"
             ],
             [
              0.6666666666666666,
              "#ed7953"
             ],
             [
              0.7777777777777778,
              "#fb9f3a"
             ],
             [
              0.8888888888888888,
              "#fdca26"
             ],
             [
              1,
              "#f0f921"
             ]
            ],
            "type": "heatmap"
           }
          ],
          "histogram": [
           {
            "marker": {
             "pattern": {
              "fillmode": "overlay",
              "size": 10,
              "solidity": 0.2
             }
            },
            "type": "histogram"
           }
          ],
          "histogram2d": [
           {
            "colorbar": {
             "outlinewidth": 0,
             "ticks": ""
            },
            "colorscale": [
             [
              0,
              "#0d0887"
             ],
             [
              0.1111111111111111,
              "#46039f"
             ],
             [
              0.2222222222222222,
              "#7201a8"
             ],
             [
              0.3333333333333333,
              "#9c179e"
             ],
             [
              0.4444444444444444,
              "#bd3786"
             ],
             [
              0.5555555555555556,
              "#d8576b"
             ],
             [
              0.6666666666666666,
              "#ed7953"
             ],
             [
              0.7777777777777778,
              "#fb9f3a"
             ],
             [
              0.8888888888888888,
              "#fdca26"
             ],
             [
              1,
              "#f0f921"
             ]
            ],
            "type": "histogram2d"
           }
          ],
          "histogram2dcontour": [
           {
            "colorbar": {
             "outlinewidth": 0,
             "ticks": ""
            },
            "colorscale": [
             [
              0,
              "#0d0887"
             ],
             [
              0.1111111111111111,
              "#46039f"
             ],
             [
              0.2222222222222222,
              "#7201a8"
             ],
             [
              0.3333333333333333,
              "#9c179e"
             ],
             [
              0.4444444444444444,
              "#bd3786"
             ],
             [
              0.5555555555555556,
              "#d8576b"
             ],
             [
              0.6666666666666666,
              "#ed7953"
             ],
             [
              0.7777777777777778,
              "#fb9f3a"
             ],
             [
              0.8888888888888888,
              "#fdca26"
             ],
             [
              1,
              "#f0f921"
             ]
            ],
            "type": "histogram2dcontour"
           }
          ],
          "mesh3d": [
           {
            "colorbar": {
             "outlinewidth": 0,
             "ticks": ""
            },
            "type": "mesh3d"
           }
          ],
          "parcoords": [
           {
            "line": {
             "colorbar": {
              "outlinewidth": 0,
              "ticks": ""
             }
            },
            "type": "parcoords"
           }
          ],
          "pie": [
           {
            "automargin": true,
            "type": "pie"
           }
          ],
          "scatter": [
           {
            "fillpattern": {
             "fillmode": "overlay",
             "size": 10,
             "solidity": 0.2
            },
            "type": "scatter"
           }
          ],
          "scatter3d": [
           {
            "line": {
             "colorbar": {
              "outlinewidth": 0,
              "ticks": ""
             }
            },
            "marker": {
             "colorbar": {
              "outlinewidth": 0,
              "ticks": ""
             }
            },
            "type": "scatter3d"
           }
          ],
          "scattercarpet": [
           {
            "marker": {
             "colorbar": {
              "outlinewidth": 0,
              "ticks": ""
             }
            },
            "type": "scattercarpet"
           }
          ],
          "scattergeo": [
           {
            "marker": {
             "colorbar": {
              "outlinewidth": 0,
              "ticks": ""
             }
            },
            "type": "scattergeo"
           }
          ],
          "scattergl": [
           {
            "marker": {
             "colorbar": {
              "outlinewidth": 0,
              "ticks": ""
             }
            },
            "type": "scattergl"
           }
          ],
          "scattermap": [
           {
            "marker": {
             "colorbar": {
              "outlinewidth": 0,
              "ticks": ""
             }
            },
            "type": "scattermap"
           }
          ],
          "scattermapbox": [
           {
            "marker": {
             "colorbar": {
              "outlinewidth": 0,
              "ticks": ""
             }
            },
            "type": "scattermapbox"
           }
          ],
          "scatterpolar": [
           {
            "marker": {
             "colorbar": {
              "outlinewidth": 0,
              "ticks": ""
             }
            },
            "type": "scatterpolar"
           }
          ],
          "scatterpolargl": [
           {
            "marker": {
             "colorbar": {
              "outlinewidth": 0,
              "ticks": ""
             }
            },
            "type": "scatterpolargl"
           }
          ],
          "scatterternary": [
           {
            "marker": {
             "colorbar": {
              "outlinewidth": 0,
              "ticks": ""
             }
            },
            "type": "scatterternary"
           }
          ],
          "surface": [
           {
            "colorbar": {
             "outlinewidth": 0,
             "ticks": ""
            },
            "colorscale": [
             [
              0,
              "#0d0887"
             ],
             [
              0.1111111111111111,
              "#46039f"
             ],
             [
              0.2222222222222222,
              "#7201a8"
             ],
             [
              0.3333333333333333,
              "#9c179e"
             ],
             [
              0.4444444444444444,
              "#bd3786"
             ],
             [
              0.5555555555555556,
              "#d8576b"
             ],
             [
              0.6666666666666666,
              "#ed7953"
             ],
             [
              0.7777777777777778,
              "#fb9f3a"
             ],
             [
              0.8888888888888888,
              "#fdca26"
             ],
             [
              1,
              "#f0f921"
             ]
            ],
            "type": "surface"
           }
          ],
          "table": [
           {
            "cells": {
             "fill": {
              "color": "#EBF0F8"
             },
             "line": {
              "color": "white"
             }
            },
            "header": {
             "fill": {
              "color": "#C8D4E3"
             },
             "line": {
              "color": "white"
             }
            },
            "type": "table"
           }
          ]
         },
         "layout": {
          "annotationdefaults": {
           "arrowcolor": "#2a3f5f",
           "arrowhead": 0,
           "arrowwidth": 1
          },
          "autotypenumbers": "strict",
          "coloraxis": {
           "colorbar": {
            "outlinewidth": 0,
            "ticks": ""
           }
          },
          "colorscale": {
           "diverging": [
            [
             0,
             "#8e0152"
            ],
            [
             0.1,
             "#c51b7d"
            ],
            [
             0.2,
             "#de77ae"
            ],
            [
             0.3,
             "#f1b6da"
            ],
            [
             0.4,
             "#fde0ef"
            ],
            [
             0.5,
             "#f7f7f7"
            ],
            [
             0.6,
             "#e6f5d0"
            ],
            [
             0.7,
             "#b8e186"
            ],
            [
             0.8,
             "#7fbc41"
            ],
            [
             0.9,
             "#4d9221"
            ],
            [
             1,
             "#276419"
            ]
           ],
           "sequential": [
            [
             0,
             "#0d0887"
            ],
            [
             0.1111111111111111,
             "#46039f"
            ],
            [
             0.2222222222222222,
             "#7201a8"
            ],
            [
             0.3333333333333333,
             "#9c179e"
            ],
            [
             0.4444444444444444,
             "#bd3786"
            ],
            [
             0.5555555555555556,
             "#d8576b"
            ],
            [
             0.6666666666666666,
             "#ed7953"
            ],
            [
             0.7777777777777778,
             "#fb9f3a"
            ],
            [
             0.8888888888888888,
             "#fdca26"
            ],
            [
             1,
             "#f0f921"
            ]
           ],
           "sequentialminus": [
            [
             0,
             "#0d0887"
            ],
            [
             0.1111111111111111,
             "#46039f"
            ],
            [
             0.2222222222222222,
             "#7201a8"
            ],
            [
             0.3333333333333333,
             "#9c179e"
            ],
            [
             0.4444444444444444,
             "#bd3786"
            ],
            [
             0.5555555555555556,
             "#d8576b"
            ],
            [
             0.6666666666666666,
             "#ed7953"
            ],
            [
             0.7777777777777778,
             "#fb9f3a"
            ],
            [
             0.8888888888888888,
             "#fdca26"
            ],
            [
             1,
             "#f0f921"
            ]
           ]
          },
          "colorway": [
           "#636efa",
           "#EF553B",
           "#00cc96",
           "#ab63fa",
           "#FFA15A",
           "#19d3f3",
           "#FF6692",
           "#B6E880",
           "#FF97FF",
           "#FECB52"
          ],
          "font": {
           "color": "#2a3f5f"
          },
          "geo": {
           "bgcolor": "white",
           "lakecolor": "white",
           "landcolor": "white",
           "showlakes": true,
           "showland": true,
           "subunitcolor": "#C8D4E3"
          },
          "hoverlabel": {
           "align": "left"
          },
          "hovermode": "closest",
          "mapbox": {
           "style": "light"
          },
          "paper_bgcolor": "white",
          "plot_bgcolor": "white",
          "polar": {
           "angularaxis": {
            "gridcolor": "#EBF0F8",
            "linecolor": "#EBF0F8",
            "ticks": ""
           },
           "bgcolor": "white",
           "radialaxis": {
            "gridcolor": "#EBF0F8",
            "linecolor": "#EBF0F8",
            "ticks": ""
           }
          },
          "scene": {
           "xaxis": {
            "backgroundcolor": "white",
            "gridcolor": "#DFE8F3",
            "gridwidth": 2,
            "linecolor": "#EBF0F8",
            "showbackground": true,
            "ticks": "",
            "zerolinecolor": "#EBF0F8"
           },
           "yaxis": {
            "backgroundcolor": "white",
            "gridcolor": "#DFE8F3",
            "gridwidth": 2,
            "linecolor": "#EBF0F8",
            "showbackground": true,
            "ticks": "",
            "zerolinecolor": "#EBF0F8"
           },
           "zaxis": {
            "backgroundcolor": "white",
            "gridcolor": "#DFE8F3",
            "gridwidth": 2,
            "linecolor": "#EBF0F8",
            "showbackground": true,
            "ticks": "",
            "zerolinecolor": "#EBF0F8"
           }
          },
          "shapedefaults": {
           "line": {
            "color": "#2a3f5f"
           }
          },
          "ternary": {
           "aaxis": {
            "gridcolor": "#DFE8F3",
            "linecolor": "#A2B1C6",
            "ticks": ""
           },
           "baxis": {
            "gridcolor": "#DFE8F3",
            "linecolor": "#A2B1C6",
            "ticks": ""
           },
           "bgcolor": "white",
           "caxis": {
            "gridcolor": "#DFE8F3",
            "linecolor": "#A2B1C6",
            "ticks": ""
           }
          },
          "title": {
           "x": 0.05
          },
          "xaxis": {
           "automargin": true,
           "gridcolor": "#EBF0F8",
           "linecolor": "#EBF0F8",
           "ticks": "",
           "title": {
            "standoff": 15
           },
           "zerolinecolor": "#EBF0F8",
           "zerolinewidth": 2
          },
          "yaxis": {
           "automargin": true,
           "gridcolor": "#EBF0F8",
           "linecolor": "#EBF0F8",
           "ticks": "",
           "title": {
            "standoff": 15
           },
           "zerolinecolor": "#EBF0F8",
           "zerolinewidth": 2
          }
         }
        },
        "title": {
         "text": "Benefit Payments — Cumulative % of GDP (Fixed FY Denominator)"
        },
        "xaxis": {
         "title": {
          "text": "Fiscal Month (1=Oct)"
         }
        },
        "yaxis": {
         "title": {
          "text": "% of GDP"
         }
        }
       }
      }
     },
     "metadata": {},
     "output_type": "display_data"
    }
   ],
   "source": [
    "# 2) Prepare Customs Duties series (millions)\n",
    "# If you already have `outlays_pivot` from get_outlays_breakdown(...):\n",
    "focus = outlays_pivot[\"Benefit Payments\"].reset_index()\n",
    "focus.columns = [\"record_date\", \"value\"]\n",
    "\n",
    "# 3) Plot cumulative FY as % of GDP (fixed denominators)\n",
    "fig, pivot = plot_cumulative_by_fy_pct_gdp_fixed(\n",
    "    focus,\n",
    "    date_col=\"record_date\",\n",
    "    value_col=\"value\",\n",
    "    fy_denoms_millions=fy_denoms,\n",
    "    years=None,\n",
    "    title=\"Benefit Payments — Cumulative % of GDP (Fixed FY Denominator)\"\n",
    ")\n",
    "fig.show()"
   ]
  },
  {
   "cell_type": "markdown",
   "id": "8a440d82",
   "metadata": {},
   "source": [
    "## D) Treasury General Account"
   ]
  },
  {
   "cell_type": "markdown",
   "id": "c20f5ec1",
   "metadata": {},
   "source": [
    "basically the bank account of the gov at the fed"
   ]
  },
  {
   "cell_type": "code",
   "execution_count": 163,
   "id": "5b19d156",
   "metadata": {},
   "outputs": [
    {
     "data": {
      "text/html": [
       "<div>\n",
       "<style scoped>\n",
       "    .dataframe tbody tr th:only-of-type {\n",
       "        vertical-align: middle;\n",
       "    }\n",
       "\n",
       "    .dataframe tbody tr th {\n",
       "        vertical-align: top;\n",
       "    }\n",
       "\n",
       "    .dataframe thead th {\n",
       "        text-align: right;\n",
       "    }\n",
       "</style>\n",
       "<table border=\"1\" class=\"dataframe\">\n",
       "  <thead>\n",
       "    <tr style=\"text-align: right;\">\n",
       "      <th></th>\n",
       "      <th>record_date</th>\n",
       "      <th>tga_balance</th>\n",
       "    </tr>\n",
       "  </thead>\n",
       "  <tbody>\n",
       "    <tr>\n",
       "      <th>2663</th>\n",
       "      <td>2025-08-08</td>\n",
       "      <td>491691</td>\n",
       "    </tr>\n",
       "    <tr>\n",
       "      <th>2664</th>\n",
       "      <td>2025-08-11</td>\n",
       "      <td>504280</td>\n",
       "    </tr>\n",
       "    <tr>\n",
       "      <th>2665</th>\n",
       "      <td>2025-08-12</td>\n",
       "      <td>545499</td>\n",
       "    </tr>\n",
       "    <tr>\n",
       "      <th>2666</th>\n",
       "      <td>2025-08-13</td>\n",
       "      <td>545499</td>\n",
       "    </tr>\n",
       "    <tr>\n",
       "      <th>2667</th>\n",
       "      <td>2025-08-14</td>\n",
       "      <td>549080</td>\n",
       "    </tr>\n",
       "  </tbody>\n",
       "</table>\n",
       "</div>"
      ],
      "text/plain": [
       "     record_date  tga_balance\n",
       "2663  2025-08-08       491691\n",
       "2664  2025-08-11       504280\n",
       "2665  2025-08-12       545499\n",
       "2666  2025-08-13       545499\n",
       "2667  2025-08-14       549080"
      ]
     },
     "execution_count": 163,
     "metadata": {},
     "output_type": "execute_result"
    }
   ],
   "source": [
    "def get_tga_balance(start_date: str, end_date: str) -> pd.DataFrame:\n",
    "    df = fetch_fiscaldata(\n",
    "        \"v1/accounting/dts/operating_cash_balance\",\n",
    "        filters={\"record_date\": (\"gte\", start_date)},\n",
    "        sort=[\"record_date\"],\n",
    "    )\n",
    "    if df.empty:\n",
    "        return df\n",
    "\n",
    "    df[\"record_date\"] = pd.to_datetime(df[\"record_date\"], errors=\"coerce\")\n",
    "    df[\"open_today_bal\"] = pd.to_numeric(df[\"open_today_bal\"], errors=\"coerce\")\n",
    "\n",
    "    # per day, take the max balance (TGA is the largest)\n",
    "    daily = (\n",
    "        df.dropna(subset=[\"open_today_bal\"])\n",
    "          .groupby(\"record_date\", as_index=False)[\"open_today_bal\"]\n",
    "          .max()\n",
    "          .rename(columns={\"open_today_bal\": \"tga_balance\"})\n",
    "          .sort_values(\"record_date\")\n",
    "    )\n",
    "\n",
    "    daily = daily[daily[\"record_date\"] <= pd.to_datetime(end_date)].reset_index(drop=True)\n",
    "    return daily\n",
    "\n",
    "tga = get_tga_balance(START, END)\n",
    "tga.tail()"
   ]
  },
  {
   "cell_type": "code",
   "execution_count": 164,
   "id": "1ef77f29",
   "metadata": {},
   "outputs": [
    {
     "data": {
      "image/png": "[encoded data removed]",
      "text/plain": [
       "<Figure size 640x480 with 1 Axes>"
      ]
     },
     "metadata": {},
     "output_type": "display_data"
    }
   ],
   "source": [
    "tga = get_tga_balance(START, END)\n",
    "\n",
    "fig, ax = plt.subplots()\n",
    "ax.plot(tga[\"record_date\"], tga[\"tga_balance\"]/1e3, label=\"TGA Balance\")  # millions → billions\n",
    "ax.legend()\n",
    "_finish_timeplot(ax, \"Treasury General Account (Operating Cash Balance)\", \"USD billions\")"
   ]
  },
  {
   "cell_type": "code",
   "execution_count": 165,
   "id": "537719bf",
   "metadata": {},
   "outputs": [
    {
     "data": {
      "application/vnd.plotly.v1+json": {
       "config": {
        "plotlyServerURL": "https://plot.ly"
       },
       "data": [
        {
         "line": {
          "color": "blue",
          "width": 1.5
         },
         "mode": "lines",
         "name": "TGA Balance",
         "type": "scatter",
         "x": [
          "2015-01-02T00:00:00.000000000",
          "2015-01-05T00:00:00.000000000",
          "2015-01-06T00:00:00.000000000",
          "2015-01-07T00:00:00.000000000",
          "2015-01-08T00:00:00.000000000",
          "2015-01-09T00:00:00.000000000",
          "2015-01-12T00:00:00.000000000",
          "2015-01-13T00:00:00.000000000",
          "2015-01-14T00:00:00.000000000",
          "2015-01-15T00:00:00.000000000",
          "2015-01-16T00:00:00.000000000",
          "2015-01-20T00:00:00.000000000",
          "2015-01-21T00:00:00.000000000",
          "2015-01-22T00:00:00.000000000",
          "2015-01-23T00:00:00.000000000",
          "2015-01-26T00:00:00.000000000",
          "2015-01-27T00:00:00.000000000",
          "2015-01-28T00:00:00.000000000",
          "2015-01-29T00:00:00.000000000",
          "2015-01-30T00:00:00.000000000",
          "2015-02-02T00:00:00.000000000",
          "2015-02-03T00:00:00.000000000",
          "2015-02-04T00:00:00.000000000",
          "2015-02-05T00:00:00.000000000",
          "2015-02-06T00:00:00.000000000",
          "2015-02-09T00:00:00.000000000",
          "2015-02-10T00:00:00.000000000",
          "2015-02-11T00:00:00.000000000",
          "2015-02-12T00:00:00.000000000",
          "2015-02-13T00:00:00.000000000",
          "2015-02-17T00:00:00.000000000",
          "2015-02-18T00:00:00.000000000",
          "2015-02-19T00:00:00.000000000",
          "2015-02-20T00:00:00.000000000",
          "2015-02-23T00:00:00.000000000",
          "2015-02-24T00:00:00.000000000",
          "2015-02-25T00:00:00.000000000",
          "2015-02-26T00:00:00.000000000",
          "2015-02-27T00:00:00.000000000",
          "2015-03-02T00:00:00.000000000",
          "2015-03-03T00:00:00.000000000",
          "2015-03-04T00:00:00.000000000",
          "2015-03-05T00:00:00.000000000",
          "2015-03-06T00:00:00.000000000",
          "2015-03-09T00:00:00.000000000",
          "2015-03-10T00:00:00.000000000",
          "2015-03-11T00:00:00.000000000",
          "2015-03-12T00:00:00.000000000",
          "2015-03-13T00:00:00.000000000",
          "2015-03-16T00:00:00.000000000",
          "2015-03-17T00:00:00.000000000",
          "2015-03-18T00:00:00.000000000",
          "2015-03-19T00:00:00.000000000",
          "2015-03-20T00:00:00.000000000",
          "2015-03-23T00:00:00.000000000",
          "2015-03-24T00:00:00.000000000",
          "2015-03-25T00:00:00.000000000",
          "2015-03-26T00:00:00.000000000",
          "2015-03-27T00:00:00.000000000",
          "2015-03-30T00:00:00.000000000",
          "2015-03-31T00:00:00.000000000",
          "2015-04-01T00:00:00.000000000",
          "2015-04-02T00:00:00.000000000",
          "2015-04-03T00:00:00.000000000",
          "2015-04-06T00:00:00.000000000",
          "2015-04-07T00:00:00.000000000",
          "2015-04-08T00:00:00.000000000",
          "2015-04-09T00:00:00.000000000",
          "2015-04-10T00:00:00.000000000",
          "2015-04-13T00:00:00.000000000",
          "2015-04-14T00:00:00.000000000",
          "2015-04-15T00:00:00.000000000",
          "2015-04-16T00:00:00.000000000",
          "2015-04-17T00:00:00.000000000",
          "2015-04-20T00:00:00.000000000",
          "2015-04-21T00:00:00.000000000",
          "2015-04-22T00:00:00.000000000",
          "2015-04-23T00:00:00.000000000",
          "2015-04-24T00:00:00.000000000",
          "2015-04-27T00:00:00.000000000",
          "2015-04-28T00:00:00.000000000",
          "2015-04-29T00:00:00.000000000",
          "2015-04-30T00:00:00.000000000",
          "2015-05-01T00:00:00.000000000",
          "2015-05-04T00:00:00.000000000",
          "2015-05-05T00:00:00.000000000",
          "2015-05-06T00:00:00.000000000",
          "2015-05-07T00:00:00.000000000",
          "2015-05-08T00:00:00.000000000",
          "2015-05-11T00:00:00.000000000",
          "2015-05-12T00:00:00.000000000",
          "2015-05-13T00:00:00.000000000",
          "2015-05-14T00:00:00.000000000",
          "2015-05-15T00:00:00.000000000",
          "2015-05-18T00:00:00.000000000",
          "2015-05-19T00:00:00.000000000",
          "2015-05-20T00:00:00.000000000",
          "2015-05-21T00:00:00.000000000",
          "2015-05-22T00:00:00.000000000",
          "2015-05-26T00:00:00.000000000",
          "2015-05-27T00:00:00.000000000",
          "2015-05-28T00:00:00.000000000",
          "2015-05-29T00:00:00.000000000",
          "2015-06-01T00:00:00.000000000",
          "2015-06-02T00:00:00.000000000",
          "2015-06-03T00:00:00.000000000",
          "2015-06-04T00:00:00.000000000",
          "2015-06-05T00:00:00.000000000",
          "2015-06-08T00:00:00.000000000",
          "2015-06-09T00:00:00.000000000",
          "2015-06-10T00:00:00.000000000",
          "2015-06-11T00:00:00.000000000",
          "2015-06-12T00:00:00.000000000",
          "2015-06-15T00:00:00.000000000",
          "2015-06-16T00:00:00.000000000",
          "2015-06-17T00:00:00.000000000",
          "2015-06-18T00:00:00.000000000",
          "2015-06-19T00:00:00.000000000",
          "2015-06-22T00:00:00.000000000",
          "2015-06-23T00:00:00.000000000",
          "2015-06-24T00:00:00.000000000",
          "2015-06-25T00:00:00.000000000",
          "2015-06-26T00:00:00.000000000",
          "2015-06-29T00:00:00.000000000",
          "2015-06-30T00:00:00.000000000",
          "2015-07-01T00:00:00.000000000",
          "2015-07-02T00:00:00.000000000",
          "2015-07-03T00:00:00.000000000",
          "2015-07-06T00:00:00.000000000",
          "2015-07-07T00:00:00.000000000",
          "2015-07-08T00:00:00.000000000",
          "2015-07-09T00:00:00.000000000",
          "2015-07-10T00:00:00.000000000",
          "2015-07-13T00:00:00.000000000",
          "2015-07-14T00:00:00.000000000",
          "2015-07-15T00:00:00.000000000",
          "2015-07-16T00:00:00.000000000",
          "2015-07-17T00:00:00.000000000",
          "2015-07-20T00:00:00.000000000",
          "2015-07-21T00:00:00.000000000",
          "2015-07-22T00:00:00.000000000",
          "2015-07-23T00:00:00.000000000",
          "2015-07-24T00:00:00.000000000",
          "2015-07-27T00:00:00.000000000",
          "2015-07-28T00:00:00.000000000",
          "2015-07-29T00:00:00.000000000",
          "2015-07-30T00:00:00.000000000",
          "2015-07-31T00:00:00.000000000",
          "2015-08-03T00:00:00.000000000",
          "2015-08-04T00:00:00.000000000",
          "2015-08-05T00:00:00.000000000",
          "2015-08-06T00:00:00.000000000",
          "2015-08-07T00:00:00.000000000",
          "2015-08-10T00:00:00.000000000",
          "2015-08-11T00:00:00.000000000",
          "2015-08-12T00:00:00.000000000",
          "2015-08-13T00:00:00.000000000",
          "2015-08-14T00:00:00.000000000",
          "2015-08-17T00:00:00.000000000",
          "2015-08-18T00:00:00.000000000",
          "2015-08-19T00:00:00.000000000",
          "2015-08-20T00:00:00.000000000",
          "2015-08-21T00:00:00.000000000",
          "2015-08-24T00:00:00.000000000",
          "2015-08-25T00:00:00.000000000",
          "2015-08-26T00:00:00.000000000",
          "2015-08-27T00:00:00.000000000",
          "2015-08-28T00:00:00.000000000",
          "2015-08-31T00:00:00.000000000",
          "2015-09-01T00:00:00.000000000",
          "2015-09-02T00:00:00.000000000",
          "2015-09-03T00:00:00.000000000",
          "2015-09-04T00:00:00.000000000",
          "2015-09-08T00:00:00.000000000",
          "2015-09-09T00:00:00.000000000",
          "2015-09-10T00:00:00.000000000",
          "2015-09-11T00:00:00.000000000",
          "2015-09-14T00:00:00.000000000",
          "2015-09-15T00:00:00.000000000",
          "2015-09-16T00:00:00.000000000",
          "2015-09-17T00:00:00.000000000",
          "2015-09-18T00:00:00.000000000",
          "2015-09-21T00:00:00.000000000",
          "2015-09-22T00:00:00.000000000",
          "2015-09-23T00:00:00.000000000",
          "2015-09-24T00:00:00.000000000",
          "2015-09-25T00:00:00.000000000",
          "2015-09-28T00:00:00.000000000",
          "2015-09-29T00:00:00.000000000",
          "2015-09-30T00:00:00.000000000",
          "2015-10-01T00:00:00.000000000",
          "2015-10-02T00:00:00.000000000",
          "2015-10-05T00:00:00.000000000",
          "2015-10-06T00:00:00.000000000",
          "2015-10-07T00:00:00.000000000",
          "2015-10-08T00:00:00.000000000",
          "2015-10-09T00:00:00.000000000",
          "2015-10-13T00:00:00.000000000",
          "2015-10-14T00:00:00.000000000",
          "2015-10-15T00:00:00.000000000",
          "2015-10-16T00:00:00.000000000",
          "2015-10-19T00:00:00.000000000",
          "2015-10-20T00:00:00.000000000",
          "2015-10-21T00:00:00.000000000",
          "2015-10-22T00:00:00.000000000",
          "2015-10-23T00:00:00.000000000",
          "2015-10-26T00:00:00.000000000",
          "2015-10-27T00:00:00.000000000",
          "2015-10-28T00:00:00.000000000",
          "2015-10-29T00:00:00.000000000",
          "2015-10-30T00:00:00.000000000",
          "2015-11-02T00:00:00.000000000",
          "2015-11-03T00:00:00.000000000",
          "2015-11-04T00:00:00.000000000",
          "2015-11-05T00:00:00.000000000",
          "2015-11-06T00:00:00.000000000",
          "2015-11-09T00:00:00.000000000",
          "2015-11-10T00:00:00.000000000",
          "2015-11-12T00:00:00.000000000",
          "2015-11-13T00:00:00.000000000",
          "2015-11-16T00:00:00.000000000",
          "2015-11-17T00:00:00.000000000",
          "2015-11-18T00:00:00.000000000",
          "2015-11-19T00:00:00.000000000",
          "2015-11-20T00:00:00.000000000",
          "2015-11-23T00:00:00.000000000",
          "2015-11-24T00:00:00.000000000",
          "2015-11-25T00:00:00.000000000",
          "2015-11-27T00:00:00.000000000",
          "2015-11-30T00:00:00.000000000",
          "2015-12-01T00:00:00.000000000",
          "2015-12-02T00:00:00.000000000",
          "2015-12-03T00:00:00.000000000",
          "2015-12-04T00:00:00.000000000",
          "2015-12-07T00:00:00.000000000",
          "2015-12-08T00:00:00.000000000",
          "2015-12-09T00:00:00.000000000",
          "2015-12-10T00:00:00.000000000",
          "2015-12-11T00:00:00.000000000",
          "2015-12-14T00:00:00.000000000",
          "2015-12-15T00:00:00.000000000",
          "2015-12-16T00:00:00.000000000",
          "2015-12-17T00:00:00.000000000",
          "2015-12-18T00:00:00.000000000",
          "2015-12-21T00:00:00.000000000",
          "2015-12-22T00:00:00.000000000",
          "2015-12-23T00:00:00.000000000",
          "2015-12-24T00:00:00.000000000",
          "2015-12-28T00:00:00.000000000",
          "2015-12-29T00:00:00.000000000",
          "2015-12-30T00:00:00.000000000",
          "2015-12-31T00:00:00.000000000",
          "2016-01-04T00:00:00.000000000",
          "2016-01-05T00:00:00.000000000",
          "2016-01-06T00:00:00.000000000",
          "2016-01-07T00:00:00.000000000",
          "2016-01-08T00:00:00.000000000",
          "2016-01-11T00:00:00.000000000",
          "2016-01-12T00:00:00.000000000",
          "2016-01-13T00:00:00.000000000",
          "2016-01-14T00:00:00.000000000",
          "2016-01-15T00:00:00.000000000",
          "2016-01-19T00:00:00.000000000",
          "2016-01-20T00:00:00.000000000",
          "2016-01-21T00:00:00.000000000",
          "2016-01-22T00:00:00.000000000",
          "2016-01-25T00:00:00.000000000",
          "2016-01-26T00:00:00.000000000",
          "2016-01-27T00:00:00.000000000",
          "2016-01-28T00:00:00.000000000",
          "2016-01-29T00:00:00.000000000",
          "2016-02-01T00:00:00.000000000",
          "2016-02-02T00:00:00.000000000",
          "2016-02-03T00:00:00.000000000",
          "2016-02-04T00:00:00.000000000",
          "2016-02-05T00:00:00.000000000",
          "2016-02-08T00:00:00.000000000",
          "2016-02-09T00:00:00.000000000",
          "2016-02-10T00:00:00.000000000",
          "2016-02-11T00:00:00.000000000",
          "2016-02-12T00:00:00.000000000",
          "2016-02-16T00:00:00.000000000",
          "2016-02-17T00:00:00.000000000",
          "2016-02-18T00:00:00.000000000",
          "2016-02-19T00:00:00.000000000",
          "2016-02-22T00:00:00.000000000",
          "2016-02-23T00:00:00.000000000",
          "2016-02-24T00:00:00.000000000",
          "2016-02-25T00:00:00.000000000",
          "2016-02-26T00:00:00.000000000",
          "2016-02-29T00:00:00.000000000",
          "2016-03-01T00:00:00.000000000",
          "2016-03-02T00:00:00.000000000",
          "2016-03-03T00:00:00.000000000",
          "2016-03-04T00:00:00.000000000",
          "2016-03-07T00:00:00.000000000",
          "2016-03-08T00:00:00.000000000",
          "2016-03-09T00:00:00.000000000",
          "2016-03-10T00:00:00.000000000",
          "2016-03-11T00:00:00.000000000",
          "2016-03-14T00:00:00.000000000",
          "2016-03-15T00:00:00.000000000",
          "2016-03-16T00:00:00.000000000",
          "2016-03-17T00:00:00.000000000",
          "2016-03-18T00:00:00.000000000",
          "2016-03-21T00:00:00.000000000",
          "2016-03-22T00:00:00.000000000",
          "2016-03-23T00:00:00.000000000",
          "2016-03-24T00:00:00.000000000",
          "2016-03-25T00:00:00.000000000",
          "2016-03-28T00:00:00.000000000",
          "2016-03-29T00:00:00.000000000",
          "2016-03-30T00:00:00.000000000",
          "2016-03-31T00:00:00.000000000",
          "2016-04-01T00:00:00.000000000",
          "2016-04-04T00:00:00.000000000",
          "2016-04-05T00:00:00.000000000",
          "2016-04-06T00:00:00.000000000",
          "2016-04-07T00:00:00.000000000",
          "2016-04-08T00:00:00.000000000",
          "2016-04-11T00:00:00.000000000",
          "2016-04-12T00:00:00.000000000",
          "2016-04-13T00:00:00.000000000",
          "2016-04-14T00:00:00.000000000",
          "2016-04-15T00:00:00.000000000",
          "2016-04-18T00:00:00.000000000",
          "2016-04-19T00:00:00.000000000",
          "2016-04-20T00:00:00.000000000",
          "2016-04-21T00:00:00.000000000",
          "2016-04-22T00:00:00.000000000",
          "2016-04-25T00:00:00.000000000",
          "2016-04-26T00:00:00.000000000",
          "2016-04-27T00:00:00.000000000",
          "2016-04-28T00:00:00.000000000",
          "2016-04-29T00:00:00.000000000",
          "2016-05-02T00:00:00.000000000",
          "2016-05-03T00:00:00.000000000",
          "2016-05-04T00:00:00.000000000",
          "2016-05-05T00:00:00.000000000",
          "2016-05-06T00:00:00.000000000",
          "2016-05-09T00:00:00.000000000",
          "2016-05-10T00:00:00.000000000",
          "2016-05-11T00:00:00.000000000",
          "2016-05-12T00:00:00.000000000",
          "2016-05-13T00:00:00.000000000",
          "2016-05-16T00:00:00.000000000",
          "2016-05-17T00:00:00.000000000",
          "2016-05-18T00:00:00.000000000",
          "2016-05-19T00:00:00.000000000",
          "2016-05-20T00:00:00.000000000",
          "2016-05-23T00:00:00.000000000",
          "2016-05-24T00:00:00.000000000",
          "2016-05-25T00:00:00.000000000",
          "2016-05-26T00:00:00.000000000",
          "2016-05-27T00:00:00.000000000",
          "2016-05-31T00:00:00.000000000",
          "2016-06-01T00:00:00.000000000",
          "2016-06-02T00:00:00.000000000",
          "2016-06-03T00:00:00.000000000",
          "2016-06-06T00:00:00.000000000",
          "2016-06-07T00:00:00.000000000",
          "2016-06-08T00:00:00.000000000",
          "2016-06-09T00:00:00.000000000",
          "2016-06-10T00:00:00.000000000",
          "2016-06-13T00:00:00.000000000",
          "2016-06-14T00:00:00.000000000",
          "2016-06-15T00:00:00.000000000",
          "2016-06-16T00:00:00.000000000",
          "2016-06-17T00:00:00.000000000",
          "2016-06-20T00:00:00.000000000",
          "2016-06-21T00:00:00.000000000",
          "2016-06-22T00:00:00.000000000",
          "2016-06-23T00:00:00.000000000",
          "2016-06-24T00:00:00.000000000",
          "2016-06-27T00:00:00.000000000",
          "2016-06-28T00:00:00.000000000",
          "2016-06-29T00:00:00.000000000",
          "2016-06-30T00:00:00.000000000",
          "2016-07-01T00:00:00.000000000",
          "2016-07-05T00:00:00.000000000",
          "2016-07-06T00:00:00.000000000",
          "2016-07-07T00:00:00.000000000",
          "2016-07-08T00:00:00.000000000",
          "2016-07-11T00:00:00.000000000",
          "2016-07-12T00:00:00.000000000",
          "2016-07-13T00:00:00.000000000",
          "2016-07-14T00:00:00.000000000",
          "2016-07-15T00:00:00.000000000",
          "2016-07-18T00:00:00.000000000",
          "2016-07-19T00:00:00.000000000",
          "2016-07-20T00:00:00.000000000",
          "2016-07-21T00:00:00.000000000",
          "2016-07-22T00:00:00.000000000",
          "2016-07-25T00:00:00.000000000",
          "2016-07-26T00:00:00.000000000",
          "2016-07-27T00:00:00.000000000",
          "2016-07-28T00:00:00.000000000",
          "2016-07-29T00:00:00.000000000",
          "2016-08-01T00:00:00.000000000",
          "2016-08-02T00:00:00.000000000",
          "2016-08-03T00:00:00.000000000",
          "2016-08-04T00:00:00.000000000",
          "2016-08-05T00:00:00.000000000",
          "2016-08-08T00:00:00.000000000",
          "2016-08-09T00:00:00.000000000",
          "2016-08-10T00:00:00.000000000",
          "2016-08-11T00:00:00.000000000",
          "2016-08-12T00:00:00.000000000",
          "2016-08-15T00:00:00.000000000",
          "2016-08-16T00:00:00.000000000",
          "2016-08-17T00:00:00.000000000",
          "2016-08-18T00:00:00.000000000",
          "2016-08-19T00:00:00.000000000",
          "2016-08-22T00:00:00.000000000",
          "2016-08-23T00:00:00.000000000",
          "2016-08-24T00:00:00.000000000",
          "2016-08-25T00:00:00.000000000",
          "2016-08-26T00:00:00.000000000",
          "2016-08-29T00:00:00.000000000",
          "2016-08-30T00:00:00.000000000",
          "2016-08-31T00:00:00.000000000",
          "2016-09-01T00:00:00.000000000",
          "2016-09-02T00:00:00.000000000",
          "2016-09-06T00:00:00.000000000",
          "2016-09-07T00:00:00.000000000",
          "2016-09-08T00:00:00.000000000",
          "2016-09-09T00:00:00.000000000",
          "2016-09-12T00:00:00.000000000",
          "2016-09-13T00:00:00.000000000",
          "2016-09-14T00:00:00.000000000",
          "2016-09-15T00:00:00.000000000",
          "2016-09-16T00:00:00.000000000",
          "2016-09-19T00:00:00.000000000",
          "2016-09-20T00:00:00.000000000",
          "2016-09-21T00:00:00.000000000",
          "2016-09-22T00:00:00.000000000",
          "2016-09-23T00:00:00.000000000",
          "2016-09-26T00:00:00.000000000",
          "2016-09-27T00:00:00.000000000",
          "2016-09-28T00:00:00.000000000",
          "2016-09-29T00:00:00.000000000",
          "2016-09-30T00:00:00.000000000",
          "2016-10-03T00:00:00.000000000",
          "2016-10-04T00:00:00.000000000",
          "2016-10-05T00:00:00.000000000",
          "2016-10-06T00:00:00.000000000",
          "2016-10-07T00:00:00.000000000",
          "2016-10-11T00:00:00.000000000",
          "2016-10-12T00:00:00.000000000",
          "2016-10-13T00:00:00.000000000",
          "2016-10-14T00:00:00.000000000",
          "2016-10-17T00:00:00.000000000",
          "2016-10-18T00:00:00.000000000",
          "2016-10-19T00:00:00.000000000",
          "2016-10-20T00:00:00.000000000",
          "2016-10-21T00:00:00.000000000",
          "2016-10-24T00:00:00.000000000",
          "2016-10-25T00:00:00.000000000",
          "2016-10-26T00:00:00.000000000",
          "2016-10-27T00:00:00.000000000",
          "2016-10-28T00:00:00.000000000",
          "2016-10-31T00:00:00.000000000",
          "2016-11-01T00:00:00.000000000",
          "2016-11-02T00:00:00.000000000",
          "2016-11-03T00:00:00.000000000",
          "2016-11-04T00:00:00.000000000",
          "2016-11-07T00:00:00.000000000",
          "2016-11-08T00:00:00.000000000",
          "2016-11-09T00:00:00.000000000",
          "2016-11-10T00:00:00.000000000",
          "2016-11-14T00:00:00.000000000",
          "2016-11-15T00:00:00.000000000",
          "2016-11-16T00:00:00.000000000",
          "2016-11-17T00:00:00.000000000",
          "2016-11-18T00:00:00.000000000",
          "2016-11-21T00:00:00.000000000",
          "2016-11-22T00:00:00.000000000",
          "2016-11-23T00:00:00.000000000",
          "2016-11-25T00:00:00.000000000",
          "2016-11-28T00:00:00.000000000",
          "2016-11-29T00:00:00.000000000",
          "2016-11-30T00:00:00.000000000",
          "2016-12-01T00:00:00.000000000",
          "2016-12-02T00:00:00.000000000",
          "2016-12-05T00:00:00.000000000",
          "2016-12-06T00:00:00.000000000",
          "2016-12-07T00:00:00.000000000",
          "2016-12-08T00:00:00.000000000",
          "2016-12-09T00:00:00.000000000",
          "2016-12-12T00:00:00.000000000",
          "2016-12-13T00:00:00.000000000",
          "2016-12-14T00:00:00.000000000",
          "2016-12-15T00:00:00.000000000",
          "2016-12-16T00:00:00.000000000",
          "2016-12-19T00:00:00.000000000",
          "2016-12-20T00:00:00.000000000",
          "2016-12-21T00:00:00.000000000",
          "2016-12-22T00:00:00.000000000",
          "2016-12-23T00:00:00.000000000",
          "2016-12-27T00:00:00.000000000",
          "2016-12-28T00:00:00.000000000",
          "2016-12-29T00:00:00.000000000",
          "2016-12-30T00:00:00.000000000",
          "2017-01-03T00:00:00.000000000",
          "2017-01-04T00:00:00.000000000",
          "2017-01-05T00:00:00.000000000",
          "2017-01-06T00:00:00.000000000",
          "2017-01-09T00:00:00.000000000",
          "2017-01-10T00:00:00.000000000",
          "2017-01-11T00:00:00.000000000",
          "2017-01-12T00:00:00.000000000",
          "2017-01-13T00:00:00.000000000",
          "2017-01-17T00:00:00.000000000",
          "2017-01-18T00:00:00.000000000",
          "2017-01-19T00:00:00.000000000",
          "2017-01-20T00:00:00.000000000",
          "2017-01-23T00:00:00.000000000",
          "2017-01-24T00:00:00.000000000",
          "2017-01-25T00:00:00.000000000",
          "2017-01-26T00:00:00.000000000",
          "2017-01-27T00:00:00.000000000",
          "2017-01-30T00:00:00.000000000",
          "2017-01-31T00:00:00.000000000",
          "2017-02-01T00:00:00.000000000",
          "2017-02-02T00:00:00.000000000",
          "2017-02-03T00:00:00.000000000",
          "2017-02-06T00:00:00.000000000",
          "2017-02-07T00:00:00.000000000",
          "2017-02-08T00:00:00.000000000",
          "2017-02-09T00:00:00.000000000",
          "2017-02-10T00:00:00.000000000",
          "2017-02-13T00:00:00.000000000",
          "2017-02-14T00:00:00.000000000",
          "2017-02-15T00:00:00.000000000",
          "2017-02-16T00:00:00.000000000",
          "2017-02-17T00:00:00.000000000",
          "2017-02-21T00:00:00.000000000",
          "2017-02-22T00:00:00.000000000",
          "2017-02-23T00:00:00.000000000",
          "2017-02-24T00:00:00.000000000",
          "2017-02-27T00:00:00.000000000",
          "2017-02-28T00:00:00.000000000",
          "2017-03-01T00:00:00.000000000",
          "2017-03-02T00:00:00.000000000",
          "2017-03-03T00:00:00.000000000",
          "2017-03-06T00:00:00.000000000",
          "2017-03-07T00:00:00.000000000",
          "2017-03-08T00:00:00.000000000",
          "2017-03-09T00:00:00.000000000",
          "2017-03-10T00:00:00.000000000",
          "2017-03-13T00:00:00.000000000",
          "2017-03-14T00:00:00.000000000",
          "2017-03-15T00:00:00.000000000",
          "2017-03-16T00:00:00.000000000",
          "2017-03-17T00:00:00.000000000",
          "2017-03-20T00:00:00.000000000",
          "2017-03-21T00:00:00.000000000",
          "2017-03-22T00:00:00.000000000",
          "2017-03-23T00:00:00.000000000",
          "2017-03-24T00:00:00.000000000",
          "2017-03-27T00:00:00.000000000",
          "2017-03-28T00:00:00.000000000",
          "2017-03-29T00:00:00.000000000",
          "2017-03-30T00:00:00.000000000",
          "2017-03-31T00:00:00.000000000",
          "2017-04-03T00:00:00.000000000",
          "2017-04-04T00:00:00.000000000",
          "2017-04-05T00:00:00.000000000",
          "2017-04-06T00:00:00.000000000",
          "2017-04-07T00:00:00.000000000",
          "2017-04-10T00:00:00.000000000",
          "2017-04-11T00:00:00.000000000",
          "2017-04-12T00:00:00.000000000",
          "2017-04-13T00:00:00.000000000",
          "2017-04-14T00:00:00.000000000",
          "2017-04-17T00:00:00.000000000",
          "2017-04-18T00:00:00.000000000",
          "2017-04-19T00:00:00.000000000",
          "2017-04-20T00:00:00.000000000",
          "2017-04-21T00:00:00.000000000",
          "2017-04-24T00:00:00.000000000",
          "2017-04-25T00:00:00.000000000",
          "2017-04-26T00:00:00.000000000",
          "2017-04-27T00:00:00.000000000",
          "2017-04-28T00:00:00.000000000",
          "2017-05-01T00:00:00.000000000",
          "2017-05-02T00:00:00.000000000",
          "2017-05-03T00:00:00.000000000",
          "2017-05-04T00:00:00.000000000",
          "2017-05-05T00:00:00.000000000",
          "2017-05-08T00:00:00.000000000",
          "2017-05-09T00:00:00.000000000",
          "2017-05-10T00:00:00.000000000",
          "2017-05-11T00:00:00.000000000",
          "2017-05-12T00:00:00.000000000",
          "2017-05-15T00:00:00.000000000",
          "2017-05-16T00:00:00.000000000",
          "2017-05-17T00:00:00.000000000",
          "2017-05-18T00:00:00.000000000",
          "2017-05-19T00:00:00.000000000",
          "2017-05-22T00:00:00.000000000",
          "2017-05-23T00:00:00.000000000",
          "2017-05-24T00:00:00.000000000",
          "2017-05-25T00:00:00.000000000",
          "2017-05-26T00:00:00.000000000",
          "2017-05-30T00:00:00.000000000",
          "2017-05-31T00:00:00.000000000",
          "2017-06-01T00:00:00.000000000",
          "2017-06-02T00:00:00.000000000",
          "2017-06-05T00:00:00.000000000",
          "2017-06-06T00:00:00.000000000",
          "2017-06-07T00:00:00.000000000",
          "2017-06-08T00:00:00.000000000",
          "2017-06-09T00:00:00.000000000",
          "2017-06-12T00:00:00.000000000",
          "2017-06-13T00:00:00.000000000",
          "2017-06-14T00:00:00.000000000",
          "2017-06-15T00:00:00.000000000",
          "2017-06-16T00:00:00.000000000",
          "2017-06-19T00:00:00.000000000",
          "2017-06-20T00:00:00.000000000",
          "2017-06-21T00:00:00.000000000",
          "2017-06-22T00:00:00.000000000",
          "2017-06-23T00:00:00.000000000",
          "2017-06-26T00:00:00.000000000",
          "2017-06-27T00:00:00.000000000",
          "2017-06-28T00:00:00.000000000",
          "2017-06-29T00:00:00.000000000",
          "2017-06-30T00:00:00.000000000",
          "2017-07-03T00:00:00.000000000",
          "2017-07-05T00:00:00.000000000",
          "2017-07-06T00:00:00.000000000",
          "2017-07-07T00:00:00.000000000",
          "2017-07-10T00:00:00.000000000",
          "2017-07-11T00:00:00.000000000",
          "2017-07-12T00:00:00.000000000",
          "2017-07-13T00:00:00.000000000",
          "2017-07-14T00:00:00.000000000",
          "2017-07-17T00:00:00.000000000",
          "2017-07-18T00:00:00.000000000",
          "2017-07-19T00:00:00.000000000",
          "2017-07-20T00:00:00.000000000",
          "2017-07-21T00:00:00.000000000",
          "2017-07-24T00:00:00.000000000",
          "2017-07-25T00:00:00.000000000",
          "2017-07-26T00:00:00.000000000",
          "2017-07-27T00:00:00.000000000",
          "2017-07-28T00:00:00.000000000",
          "2017-07-31T00:00:00.000000000",
          "2017-08-01T00:00:00.000000000",
          "2017-08-02T00:00:00.000000000",
          "2017-08-03T00:00:00.000000000",
          "2017-08-04T00:00:00.000000000",
          "2017-08-07T00:00:00.000000000",
          "2017-08-08T00:00:00.000000000",
          "2017-08-09T00:00:00.000000000",
          "2017-08-10T00:00:00.000000000",
          "2017-08-11T00:00:00.000000000",
          "2017-08-14T00:00:00.000000000",
          "2017-08-15T00:00:00.000000000",
          "2017-08-16T00:00:00.000000000",
          "2017-08-17T00:00:00.000000000",
          "2017-08-18T00:00:00.000000000",
          "2017-08-21T00:00:00.000000000",
          "2017-08-22T00:00:00.000000000",
          "2017-08-23T00:00:00.000000000",
          "2017-08-24T00:00:00.000000000",
          "2017-08-25T00:00:00.000000000",
          "2017-08-28T00:00:00.000000000",
          "2017-08-29T00:00:00.000000000",
          "2017-08-30T00:00:00.000000000",
          "2017-08-31T00:00:00.000000000",
          "2017-09-01T00:00:00.000000000",
          "2017-09-05T00:00:00.000000000",
          "2017-09-06T00:00:00.000000000",
          "2017-09-07T00:00:00.000000000",
          "2017-09-08T00:00:00.000000000",
          "2017-09-11T00:00:00.000000000",
          "2017-09-12T00:00:00.000000000",
          "2017-09-13T00:00:00.000000000",
          "2017-09-14T00:00:00.000000000",
          "2017-09-15T00:00:00.000000000",
          "2017-09-18T00:00:00.000000000",
          "2017-09-19T00:00:00.000000000",
          "2017-09-20T00:00:00.000000000",
          "2017-09-21T00:00:00.000000000",
          "2017-09-22T00:00:00.000000000",
          "2017-09-25T00:00:00.000000000",
          "2017-09-26T00:00:00.000000000",
          "2017-09-27T00:00:00.000000000",
          "2017-09-28T00:00:00.000000000",
          "2017-09-29T00:00:00.000000000",
          "2017-10-02T00:00:00.000000000",
          "2017-10-03T00:00:00.000000000",
          "2017-10-04T00:00:00.000000000",
          "2017-10-05T00:00:00.000000000",
          "2017-10-06T00:00:00.000000000",
          "2017-10-10T00:00:00.000000000",
          "2017-10-11T00:00:00.000000000",
          "2017-10-12T00:00:00.000000000",
          "2017-10-13T00:00:00.000000000",
          "2017-10-16T00:00:00.000000000",
          "2017-10-17T00:00:00.000000000",
          "2017-10-18T00:00:00.000000000",
          "2017-10-19T00:00:00.000000000",
          "2017-10-20T00:00:00.000000000",
          "2017-10-23T00:00:00.000000000",
          "2017-10-24T00:00:00.000000000",
          "2017-10-25T00:00:00.000000000",
          "2017-10-26T00:00:00.000000000",
          "2017-10-27T00:00:00.000000000",
          "2017-10-30T00:00:00.000000000",
          "2017-10-31T00:00:00.000000000",
          "2017-11-01T00:00:00.000000000",
          "2017-11-02T00:00:00.000000000",
          "2017-11-03T00:00:00.000000000",
          "2017-11-06T00:00:00.000000000",
          "2017-11-07T00:00:00.000000000",
          "2017-11-08T00:00:00.000000000",
          "2017-11-09T00:00:00.000000000",
          "2017-11-10T00:00:00.000000000",
          "2017-11-13T00:00:00.000000000",
          "2017-11-14T00:00:00.000000000",
          "2017-11-15T00:00:00.000000000",
          "2017-11-16T00:00:00.000000000",
          "2017-11-17T00:00:00.000000000",
          "2017-11-20T00:00:00.000000000",
          "2017-11-21T00:00:00.000000000",
          "2017-11-22T00:00:00.000000000",
          "2017-11-24T00:00:00.000000000",
          "2017-11-27T00:00:00.000000000",
          "2017-11-28T00:00:00.000000000",
          "2017-11-29T00:00:00.000000000",
          "2017-11-30T00:00:00.000000000",
          "2017-12-01T00:00:00.000000000",
          "2017-12-04T00:00:00.000000000",
          "2017-12-05T00:00:00.000000000",
          "2017-12-06T00:00:00.000000000",
          "2017-12-07T00:00:00.000000000",
          "2017-12-08T00:00:00.000000000",
          "2017-12-11T00:00:00.000000000",
          "2017-12-12T00:00:00.000000000",
          "2017-12-13T00:00:00.000000000",
          "2017-12-14T00:00:00.000000000",
          "2017-12-15T00:00:00.000000000",
          "2017-12-18T00:00:00.000000000",
          "2017-12-19T00:00:00.000000000",
          "2017-12-20T00:00:00.000000000",
          "2017-12-21T00:00:00.000000000",
          "2017-12-22T00:00:00.000000000",
          "2017-12-26T00:00:00.000000000",
          "2017-12-27T00:00:00.000000000",
          "2017-12-28T00:00:00.000000000",
          "2017-12-29T00:00:00.000000000",
          "2018-01-02T00:00:00.000000000",
          "2018-01-03T00:00:00.000000000",
          "2018-01-04T00:00:00.000000000",
          "2018-01-05T00:00:00.000000000",
          "2018-01-08T00:00:00.000000000",
          "2018-01-09T00:00:00.000000000",
          "2018-01-10T00:00:00.000000000",
          "2018-01-11T00:00:00.000000000",
          "2018-01-12T00:00:00.000000000",
          "2018-01-16T00:00:00.000000000",
          "2018-01-17T00:00:00.000000000",
          "2018-01-18T00:00:00.000000000",
          "2018-01-19T00:00:00.000000000",
          "2018-01-22T00:00:00.000000000",
          "2018-01-23T00:00:00.000000000",
          "2018-01-24T00:00:00.000000000",
          "2018-01-25T00:00:00.000000000",
          "2018-01-26T00:00:00.000000000",
          "2018-01-29T00:00:00.000000000",
          "2018-01-30T00:00:00.000000000",
          "2018-01-31T00:00:00.000000000",
          "2018-02-01T00:00:00.000000000",
          "2018-02-02T00:00:00.000000000",
          "2018-02-05T00:00:00.000000000",
          "2018-02-06T00:00:00.000000000",
          "2018-02-07T00:00:00.000000000",
          "2018-02-08T00:00:00.000000000",
          "2018-02-09T00:00:00.000000000",
          "2018-02-12T00:00:00.000000000",
          "2018-02-13T00:00:00.000000000",
          "2018-02-14T00:00:00.000000000",
          "2018-02-15T00:00:00.000000000",
          "2018-02-16T00:00:00.000000000",
          "2018-02-20T00:00:00.000000000",
          "2018-02-21T00:00:00.000000000",
          "2018-02-22T00:00:00.000000000",
          "2018-02-23T00:00:00.000000000",
          "2018-02-26T00:00:00.000000000",
          "2018-02-27T00:00:00.000000000",
          "2018-02-28T00:00:00.000000000",
          "2018-03-01T00:00:00.000000000",
          "2018-03-02T00:00:00.000000000",
          "2018-03-05T00:00:00.000000000",
          "2018-03-06T00:00:00.000000000",
          "2018-03-07T00:00:00.000000000",
          "2018-03-08T00:00:00.000000000",
          "2018-03-09T00:00:00.000000000",
          "2018-03-12T00:00:00.000000000",
          "2018-03-13T00:00:00.000000000",
          "2018-03-14T00:00:00.000000000",
          "2018-03-15T00:00:00.000000000",
          "2018-03-16T00:00:00.000000000",
          "2018-03-19T00:00:00.000000000",
          "2018-03-20T00:00:00.000000000",
          "2018-03-21T00:00:00.000000000",
          "2018-03-22T00:00:00.000000000",
          "2018-03-23T00:00:00.000000000",
          "2018-03-26T00:00:00.000000000",
          "2018-03-27T00:00:00.000000000",
          "2018-03-28T00:00:00.000000000",
          "2018-03-29T00:00:00.000000000",
          "2018-03-30T00:00:00.000000000",
          "2018-04-02T00:00:00.000000000",
          "2018-04-03T00:00:00.000000000",
          "2018-04-04T00:00:00.000000000",
          "2018-04-05T00:00:00.000000000",
          "2018-04-06T00:00:00.000000000",
          "2018-04-09T00:00:00.000000000",
          "2018-04-10T00:00:00.000000000",
          "2018-04-11T00:00:00.000000000",
          "2018-04-12T00:00:00.000000000",
          "2018-04-13T00:00:00.000000000",
          "2018-04-16T00:00:00.000000000",
          "2018-04-17T00:00:00.000000000",
          "2018-04-18T00:00:00.000000000",
          "2018-04-19T00:00:00.000000000",
          "2018-04-20T00:00:00.000000000",
          "2018-04-23T00:00:00.000000000",
          "2018-04-24T00:00:00.000000000",
          "2018-04-25T00:00:00.000000000",
          "2018-04-26T00:00:00.000000000",
          "2018-04-27T00:00:00.000000000",
          "2018-04-30T00:00:00.000000000",
          "2018-05-01T00:00:00.000000000",
          "2018-05-02T00:00:00.000000000",
          "2018-05-03T00:00:00.000000000",
          "2018-05-04T00:00:00.000000000",
          "2018-05-07T00:00:00.000000000",
          "2018-05-08T00:00:00.000000000",
          "2018-05-09T00:00:00.000000000",
          "2018-05-10T00:00:00.000000000",
          "2018-05-11T00:00:00.000000000",
          "2018-05-14T00:00:00.000000000",
          "2018-05-15T00:00:00.000000000",
          "2018-05-16T00:00:00.000000000",
          "2018-05-17T00:00:00.000000000",
          "2018-05-18T00:00:00.000000000",
          "2018-05-21T00:00:00.000000000",
          "2018-05-22T00:00:00.000000000",
          "2018-05-23T00:00:00.000000000",
          "2018-05-24T00:00:00.000000000",
          "2018-05-25T00:00:00.000000000",
          "2018-05-29T00:00:00.000000000",
          "2018-05-30T00:00:00.000000000",
          "2018-05-31T00:00:00.000000000",
          "2018-06-01T00:00:00.000000000",
          "2018-06-04T00:00:00.000000000",
          "2018-06-05T00:00:00.000000000",
          "2018-06-06T00:00:00.000000000",
          "2018-06-07T00:00:00.000000000",
          "2018-06-08T00:00:00.000000000",
          "2018-06-11T00:00:00.000000000",
          "2018-06-12T00:00:00.000000000",
          "2018-06-13T00:00:00.000000000",
          "2018-06-14T00:00:00.000000000",
          "2018-06-15T00:00:00.000000000",
          "2018-06-18T00:00:00.000000000",
          "2018-06-19T00:00:00.000000000",
          "2018-06-20T00:00:00.000000000",
          "2018-06-21T00:00:00.000000000",
          "2018-06-22T00:00:00.000000000",
          "2018-06-25T00:00:00.000000000",
          "2018-06-26T00:00:00.000000000",
          "2018-06-27T00:00:00.000000000",
          "2018-06-28T00:00:00.000000000",
          "2018-06-29T00:00:00.000000000",
          "2018-07-02T00:00:00.000000000",
          "2018-07-03T00:00:00.000000000",
          "2018-07-05T00:00:00.000000000",
          "2018-07-06T00:00:00.000000000",
          "2018-07-09T00:00:00.000000000",
          "2018-07-10T00:00:00.000000000",
          "2018-07-11T00:00:00.000000000",
          "2018-07-12T00:00:00.000000000",
          "2018-07-13T00:00:00.000000000",
          "2018-07-16T00:00:00.000000000",
          "2018-07-17T00:00:00.000000000",
          "2018-07-18T00:00:00.000000000",
          "2018-07-19T00:00:00.000000000",
          "2018-07-20T00:00:00.000000000",
          "2018-07-23T00:00:00.000000000",
          "2018-07-24T00:00:00.000000000",
          "2018-07-25T00:00:00.000000000",
          "2018-07-26T00:00:00.000000000",
          "2018-07-27T00:00:00.000000000",
          "2018-07-30T00:00:00.000000000",
          "2018-07-31T00:00:00.000000000",
          "2018-08-01T00:00:00.000000000",
          "2018-08-02T00:00:00.000000000",
          "2018-08-03T00:00:00.000000000",
          "2018-08-06T00:00:00.000000000",
          "2018-08-07T00:00:00.000000000",
          "2018-08-08T00:00:00.000000000",
          "2018-08-09T00:00:00.000000000",
          "2018-08-10T00:00:00.000000000",
          "2018-08-13T00:00:00.000000000",
          "2018-08-14T00:00:00.000000000",
          "2018-08-15T00:00:00.000000000",
          "2018-08-16T00:00:00.000000000",
          "2018-08-17T00:00:00.000000000",
          "2018-08-20T00:00:00.000000000",
          "2018-08-21T00:00:00.000000000",
          "2018-08-22T00:00:00.000000000",
          "2018-08-23T00:00:00.000000000",
          "2018-08-24T00:00:00.000000000",
          "2018-08-27T00:00:00.000000000",
          "2018-08-28T00:00:00.000000000",
          "2018-08-29T00:00:00.000000000",
          "2018-08-30T00:00:00.000000000",
          "2018-08-31T00:00:00.000000000",
          "2018-09-04T00:00:00.000000000",
          "2018-09-05T00:00:00.000000000",
          "2018-09-06T00:00:00.000000000",
          "2018-09-07T00:00:00.000000000",
          "2018-09-10T00:00:00.000000000",
          "2018-09-11T00:00:00.000000000",
          "2018-09-12T00:00:00.000000000",
          "2018-09-13T00:00:00.000000000",
          "2018-09-14T00:00:00.000000000",
          "2018-09-17T00:00:00.000000000",
          "2018-09-18T00:00:00.000000000",
          "2018-09-19T00:00:00.000000000",
          "2018-09-20T00:00:00.000000000",
          "2018-09-21T00:00:00.000000000",
          "2018-09-24T00:00:00.000000000",
          "2018-09-25T00:00:00.000000000",
          "2018-09-26T00:00:00.000000000",
          "2018-09-27T00:00:00.000000000",
          "2018-09-28T00:00:00.000000000",
          "2018-10-01T00:00:00.000000000",
          "2018-10-02T00:00:00.000000000",
          "2018-10-03T00:00:00.000000000",
          "2018-10-04T00:00:00.000000000",
          "2018-10-05T00:00:00.000000000",
          "2018-10-09T00:00:00.000000000",
          "2018-10-10T00:00:00.000000000",
          "2018-10-11T00:00:00.000000000",
          "2018-10-12T00:00:00.000000000",
          "2018-10-15T00:00:00.000000000",
          "2018-10-16T00:00:00.000000000",
          "2018-10-17T00:00:00.000000000",
          "2018-10-18T00:00:00.000000000",
          "2018-10-19T00:00:00.000000000",
          "2018-10-22T00:00:00.000000000",
          "2018-10-23T00:00:00.000000000",
          "2018-10-24T00:00:00.000000000",
          "2018-10-25T00:00:00.000000000",
          "2018-10-26T00:00:00.000000000",
          "2018-10-29T00:00:00.000000000",
          "2018-10-30T00:00:00.000000000",
          "2018-10-31T00:00:00.000000000",
          "2018-11-01T00:00:00.000000000",
          "2018-11-02T00:00:00.000000000",
          "2018-11-05T00:00:00.000000000",
          "2018-11-06T00:00:00.000000000",
          "2018-11-07T00:00:00.000000000",
          "2018-11-08T00:00:00.000000000",
          "2018-11-09T00:00:00.000000000",
          "2018-11-13T00:00:00.000000000",
          "2018-11-14T00:00:00.000000000",
          "2018-11-15T00:00:00.000000000",
          "2018-11-16T00:00:00.000000000",
          "2018-11-19T00:00:00.000000000",
          "2018-11-20T00:00:00.000000000",
          "2018-11-21T00:00:00.000000000",
          "2018-11-23T00:00:00.000000000",
          "2018-11-26T00:00:00.000000000",
          "2018-11-27T00:00:00.000000000",
          "2018-11-28T00:00:00.000000000",
          "2018-11-29T00:00:00.000000000",
          "2018-11-30T00:00:00.000000000",
          "2018-12-03T00:00:00.000000000",
          "2018-12-04T00:00:00.000000000",
          "2018-12-05T00:00:00.000000000",
          "2018-12-06T00:00:00.000000000",
          "2018-12-07T00:00:00.000000000",
          "2018-12-10T00:00:00.000000000",
          "2018-12-11T00:00:00.000000000",
          "2018-12-12T00:00:00.000000000",
          "2018-12-13T00:00:00.000000000",
          "2018-12-14T00:00:00.000000000",
          "2018-12-17T00:00:00.000000000",
          "2018-12-18T00:00:00.000000000",
          "2018-12-19T00:00:00.000000000",
          "2018-12-20T00:00:00.000000000",
          "2018-12-21T00:00:00.000000000",
          "2018-12-24T00:00:00.000000000",
          "2018-12-26T00:00:00.000000000",
          "2018-12-27T00:00:00.000000000",
          "2018-12-28T00:00:00.000000000",
          "2018-12-31T00:00:00.000000000",
          "2019-01-02T00:00:00.000000000",
          "2019-01-03T00:00:00.000000000",
          "2019-01-04T00:00:00.000000000",
          "2019-01-07T00:00:00.000000000",
          "2019-01-08T00:00:00.000000000",
          "2019-01-09T00:00:00.000000000",
          "2019-01-10T00:00:00.000000000",
          "2019-01-11T00:00:00.000000000",
          "2019-01-14T00:00:00.000000000",
          "2019-01-15T00:00:00.000000000",
          "2019-01-16T00:00:00.000000000",
          "2019-01-17T00:00:00.000000000",
          "2019-01-18T00:00:00.000000000",
          "2019-01-22T00:00:00.000000000",
          "2019-01-23T00:00:00.000000000",
          "2019-01-24T00:00:00.000000000",
          "2019-01-25T00:00:00.000000000",
          "2019-01-28T00:00:00.000000000",
          "2019-01-29T00:00:00.000000000",
          "2019-01-30T00:00:00.000000000",
          "2019-01-31T00:00:00.000000000",
          "2019-02-01T00:00:00.000000000",
          "2019-02-04T00:00:00.000000000",
          "2019-02-05T00:00:00.000000000",
          "2019-02-06T00:00:00.000000000",
          "2019-02-07T00:00:00.000000000",
          "2019-02-08T00:00:00.000000000",
          "2019-02-11T00:00:00.000000000",
          "2019-02-12T00:00:00.000000000",
          "2019-02-13T00:00:00.000000000",
          "2019-02-14T00:00:00.000000000",
          "2019-02-15T00:00:00.000000000",
          "2019-02-19T00:00:00.000000000",
          "2019-02-20T00:00:00.000000000",
          "2019-02-21T00:00:00.000000000",
          "2019-02-22T00:00:00.000000000",
          "2019-02-25T00:00:00.000000000",
          "2019-02-26T00:00:00.000000000",
          "2019-02-27T00:00:00.000000000",
          "2019-02-28T00:00:00.000000000",
          "2019-03-01T00:00:00.000000000",
          "2019-03-04T00:00:00.000000000",
          "2019-03-05T00:00:00.000000000",
          "2019-03-06T00:00:00.000000000",
          "2019-03-07T00:00:00.000000000",
          "2019-03-08T00:00:00.000000000",
          "2019-03-11T00:00:00.000000000",
          "2019-03-12T00:00:00.000000000",
          "2019-03-13T00:00:00.000000000",
          "2019-03-14T00:00:00.000000000",
          "2019-03-15T00:00:00.000000000",
          "2019-03-18T00:00:00.000000000",
          "2019-03-19T00:00:00.000000000",
          "2019-03-20T00:00:00.000000000",
          "2019-03-21T00:00:00.000000000",
          "2019-03-22T00:00:00.000000000",
          "2019-03-25T00:00:00.000000000",
          "2019-03-26T00:00:00.000000000",
          "2019-03-27T00:00:00.000000000",
          "2019-03-28T00:00:00.000000000",
          "2019-03-29T00:00:00.000000000",
          "2019-04-01T00:00:00.000000000",
          "2019-04-02T00:00:00.000000000",
          "2019-04-03T00:00:00.000000000",
          "2019-04-04T00:00:00.000000000",
          "2019-04-05T00:00:00.000000000",
          "2019-04-08T00:00:00.000000000",
          "2019-04-09T00:00:00.000000000",
          "2019-04-10T00:00:00.000000000",
          "2019-04-11T00:00:00.000000000",
          "2019-04-12T00:00:00.000000000",
          "2019-04-15T00:00:00.000000000",
          "2019-04-16T00:00:00.000000000",
          "2019-04-17T00:00:00.000000000",
          "2019-04-18T00:00:00.000000000",
          "2019-04-19T00:00:00.000000000",
          "2019-04-22T00:00:00.000000000",
          "2019-04-23T00:00:00.000000000",
          "2019-04-24T00:00:00.000000000",
          "2019-04-25T00:00:00.000000000",
          "2019-04-26T00:00:00.000000000",
          "2019-04-29T00:00:00.000000000",
          "2019-04-30T00:00:00.000000000",
          "2019-05-01T00:00:00.000000000",
          "2019-05-02T00:00:00.000000000",
          "2019-05-03T00:00:00.000000000",
          "2019-05-06T00:00:00.000000000",
          "2019-05-07T00:00:00.000000000",
          "2019-05-08T00:00:00.000000000",
          "2019-05-09T00:00:00.000000000",
          "2019-05-10T00:00:00.000000000",
          "2019-05-13T00:00:00.000000000",
          "2019-05-14T00:00:00.000000000",
          "2019-05-15T00:00:00.000000000",
          "2019-05-16T00:00:00.000000000",
          "2019-05-17T00:00:00.000000000",
          "2019-05-20T00:00:00.000000000",
          "2019-05-21T00:00:00.000000000",
          "2019-05-22T00:00:00.000000000",
          "2019-05-23T00:00:00.000000000",
          "2019-05-24T00:00:00.000000000",
          "2019-05-28T00:00:00.000000000",
          "2019-05-29T00:00:00.000000000",
          "2019-05-30T00:00:00.000000000",
          "2019-05-31T00:00:00.000000000",
          "2019-06-03T00:00:00.000000000",
          "2019-06-04T00:00:00.000000000",
          "2019-06-05T00:00:00.000000000",
          "2019-06-06T00:00:00.000000000",
          "2019-06-07T00:00:00.000000000",
          "2019-06-10T00:00:00.000000000",
          "2019-06-11T00:00:00.000000000",
          "2019-06-12T00:00:00.000000000",
          "2019-06-13T00:00:00.000000000",
          "2019-06-14T00:00:00.000000000",
          "2019-06-17T00:00:00.000000000",
          "2019-06-18T00:00:00.000000000",
          "2019-06-19T00:00:00.000000000",
          "2019-06-20T00:00:00.000000000",
          "2019-06-21T00:00:00.000000000",
          "2019-06-24T00:00:00.000000000",
          "2019-06-25T00:00:00.000000000",
          "2019-06-26T00:00:00.000000000",
          "2019-06-27T00:00:00.000000000",
          "2019-06-28T00:00:00.000000000",
          "2019-07-01T00:00:00.000000000",
          "2019-07-02T00:00:00.000000000",
          "2019-07-03T00:00:00.000000000",
          "2019-07-05T00:00:00.000000000",
          "2019-07-08T00:00:00.000000000",
          "2019-07-09T00:00:00.000000000",
          "2019-07-10T00:00:00.000000000",
          "2019-07-11T00:00:00.000000000",
          "2019-07-12T00:00:00.000000000",
          "2019-07-15T00:00:00.000000000",
          "2019-07-16T00:00:00.000000000",
          "2019-07-17T00:00:00.000000000",
          "2019-07-18T00:00:00.000000000",
          "2019-07-19T00:00:00.000000000",
          "2019-07-22T00:00:00.000000000",
          "2019-07-23T00:00:00.000000000",
          "2019-07-24T00:00:00.000000000",
          "2019-07-25T00:00:00.000000000",
          "2019-07-26T00:00:00.000000000",
          "2019-07-29T00:00:00.000000000",
          "2019-07-30T00:00:00.000000000",
          "2019-07-31T00:00:00.000000000",
          "2019-08-01T00:00:00.000000000",
          "2019-08-02T00:00:00.000000000",
          "2019-08-05T00:00:00.000000000",
          "2019-08-06T00:00:00.000000000",
          "2019-08-07T00:00:00.000000000",
          "2019-08-08T00:00:00.000000000",
          "2019-08-09T00:00:00.000000000",
          "2019-08-12T00:00:00.000000000",
          "2019-08-13T00:00:00.000000000",
          "2019-08-14T00:00:00.000000000",
          "2019-08-15T00:00:00.000000000",
          "2019-08-16T00:00:00.000000000",
          "2019-08-19T00:00:00.000000000",
          "2019-08-20T00:00:00.000000000",
          "2019-08-21T00:00:00.000000000",
          "2019-08-22T00:00:00.000000000",
          "2019-08-23T00:00:00.000000000",
          "2019-08-26T00:00:00.000000000",
          "2019-08-27T00:00:00.000000000",
          "2019-08-28T00:00:00.000000000",
          "2019-08-29T00:00:00.000000000",
          "2019-08-30T00:00:00.000000000",
          "2019-09-03T00:00:00.000000000",
          "2019-09-04T00:00:00.000000000",
          "2019-09-05T00:00:00.000000000",
          "2019-09-06T00:00:00.000000000",
          "2019-09-09T00:00:00.000000000",
          "2019-09-10T00:00:00.000000000",
          "2019-09-11T00:00:00.000000000",
          "2019-09-12T00:00:00.000000000",
          "2019-09-13T00:00:00.000000000",
          "2019-09-16T00:00:00.000000000",
          "2019-09-17T00:00:00.000000000",
          "2019-09-18T00:00:00.000000000",
          "2019-09-19T00:00:00.000000000",
          "2019-09-20T00:00:00.000000000",
          "2019-09-23T00:00:00.000000000",
          "2019-09-24T00:00:00.000000000",
          "2019-09-25T00:00:00.000000000",
          "2019-09-26T00:00:00.000000000",
          "2019-09-27T00:00:00.000000000",
          "2019-09-30T00:00:00.000000000",
          "2019-10-01T00:00:00.000000000",
          "2019-10-02T00:00:00.000000000",
          "2019-10-03T00:00:00.000000000",
          "2019-10-04T00:00:00.000000000",
          "2019-10-07T00:00:00.000000000",
          "2019-10-08T00:00:00.000000000",
          "2019-10-09T00:00:00.000000000",
          "2019-10-10T00:00:00.000000000",
          "2019-10-11T00:00:00.000000000",
          "2019-10-15T00:00:00.000000000",
          "2019-10-16T00:00:00.000000000",
          "2019-10-17T00:00:00.000000000",
          "2019-10-18T00:00:00.000000000",
          "2019-10-21T00:00:00.000000000",
          "2019-10-22T00:00:00.000000000",
          "2019-10-23T00:00:00.000000000",
          "2019-10-24T00:00:00.000000000",
          "2019-10-25T00:00:00.000000000",
          "2019-10-28T00:00:00.000000000",
          "2019-10-29T00:00:00.000000000",
          "2019-10-30T00:00:00.000000000",
          "2019-10-31T00:00:00.000000000",
          "2019-11-01T00:00:00.000000000",
          "2019-11-04T00:00:00.000000000",
          "2019-11-05T00:00:00.000000000",
          "2019-11-06T00:00:00.000000000",
          "2019-11-07T00:00:00.000000000",
          "2019-11-08T00:00:00.000000000",
          "2019-11-12T00:00:00.000000000",
          "2019-11-13T00:00:00.000000000",
          "2019-11-14T00:00:00.000000000",
          "2019-11-15T00:00:00.000000000",
          "2019-11-18T00:00:00.000000000",
          "2019-11-19T00:00:00.000000000",
          "2019-11-20T00:00:00.000000000",
          "2019-11-21T00:00:00.000000000",
          "2019-11-22T00:00:00.000000000",
          "2019-11-25T00:00:00.000000000",
          "2019-11-26T00:00:00.000000000",
          "2019-11-27T00:00:00.000000000",
          "2019-11-29T00:00:00.000000000",
          "2019-12-02T00:00:00.000000000",
          "2019-12-03T00:00:00.000000000",
          "2019-12-04T00:00:00.000000000",
          "2019-12-05T00:00:00.000000000",
          "2019-12-06T00:00:00.000000000",
          "2019-12-09T00:00:00.000000000",
          "2019-12-10T00:00:00.000000000",
          "2019-12-11T00:00:00.000000000",
          "2019-12-12T00:00:00.000000000",
          "2019-12-13T00:00:00.000000000",
          "2019-12-16T00:00:00.000000000",
          "2019-12-17T00:00:00.000000000",
          "2019-12-18T00:00:00.000000000",
          "2019-12-19T00:00:00.000000000",
          "2019-12-20T00:00:00.000000000",
          "2019-12-23T00:00:00.000000000",
          "2019-12-24T00:00:00.000000000",
          "2019-12-26T00:00:00.000000000",
          "2019-12-27T00:00:00.000000000",
          "2019-12-30T00:00:00.000000000",
          "2019-12-31T00:00:00.000000000",
          "2020-01-02T00:00:00.000000000",
          "2020-01-03T00:00:00.000000000",
          "2020-01-06T00:00:00.000000000",
          "2020-01-07T00:00:00.000000000",
          "2020-01-08T00:00:00.000000000",
          "2020-01-09T00:00:00.000000000",
          "2020-01-10T00:00:00.000000000",
          "2020-01-13T00:00:00.000000000",
          "2020-01-14T00:00:00.000000000",
          "2020-01-15T00:00:00.000000000",
          "2020-01-16T00:00:00.000000000",
          "2020-01-17T00:00:00.000000000",
          "2020-01-21T00:00:00.000000000",
          "2020-01-22T00:00:00.000000000",
          "2020-01-23T00:00:00.000000000",
          "2020-01-24T00:00:00.000000000",
          "2020-01-27T00:00:00.000000000",
          "2020-01-28T00:00:00.000000000",
          "2020-01-29T00:00:00.000000000",
          "2020-01-30T00:00:00.000000000",
          "2020-01-31T00:00:00.000000000",
          "2020-02-03T00:00:00.000000000",
          "2020-02-04T00:00:00.000000000",
          "2020-02-05T00:00:00.000000000",
          "2020-02-06T00:00:00.000000000",
          "2020-02-07T00:00:00.000000000",
          "2020-02-10T00:00:00.000000000",
          "2020-02-11T00:00:00.000000000",
          "2020-02-12T00:00:00.000000000",
          "2020-02-13T00:00:00.000000000",
          "2020-02-14T00:00:00.000000000",
          "2020-02-18T00:00:00.000000000",
          "2020-02-19T00:00:00.000000000",
          "2020-02-20T00:00:00.000000000",
          "2020-02-21T00:00:00.000000000",
          "2020-02-24T00:00:00.000000000",
          "2020-02-25T00:00:00.000000000",
          "2020-02-26T00:00:00.000000000",
          "2020-02-27T00:00:00.000000000",
          "2020-02-28T00:00:00.000000000",
          "2020-03-02T00:00:00.000000000",
          "2020-03-03T00:00:00.000000000",
          "2020-03-04T00:00:00.000000000",
          "2020-03-05T00:00:00.000000000",
          "2020-03-06T00:00:00.000000000",
          "2020-03-09T00:00:00.000000000",
          "2020-03-10T00:00:00.000000000",
          "2020-03-11T00:00:00.000000000",
          "2020-03-12T00:00:00.000000000",
          "2020-03-13T00:00:00.000000000",
          "2020-03-16T00:00:00.000000000",
          "2020-03-17T00:00:00.000000000",
          "2020-03-18T00:00:00.000000000",
          "2020-03-19T00:00:00.000000000",
          "2020-03-20T00:00:00.000000000",
          "2020-03-23T00:00:00.000000000",
          "2020-03-24T00:00:00.000000000",
          "2020-03-25T00:00:00.000000000",
          "2020-03-26T00:00:00.000000000",
          "2020-03-27T00:00:00.000000000",
          "2020-03-30T00:00:00.000000000",
          "2020-03-31T00:00:00.000000000",
          "2020-04-01T00:00:00.000000000",
          "2020-04-02T00:00:00.000000000",
          "2020-04-03T00:00:00.000000000",
          "2020-04-06T00:00:00.000000000",
          "2020-04-07T00:00:00.000000000",
          "2020-04-08T00:00:00.000000000",
          "2020-04-09T00:00:00.000000000",
          "2020-04-10T00:00:00.000000000",
          "2020-04-13T00:00:00.000000000",
          "2020-04-14T00:00:00.000000000",
          "2020-04-15T00:00:00.000000000",
          "2020-04-16T00:00:00.000000000",
          "2020-04-17T00:00:00.000000000",
          "2020-04-20T00:00:00.000000000",
          "2020-04-21T00:00:00.000000000",
          "2020-04-22T00:00:00.000000000",
          "2020-04-23T00:00:00.000000000",
          "2020-04-24T00:00:00.000000000",
          "2020-04-27T00:00:00.000000000",
          "2020-04-28T00:00:00.000000000",
          "2020-04-29T00:00:00.000000000",
          "2020-04-30T00:00:00.000000000",
          "2020-05-01T00:00:00.000000000",
          "2020-05-04T00:00:00.000000000",
          "2020-05-05T00:00:00.000000000",
          "2020-05-06T00:00:00.000000000",
          "2020-05-07T00:00:00.000000000",
          "2020-05-08T00:00:00.000000000",
          "2020-05-11T00:00:00.000000000",
          "2020-05-12T00:00:00.000000000",
          "2020-05-13T00:00:00.000000000",
          "2020-05-14T00:00:00.000000000",
          "2020-05-15T00:00:00.000000000",
          "2020-05-18T00:00:00.000000000",
          "2020-05-19T00:00:00.000000000",
          "2020-05-20T00:00:00.000000000",
          "2020-05-21T00:00:00.000000000",
          "2020-05-22T00:00:00.000000000",
          "2020-05-26T00:00:00.000000000",
          "2020-05-27T00:00:00.000000000",
          "2020-05-28T00:00:00.000000000",
          "2020-05-29T00:00:00.000000000",
          "2020-06-01T00:00:00.000000000",
          "2020-06-02T00:00:00.000000000",
          "2020-06-03T00:00:00.000000000",
          "2020-06-04T00:00:00.000000000",
          "2020-06-05T00:00:00.000000000",
          "2020-06-08T00:00:00.000000000",
          "2020-06-09T00:00:00.000000000",
          "2020-06-10T00:00:00.000000000",
          "2020-06-11T00:00:00.000000000",
          "2020-06-12T00:00:00.000000000",
          "2020-06-15T00:00:00.000000000",
          "2020-06-16T00:00:00.000000000",
          "2020-06-17T00:00:00.000000000",
          "2020-06-18T00:00:00.000000000",
          "2020-06-19T00:00:00.000000000",
          "2020-06-22T00:00:00.000000000",
          "2020-06-23T00:00:00.000000000",
          "2020-06-24T00:00:00.000000000",
          "2020-06-25T00:00:00.000000000",
          "2020-06-26T00:00:00.000000000",
          "2020-06-29T00:00:00.000000000",
          "2020-06-30T00:00:00.000000000",
          "2020-07-01T00:00:00.000000000",
          "2020-07-02T00:00:00.000000000",
          "2020-07-03T00:00:00.000000000",
          "2020-07-06T00:00:00.000000000",
          "2020-07-07T00:00:00.000000000",
          "2020-07-08T00:00:00.000000000",
          "2020-07-09T00:00:00.000000000",
          "2020-07-10T00:00:00.000000000",
          "2020-07-13T00:00:00.000000000",
          "2020-07-14T00:00:00.000000000",
          "2020-07-15T00:00:00.000000000",
          "2020-07-16T00:00:00.000000000",
          "2020-07-17T00:00:00.000000000",
          "2020-07-20T00:00:00.000000000",
          "2020-07-21T00:00:00.000000000",
          "2020-07-22T00:00:00.000000000",
          "2020-07-23T00:00:00.000000000",
          "2020-07-24T00:00:00.000000000",
          "2020-07-27T00:00:00.000000000",
          "2020-07-28T00:00:00.000000000",
          "2020-07-29T00:00:00.000000000",
          "2020-07-30T00:00:00.000000000",
          "2020-07-31T00:00:00.000000000",
          "2020-08-03T00:00:00.000000000",
          "2020-08-04T00:00:00.000000000",
          "2020-08-05T00:00:00.000000000",
          "2020-08-06T00:00:00.000000000",
          "2020-08-07T00:00:00.000000000",
          "2020-08-10T00:00:00.000000000",
          "2020-08-11T00:00:00.000000000",
          "2020-08-12T00:00:00.000000000",
          "2020-08-13T00:00:00.000000000",
          "2020-08-14T00:00:00.000000000",
          "2020-08-17T00:00:00.000000000",
          "2020-08-18T00:00:00.000000000",
          "2020-08-19T00:00:00.000000000",
          "2020-08-20T00:00:00.000000000",
          "2020-08-21T00:00:00.000000000",
          "2020-08-24T00:00:00.000000000",
          "2020-08-25T00:00:00.000000000",
          "2020-08-26T00:00:00.000000000",
          "2020-08-27T00:00:00.000000000",
          "2020-08-28T00:00:00.000000000",
          "2020-08-31T00:00:00.000000000",
          "2020-09-01T00:00:00.000000000",
          "2020-09-02T00:00:00.000000000",
          "2020-09-03T00:00:00.000000000",
          "2020-09-04T00:00:00.000000000",
          "2020-09-08T00:00:00.000000000",
          "2020-09-09T00:00:00.000000000",
          "2020-09-10T00:00:00.000000000",
          "2020-09-11T00:00:00.000000000",
          "2020-09-14T00:00:00.000000000",
          "2020-09-15T00:00:00.000000000",
          "2020-09-16T00:00:00.000000000",
          "2020-09-17T00:00:00.000000000",
          "2020-09-18T00:00:00.000000000",
          "2020-09-21T00:00:00.000000000",
          "2020-09-22T00:00:00.000000000",
          "2020-09-23T00:00:00.000000000",
          "2020-09-24T00:00:00.000000000",
          "2020-09-25T00:00:00.000000000",
          "2020-09-28T00:00:00.000000000",
          "2020-09-29T00:00:00.000000000",
          "2020-09-30T00:00:00.000000000",
          "2020-10-01T00:00:00.000000000",
          "2020-10-02T00:00:00.000000000",
          "2020-10-05T00:00:00.000000000",
          "2020-10-06T00:00:00.000000000",
          "2020-10-07T00:00:00.000000000",
          "2020-10-08T00:00:00.000000000",
          "2020-10-09T00:00:00.000000000",
          "2020-10-13T00:00:00.000000000",
          "2020-10-14T00:00:00.000000000",
          "2020-10-15T00:00:00.000000000",
          "2020-10-16T00:00:00.000000000",
          "2020-10-19T00:00:00.000000000",
          "2020-10-20T00:00:00.000000000",
          "2020-10-21T00:00:00.000000000",
          "2020-10-22T00:00:00.000000000",
          "2020-10-23T00:00:00.000000000",
          "2020-10-26T00:00:00.000000000",
          "2020-10-27T00:00:00.000000000",
          "2020-10-28T00:00:00.000000000",
          "2020-10-29T00:00:00.000000000",
          "2020-10-30T00:00:00.000000000",
          "2020-11-02T00:00:00.000000000",
          "2020-11-03T00:00:00.000000000",
          "2020-11-04T00:00:00.000000000",
          "2020-11-05T00:00:00.000000000",
          "2020-11-06T00:00:00.000000000",
          "2020-11-09T00:00:00.000000000",
          "2020-11-10T00:00:00.000000000",
          "2020-11-12T00:00:00.000000000",
          "2020-11-13T00:00:00.000000000",
          "2020-11-16T00:00:00.000000000",
          "2020-11-17T00:00:00.000000000",
          "2020-11-18T00:00:00.000000000",
          "2020-11-19T00:00:00.000000000",
          "2020-11-20T00:00:00.000000000",
          "2020-11-23T00:00:00.000000000",
          "2020-11-24T00:00:00.000000000",
          "2020-11-25T00:00:00.000000000",
          "2020-11-27T00:00:00.000000000",
          "2020-11-30T00:00:00.000000000",
          "2020-12-01T00:00:00.000000000",
          "2020-12-02T00:00:00.000000000",
          "2020-12-03T00:00:00.000000000",
          "2020-12-04T00:00:00.000000000",
          "2020-12-07T00:00:00.000000000",
          "2020-12-08T00:00:00.000000000",
          "2020-12-09T00:00:00.000000000",
          "2020-12-10T00:00:00.000000000",
          "2020-12-11T00:00:00.000000000",
          "2020-12-14T00:00:00.000000000",
          "2020-12-15T00:00:00.000000000",
          "2020-12-16T00:00:00.000000000",
          "2020-12-17T00:00:00.000000000",
          "2020-12-18T00:00:00.000000000",
          "2020-12-21T00:00:00.000000000",
          "2020-12-22T00:00:00.000000000",
          "2020-12-23T00:00:00.000000000",
          "2020-12-24T00:00:00.000000000",
          "2020-12-28T00:00:00.000000000",
          "2020-12-29T00:00:00.000000000",
          "2020-12-30T00:00:00.000000000",
          "2020-12-31T00:00:00.000000000",
          "2021-01-04T00:00:00.000000000",
          "2021-01-05T00:00:00.000000000",
          "2021-01-06T00:00:00.000000000",
          "2021-01-07T00:00:00.000000000",
          "2021-01-08T00:00:00.000000000",
          "2021-01-11T00:00:00.000000000",
          "2021-01-12T00:00:00.000000000",
          "2021-01-13T00:00:00.000000000",
          "2021-01-14T00:00:00.000000000",
          "2021-01-15T00:00:00.000000000",
          "2021-01-19T00:00:00.000000000",
          "2021-01-20T00:00:00.000000000",
          "2021-01-21T00:00:00.000000000",
          "2021-01-22T00:00:00.000000000",
          "2021-01-25T00:00:00.000000000",
          "2021-01-26T00:00:00.000000000",
          "2021-01-27T00:00:00.000000000",
          "2021-01-28T00:00:00.000000000",
          "2021-01-29T00:00:00.000000000",
          "2021-02-01T00:00:00.000000000",
          "2021-02-02T00:00:00.000000000",
          "2021-02-03T00:00:00.000000000",
          "2021-02-04T00:00:00.000000000",
          "2021-02-05T00:00:00.000000000",
          "2021-02-08T00:00:00.000000000",
          "2021-02-09T00:00:00.000000000",
          "2021-02-10T00:00:00.000000000",
          "2021-02-11T00:00:00.000000000",
          "2021-02-12T00:00:00.000000000",
          "2021-02-16T00:00:00.000000000",
          "2021-02-17T00:00:00.000000000",
          "2021-02-18T00:00:00.000000000",
          "2021-02-19T00:00:00.000000000",
          "2021-02-22T00:00:00.000000000",
          "2021-02-23T00:00:00.000000000",
          "2021-02-24T00:00:00.000000000",
          "2021-02-25T00:00:00.000000000",
          "2021-02-26T00:00:00.000000000",
          "2021-03-01T00:00:00.000000000",
          "2021-03-02T00:00:00.000000000",
          "2021-03-03T00:00:00.000000000",
          "2021-03-04T00:00:00.000000000",
          "2021-03-05T00:00:00.000000000",
          "2021-03-08T00:00:00.000000000",
          "2021-03-09T00:00:00.000000000",
          "2021-03-10T00:00:00.000000000",
          "2021-03-11T00:00:00.000000000",
          "2021-03-12T00:00:00.000000000",
          "2021-03-15T00:00:00.000000000",
          "2021-03-16T00:00:00.000000000",
          "2021-03-17T00:00:00.000000000",
          "2021-03-18T00:00:00.000000000",
          "2021-03-19T00:00:00.000000000",
          "2021-03-22T00:00:00.000000000",
          "2021-03-23T00:00:00.000000000",
          "2021-03-24T00:00:00.000000000",
          "2021-03-25T00:00:00.000000000",
          "2021-03-26T00:00:00.000000000",
          "2021-03-29T00:00:00.000000000",
          "2021-03-30T00:00:00.000000000",
          "2021-03-31T00:00:00.000000000",
          "2021-04-01T00:00:00.000000000",
          "2021-04-02T00:00:00.000000000",
          "2021-04-05T00:00:00.000000000",
          "2021-04-06T00:00:00.000000000",
          "2021-04-07T00:00:00.000000000",
          "2021-04-08T00:00:00.000000000",
          "2021-04-09T00:00:00.000000000",
          "2021-04-12T00:00:00.000000000",
          "2021-04-13T00:00:00.000000000",
          "2021-04-14T00:00:00.000000000",
          "2021-04-15T00:00:00.000000000",
          "2021-04-16T00:00:00.000000000",
          "2021-04-19T00:00:00.000000000",
          "2021-04-20T00:00:00.000000000",
          "2021-04-21T00:00:00.000000000",
          "2021-04-22T00:00:00.000000000",
          "2021-04-23T00:00:00.000000000",
          "2021-04-26T00:00:00.000000000",
          "2021-04-27T00:00:00.000000000",
          "2021-04-28T00:00:00.000000000",
          "2021-04-29T00:00:00.000000000",
          "2021-04-30T00:00:00.000000000",
          "2021-05-03T00:00:00.000000000",
          "2021-05-04T00:00:00.000000000",
          "2021-05-05T00:00:00.000000000",
          "2021-05-06T00:00:00.000000000",
          "2021-05-07T00:00:00.000000000",
          "2021-05-10T00:00:00.000000000",
          "2021-05-11T00:00:00.000000000",
          "2021-05-12T00:00:00.000000000",
          "2021-05-13T00:00:00.000000000",
          "2021-05-14T00:00:00.000000000",
          "2021-05-17T00:00:00.000000000",
          "2021-05-18T00:00:00.000000000",
          "2021-05-19T00:00:00.000000000",
          "2021-05-20T00:00:00.000000000",
          "2021-05-21T00:00:00.000000000",
          "2021-05-24T00:00:00.000000000",
          "2021-05-25T00:00:00.000000000",
          "2021-05-26T00:00:00.000000000",
          "2021-05-27T00:00:00.000000000",
          "2021-05-28T00:00:00.000000000",
          "2021-06-01T00:00:00.000000000",
          "2021-06-02T00:00:00.000000000",
          "2021-06-03T00:00:00.000000000",
          "2021-06-04T00:00:00.000000000",
          "2021-06-07T00:00:00.000000000",
          "2021-06-08T00:00:00.000000000",
          "2021-06-09T00:00:00.000000000",
          "2021-06-10T00:00:00.000000000",
          "2021-06-11T00:00:00.000000000",
          "2021-06-14T00:00:00.000000000",
          "2021-06-15T00:00:00.000000000",
          "2021-06-16T00:00:00.000000000",
          "2021-06-17T00:00:00.000000000",
          "2021-06-18T00:00:00.000000000",
          "2021-06-21T00:00:00.000000000",
          "2021-06-22T00:00:00.000000000",
          "2021-06-23T00:00:00.000000000",
          "2021-06-24T00:00:00.000000000",
          "2021-06-25T00:00:00.000000000",
          "2021-06-28T00:00:00.000000000",
          "2021-06-29T00:00:00.000000000",
          "2021-06-30T00:00:00.000000000",
          "2021-07-01T00:00:00.000000000",
          "2021-07-02T00:00:00.000000000",
          "2021-07-06T00:00:00.000000000",
          "2021-07-07T00:00:00.000000000",
          "2021-07-08T00:00:00.000000000",
          "2021-07-09T00:00:00.000000000",
          "2021-07-12T00:00:00.000000000",
          "2021-07-13T00:00:00.000000000",
          "2021-07-14T00:00:00.000000000",
          "2021-07-15T00:00:00.000000000",
          "2021-07-16T00:00:00.000000000",
          "2021-07-19T00:00:00.000000000",
          "2021-07-20T00:00:00.000000000",
          "2021-07-21T00:00:00.000000000",
          "2021-07-22T00:00:00.000000000",
          "2021-07-23T00:00:00.000000000",
          "2021-07-26T00:00:00.000000000",
          "2021-07-27T00:00:00.000000000",
          "2021-07-28T00:00:00.000000000",
          "2021-07-29T00:00:00.000000000",
          "2021-07-30T00:00:00.000000000",
          "2021-08-02T00:00:00.000000000",
          "2021-08-03T00:00:00.000000000",
          "2021-08-04T00:00:00.000000000",
          "2021-08-05T00:00:00.000000000",
          "2021-08-06T00:00:00.000000000",
          "2021-08-09T00:00:00.000000000",
          "2021-08-10T00:00:00.000000000",
          "2021-08-11T00:00:00.000000000",
          "2021-08-12T00:00:00.000000000",
          "2021-08-13T00:00:00.000000000",
          "2021-08-16T00:00:00.000000000",
          "2021-08-17T00:00:00.000000000",
          "2021-08-18T00:00:00.000000000",
          "2021-08-19T00:00:00.000000000",
          "2021-08-20T00:00:00.000000000",
          "2021-08-23T00:00:00.000000000",
          "2021-08-24T00:00:00.000000000",
          "2021-08-25T00:00:00.000000000",
          "2021-08-26T00:00:00.000000000",
          "2021-08-27T00:00:00.000000000",
          "2021-08-30T00:00:00.000000000",
          "2021-08-31T00:00:00.000000000",
          "2021-09-01T00:00:00.000000000",
          "2021-09-02T00:00:00.000000000",
          "2021-09-03T00:00:00.000000000",
          "2021-09-07T00:00:00.000000000",
          "2021-09-08T00:00:00.000000000",
          "2021-09-09T00:00:00.000000000",
          "2021-09-10T00:00:00.000000000",
          "2021-09-13T00:00:00.000000000",
          "2021-09-14T00:00:00.000000000",
          "2021-09-15T00:00:00.000000000",
          "2021-09-16T00:00:00.000000000",
          "2021-09-17T00:00:00.000000000",
          "2021-09-20T00:00:00.000000000",
          "2021-09-21T00:00:00.000000000",
          "2021-09-22T00:00:00.000000000",
          "2021-09-23T00:00:00.000000000",
          "2021-09-24T00:00:00.000000000",
          "2021-09-27T00:00:00.000000000",
          "2021-09-28T00:00:00.000000000",
          "2021-09-29T00:00:00.000000000",
          "2021-09-30T00:00:00.000000000",
          "2021-10-01T00:00:00.000000000",
          "2021-10-04T00:00:00.000000000",
          "2021-10-05T00:00:00.000000000",
          "2021-10-06T00:00:00.000000000",
          "2021-10-07T00:00:00.000000000",
          "2021-10-08T00:00:00.000000000",
          "2021-10-12T00:00:00.000000000",
          "2021-10-13T00:00:00.000000000",
          "2021-10-14T00:00:00.000000000",
          "2021-10-15T00:00:00.000000000",
          "2021-10-18T00:00:00.000000000",
          "2021-10-19T00:00:00.000000000",
          "2021-10-20T00:00:00.000000000",
          "2021-10-21T00:00:00.000000000",
          "2021-10-22T00:00:00.000000000",
          "2021-10-25T00:00:00.000000000",
          "2021-10-26T00:00:00.000000000",
          "2021-10-27T00:00:00.000000000",
          "2021-10-28T00:00:00.000000000",
          "2021-10-29T00:00:00.000000000",
          "2021-11-01T00:00:00.000000000",
          "2021-11-02T00:00:00.000000000",
          "2021-11-03T00:00:00.000000000",
          "2021-11-04T00:00:00.000000000",
          "2021-11-05T00:00:00.000000000",
          "2021-11-08T00:00:00.000000000",
          "2021-11-09T00:00:00.000000000",
          "2021-11-10T00:00:00.000000000",
          "2021-11-12T00:00:00.000000000",
          "2021-11-15T00:00:00.000000000",
          "2021-11-16T00:00:00.000000000",
          "2021-11-17T00:00:00.000000000",
          "2021-11-18T00:00:00.000000000",
          "2021-11-19T00:00:00.000000000",
          "2021-11-22T00:00:00.000000000",
          "2021-11-23T00:00:00.000000000",
          "2021-11-24T00:00:00.000000000",
          "2021-11-26T00:00:00.000000000",
          "2021-11-29T00:00:00.000000000",
          "2021-11-30T00:00:00.000000000",
          "2021-12-01T00:00:00.000000000",
          "2021-12-02T00:00:00.000000000",
          "2021-12-03T00:00:00.000000000",
          "2021-12-06T00:00:00.000000000",
          "2021-12-07T00:00:00.000000000",
          "2021-12-08T00:00:00.000000000",
          "2021-12-09T00:00:00.000000000",
          "2021-12-10T00:00:00.000000000",
          "2021-12-13T00:00:00.000000000",
          "2021-12-14T00:00:00.000000000",
          "2021-12-15T00:00:00.000000000",
          "2021-12-16T00:00:00.000000000",
          "2021-12-17T00:00:00.000000000",
          "2021-12-20T00:00:00.000000000",
          "2021-12-21T00:00:00.000000000",
          "2021-12-22T00:00:00.000000000",
          "2021-12-23T00:00:00.000000000",
          "2021-12-24T00:00:00.000000000",
          "2021-12-27T00:00:00.000000000",
          "2021-12-28T00:00:00.000000000",
          "2021-12-29T00:00:00.000000000",
          "2021-12-30T00:00:00.000000000",
          "2021-12-31T00:00:00.000000000",
          "2022-01-03T00:00:00.000000000",
          "2022-01-04T00:00:00.000000000",
          "2022-01-05T00:00:00.000000000",
          "2022-01-06T00:00:00.000000000",
          "2022-01-07T00:00:00.000000000",
          "2022-01-10T00:00:00.000000000",
          "2022-01-11T00:00:00.000000000",
          "2022-01-12T00:00:00.000000000",
          "2022-01-13T00:00:00.000000000",
          "2022-01-14T00:00:00.000000000",
          "2022-01-18T00:00:00.000000000",
          "2022-01-19T00:00:00.000000000",
          "2022-01-20T00:00:00.000000000",
          "2022-01-21T00:00:00.000000000",
          "2022-01-24T00:00:00.000000000",
          "2022-01-25T00:00:00.000000000",
          "2022-01-26T00:00:00.000000000",
          "2022-01-27T00:00:00.000000000",
          "2022-01-28T00:00:00.000000000",
          "2022-01-31T00:00:00.000000000",
          "2022-02-01T00:00:00.000000000",
          "2022-02-02T00:00:00.000000000",
          "2022-02-03T00:00:00.000000000",
          "2022-02-04T00:00:00.000000000",
          "2022-02-07T00:00:00.000000000",
          "2022-02-08T00:00:00.000000000",
          "2022-02-09T00:00:00.000000000",
          "2022-02-10T00:00:00.000000000",
          "2022-02-11T00:00:00.000000000",
          "2022-02-14T00:00:00.000000000",
          "2022-02-15T00:00:00.000000000",
          "2022-02-16T00:00:00.000000000",
          "2022-02-17T00:00:00.000000000",
          "2022-02-18T00:00:00.000000000",
          "2022-02-22T00:00:00.000000000",
          "2022-02-23T00:00:00.000000000",
          "2022-02-24T00:00:00.000000000",
          "2022-02-25T00:00:00.000000000",
          "2022-02-28T00:00:00.000000000",
          "2022-03-01T00:00:00.000000000",
          "2022-03-02T00:00:00.000000000",
          "2022-03-03T00:00:00.000000000",
          "2022-03-04T00:00:00.000000000",
          "2022-03-07T00:00:00.000000000",
          "2022-03-08T00:00:00.000000000",
          "2022-03-09T00:00:00.000000000",
          "2022-03-10T00:00:00.000000000",
          "2022-03-11T00:00:00.000000000",
          "2022-03-14T00:00:00.000000000",
          "2022-03-15T00:00:00.000000000",
          "2022-03-16T00:00:00.000000000",
          "2022-03-17T00:00:00.000000000",
          "2022-03-18T00:00:00.000000000",
          "2022-03-21T00:00:00.000000000",
          "2022-03-22T00:00:00.000000000",
          "2022-03-23T00:00:00.000000000",
          "2022-03-24T00:00:00.000000000",
          "2022-03-25T00:00:00.000000000",
          "2022-03-28T00:00:00.000000000",
          "2022-03-29T00:00:00.000000000",
          "2022-03-30T00:00:00.000000000",
          "2022-03-31T00:00:00.000000000",
          "2022-04-01T00:00:00.000000000",
          "2022-04-04T00:00:00.000000000",
          "2022-04-05T00:00:00.000000000",
          "2022-04-06T00:00:00.000000000",
          "2022-04-07T00:00:00.000000000",
          "2022-04-08T00:00:00.000000000",
          "2022-04-11T00:00:00.000000000",
          "2022-04-12T00:00:00.000000000",
          "2022-04-13T00:00:00.000000000",
          "2022-04-14T00:00:00.000000000",
          "2022-04-15T00:00:00.000000000",
          "2022-04-18T00:00:00.000000000",
          "2022-04-19T00:00:00.000000000",
          "2022-04-20T00:00:00.000000000",
          "2022-04-21T00:00:00.000000000",
          "2022-04-22T00:00:00.000000000",
          "2022-04-25T00:00:00.000000000",
          "2022-04-26T00:00:00.000000000",
          "2022-04-27T00:00:00.000000000",
          "2022-04-28T00:00:00.000000000",
          "2022-04-29T00:00:00.000000000",
          "2022-05-02T00:00:00.000000000",
          "2022-05-03T00:00:00.000000000",
          "2022-05-04T00:00:00.000000000",
          "2022-05-05T00:00:00.000000000",
          "2022-05-06T00:00:00.000000000",
          "2022-05-09T00:00:00.000000000",
          "2022-05-10T00:00:00.000000000",
          "2022-05-11T00:00:00.000000000",
          "2022-05-12T00:00:00.000000000",
          "2022-05-13T00:00:00.000000000",
          "2022-05-16T00:00:00.000000000",
          "2022-05-17T00:00:00.000000000",
          "2022-05-18T00:00:00.000000000",
          "2022-05-19T00:00:00.000000000",
          "2022-05-20T00:00:00.000000000",
          "2022-05-23T00:00:00.000000000",
          "2022-05-24T00:00:00.000000000",
          "2022-05-25T00:00:00.000000000",
          "2022-05-26T00:00:00.000000000",
          "2022-05-27T00:00:00.000000000",
          "2022-05-31T00:00:00.000000000",
          "2022-06-01T00:00:00.000000000",
          "2022-06-02T00:00:00.000000000",
          "2022-06-03T00:00:00.000000000",
          "2022-06-06T00:00:00.000000000",
          "2022-06-07T00:00:00.000000000",
          "2022-06-08T00:00:00.000000000",
          "2022-06-09T00:00:00.000000000",
          "2022-06-10T00:00:00.000000000",
          "2022-06-13T00:00:00.000000000",
          "2022-06-14T00:00:00.000000000",
          "2022-06-15T00:00:00.000000000",
          "2022-06-16T00:00:00.000000000",
          "2022-06-17T00:00:00.000000000",
          "2022-06-21T00:00:00.000000000",
          "2022-06-22T00:00:00.000000000",
          "2022-06-23T00:00:00.000000000",
          "2022-06-24T00:00:00.000000000",
          "2022-06-27T00:00:00.000000000",
          "2022-06-28T00:00:00.000000000",
          "2022-06-29T00:00:00.000000000",
          "2022-06-30T00:00:00.000000000",
          "2022-07-01T00:00:00.000000000",
          "2022-07-05T00:00:00.000000000",
          "2022-07-06T00:00:00.000000000",
          "2022-07-07T00:00:00.000000000",
          "2022-07-08T00:00:00.000000000",
          "2022-07-11T00:00:00.000000000",
          "2022-07-12T00:00:00.000000000",
          "2022-07-13T00:00:00.000000000",
          "2022-07-14T00:00:00.000000000",
          "2022-07-15T00:00:00.000000000",
          "2022-07-18T00:00:00.000000000",
          "2022-07-19T00:00:00.000000000",
          "2022-07-20T00:00:00.000000000",
          "2022-07-21T00:00:00.000000000",
          "2022-07-22T00:00:00.000000000",
          "2022-07-25T00:00:00.000000000",
          "2022-07-26T00:00:00.000000000",
          "2022-07-27T00:00:00.000000000",
          "2022-07-28T00:00:00.000000000",
          "2022-07-29T00:00:00.000000000",
          "2022-08-01T00:00:00.000000000",
          "2022-08-02T00:00:00.000000000",
          "2022-08-03T00:00:00.000000000",
          "2022-08-04T00:00:00.000000000",
          "2022-08-05T00:00:00.000000000",
          "2022-08-08T00:00:00.000000000",
          "2022-08-09T00:00:00.000000000",
          "2022-08-10T00:00:00.000000000",
          "2022-08-11T00:00:00.000000000",
          "2022-08-12T00:00:00.000000000",
          "2022-08-15T00:00:00.000000000",
          "2022-08-16T00:00:00.000000000",
          "2022-08-17T00:00:00.000000000",
          "2022-08-18T00:00:00.000000000",
          "2022-08-19T00:00:00.000000000",
          "2022-08-22T00:00:00.000000000",
          "2022-08-23T00:00:00.000000000",
          "2022-08-24T00:00:00.000000000",
          "2022-08-25T00:00:00.000000000",
          "2022-08-26T00:00:00.000000000",
          "2022-08-29T00:00:00.000000000",
          "2022-08-30T00:00:00.000000000",
          "2022-08-31T00:00:00.000000000",
          "2022-09-01T00:00:00.000000000",
          "2022-09-02T00:00:00.000000000",
          "2022-09-06T00:00:00.000000000",
          "2022-09-07T00:00:00.000000000",
          "2022-09-08T00:00:00.000000000",
          "2022-09-09T00:00:00.000000000",
          "2022-09-12T00:00:00.000000000",
          "2022-09-13T00:00:00.000000000",
          "2022-09-14T00:00:00.000000000",
          "2022-09-15T00:00:00.000000000",
          "2022-09-16T00:00:00.000000000",
          "2022-09-19T00:00:00.000000000",
          "2022-09-20T00:00:00.000000000",
          "2022-09-21T00:00:00.000000000",
          "2022-09-22T00:00:00.000000000",
          "2022-09-23T00:00:00.000000000",
          "2022-09-26T00:00:00.000000000",
          "2022-09-27T00:00:00.000000000",
          "2022-09-28T00:00:00.000000000",
          "2022-09-29T00:00:00.000000000",
          "2022-09-30T00:00:00.000000000",
          "2022-10-03T00:00:00.000000000",
          "2022-10-04T00:00:00.000000000",
          "2022-10-05T00:00:00.000000000",
          "2022-10-06T00:00:00.000000000",
          "2022-10-07T00:00:00.000000000",
          "2022-10-11T00:00:00.000000000",
          "2022-10-12T00:00:00.000000000",
          "2022-10-13T00:00:00.000000000",
          "2022-10-14T00:00:00.000000000",
          "2022-10-17T00:00:00.000000000",
          "2022-10-18T00:00:00.000000000",
          "2022-10-19T00:00:00.000000000",
          "2022-10-20T00:00:00.000000000",
          "2022-10-21T00:00:00.000000000",
          "2022-10-24T00:00:00.000000000",
          "2022-10-25T00:00:00.000000000",
          "2022-10-26T00:00:00.000000000",
          "2022-10-27T00:00:00.000000000",
          "2022-10-28T00:00:00.000000000",
          "2022-10-31T00:00:00.000000000",
          "2022-11-01T00:00:00.000000000",
          "2022-11-02T00:00:00.000000000",
          "2022-11-03T00:00:00.000000000",
          "2022-11-04T00:00:00.000000000",
          "2022-11-07T00:00:00.000000000",
          "2022-11-08T00:00:00.000000000",
          "2022-11-09T00:00:00.000000000",
          "2022-11-10T00:00:00.000000000",
          "2022-11-14T00:00:00.000000000",
          "2022-11-15T00:00:00.000000000",
          "2022-11-16T00:00:00.000000000",
          "2022-11-17T00:00:00.000000000",
          "2022-11-18T00:00:00.000000000",
          "2022-11-21T00:00:00.000000000",
          "2022-11-22T00:00:00.000000000",
          "2022-11-23T00:00:00.000000000",
          "2022-11-25T00:00:00.000000000",
          "2022-11-28T00:00:00.000000000",
          "2022-11-29T00:00:00.000000000",
          "2022-11-30T00:00:00.000000000",
          "2022-12-01T00:00:00.000000000",
          "2022-12-02T00:00:00.000000000",
          "2022-12-05T00:00:00.000000000",
          "2022-12-06T00:00:00.000000000",
          "2022-12-07T00:00:00.000000000",
          "2022-12-08T00:00:00.000000000",
          "2022-12-09T00:00:00.000000000",
          "2022-12-12T00:00:00.000000000",
          "2022-12-13T00:00:00.000000000",
          "2022-12-14T00:00:00.000000000",
          "2022-12-15T00:00:00.000000000",
          "2022-12-16T00:00:00.000000000",
          "2022-12-19T00:00:00.000000000",
          "2022-12-20T00:00:00.000000000",
          "2022-12-21T00:00:00.000000000",
          "2022-12-22T00:00:00.000000000",
          "2022-12-23T00:00:00.000000000",
          "2022-12-27T00:00:00.000000000",
          "2022-12-28T00:00:00.000000000",
          "2022-12-29T00:00:00.000000000",
          "2022-12-30T00:00:00.000000000",
          "2023-01-03T00:00:00.000000000",
          "2023-01-04T00:00:00.000000000",
          "2023-01-05T00:00:00.000000000",
          "2023-01-06T00:00:00.000000000",
          "2023-01-09T00:00:00.000000000",
          "2023-01-10T00:00:00.000000000",
          "2023-01-11T00:00:00.000000000",
          "2023-01-12T00:00:00.000000000",
          "2023-01-13T00:00:00.000000000",
          "2023-01-17T00:00:00.000000000",
          "2023-01-18T00:00:00.000000000",
          "2023-01-19T00:00:00.000000000",
          "2023-01-20T00:00:00.000000000",
          "2023-01-23T00:00:00.000000000",
          "2023-01-24T00:00:00.000000000",
          "2023-01-25T00:00:00.000000000",
          "2023-01-26T00:00:00.000000000",
          "2023-01-27T00:00:00.000000000",
          "2023-01-30T00:00:00.000000000",
          "2023-01-31T00:00:00.000000000",
          "2023-02-01T00:00:00.000000000",
          "2023-02-02T00:00:00.000000000",
          "2023-02-03T00:00:00.000000000",
          "2023-02-06T00:00:00.000000000",
          "2023-02-07T00:00:00.000000000",
          "2023-02-08T00:00:00.000000000",
          "2023-02-09T00:00:00.000000000",
          "2023-02-10T00:00:00.000000000",
          "2023-02-13T00:00:00.000000000",
          "2023-02-14T00:00:00.000000000",
          "2023-02-15T00:00:00.000000000",
          "2023-02-16T00:00:00.000000000",
          "2023-02-17T00:00:00.000000000",
          "2023-02-21T00:00:00.000000000",
          "2023-02-22T00:00:00.000000000",
          "2023-02-23T00:00:00.000000000",
          "2023-02-24T00:00:00.000000000",
          "2023-02-27T00:00:00.000000000",
          "2023-02-28T00:00:00.000000000",
          "2023-03-01T00:00:00.000000000",
          "2023-03-02T00:00:00.000000000",
          "2023-03-03T00:00:00.000000000",
          "2023-03-06T00:00:00.000000000",
          "2023-03-07T00:00:00.000000000",
          "2023-03-08T00:00:00.000000000",
          "2023-03-09T00:00:00.000000000",
          "2023-03-10T00:00:00.000000000",
          "2023-03-13T00:00:00.000000000",
          "2023-03-14T00:00:00.000000000",
          "2023-03-15T00:00:00.000000000",
          "2023-03-16T00:00:00.000000000",
          "2023-03-17T00:00:00.000000000",
          "2023-03-20T00:00:00.000000000",
          "2023-03-21T00:00:00.000000000",
          "2023-03-22T00:00:00.000000000",
          "2023-03-23T00:00:00.000000000",
          "2023-03-24T00:00:00.000000000",
          "2023-03-27T00:00:00.000000000",
          "2023-03-28T00:00:00.000000000",
          "2023-03-29T00:00:00.000000000",
          "2023-03-30T00:00:00.000000000",
          "2023-03-31T00:00:00.000000000",
          "2023-04-03T00:00:00.000000000",
          "2023-04-04T00:00:00.000000000",
          "2023-04-05T00:00:00.000000000",
          "2023-04-06T00:00:00.000000000",
          "2023-04-07T00:00:00.000000000",
          "2023-04-10T00:00:00.000000000",
          "2023-04-11T00:00:00.000000000",
          "2023-04-12T00:00:00.000000000",
          "2023-04-13T00:00:00.000000000",
          "2023-04-14T00:00:00.000000000",
          "2023-04-17T00:00:00.000000000",
          "2023-04-18T00:00:00.000000000",
          "2023-04-19T00:00:00.000000000",
          "2023-04-20T00:00:00.000000000",
          "2023-04-21T00:00:00.000000000",
          "2023-04-24T00:00:00.000000000",
          "2023-04-25T00:00:00.000000000",
          "2023-04-26T00:00:00.000000000",
          "2023-04-27T00:00:00.000000000",
          "2023-04-28T00:00:00.000000000",
          "2023-05-01T00:00:00.000000000",
          "2023-05-02T00:00:00.000000000",
          "2023-05-03T00:00:00.000000000",
          "2023-05-04T00:00:00.000000000",
          "2023-05-05T00:00:00.000000000",
          "2023-05-08T00:00:00.000000000",
          "2023-05-09T00:00:00.000000000",
          "2023-05-10T00:00:00.000000000",
          "2023-05-11T00:00:00.000000000",
          "2023-05-12T00:00:00.000000000",
          "2023-05-15T00:00:00.000000000",
          "2023-05-16T00:00:00.000000000",
          "2023-05-17T00:00:00.000000000",
          "2023-05-18T00:00:00.000000000",
          "2023-05-19T00:00:00.000000000",
          "2023-05-22T00:00:00.000000000",
          "2023-05-23T00:00:00.000000000",
          "2023-05-24T00:00:00.000000000",
          "2023-05-25T00:00:00.000000000",
          "2023-05-26T00:00:00.000000000",
          "2023-05-30T00:00:00.000000000",
          "2023-05-31T00:00:00.000000000",
          "2023-06-01T00:00:00.000000000",
          "2023-06-02T00:00:00.000000000",
          "2023-06-05T00:00:00.000000000",
          "2023-06-06T00:00:00.000000000",
          "2023-06-07T00:00:00.000000000",
          "2023-06-08T00:00:00.000000000",
          "2023-06-09T00:00:00.000000000",
          "2023-06-12T00:00:00.000000000",
          "2023-06-13T00:00:00.000000000",
          "2023-06-14T00:00:00.000000000",
          "2023-06-15T00:00:00.000000000",
          "2023-06-16T00:00:00.000000000",
          "2023-06-20T00:00:00.000000000",
          "2023-06-21T00:00:00.000000000",
          "2023-06-22T00:00:00.000000000",
          "2023-06-23T00:00:00.000000000",
          "2023-06-26T00:00:00.000000000",
          "2023-06-27T00:00:00.000000000",
          "2023-06-28T00:00:00.000000000",
          "2023-06-29T00:00:00.000000000",
          "2023-06-30T00:00:00.000000000",
          "2023-07-03T00:00:00.000000000",
          "2023-07-05T00:00:00.000000000",
          "2023-07-06T00:00:00.000000000",
          "2023-07-07T00:00:00.000000000",
          "2023-07-10T00:00:00.000000000",
          "2023-07-11T00:00:00.000000000",
          "2023-07-12T00:00:00.000000000",
          "2023-07-13T00:00:00.000000000",
          "2023-07-14T00:00:00.000000000",
          "2023-07-17T00:00:00.000000000",
          "2023-07-18T00:00:00.000000000",
          "2023-07-19T00:00:00.000000000",
          "2023-07-20T00:00:00.000000000",
          "2023-07-21T00:00:00.000000000",
          "2023-07-24T00:00:00.000000000",
          "2023-07-25T00:00:00.000000000",
          "2023-07-26T00:00:00.000000000",
          "2023-07-27T00:00:00.000000000",
          "2023-07-28T00:00:00.000000000",
          "2023-07-31T00:00:00.000000000",
          "2023-08-01T00:00:00.000000000",
          "2023-08-02T00:00:00.000000000",
          "2023-08-03T00:00:00.000000000",
          "2023-08-04T00:00:00.000000000",
          "2023-08-07T00:00:00.000000000",
          "2023-08-08T00:00:00.000000000",
          "2023-08-09T00:00:00.000000000",
          "2023-08-10T00:00:00.000000000",
          "2023-08-11T00:00:00.000000000",
          "2023-08-14T00:00:00.000000000",
          "2023-08-15T00:00:00.000000000",
          "2023-08-16T00:00:00.000000000",
          "2023-08-17T00:00:00.000000000",
          "2023-08-18T00:00:00.000000000",
          "2023-08-21T00:00:00.000000000",
          "2023-08-22T00:00:00.000000000",
          "2023-08-23T00:00:00.000000000",
          "2023-08-24T00:00:00.000000000",
          "2023-08-25T00:00:00.000000000",
          "2023-08-28T00:00:00.000000000",
          "2023-08-29T00:00:00.000000000",
          "2023-08-30T00:00:00.000000000",
          "2023-08-31T00:00:00.000000000",
          "2023-09-01T00:00:00.000000000",
          "2023-09-05T00:00:00.000000000",
          "2023-09-06T00:00:00.000000000",
          "2023-09-07T00:00:00.000000000",
          "2023-09-08T00:00:00.000000000",
          "2023-09-11T00:00:00.000000000",
          "2023-09-12T00:00:00.000000000",
          "2023-09-13T00:00:00.000000000",
          "2023-09-14T00:00:00.000000000",
          "2023-09-15T00:00:00.000000000",
          "2023-09-18T00:00:00.000000000",
          "2023-09-19T00:00:00.000000000",
          "2023-09-20T00:00:00.000000000",
          "2023-09-21T00:00:00.000000000",
          "2023-09-22T00:00:00.000000000",
          "2023-09-25T00:00:00.000000000",
          "2023-09-26T00:00:00.000000000",
          "2023-09-27T00:00:00.000000000",
          "2023-09-28T00:00:00.000000000",
          "2023-09-29T00:00:00.000000000",
          "2023-10-02T00:00:00.000000000",
          "2023-10-03T00:00:00.000000000",
          "2023-10-04T00:00:00.000000000",
          "2023-10-05T00:00:00.000000000",
          "2023-10-06T00:00:00.000000000",
          "2023-10-10T00:00:00.000000000",
          "2023-10-11T00:00:00.000000000",
          "2023-10-12T00:00:00.000000000",
          "2023-10-13T00:00:00.000000000",
          "2023-10-16T00:00:00.000000000",
          "2023-10-17T00:00:00.000000000",
          "2023-10-18T00:00:00.000000000",
          "2023-10-19T00:00:00.000000000",
          "2023-10-20T00:00:00.000000000",
          "2023-10-23T00:00:00.000000000",
          "2023-10-24T00:00:00.000000000",
          "2023-10-25T00:00:00.000000000",
          "2023-10-26T00:00:00.000000000",
          "2023-10-27T00:00:00.000000000",
          "2023-10-30T00:00:00.000000000",
          "2023-10-31T00:00:00.000000000",
          "2023-11-01T00:00:00.000000000",
          "2023-11-02T00:00:00.000000000",
          "2023-11-03T00:00:00.000000000",
          "2023-11-06T00:00:00.000000000",
          "2023-11-07T00:00:00.000000000",
          "2023-11-08T00:00:00.000000000",
          "2023-11-09T00:00:00.000000000",
          "2023-11-10T00:00:00.000000000",
          "2023-11-13T00:00:00.000000000",
          "2023-11-14T00:00:00.000000000",
          "2023-11-15T00:00:00.000000000",
          "2023-11-16T00:00:00.000000000",
          "2023-11-17T00:00:00.000000000",
          "2023-11-20T00:00:00.000000000",
          "2023-11-21T00:00:00.000000000",
          "2023-11-22T00:00:00.000000000",
          "2023-11-24T00:00:00.000000000",
          "2023-11-27T00:00:00.000000000",
          "2023-11-28T00:00:00.000000000",
          "2023-11-29T00:00:00.000000000",
          "2023-11-30T00:00:00.000000000",
          "2023-12-01T00:00:00.000000000",
          "2023-12-04T00:00:00.000000000",
          "2023-12-05T00:00:00.000000000",
          "2023-12-06T00:00:00.000000000",
          "2023-12-07T00:00:00.000000000",
          "2023-12-08T00:00:00.000000000",
          "2023-12-11T00:00:00.000000000",
          "2023-12-12T00:00:00.000000000",
          "2023-12-13T00:00:00.000000000",
          "2023-12-14T00:00:00.000000000",
          "2023-12-15T00:00:00.000000000",
          "2023-12-18T00:00:00.000000000",
          "2023-12-19T00:00:00.000000000",
          "2023-12-20T00:00:00.000000000",
          "2023-12-21T00:00:00.000000000",
          "2023-12-22T00:00:00.000000000",
          "2023-12-26T00:00:00.000000000",
          "2023-12-27T00:00:00.000000000",
          "2023-12-28T00:00:00.000000000",
          "2023-12-29T00:00:00.000000000",
          "2024-01-02T00:00:00.000000000",
          "2024-01-03T00:00:00.000000000",
          "2024-01-04T00:00:00.000000000",
          "2024-01-05T00:00:00.000000000",
          "2024-01-08T00:00:00.000000000",
          "2024-01-09T00:00:00.000000000",
          "2024-01-10T00:00:00.000000000",
          "2024-01-11T00:00:00.000000000",
          "2024-01-12T00:00:00.000000000",
          "2024-01-16T00:00:00.000000000",
          "2024-01-17T00:00:00.000000000",
          "2024-01-18T00:00:00.000000000",
          "2024-01-19T00:00:00.000000000",
          "2024-01-22T00:00:00.000000000",
          "2024-01-23T00:00:00.000000000",
          "2024-01-24T00:00:00.000000000",
          "2024-01-25T00:00:00.000000000",
          "2024-01-26T00:00:00.000000000",
          "2024-01-29T00:00:00.000000000",
          "2024-01-30T00:00:00.000000000",
          "2024-01-31T00:00:00.000000000",
          "2024-02-01T00:00:00.000000000",
          "2024-02-02T00:00:00.000000000",
          "2024-02-05T00:00:00.000000000",
          "2024-02-06T00:00:00.000000000",
          "2024-02-07T00:00:00.000000000",
          "2024-02-08T00:00:00.000000000",
          "2024-02-09T00:00:00.000000000",
          "2024-02-12T00:00:00.000000000",
          "2024-02-13T00:00:00.000000000",
          "2024-02-14T00:00:00.000000000",
          "2024-02-15T00:00:00.000000000",
          "2024-02-16T00:00:00.000000000",
          "2024-02-20T00:00:00.000000000",
          "2024-02-21T00:00:00.000000000",
          "2024-02-22T00:00:00.000000000",
          "2024-02-23T00:00:00.000000000",
          "2024-02-26T00:00:00.000000000",
          "2024-02-27T00:00:00.000000000",
          "2024-02-28T00:00:00.000000000",
          "2024-02-29T00:00:00.000000000",
          "2024-03-01T00:00:00.000000000",
          "2024-03-04T00:00:00.000000000",
          "2024-03-05T00:00:00.000000000",
          "2024-03-06T00:00:00.000000000",
          "2024-03-07T00:00:00.000000000",
          "2024-03-08T00:00:00.000000000",
          "2024-03-11T00:00:00.000000000",
          "2024-03-12T00:00:00.000000000",
          "2024-03-13T00:00:00.000000000",
          "2024-03-14T00:00:00.000000000",
          "2024-03-15T00:00:00.000000000",
          "2024-03-18T00:00:00.000000000",
          "2024-03-19T00:00:00.000000000",
          "2024-03-20T00:00:00.000000000",
          "2024-03-21T00:00:00.000000000",
          "2024-03-22T00:00:00.000000000",
          "2024-03-25T00:00:00.000000000",
          "2024-03-26T00:00:00.000000000",
          "2024-03-27T00:00:00.000000000",
          "2024-03-28T00:00:00.000000000",
          "2024-03-29T00:00:00.000000000",
          "2024-04-01T00:00:00.000000000",
          "2024-04-02T00:00:00.000000000",
          "2024-04-03T00:00:00.000000000",
          "2024-04-04T00:00:00.000000000",
          "2024-04-05T00:00:00.000000000",
          "2024-04-08T00:00:00.000000000",
          "2024-04-09T00:00:00.000000000",
          "2024-04-10T00:00:00.000000000",
          "2024-04-11T00:00:00.000000000",
          "2024-04-12T00:00:00.000000000",
          "2024-04-15T00:00:00.000000000",
          "2024-04-16T00:00:00.000000000",
          "2024-04-17T00:00:00.000000000",
          "2024-04-18T00:00:00.000000000",
          "2024-04-19T00:00:00.000000000",
          "2024-04-22T00:00:00.000000000",
          "2024-04-23T00:00:00.000000000",
          "2024-04-24T00:00:00.000000000",
          "2024-04-25T00:00:00.000000000",
          "2024-04-26T00:00:00.000000000",
          "2024-04-29T00:00:00.000000000",
          "2024-04-30T00:00:00.000000000",
          "2024-05-01T00:00:00.000000000",
          "2024-05-02T00:00:00.000000000",
          "2024-05-03T00:00:00.000000000",
          "2024-05-06T00:00:00.000000000",
          "2024-05-07T00:00:00.000000000",
          "2024-05-08T00:00:00.000000000",
          "2024-05-09T00:00:00.000000000",
          "2024-05-10T00:00:00.000000000",
          "2024-05-13T00:00:00.000000000",
          "2024-05-14T00:00:00.000000000",
          "2024-05-15T00:00:00.000000000",
          "2024-05-16T00:00:00.000000000",
          "2024-05-17T00:00:00.000000000",
          "2024-05-20T00:00:00.000000000",
          "2024-05-21T00:00:00.000000000",
          "2024-05-22T00:00:00.000000000",
          "2024-05-23T00:00:00.000000000",
          "2024-05-24T00:00:00.000000000",
          "2024-05-28T00:00:00.000000000",
          "2024-05-29T00:00:00.000000000",
          "2024-05-30T00:00:00.000000000",
          "2024-05-31T00:00:00.000000000",
          "2024-06-03T00:00:00.000000000",
          "2024-06-04T00:00:00.000000000",
          "2024-06-05T00:00:00.000000000",
          "2024-06-06T00:00:00.000000000",
          "2024-06-07T00:00:00.000000000",
          "2024-06-10T00:00:00.000000000",
          "2024-06-11T00:00:00.000000000",
          "2024-06-12T00:00:00.000000000",
          "2024-06-13T00:00:00.000000000",
          "2024-06-14T00:00:00.000000000",
          "2024-06-17T00:00:00.000000000",
          "2024-06-18T00:00:00.000000000",
          "2024-06-20T00:00:00.000000000",
          "2024-06-21T00:00:00.000000000",
          "2024-06-24T00:00:00.000000000",
          "2024-06-25T00:00:00.000000000",
          "2024-06-26T00:00:00.000000000",
          "2024-06-27T00:00:00.000000000",
          "2024-06-28T00:00:00.000000000",
          "2024-07-01T00:00:00.000000000",
          "2024-07-02T00:00:00.000000000",
          "2024-07-03T00:00:00.000000000",
          "2024-07-05T00:00:00.000000000",
          "2024-07-08T00:00:00.000000000",
          "2024-07-09T00:00:00.000000000",
          "2024-07-10T00:00:00.000000000",
          "2024-07-11T00:00:00.000000000",
          "2024-07-12T00:00:00.000000000",
          "2024-07-15T00:00:00.000000000",
          "2024-07-16T00:00:00.000000000",
          "2024-07-17T00:00:00.000000000",
          "2024-07-18T00:00:00.000000000",
          "2024-07-19T00:00:00.000000000",
          "2024-07-22T00:00:00.000000000",
          "2024-07-23T00:00:00.000000000",
          "2024-07-24T00:00:00.000000000",
          "2024-07-25T00:00:00.000000000",
          "2024-07-26T00:00:00.000000000",
          "2024-07-29T00:00:00.000000000",
          "2024-07-30T00:00:00.000000000",
          "2024-07-31T00:00:00.000000000",
          "2024-08-01T00:00:00.000000000",
          "2024-08-02T00:00:00.000000000",
          "2024-08-05T00:00:00.000000000",
          "2024-08-06T00:00:00.000000000",
          "2024-08-07T00:00:00.000000000",
          "2024-08-08T00:00:00.000000000",
          "2024-08-09T00:00:00.000000000",
          "2024-08-12T00:00:00.000000000",
          "2024-08-13T00:00:00.000000000",
          "2024-08-14T00:00:00.000000000",
          "2024-08-15T00:00:00.000000000",
          "2024-08-16T00:00:00.000000000",
          "2024-08-19T00:00:00.000000000",
          "2024-08-20T00:00:00.000000000",
          "2024-08-21T00:00:00.000000000",
          "2024-08-22T00:00:00.000000000",
          "2024-08-23T00:00:00.000000000",
          "2024-08-26T00:00:00.000000000",
          "2024-08-27T00:00:00.000000000",
          "2024-08-28T00:00:00.000000000",
          "2024-08-29T00:00:00.000000000",
          "2024-08-30T00:00:00.000000000",
          "2024-09-03T00:00:00.000000000",
          "2024-09-04T00:00:00.000000000",
          "2024-09-05T00:00:00.000000000",
          "2024-09-06T00:00:00.000000000",
          "2024-09-09T00:00:00.000000000",
          "2024-09-10T00:00:00.000000000",
          "2024-09-11T00:00:00.000000000",
          "2024-09-12T00:00:00.000000000",
          "2024-09-13T00:00:00.000000000",
          "2024-09-16T00:00:00.000000000",
          "2024-09-17T00:00:00.000000000",
          "2024-09-18T00:00:00.000000000",
          "2024-09-19T00:00:00.000000000",
          "2024-09-20T00:00:00.000000000",
          "2024-09-23T00:00:00.000000000",
          "2024-09-24T00:00:00.000000000",
          "2024-09-25T00:00:00.000000000",
          "2024-09-26T00:00:00.000000000",
          "2024-09-27T00:00:00.000000000",
          "2024-09-30T00:00:00.000000000",
          "2024-10-01T00:00:00.000000000",
          "2024-10-02T00:00:00.000000000",
          "2024-10-03T00:00:00.000000000",
          "2024-10-04T00:00:00.000000000",
          "2024-10-07T00:00:00.000000000",
          "2024-10-08T00:00:00.000000000",
          "2024-10-09T00:00:00.000000000",
          "2024-10-10T00:00:00.000000000",
          "2024-10-11T00:00:00.000000000",
          "2024-10-15T00:00:00.000000000",
          "2024-10-16T00:00:00.000000000",
          "2024-10-17T00:00:00.000000000",
          "2024-10-18T00:00:00.000000000",
          "2024-10-21T00:00:00.000000000",
          "2024-10-22T00:00:00.000000000",
          "2024-10-23T00:00:00.000000000",
          "2024-10-24T00:00:00.000000000",
          "2024-10-25T00:00:00.000000000",
          "2024-10-28T00:00:00.000000000",
          "2024-10-29T00:00:00.000000000",
          "2024-10-30T00:00:00.000000000",
          "2024-10-31T00:00:00.000000000",
          "2024-11-01T00:00:00.000000000",
          "2024-11-04T00:00:00.000000000",
          "2024-11-05T00:00:00.000000000",
          "2024-11-06T00:00:00.000000000",
          "2024-11-07T00:00:00.000000000",
          "2024-11-08T00:00:00.000000000",
          "2024-11-12T00:00:00.000000000",
          "2024-11-13T00:00:00.000000000",
          "2024-11-14T00:00:00.000000000",
          "2024-11-15T00:00:00.000000000",
          "2024-11-18T00:00:00.000000000",
          "2024-11-19T00:00:00.000000000",
          "2024-11-20T00:00:00.000000000",
          "2024-11-21T00:00:00.000000000",
          "2024-11-22T00:00:00.000000000",
          "2024-11-25T00:00:00.000000000",
          "2024-11-26T00:00:00.000000000",
          "2024-11-27T00:00:00.000000000",
          "2024-11-29T00:00:00.000000000",
          "2024-12-02T00:00:00.000000000",
          "2024-12-03T00:00:00.000000000",
          "2024-12-04T00:00:00.000000000",
          "2024-12-05T00:00:00.000000000",
          "2024-12-06T00:00:00.000000000",
          "2024-12-09T00:00:00.000000000",
          "2024-12-10T00:00:00.000000000",
          "2024-12-11T00:00:00.000000000",
          "2024-12-12T00:00:00.000000000",
          "2024-12-13T00:00:00.000000000",
          "2024-12-16T00:00:00.000000000",
          "2024-12-17T00:00:00.000000000",
          "2024-12-18T00:00:00.000000000",
          "2024-12-19T00:00:00.000000000",
          "2024-12-20T00:00:00.000000000",
          "2024-12-23T00:00:00.000000000",
          "2024-12-24T00:00:00.000000000",
          "2024-12-26T00:00:00.000000000",
          "2024-12-27T00:00:00.000000000",
          "2024-12-30T00:00:00.000000000",
          "2024-12-31T00:00:00.000000000",
          "2025-01-02T00:00:00.000000000",
          "2025-01-03T00:00:00.000000000",
          "2025-01-06T00:00:00.000000000",
          "2025-01-07T00:00:00.000000000",
          "2025-01-08T00:00:00.000000000",
          "2025-01-09T00:00:00.000000000",
          "2025-01-10T00:00:00.000000000",
          "2025-01-13T00:00:00.000000000",
          "2025-01-14T00:00:00.000000000",
          "2025-01-15T00:00:00.000000000",
          "2025-01-16T00:00:00.000000000",
          "2025-01-17T00:00:00.000000000",
          "2025-01-21T00:00:00.000000000",
          "2025-01-22T00:00:00.000000000",
          "2025-01-23T00:00:00.000000000",
          "2025-01-24T00:00:00.000000000",
          "2025-01-27T00:00:00.000000000",
          "2025-01-28T00:00:00.000000000",
          "2025-01-29T00:00:00.000000000",
          "2025-01-30T00:00:00.000000000",
          "2025-01-31T00:00:00.000000000",
          "2025-02-03T00:00:00.000000000",
          "2025-02-04T00:00:00.000000000",
          "2025-02-05T00:00:00.000000000",
          "2025-02-06T00:00:00.000000000",
          "2025-02-07T00:00:00.000000000",
          "2025-02-10T00:00:00.000000000",
          "2025-02-11T00:00:00.000000000",
          "2025-02-12T00:00:00.000000000",
          "2025-02-13T00:00:00.000000000",
          "2025-02-14T00:00:00.000000000",
          "2025-02-18T00:00:00.000000000",
          "2025-02-19T00:00:00.000000000",
          "2025-02-20T00:00:00.000000000",
          "2025-02-21T00:00:00.000000000",
          "2025-02-24T00:00:00.000000000",
          "2025-02-25T00:00:00.000000000",
          "2025-02-26T00:00:00.000000000",
          "2025-02-27T00:00:00.000000000",
          "2025-02-28T00:00:00.000000000",
          "2025-03-03T00:00:00.000000000",
          "2025-03-04T00:00:00.000000000",
          "2025-03-05T00:00:00.000000000",
          "2025-03-06T00:00:00.000000000",
          "2025-03-07T00:00:00.000000000",
          "2025-03-10T00:00:00.000000000",
          "2025-03-11T00:00:00.000000000",
          "2025-03-12T00:00:00.000000000",
          "2025-03-13T00:00:00.000000000",
          "2025-03-14T00:00:00.000000000",
          "2025-03-17T00:00:00.000000000",
          "2025-03-18T00:00:00.000000000",
          "2025-03-19T00:00:00.000000000",
          "2025-03-20T00:00:00.000000000",
          "2025-03-21T00:00:00.000000000",
          "2025-03-24T00:00:00.000000000",
          "2025-03-25T00:00:00.000000000",
          "2025-03-26T00:00:00.000000000",
          "2025-03-27T00:00:00.000000000",
          "2025-03-28T00:00:00.000000000",
          "2025-03-31T00:00:00.000000000",
          "2025-04-01T00:00:00.000000000",
          "2025-04-02T00:00:00.000000000",
          "2025-04-03T00:00:00.000000000",
          "2025-04-04T00:00:00.000000000",
          "2025-04-07T00:00:00.000000000",
          "2025-04-08T00:00:00.000000000",
          "2025-04-09T00:00:00.000000000",
          "2025-04-10T00:00:00.000000000",
          "2025-04-11T00:00:00.000000000",
          "2025-04-14T00:00:00.000000000",
          "2025-04-15T00:00:00.000000000",
          "2025-04-16T00:00:00.000000000",
          "2025-04-17T00:00:00.000000000",
          "2025-04-18T00:00:00.000000000",
          "2025-04-21T00:00:00.000000000",
          "2025-04-22T00:00:00.000000000",
          "2025-04-23T00:00:00.000000000",
          "2025-04-24T00:00:00.000000000",
          "2025-04-25T00:00:00.000000000",
          "2025-04-28T00:00:00.000000000",
          "2025-04-29T00:00:00.000000000",
          "2025-04-30T00:00:00.000000000",
          "2025-05-01T00:00:00.000000000",
          "2025-05-02T00:00:00.000000000",
          "2025-05-05T00:00:00.000000000",
          "2025-05-06T00:00:00.000000000",
          "2025-05-07T00:00:00.000000000",
          "2025-05-08T00:00:00.000000000",
          "2025-05-09T00:00:00.000000000",
          "2025-05-12T00:00:00.000000000",
          "2025-05-13T00:00:00.000000000",
          "2025-05-14T00:00:00.000000000",
          "2025-05-15T00:00:00.000000000",
          "2025-05-16T00:00:00.000000000",
          "2025-05-19T00:00:00.000000000",
          "2025-05-20T00:00:00.000000000",
          "2025-05-21T00:00:00.000000000",
          "2025-05-22T00:00:00.000000000",
          "2025-05-23T00:00:00.000000000",
          "2025-05-27T00:00:00.000000000",
          "2025-05-28T00:00:00.000000000",
          "2025-05-29T00:00:00.000000000",
          "2025-05-30T00:00:00.000000000",
          "2025-06-02T00:00:00.000000000",
          "2025-06-03T00:00:00.000000000",
          "2025-06-04T00:00:00.000000000",
          "2025-06-05T00:00:00.000000000",
          "2025-06-06T00:00:00.000000000",
          "2025-06-09T00:00:00.000000000",
          "2025-06-10T00:00:00.000000000",
          "2025-06-11T00:00:00.000000000",
          "2025-06-12T00:00:00.000000000",
          "2025-06-13T00:00:00.000000000",
          "2025-06-16T00:00:00.000000000",
          "2025-06-17T00:00:00.000000000",
          "2025-06-18T00:00:00.000000000",
          "2025-06-20T00:00:00.000000000",
          "2025-06-23T00:00:00.000000000",
          "2025-06-24T00:00:00.000000000",
          "2025-06-25T00:00:00.000000000",
          "2025-06-26T00:00:00.000000000",
          "2025-06-27T00:00:00.000000000",
          "2025-06-30T00:00:00.000000000",
          "2025-07-01T00:00:00.000000000",
          "2025-07-02T00:00:00.000000000",
          "2025-07-03T00:00:00.000000000",
          "2025-07-07T00:00:00.000000000",
          "2025-07-08T00:00:00.000000000",
          "2025-07-09T00:00:00.000000000",
          "2025-07-10T00:00:00.000000000",
          "2025-07-11T00:00:00.000000000",
          "2025-07-14T00:00:00.000000000",
          "2025-07-15T00:00:00.000000000",
          "2025-07-16T00:00:00.000000000",
          "2025-07-17T00:00:00.000000000",
          "2025-07-18T00:00:00.000000000",
          "2025-07-21T00:00:00.000000000",
          "2025-07-22T00:00:00.000000000",
          "2025-07-23T00:00:00.000000000",
          "2025-07-24T00:00:00.000000000",
          "2025-07-25T00:00:00.000000000",
          "2025-07-28T00:00:00.000000000",
          "2025-07-29T00:00:00.000000000",
          "2025-07-30T00:00:00.000000000",
          "2025-07-31T00:00:00.000000000",
          "2025-08-01T00:00:00.000000000",
          "2025-08-04T00:00:00.000000000",
          "2025-08-05T00:00:00.000000000",
          "2025-08-06T00:00:00.000000000",
          "2025-08-07T00:00:00.000000000",
          "2025-08-08T00:00:00.000000000",
          "2025-08-11T00:00:00.000000000",
          "2025-08-12T00:00:00.000000000",
          "2025-08-13T00:00:00.000000000",
          "2025-08-14T00:00:00.000000000"
         ],
         "y": {
          "bdata": "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",
          "dtype": "f8"
         }
        }
       ],
       "layout": {
        "hovermode": "x unified",
        "legend": {
         "title": {
          "text": "Series"
         }
        },
        "template": {
         "data": {
          "bar": [
           {
            "error_x": {
             "color": "#2a3f5f"
            },
            "error_y": {
             "color": "#2a3f5f"
            },
            "marker": {
             "line": {
              "color": "white",
              "width": 0.5
             },
             "pattern": {
              "fillmode": "overlay",
              "size": 10,
              "solidity": 0.2
             }
            },
            "type": "bar"
           }
          ],
          "barpolar": [
           {
            "marker": {
             "line": {
              "color": "white",
              "width": 0.5
             },
             "pattern": {
              "fillmode": "overlay",
              "size": 10,
              "solidity": 0.2
             }
            },
            "type": "barpolar"
           }
          ],
          "carpet": [
           {
            "aaxis": {
             "endlinecolor": "#2a3f5f",
             "gridcolor": "#C8D4E3",
             "linecolor": "#C8D4E3",
             "minorgridcolor": "#C8D4E3",
             "startlinecolor": "#2a3f5f"
            },
            "baxis": {
             "endlinecolor": "#2a3f5f",
             "gridcolor": "#C8D4E3",
             "linecolor": "#C8D4E3",
             "minorgridcolor": "#C8D4E3",
             "startlinecolor": "#2a3f5f"
            },
            "type": "carpet"
           }
          ],
          "choropleth": [
           {
            "colorbar": {
             "outlinewidth": 0,
             "ticks": ""
            },
            "type": "choropleth"
           }
          ],
          "contour": [
           {
            "colorbar": {
             "outlinewidth": 0,
             "ticks": ""
            },
            "colorscale": [
             [
              0,
              "#0d0887"
             ],
             [
              0.1111111111111111,
              "#46039f"
             ],
             [
              0.2222222222222222,
              "#7201a8"
             ],
             [
              0.3333333333333333,
              "#9c179e"
             ],
             [
              0.4444444444444444,
              "#bd3786"
             ],
             [
              0.5555555555555556,
              "#d8576b"
             ],
             [
              0.6666666666666666,
              "#ed7953"
             ],
             [
              0.7777777777777778,
              "#fb9f3a"
             ],
             [
              0.8888888888888888,
              "#fdca26"
             ],
             [
              1,
              "#f0f921"
             ]
            ],
            "type": "contour"
           }
          ],
          "contourcarpet": [
           {
            "colorbar": {
             "outlinewidth": 0,
             "ticks": ""
            },
            "type": "contourcarpet"
           }
          ],
          "heatmap": [
           {
            "colorbar": {
             "outlinewidth": 0,
             "ticks": ""
            },
            "colorscale": [
             [
              0,
              "#0d0887"
             ],
             [
              0.1111111111111111,
              "#46039f"
             ],
             [
              0.2222222222222222,
              "#7201a8"
             ],
             [
              0.3333333333333333,
              "#9c179e"
             ],
             [
              0.4444444444444444,
              "#bd3786"
             ],
             [
              0.5555555555555556,
              "#d8576b"
             ],
             [
              0.6666666666666666,
              "#ed7953"
             ],
             [
              0.7777777777777778,
              "#fb9f3a"
             ],
             [
              0.8888888888888888,
              "#fdca26"
             ],
             [
              1,
              "#f0f921"
             ]
            ],
            "type": "heatmap"
           }
          ],
          "histogram": [
           {
            "marker": {
             "pattern": {
              "fillmode": "overlay",
              "size": 10,
              "solidity": 0.2
             }
            },
            "type": "histogram"
           }
          ],
          "histogram2d": [
           {
            "colorbar": {
             "outlinewidth": 0,
             "ticks": ""
            },
            "colorscale": [
             [
              0,
              "#0d0887"
             ],
             [
              0.1111111111111111,
              "#46039f"
             ],
             [
              0.2222222222222222,
              "#7201a8"
             ],
             [
              0.3333333333333333,
              "#9c179e"
             ],
             [
              0.4444444444444444,
              "#bd3786"
             ],
             [
              0.5555555555555556,
              "#d8576b"
             ],
             [
              0.6666666666666666,
              "#ed7953"
             ],
             [
              0.7777777777777778,
              "#fb9f3a"
             ],
             [
              0.8888888888888888,
              "#fdca26"
             ],
             [
              1,
              "#f0f921"
             ]
            ],
            "type": "histogram2d"
           }
          ],
          "histogram2dcontour": [
           {
            "colorbar": {
             "outlinewidth": 0,
             "ticks": ""
            },
            "colorscale": [
             [
              0,
              "#0d0887"
             ],
             [
              0.1111111111111111,
              "#46039f"
             ],
             [
              0.2222222222222222,
              "#7201a8"
             ],
             [
              0.3333333333333333,
              "#9c179e"
             ],
             [
              0.4444444444444444,
              "#bd3786"
             ],
             [
              0.5555555555555556,
              "#d8576b"
             ],
             [
              0.6666666666666666,
              "#ed7953"
             ],
             [
              0.7777777777777778,
              "#fb9f3a"
             ],
             [
              0.8888888888888888,
              "#fdca26"
             ],
             [
              1,
              "#f0f921"
             ]
            ],
            "type": "histogram2dcontour"
           }
          ],
          "mesh3d": [
           {
            "colorbar": {
             "outlinewidth": 0,
             "ticks": ""
            },
            "type": "mesh3d"
           }
          ],
          "parcoords": [
           {
            "line": {
             "colorbar": {
              "outlinewidth": 0,
              "ticks": ""
             }
            },
            "type": "parcoords"
           }
          ],
          "pie": [
           {
            "automargin": true,
            "type": "pie"
           }
          ],
          "scatter": [
           {
            "fillpattern": {
             "fillmode": "overlay",
             "size": 10,
             "solidity": 0.2
            },
            "type": "scatter"
           }
          ],
          "scatter3d": [
           {
            "line": {
             "colorbar": {
              "outlinewidth": 0,
              "ticks": ""
             }
            },
            "marker": {
             "colorbar": {
              "outlinewidth": 0,
              "ticks": ""
             }
            },
            "type": "scatter3d"
           }
          ],
          "scattercarpet": [
           {
            "marker": {
             "colorbar": {
              "outlinewidth": 0,
              "ticks": ""
             }
            },
            "type": "scattercarpet"
           }
          ],
          "scattergeo": [
           {
            "marker": {
             "colorbar": {
              "outlinewidth": 0,
              "ticks": ""
             }
            },
            "type": "scattergeo"
           }
          ],
          "scattergl": [
           {
            "marker": {
             "colorbar": {
              "outlinewidth": 0,
              "ticks": ""
             }
            },
            "type": "scattergl"
           }
          ],
          "scattermap": [
           {
            "marker": {
             "colorbar": {
              "outlinewidth": 0,
              "ticks": ""
             }
            },
            "type": "scattermap"
           }
          ],
          "scattermapbox": [
           {
            "marker": {
             "colorbar": {
              "outlinewidth": 0,
              "ticks": ""
             }
            },
            "type": "scattermapbox"
           }
          ],
          "scatterpolar": [
           {
            "marker": {
             "colorbar": {
              "outlinewidth": 0,
              "ticks": ""
             }
            },
            "type": "scatterpolar"
           }
          ],
          "scatterpolargl": [
           {
            "marker": {
             "colorbar": {
              "outlinewidth": 0,
              "ticks": ""
             }
            },
            "type": "scatterpolargl"
           }
          ],
          "scatterternary": [
           {
            "marker": {
             "colorbar": {
              "outlinewidth": 0,
              "ticks": ""
             }
            },
            "type": "scatterternary"
           }
          ],
          "surface": [
           {
            "colorbar": {
             "outlinewidth": 0,
             "ticks": ""
            },
            "colorscale": [
             [
              0,
              "#0d0887"
             ],
             [
              0.1111111111111111,
              "#46039f"
             ],
             [
              0.2222222222222222,
              "#7201a8"
             ],
             [
              0.3333333333333333,
              "#9c179e"
             ],
             [
              0.4444444444444444,
              "#bd3786"
             ],
             [
              0.5555555555555556,
              "#d8576b"
             ],
             [
              0.6666666666666666,
              "#ed7953"
             ],
             [
              0.7777777777777778,
              "#fb9f3a"
             ],
             [
              0.8888888888888888,
              "#fdca26"
             ],
             [
              1,
              "#f0f921"
             ]
            ],
            "type": "surface"
           }
          ],
          "table": [
           {
            "cells": {
             "fill": {
              "color": "#EBF0F8"
             },
             "line": {
              "color": "white"
             }
            },
            "header": {
             "fill": {
              "color": "#C8D4E3"
             },
             "line": {
              "color": "white"
             }
            },
            "type": "table"
           }
          ]
         },
         "layout": {
          "annotationdefaults": {
           "arrowcolor": "#2a3f5f",
           "arrowhead": 0,
           "arrowwidth": 1
          },
          "autotypenumbers": "strict",
          "coloraxis": {
           "colorbar": {
            "outlinewidth": 0,
            "ticks": ""
           }
          },
          "colorscale": {
           "diverging": [
            [
             0,
             "#8e0152"
            ],
            [
             0.1,
             "#c51b7d"
            ],
            [
             0.2,
             "#de77ae"
            ],
            [
             0.3,
             "#f1b6da"
            ],
            [
             0.4,
             "#fde0ef"
            ],
            [
             0.5,
             "#f7f7f7"
            ],
            [
             0.6,
             "#e6f5d0"
            ],
            [
             0.7,
             "#b8e186"
            ],
            [
             0.8,
             "#7fbc41"
            ],
            [
             0.9,
             "#4d9221"
            ],
            [
             1,
             "#276419"
            ]
           ],
           "sequential": [
            [
             0,
             "#0d0887"
            ],
            [
             0.1111111111111111,
             "#46039f"
            ],
            [
             0.2222222222222222,
             "#7201a8"
            ],
            [
             0.3333333333333333,
             "#9c179e"
            ],
            [
             0.4444444444444444,
             "#bd3786"
            ],
            [
             0.5555555555555556,
             "#d8576b"
            ],
            [
             0.6666666666666666,
             "#ed7953"
            ],
            [
             0.7777777777777778,
             "#fb9f3a"
            ],
            [
             0.8888888888888888,
             "#fdca26"
            ],
            [
             1,
             "#f0f921"
            ]
           ],
           "sequentialminus": [
            [
             0,
             "#0d0887"
            ],
            [
             0.1111111111111111,
             "#46039f"
            ],
            [
             0.2222222222222222,
             "#7201a8"
            ],
            [
             0.3333333333333333,
             "#9c179e"
            ],
            [
             0.4444444444444444,
             "#bd3786"
            ],
            [
             0.5555555555555556,
             "#d8576b"
            ],
            [
             0.6666666666666666,
             "#ed7953"
            ],
            [
             0.7777777777777778,
             "#fb9f3a"
            ],
            [
             0.8888888888888888,
             "#fdca26"
            ],
            [
             1,
             "#f0f921"
            ]
           ]
          },
          "colorway": [
           "#636efa",
           "#EF553B",
           "#00cc96",
           "#ab63fa",
           "#FFA15A",
           "#19d3f3",
           "#FF6692",
           "#B6E880",
           "#FF97FF",
           "#FECB52"
          ],
          "font": {
           "color": "#2a3f5f"
          },
          "geo": {
           "bgcolor": "white",
           "lakecolor": "white",
           "landcolor": "white",
           "showlakes": true,
           "showland": true,
           "subunitcolor": "#C8D4E3"
          },
          "hoverlabel": {
           "align": "left"
          },
          "hovermode": "closest",
          "mapbox": {
           "style": "light"
          },
          "paper_bgcolor": "white",
          "plot_bgcolor": "white",
          "polar": {
           "angularaxis": {
            "gridcolor": "#EBF0F8",
            "linecolor": "#EBF0F8",
            "ticks": ""
           },
           "bgcolor": "white",
           "radialaxis": {
            "gridcolor": "#EBF0F8",
            "linecolor": "#EBF0F8",
            "ticks": ""
           }
          },
          "scene": {
           "xaxis": {
            "backgroundcolor": "white",
            "gridcolor": "#DFE8F3",
            "gridwidth": 2,
            "linecolor": "#EBF0F8",
            "showbackground": true,
            "ticks": "",
            "zerolinecolor": "#EBF0F8"
           },
           "yaxis": {
            "backgroundcolor": "white",
            "gridcolor": "#DFE8F3",
            "gridwidth": 2,
            "linecolor": "#EBF0F8",
            "showbackground": true,
            "ticks": "",
            "zerolinecolor": "#EBF0F8"
           },
           "zaxis": {
            "backgroundcolor": "white",
            "gridcolor": "#DFE8F3",
            "gridwidth": 2,
            "linecolor": "#EBF0F8",
            "showbackground": true,
            "ticks": "",
            "zerolinecolor": "#EBF0F8"
           }
          },
          "shapedefaults": {
           "line": {
            "color": "#2a3f5f"
           }
          },
          "ternary": {
           "aaxis": {
            "gridcolor": "#DFE8F3",
            "linecolor": "#A2B1C6",
            "ticks": ""
           },
           "baxis": {
            "gridcolor": "#DFE8F3",
            "linecolor": "#A2B1C6",
            "ticks": ""
           },
           "bgcolor": "white",
           "caxis": {
            "gridcolor": "#DFE8F3",
            "linecolor": "#A2B1C6",
            "ticks": ""
           }
          },
          "title": {
           "x": 0.05
          },
          "xaxis": {
           "automargin": true,
           "gridcolor": "#EBF0F8",
           "linecolor": "#EBF0F8",
           "ticks": "",
           "title": {
            "standoff": 15
           },
           "zerolinecolor": "#EBF0F8",
           "zerolinewidth": 2
          },
          "yaxis": {
           "automargin": true,
           "gridcolor": "#EBF0F8",
           "linecolor": "#EBF0F8",
           "ticks": "",
           "title": {
            "standoff": 15
           },
           "zerolinecolor": "#EBF0F8",
           "zerolinewidth": 2
          }
         }
        },
        "title": {
         "text": "Treasury General Account (Operating Cash Balance)"
        },
        "xaxis": {
         "title": {
          "text": "Date"
         }
        },
        "yaxis": {
         "title": {
          "text": "USD billions"
         }
        }
       }
      }
     },
     "metadata": {},
     "output_type": "display_data"
    }
   ],
   "source": [
    "fig = go.Figure()\n",
    "\n",
    "fig.add_trace(go.Scatter(\n",
    "    x=tga[\"record_date\"],\n",
    "    y=tga[\"tga_balance\"] / 1e3,   # millions → billions\n",
    "    mode=\"lines\",\n",
    "    name=\"TGA Balance\",\n",
    "    line=dict(color=\"blue\", width=1.5)\n",
    "))\n",
    "\n",
    "fig.update_layout(\n",
    "    title=\"Treasury General Account (Operating Cash Balance)\",\n",
    "    xaxis_title=\"Date\",\n",
    "    yaxis_title=\"USD billions\",\n",
    "    template=\"plotly_white\",\n",
    "    hovermode=\"x unified\",\n",
    "    legend_title=\"Series\"\n",
    ")\n",
    "\n",
    "fig.show()"
   ]
  },
  {
   "cell_type": "code",
   "execution_count": null,
   "id": "380914dc",
   "metadata": {},
   "outputs": [],
   "source": []
  }
 ],
 "metadata": {
  "kernelspec": {
   "display_name": "Python 3",
   "language": "python",
   "name": "python3"
  },
  "language_info": {
   "codemirror_mode": {
    "name": "ipython",
    "version": 3
   },
   "file_extension": ".py",
   "mimetype": "text/x-python",
   "name": "python",
   "nbconvert_exporter": "python",
   "pygments_lexer": "ipython3",
   "version": "3.13.2"
  }
 },
 "nbformat": 4,
 "nbformat_minor": 5
}
